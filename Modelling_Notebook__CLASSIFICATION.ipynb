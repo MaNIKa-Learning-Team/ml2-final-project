{
 "cells": [
  {
   "cell_type": "markdown",
   "id": "bc6a9277-ac69-43c3-afc8-6cdbe7dc7420",
   "metadata": {},
   "source": [
    "# Install and Import Required Libraries"
   ]
  },
  {
   "cell_type": "code",
   "execution_count": 1,
   "id": "b80e8283-13d6-45e7-848f-fa39863c2a6e",
   "metadata": {
    "execution": {
     "iopub.execute_input": "2025-03-18T00:43:12.048647Z",
     "iopub.status.busy": "2025-03-18T00:43:12.048277Z",
     "iopub.status.idle": "2025-03-18T00:43:12.053553Z",
     "shell.execute_reply": "2025-03-18T00:43:12.052320Z",
     "shell.execute_reply.started": "2025-03-18T00:43:12.048609Z"
    },
    "scrolled": true
   },
   "outputs": [],
   "source": [
    "# Ensure scikit-learn is up-to-date\n",
    "# !pip install --upgrade scikit-learn"
   ]
  },
  {
   "cell_type": "code",
   "execution_count": 2,
   "id": "d82c6ad3-fa16-43c1-8718-a6e6a3a03eef",
   "metadata": {
    "execution": {
     "iopub.execute_input": "2025-03-18T00:43:12.054499Z",
     "iopub.status.busy": "2025-03-18T00:43:12.054267Z",
     "iopub.status.idle": "2025-03-18T00:43:14.446554Z",
     "shell.execute_reply": "2025-03-18T00:43:14.445475Z",
     "shell.execute_reply.started": "2025-03-18T00:43:12.054477Z"
    }
   },
   "outputs": [],
   "source": [
    "# Import necessary libraries\n",
    "import pandas as pd\n",
    "import numpy as np\n",
    "import matplotlib.pyplot as plt\n",
    "import xgboost as xgb\n",
    "from sklearn.metrics import mean_squared_error\n",
    "from sklearn.preprocessing import StandardScaler\n",
    "\n",
    "import matplotlib.pyplot as plt\n",
    "import xgboost as xgb\n",
    "from sklearn.metrics import mean_squared_error\n",
    "\n",
    "from sklearn.metrics import mean_absolute_error, mean_squared_error\n",
    "\n",
    "from tqdm import tqdm\n",
    "from sklearn.metrics import (\n",
    "    mean_absolute_error, mean_squared_error, r2_score, mean_absolute_percentage_error\n",
    ")\n",
    "from sklearn.linear_model import LinearRegression\n",
    "\n",
    "import pandas as pd\n",
    "import matplotlib.pyplot as plt\n",
    "import numpy as np\n",
    "from tqdm import tqdm\n",
    "from sklearn.metrics import (\n",
    "    mean_absolute_error, mean_squared_error, r2_score, mean_absolute_percentage_error\n",
    ")\n",
    "from sklearn.tree import DecisionTreeRegressor\n",
    "from sklearn.ensemble import RandomForestRegressor\n",
    "from xgboost import XGBRegressor\n",
    "from catboost import CatBoostRegressor\n",
    "\n",
    "import optuna\n",
    "import pandas as pd\n",
    "import numpy as np\n",
    "import matplotlib.pyplot as plt\n",
    "from tqdm import tqdm\n",
    "from catboost import CatBoostRegressor\n",
    "from sklearn.metrics import mean_absolute_error, mean_squared_error, r2_score\n",
    "\n",
    "# Configure pandas to display all columns\n",
    "pd.set_option(\"display.max_columns\", 500)"
   ]
  },
  {
   "cell_type": "markdown",
   "id": "23937c71-ff74-4f1d-b14c-3db84a6c4b9f",
   "metadata": {},
   "source": [
    "# Import the Feature-Engineered Dataset\n",
    "\n",
    "We load the **feature-engineered dataset** from the previous **EDA, Feature Selection, and Feature Engineering** steps. This dataset includes:\n",
    "- **Preprocessed numerical and categorical features** for modeling.\n",
    "- **Encoded genre, language, and keyword features**.\n",
    "- **TrueSkill-based rankings** for production companies and actors."
   ]
  },
  {
   "cell_type": "code",
   "execution_count": 3,
   "id": "d956ffa3-2f37-4e41-aa73-27afa73c1667",
   "metadata": {
    "execution": {
     "iopub.execute_input": "2025-03-18T00:43:14.447555Z",
     "iopub.status.busy": "2025-03-18T00:43:14.447211Z",
     "iopub.status.idle": "2025-03-18T00:43:14.500219Z",
     "shell.execute_reply": "2025-03-18T00:43:14.499408Z",
     "shell.execute_reply.started": "2025-03-18T00:43:14.447533Z"
    }
   },
   "outputs": [
    {
     "data": {
      "text/html": [
       "<div>\n",
       "<style scoped>\n",
       "    .dataframe tbody tr th:only-of-type {\n",
       "        vertical-align: middle;\n",
       "    }\n",
       "\n",
       "    .dataframe tbody tr th {\n",
       "        vertical-align: top;\n",
       "    }\n",
       "\n",
       "    .dataframe thead th {\n",
       "        text-align: right;\n",
       "    }\n",
       "</style>\n",
       "<table border=\"1\" class=\"dataframe\">\n",
       "  <thead>\n",
       "    <tr style=\"text-align: right;\">\n",
       "      <th></th>\n",
       "      <th>id</th>\n",
       "      <th>title</th>\n",
       "      <th>overview</th>\n",
       "      <th>popularity</th>\n",
       "      <th>production_companies</th>\n",
       "      <th>release_date</th>\n",
       "      <th>budget</th>\n",
       "      <th>revenue</th>\n",
       "      <th>runtime</th>\n",
       "      <th>status</th>\n",
       "      <th>tagline</th>\n",
       "      <th>vote_average</th>\n",
       "      <th>vote_count</th>\n",
       "      <th>credits</th>\n",
       "      <th>keywords</th>\n",
       "      <th>poster_path</th>\n",
       "      <th>backdrop_path</th>\n",
       "      <th>recommendations</th>\n",
       "      <th>release_year</th>\n",
       "      <th>production_companies_list</th>\n",
       "      <th>credits_list</th>\n",
       "      <th>quarter_q1</th>\n",
       "      <th>quarter_q2</th>\n",
       "      <th>quarter_q3</th>\n",
       "      <th>quarter_q4</th>\n",
       "      <th>release_quarter</th>\n",
       "      <th>real_budget</th>\n",
       "      <th>real_revenue</th>\n",
       "      <th>Science Fiction, Family</th>\n",
       "      <th>Action, Comedy, Adventure, Family</th>\n",
       "      <th>Fantasy, Adventure, Comedy, Family</th>\n",
       "      <th>genre_other</th>\n",
       "      <th>original_language_en</th>\n",
       "      <th>original_language_ja</th>\n",
       "      <th>original_language_other</th>\n",
       "      <th>companies_trueskill</th>\n",
       "      <th>credits_trueskill</th>\n",
       "      <th>split_keywords</th>\n",
       "      <th>clean_keywords</th>\n",
       "      <th>duringcreditsstinger</th>\n",
       "      <th>aftercreditsstinger</th>\n",
       "      <th>sequel</th>\n",
       "      <th>anthropomorphism</th>\n",
       "      <th>friendship</th>\n",
       "      <th>cartoon</th>\n",
       "      <th>anime</th>\n",
       "      <th>animal</th>\n",
       "      <th>villain</th>\n",
       "      <th>family</th>\n",
       "      <th>superhero</th>\n",
       "      <th>dog</th>\n",
       "    </tr>\n",
       "  </thead>\n",
       "  <tbody>\n",
       "    <tr>\n",
       "      <th>0</th>\n",
       "      <td>15655</td>\n",
       "      <td>The Tigger Movie</td>\n",
       "      <td>Winnie the Pooh Piglet Owl Kanga Roo and Rabbi...</td>\n",
       "      <td>20.167</td>\n",
       "      <td>Walt Disney Pictures-Disney Television Animati...</td>\n",
       "      <td>2000-02-11</td>\n",
       "      <td>30000000.0</td>\n",
       "      <td>45554533.0</td>\n",
       "      <td>77.0</td>\n",
       "      <td>Released</td>\n",
       "      <td>NaN</td>\n",
       "      <td>6.500</td>\n",
       "      <td>487.0</td>\n",
       "      <td>Jim Cummings-Ken Sansom-John Fiedler-Peter Cul...</td>\n",
       "      <td>woman director</td>\n",
       "      <td>/lxuiGvLHIL1ZyePP7bn6FcKj0Mr.jpg</td>\n",
       "      <td>/uMoSM7r4dst4e5aFUhDEDPyh1hL.jpg</td>\n",
       "      <td>13691-13682-13706-16394-27332-14885-326911-511...</td>\n",
       "      <td>2000</td>\n",
       "      <td>['Walt Disney Pictures', 'Disney Television An...</td>\n",
       "      <td>['Jim Cummings', 'Ken Sansom', 'John Fiedler',...</td>\n",
       "      <td>1</td>\n",
       "      <td>0</td>\n",
       "      <td>0</td>\n",
       "      <td>0</td>\n",
       "      <td>Q1</td>\n",
       "      <td>6.281334e+07</td>\n",
       "      <td>9.538108e+07</td>\n",
       "      <td>0</td>\n",
       "      <td>0</td>\n",
       "      <td>0</td>\n",
       "      <td>1</td>\n",
       "      <td>1</td>\n",
       "      <td>0</td>\n",
       "      <td>0</td>\n",
       "      <td>25.000000</td>\n",
       "      <td>25.000000</td>\n",
       "      <td>['woman director']</td>\n",
       "      <td>['woman director']</td>\n",
       "      <td>0</td>\n",
       "      <td>0</td>\n",
       "      <td>0</td>\n",
       "      <td>0</td>\n",
       "      <td>0</td>\n",
       "      <td>0</td>\n",
       "      <td>0</td>\n",
       "      <td>0</td>\n",
       "      <td>0</td>\n",
       "      <td>0</td>\n",
       "      <td>0</td>\n",
       "      <td>0</td>\n",
       "    </tr>\n",
       "    <tr>\n",
       "      <th>1</th>\n",
       "      <td>20455</td>\n",
       "      <td>Digimon: The Movie</td>\n",
       "      <td>The first story focused on Tai and Kari Kamiya...</td>\n",
       "      <td>13.017</td>\n",
       "      <td>Saban Entertainment-Toei Company-Fox Family Fi...</td>\n",
       "      <td>2000-03-04</td>\n",
       "      <td>5500000.0</td>\n",
       "      <td>16600000.0</td>\n",
       "      <td>89.0</td>\n",
       "      <td>Released</td>\n",
       "      <td>New Monsters. New Battles. Now on the Big Screen.</td>\n",
       "      <td>6.600</td>\n",
       "      <td>243.0</td>\n",
       "      <td>Lara Jill Miller-Joshua Seth-Bob Papenbrook-Da...</td>\n",
       "      <td>video game-monster-loss of energy-computer-sup...</td>\n",
       "      <td>/1MpgVWRCdWEgu9qZivyNX4glDe.jpg</td>\n",
       "      <td>/1ZFUt0LtYkF568iCkRXCScgBP5g.jpg</td>\n",
       "      <td>97787-75571-12599-98299-10228-10991-36201-8873...</td>\n",
       "      <td>2000</td>\n",
       "      <td>['Saban Entertainment', 'Toei Company', 'Fox F...</td>\n",
       "      <td>['Lara Jill Miller', 'Joshua Seth', 'Bob Papen...</td>\n",
       "      <td>1</td>\n",
       "      <td>0</td>\n",
       "      <td>0</td>\n",
       "      <td>0</td>\n",
       "      <td>Q1</td>\n",
       "      <td>1.151578e+07</td>\n",
       "      <td>3.475671e+07</td>\n",
       "      <td>1</td>\n",
       "      <td>0</td>\n",
       "      <td>0</td>\n",
       "      <td>0</td>\n",
       "      <td>0</td>\n",
       "      <td>1</td>\n",
       "      <td>0</td>\n",
       "      <td>25.000000</td>\n",
       "      <td>25.000000</td>\n",
       "      <td>['video game', 'monster', 'loss of energy', 'c...</td>\n",
       "      <td>['video game', 'monster', 'loss of energy', 'c...</td>\n",
       "      <td>0</td>\n",
       "      <td>0</td>\n",
       "      <td>0</td>\n",
       "      <td>0</td>\n",
       "      <td>0</td>\n",
       "      <td>0</td>\n",
       "      <td>1</td>\n",
       "      <td>0</td>\n",
       "      <td>0</td>\n",
       "      <td>0</td>\n",
       "      <td>1</td>\n",
       "      <td>0</td>\n",
       "    </tr>\n",
       "    <tr>\n",
       "      <th>2</th>\n",
       "      <td>10501</td>\n",
       "      <td>The Road to El Dorado</td>\n",
       "      <td>After a failed swindle two con-men end up with...</td>\n",
       "      <td>41.768</td>\n",
       "      <td>DreamWorks Animation-DreamWorks Pictures</td>\n",
       "      <td>2000-03-31</td>\n",
       "      <td>95000000.0</td>\n",
       "      <td>76432727.0</td>\n",
       "      <td>89.0</td>\n",
       "      <td>Released</td>\n",
       "      <td>They came for the gold. They stayed for the ad...</td>\n",
       "      <td>7.242</td>\n",
       "      <td>3354.0</td>\n",
       "      <td>Kenneth Branagh-Kevin Kline-Rosie Perez-Armand...</td>\n",
       "      <td>gold-horse-musical-cartoon-sword fight-con art...</td>\n",
       "      <td>/ryXm7xp4aqQyda0FU2eMfHehPBg.jpg</td>\n",
       "      <td>/ciID0Mu1pPuOUP3JbOsDXQ5aMV6.jpg</td>\n",
       "      <td>10865-8916-10009-9837-9444-14411-11688-9023-90...</td>\n",
       "      <td>2000</td>\n",
       "      <td>['DreamWorks Animation', 'DreamWorks Pictures']</td>\n",
       "      <td>['Kenneth Branagh', 'Kevin Kline', 'Rosie Pere...</td>\n",
       "      <td>1</td>\n",
       "      <td>0</td>\n",
       "      <td>0</td>\n",
       "      <td>0</td>\n",
       "      <td>Q1</td>\n",
       "      <td>1.989089e+08</td>\n",
       "      <td>1.600332e+08</td>\n",
       "      <td>0</td>\n",
       "      <td>0</td>\n",
       "      <td>1</td>\n",
       "      <td>0</td>\n",
       "      <td>1</td>\n",
       "      <td>0</td>\n",
       "      <td>0</td>\n",
       "      <td>25.000000</td>\n",
       "      <td>8.097407</td>\n",
       "      <td>['gold', 'horse', 'musical', 'cartoon', 'sword...</td>\n",
       "      <td>['gold', 'horse', 'musical', 'cartoon', 'sword...</td>\n",
       "      <td>0</td>\n",
       "      <td>0</td>\n",
       "      <td>0</td>\n",
       "      <td>0</td>\n",
       "      <td>0</td>\n",
       "      <td>1</td>\n",
       "      <td>0</td>\n",
       "      <td>0</td>\n",
       "      <td>0</td>\n",
       "      <td>0</td>\n",
       "      <td>0</td>\n",
       "      <td>0</td>\n",
       "    </tr>\n",
       "    <tr>\n",
       "      <th>3</th>\n",
       "      <td>10567</td>\n",
       "      <td>Dinosaur</td>\n",
       "      <td>An orphaned dinosaur raised by lemurs joins an...</td>\n",
       "      <td>62.622</td>\n",
       "      <td>Walt Disney Pictures-Walt Disney Feature Anima...</td>\n",
       "      <td>2000-05-19</td>\n",
       "      <td>127500000.0</td>\n",
       "      <td>354248063.0</td>\n",
       "      <td>82.0</td>\n",
       "      <td>Released</td>\n",
       "      <td>Discover a world you've only imagined.</td>\n",
       "      <td>6.534</td>\n",
       "      <td>2455.0</td>\n",
       "      <td>D.B. Sweeney-Alfre Woodard-Ossie Davis-Max Cas...</td>\n",
       "      <td>cataclysm-asteroid-leader-villain-comet-migrat...</td>\n",
       "      <td>/rSje3FS7ycJSglowlngjsvDt7vO.jpg</td>\n",
       "      <td>/laeEtakR2pLKu3CeRwB2lU5Y53X.jpg</td>\n",
       "      <td>12129-7443-11688-10865-13691-49948-15655-12233...</td>\n",
       "      <td>2000</td>\n",
       "      <td>['Walt Disney Pictures', 'Walt Disney Feature ...</td>\n",
       "      <td>['D.B. Sweeney', 'Alfre Woodard', 'Ossie Davis...</td>\n",
       "      <td>0</td>\n",
       "      <td>1</td>\n",
       "      <td>0</td>\n",
       "      <td>0</td>\n",
       "      <td>Q2</td>\n",
       "      <td>2.669567e+08</td>\n",
       "      <td>7.417168e+08</td>\n",
       "      <td>0</td>\n",
       "      <td>0</td>\n",
       "      <td>0</td>\n",
       "      <td>1</td>\n",
       "      <td>1</td>\n",
       "      <td>0</td>\n",
       "      <td>0</td>\n",
       "      <td>13.014667</td>\n",
       "      <td>25.000000</td>\n",
       "      <td>['cataclysm', 'asteroid', 'leader', 'villain',...</td>\n",
       "      <td>['cataclysm', 'asteroid', 'leader', 'villain',...</td>\n",
       "      <td>0</td>\n",
       "      <td>0</td>\n",
       "      <td>0</td>\n",
       "      <td>0</td>\n",
       "      <td>0</td>\n",
       "      <td>0</td>\n",
       "      <td>0</td>\n",
       "      <td>0</td>\n",
       "      <td>1</td>\n",
       "      <td>0</td>\n",
       "      <td>0</td>\n",
       "      <td>0</td>\n",
       "    </tr>\n",
       "    <tr>\n",
       "      <th>4</th>\n",
       "      <td>7450</td>\n",
       "      <td>Titan A.E.</td>\n",
       "      <td>A young man finds out that he holds the key to...</td>\n",
       "      <td>19.759</td>\n",
       "      <td>20th Century Fox-David Kirschner Productions-F...</td>\n",
       "      <td>2000-06-16</td>\n",
       "      <td>75000000.0</td>\n",
       "      <td>36754634.0</td>\n",
       "      <td>94.0</td>\n",
       "      <td>Released</td>\n",
       "      <td>When Earth Ends, The Adventure Begins.</td>\n",
       "      <td>6.609</td>\n",
       "      <td>916.0</td>\n",
       "      <td>Matt Damon-Bill Pullman-Drew Barrymore-John Le...</td>\n",
       "      <td>monster-galaxy-dystopia-space-alien-mission</td>\n",
       "      <td>/el2iHk3LTJWfEnwrvcRkvWY501G.jpg</td>\n",
       "      <td>/pniACHS8KDVCldB3BlwL78RIZ7V.jpg</td>\n",
       "      <td>9016-14411-2114-9837-10016-2157-8584-13225-97-...</td>\n",
       "      <td>2000</td>\n",
       "      <td>['20th Century Fox', 'David Kirschner Producti...</td>\n",
       "      <td>['Matt Damon', 'Bill Pullman', 'Drew Barrymore...</td>\n",
       "      <td>0</td>\n",
       "      <td>1</td>\n",
       "      <td>0</td>\n",
       "      <td>0</td>\n",
       "      <td>Q2</td>\n",
       "      <td>1.570333e+08</td>\n",
       "      <td>7.695604e+07</td>\n",
       "      <td>1</td>\n",
       "      <td>0</td>\n",
       "      <td>0</td>\n",
       "      <td>0</td>\n",
       "      <td>1</td>\n",
       "      <td>0</td>\n",
       "      <td>0</td>\n",
       "      <td>25.000000</td>\n",
       "      <td>0.602939</td>\n",
       "      <td>['monster', 'galaxy', 'dystopia', 'space', 'al...</td>\n",
       "      <td>['monster', 'galaxy', 'dystopia', 'space', 'al...</td>\n",
       "      <td>0</td>\n",
       "      <td>0</td>\n",
       "      <td>0</td>\n",
       "      <td>0</td>\n",
       "      <td>0</td>\n",
       "      <td>0</td>\n",
       "      <td>0</td>\n",
       "      <td>0</td>\n",
       "      <td>0</td>\n",
       "      <td>0</td>\n",
       "      <td>0</td>\n",
       "      <td>0</td>\n",
       "    </tr>\n",
       "  </tbody>\n",
       "</table>\n",
       "</div>"
      ],
      "text/plain": [
       "      id                  title  \\\n",
       "0  15655       The Tigger Movie   \n",
       "1  20455     Digimon: The Movie   \n",
       "2  10501  The Road to El Dorado   \n",
       "3  10567               Dinosaur   \n",
       "4   7450             Titan A.E.   \n",
       "\n",
       "                                            overview  popularity  \\\n",
       "0  Winnie the Pooh Piglet Owl Kanga Roo and Rabbi...      20.167   \n",
       "1  The first story focused on Tai and Kari Kamiya...      13.017   \n",
       "2  After a failed swindle two con-men end up with...      41.768   \n",
       "3  An orphaned dinosaur raised by lemurs joins an...      62.622   \n",
       "4  A young man finds out that he holds the key to...      19.759   \n",
       "\n",
       "                                production_companies release_date  \\\n",
       "0  Walt Disney Pictures-Disney Television Animati...   2000-02-11   \n",
       "1  Saban Entertainment-Toei Company-Fox Family Fi...   2000-03-04   \n",
       "2           DreamWorks Animation-DreamWorks Pictures   2000-03-31   \n",
       "3  Walt Disney Pictures-Walt Disney Feature Anima...   2000-05-19   \n",
       "4  20th Century Fox-David Kirschner Productions-F...   2000-06-16   \n",
       "\n",
       "        budget      revenue  runtime    status  \\\n",
       "0   30000000.0   45554533.0     77.0  Released   \n",
       "1    5500000.0   16600000.0     89.0  Released   \n",
       "2   95000000.0   76432727.0     89.0  Released   \n",
       "3  127500000.0  354248063.0     82.0  Released   \n",
       "4   75000000.0   36754634.0     94.0  Released   \n",
       "\n",
       "                                             tagline  vote_average  \\\n",
       "0                                                NaN         6.500   \n",
       "1  New Monsters. New Battles. Now on the Big Screen.         6.600   \n",
       "2  They came for the gold. They stayed for the ad...         7.242   \n",
       "3             Discover a world you've only imagined.         6.534   \n",
       "4             When Earth Ends, The Adventure Begins.         6.609   \n",
       "\n",
       "   vote_count                                            credits  \\\n",
       "0       487.0  Jim Cummings-Ken Sansom-John Fiedler-Peter Cul...   \n",
       "1       243.0  Lara Jill Miller-Joshua Seth-Bob Papenbrook-Da...   \n",
       "2      3354.0  Kenneth Branagh-Kevin Kline-Rosie Perez-Armand...   \n",
       "3      2455.0  D.B. Sweeney-Alfre Woodard-Ossie Davis-Max Cas...   \n",
       "4       916.0  Matt Damon-Bill Pullman-Drew Barrymore-John Le...   \n",
       "\n",
       "                                            keywords  \\\n",
       "0                                     woman director   \n",
       "1  video game-monster-loss of energy-computer-sup...   \n",
       "2  gold-horse-musical-cartoon-sword fight-con art...   \n",
       "3  cataclysm-asteroid-leader-villain-comet-migrat...   \n",
       "4        monster-galaxy-dystopia-space-alien-mission   \n",
       "\n",
       "                        poster_path                     backdrop_path  \\\n",
       "0  /lxuiGvLHIL1ZyePP7bn6FcKj0Mr.jpg  /uMoSM7r4dst4e5aFUhDEDPyh1hL.jpg   \n",
       "1   /1MpgVWRCdWEgu9qZivyNX4glDe.jpg  /1ZFUt0LtYkF568iCkRXCScgBP5g.jpg   \n",
       "2  /ryXm7xp4aqQyda0FU2eMfHehPBg.jpg  /ciID0Mu1pPuOUP3JbOsDXQ5aMV6.jpg   \n",
       "3  /rSje3FS7ycJSglowlngjsvDt7vO.jpg  /laeEtakR2pLKu3CeRwB2lU5Y53X.jpg   \n",
       "4  /el2iHk3LTJWfEnwrvcRkvWY501G.jpg  /pniACHS8KDVCldB3BlwL78RIZ7V.jpg   \n",
       "\n",
       "                                     recommendations  release_year  \\\n",
       "0  13691-13682-13706-16394-27332-14885-326911-511...          2000   \n",
       "1  97787-75571-12599-98299-10228-10991-36201-8873...          2000   \n",
       "2  10865-8916-10009-9837-9444-14411-11688-9023-90...          2000   \n",
       "3  12129-7443-11688-10865-13691-49948-15655-12233...          2000   \n",
       "4  9016-14411-2114-9837-10016-2157-8584-13225-97-...          2000   \n",
       "\n",
       "                           production_companies_list  \\\n",
       "0  ['Walt Disney Pictures', 'Disney Television An...   \n",
       "1  ['Saban Entertainment', 'Toei Company', 'Fox F...   \n",
       "2    ['DreamWorks Animation', 'DreamWorks Pictures']   \n",
       "3  ['Walt Disney Pictures', 'Walt Disney Feature ...   \n",
       "4  ['20th Century Fox', 'David Kirschner Producti...   \n",
       "\n",
       "                                        credits_list  quarter_q1  quarter_q2  \\\n",
       "0  ['Jim Cummings', 'Ken Sansom', 'John Fiedler',...           1           0   \n",
       "1  ['Lara Jill Miller', 'Joshua Seth', 'Bob Papen...           1           0   \n",
       "2  ['Kenneth Branagh', 'Kevin Kline', 'Rosie Pere...           1           0   \n",
       "3  ['D.B. Sweeney', 'Alfre Woodard', 'Ossie Davis...           0           1   \n",
       "4  ['Matt Damon', 'Bill Pullman', 'Drew Barrymore...           0           1   \n",
       "\n",
       "   quarter_q3  quarter_q4 release_quarter   real_budget  real_revenue  \\\n",
       "0           0           0              Q1  6.281334e+07  9.538108e+07   \n",
       "1           0           0              Q1  1.151578e+07  3.475671e+07   \n",
       "2           0           0              Q1  1.989089e+08  1.600332e+08   \n",
       "3           0           0              Q2  2.669567e+08  7.417168e+08   \n",
       "4           0           0              Q2  1.570333e+08  7.695604e+07   \n",
       "\n",
       "   Science Fiction, Family  Action, Comedy, Adventure, Family  \\\n",
       "0                        0                                  0   \n",
       "1                        1                                  0   \n",
       "2                        0                                  0   \n",
       "3                        0                                  0   \n",
       "4                        1                                  0   \n",
       "\n",
       "   Fantasy, Adventure, Comedy, Family  genre_other  original_language_en  \\\n",
       "0                                   0            1                     1   \n",
       "1                                   0            0                     0   \n",
       "2                                   1            0                     1   \n",
       "3                                   0            1                     1   \n",
       "4                                   0            0                     1   \n",
       "\n",
       "   original_language_ja  original_language_other  companies_trueskill  \\\n",
       "0                     0                        0            25.000000   \n",
       "1                     1                        0            25.000000   \n",
       "2                     0                        0            25.000000   \n",
       "3                     0                        0            13.014667   \n",
       "4                     0                        0            25.000000   \n",
       "\n",
       "   credits_trueskill                                     split_keywords  \\\n",
       "0          25.000000                                 ['woman director']   \n",
       "1          25.000000  ['video game', 'monster', 'loss of energy', 'c...   \n",
       "2           8.097407  ['gold', 'horse', 'musical', 'cartoon', 'sword...   \n",
       "3          25.000000  ['cataclysm', 'asteroid', 'leader', 'villain',...   \n",
       "4           0.602939  ['monster', 'galaxy', 'dystopia', 'space', 'al...   \n",
       "\n",
       "                                      clean_keywords  duringcreditsstinger  \\\n",
       "0                                 ['woman director']                     0   \n",
       "1  ['video game', 'monster', 'loss of energy', 'c...                     0   \n",
       "2  ['gold', 'horse', 'musical', 'cartoon', 'sword...                     0   \n",
       "3  ['cataclysm', 'asteroid', 'leader', 'villain',...                     0   \n",
       "4  ['monster', 'galaxy', 'dystopia', 'space', 'al...                     0   \n",
       "\n",
       "   aftercreditsstinger  sequel  anthropomorphism  friendship  cartoon  anime  \\\n",
       "0                    0       0                 0           0        0      0   \n",
       "1                    0       0                 0           0        0      1   \n",
       "2                    0       0                 0           0        1      0   \n",
       "3                    0       0                 0           0        0      0   \n",
       "4                    0       0                 0           0        0      0   \n",
       "\n",
       "   animal  villain  family  superhero  dog  \n",
       "0       0        0       0          0    0  \n",
       "1       0        0       0          1    0  \n",
       "2       0        0       0          0    0  \n",
       "3       0        1       0          0    0  \n",
       "4       0        0       0          0    0  "
      ]
     },
     "execution_count": 3,
     "metadata": {},
     "output_type": "execute_result"
    }
   ],
   "source": [
    "# Load the processed dataset from EDA, Feature Selection, and Feature Engineering\n",
    "df_anim_model = pd.read_csv(\"animated_movies_dataset.csv\")\n",
    "df_anim_model.head(5)"
   ]
  },
  {
   "cell_type": "code",
   "execution_count": 4,
   "id": "c5c0051f-bba2-46dd-8988-de1b9b8a842a",
   "metadata": {
    "execution": {
     "iopub.execute_input": "2025-03-18T00:43:14.501030Z",
     "iopub.status.busy": "2025-03-18T00:43:14.500828Z",
     "iopub.status.idle": "2025-03-18T00:43:14.506758Z",
     "shell.execute_reply": "2025-03-18T00:43:14.506000Z",
     "shell.execute_reply.started": "2025-03-18T00:43:14.501011Z"
    }
   },
   "outputs": [
    {
     "data": {
      "text/plain": [
       "Index(['id', 'title', 'overview', 'popularity', 'production_companies',\n",
       "       'release_date', 'budget', 'revenue', 'runtime', 'status', 'tagline',\n",
       "       'vote_average', 'vote_count', 'credits', 'keywords', 'poster_path',\n",
       "       'backdrop_path', 'recommendations', 'release_year',\n",
       "       'production_companies_list', 'credits_list', 'quarter_q1', 'quarter_q2',\n",
       "       'quarter_q3', 'quarter_q4', 'release_quarter', 'real_budget',\n",
       "       'real_revenue', 'Science Fiction, Family',\n",
       "       'Action, Comedy, Adventure, Family',\n",
       "       'Fantasy, Adventure, Comedy, Family', 'genre_other',\n",
       "       'original_language_en', 'original_language_ja',\n",
       "       'original_language_other', 'companies_trueskill', 'credits_trueskill',\n",
       "       'split_keywords', 'clean_keywords', 'duringcreditsstinger',\n",
       "       'aftercreditsstinger', 'sequel', 'anthropomorphism', 'friendship',\n",
       "       'cartoon', 'anime', 'animal', 'villain', 'family', 'superhero', 'dog'],\n",
       "      dtype='object')"
      ]
     },
     "execution_count": 4,
     "metadata": {},
     "output_type": "execute_result"
    }
   ],
   "source": [
    "# Display all column names\n",
    "df_anim_model.columns"
   ]
  },
  {
   "cell_type": "markdown",
   "id": "e6876949-f5ee-45f5-8f86-961427eec337",
   "metadata": {},
   "source": [
    "# Classifying Revenue"
   ]
  },
  {
   "cell_type": "code",
   "execution_count": 5,
   "id": "3c8671bd-183b-4c49-b1a1-84e28cda12df",
   "metadata": {
    "execution": {
     "iopub.execute_input": "2025-03-18T00:43:14.507604Z",
     "iopub.status.busy": "2025-03-18T00:43:14.507412Z",
     "iopub.status.idle": "2025-03-18T00:43:14.513131Z",
     "shell.execute_reply": "2025-03-18T00:43:14.512304Z",
     "shell.execute_reply.started": "2025-03-18T00:43:14.507585Z"
    }
   },
   "outputs": [],
   "source": [
    "df_anim_model[\"success\"] = (df_anim_model[\"real_revenue\"] >= 2.5 * df_anim_model[\"real_budget\"]).astype(int)"
   ]
  },
  {
   "cell_type": "code",
   "execution_count": 6,
   "id": "4fc33e83-8a84-4d57-8a07-3abd064e6c4d",
   "metadata": {
    "execution": {
     "iopub.execute_input": "2025-03-18T00:43:14.515701Z",
     "iopub.status.busy": "2025-03-18T00:43:14.515455Z",
     "iopub.status.idle": "2025-03-18T00:43:14.703613Z",
     "shell.execute_reply": "2025-03-18T00:43:14.702752Z",
     "shell.execute_reply.started": "2025-03-18T00:43:14.515679Z"
    }
   },
   "outputs": [
    {
     "data": {
      "image/png": "[encoded data removed]",
      "text/plain": [
       "<Figure size 600x400 with 1 Axes>"
      ]
     },
     "metadata": {},
     "output_type": "display_data"
    }
   ],
   "source": [
    "import matplotlib.pyplot as plt\n",
    "import seaborn as sns\n",
    "\n",
    "# Get class distribution\n",
    "class_counts = df_anim_model[\"success\"].value_counts(normalize=True)\n",
    "\n",
    "# Plot the class distribution\n",
    "plt.figure(figsize=(6, 4))\n",
    "sns.barplot(x=class_counts.index, y=class_counts.values, edgecolor=\"black\")\n",
    "\n",
    "# Add labels\n",
    "plt.xlabel(\"Class (0 = Unsuccessful, 1 = Successful)\")\n",
    "plt.ylabel(\"Proportion of Data\")\n",
    "plt.title(\"Class Distribution in df_anim_model_2\")\n",
    "plt.xticks(ticks=[0, 1], labels=[\"Unsuccessful\", \"Successful\"])\n",
    "plt.ylim(0, 1)\n",
    "\n",
    "# Display percentages on bars\n",
    "for i, value in enumerate(class_counts.values):\n",
    "    plt.text(i, value + 0.02, f\"{value:.2%}\", ha=\"center\", fontsize=12)\n",
    "\n",
    "plt.show()\n"
   ]
  },
  {
   "cell_type": "markdown",
   "id": "e3963583-2c28-47d5-8749-f0969b2b1d77",
   "metadata": {},
   "source": [
    "# Train-Test Split: Rolling Window Method\n",
    "\n",
    "**Why Use a Rolling Window Split?**\n",
    "- Traditional **random train-test splits** do not account for the **time-based nature** of movie releases.\n",
    "- A **rolling window** approach ensures that the **model is trained on past data** and tested on **future data**, mimicking real-world forecasting.\n",
    "- **Rolling window maintains a fixed training size**, preventing older, less relevant data from influencing the model.\n",
    "- **Preferred over expanding window because it prevents outdated patterns from diluting recent trends, ensuring the model adapts to changing industry dynamics.**\n",
    "\n",
    "**How the Rolling Window Works**\n",
    "1. **Train on a fixed number of years (e.g., 5 years)**.\n",
    "2. **Test on the next year**.\n",
    "3. **Slide the window forward by one year** and repeat until reaching the dataset’s end.\n",
    "\n",
    "**Why the Elbow Method?**\n",
    "- The **train window size (number of years)** affects performance.\n",
    "- A smaller window captures recent trends but loses long-term context.\n",
    "- A larger window provides more data but might include outdated patterns.\n",
    "- The **elbow method** helps determine an **optimal balance** by plotting RMSE vs. train window size.\n"
   ]
  },
  {
   "cell_type": "code",
   "execution_count": 7,
   "id": "df4bb605-9cd4-43e4-aa96-c030cc18edf6",
   "metadata": {
    "execution": {
     "iopub.execute_input": "2025-03-18T00:43:14.704591Z",
     "iopub.status.busy": "2025-03-18T00:43:14.704263Z",
     "iopub.status.idle": "2025-03-18T00:43:14.709095Z",
     "shell.execute_reply": "2025-03-18T00:43:14.708314Z",
     "shell.execute_reply.started": "2025-03-18T00:43:14.704570Z"
    }
   },
   "outputs": [],
   "source": [
    "# Create a working copy of the dataset\n",
    "df_anim_model_2 = df_anim_model.copy()"
   ]
  },
  {
   "cell_type": "code",
   "execution_count": 8,
   "id": "0c4c6f6a-7b75-4973-8f4d-da2fc86e186a",
   "metadata": {
    "execution": {
     "iopub.execute_input": "2025-03-18T00:43:14.710045Z",
     "iopub.status.busy": "2025-03-18T00:43:14.709820Z",
     "iopub.status.idle": "2025-03-18T00:43:14.732892Z",
     "shell.execute_reply": "2025-03-18T00:43:14.732115Z",
     "shell.execute_reply.started": "2025-03-18T00:43:14.710023Z"
    }
   },
   "outputs": [
    {
     "data": {
      "text/html": [
       "<div>\n",
       "<style scoped>\n",
       "    .dataframe tbody tr th:only-of-type {\n",
       "        vertical-align: middle;\n",
       "    }\n",
       "\n",
       "    .dataframe tbody tr th {\n",
       "        vertical-align: top;\n",
       "    }\n",
       "\n",
       "    .dataframe thead th {\n",
       "        text-align: right;\n",
       "    }\n",
       "</style>\n",
       "<table border=\"1\" class=\"dataframe\">\n",
       "  <thead>\n",
       "    <tr style=\"text-align: right;\">\n",
       "      <th></th>\n",
       "      <th>title</th>\n",
       "      <th>release_date</th>\n",
       "      <th>runtime</th>\n",
       "      <th>quarter_q1</th>\n",
       "      <th>quarter_q2</th>\n",
       "      <th>quarter_q3</th>\n",
       "      <th>quarter_q4</th>\n",
       "      <th>real_budget</th>\n",
       "      <th>real_revenue</th>\n",
       "      <th>Science Fiction, Family</th>\n",
       "      <th>Action, Comedy, Adventure, Family</th>\n",
       "      <th>Fantasy, Adventure, Comedy, Family</th>\n",
       "      <th>genre_other</th>\n",
       "      <th>original_language_en</th>\n",
       "      <th>original_language_ja</th>\n",
       "      <th>original_language_other</th>\n",
       "      <th>companies_trueskill</th>\n",
       "      <th>credits_trueskill</th>\n",
       "      <th>duringcreditsstinger</th>\n",
       "      <th>aftercreditsstinger</th>\n",
       "      <th>sequel</th>\n",
       "      <th>anthropomorphism</th>\n",
       "      <th>friendship</th>\n",
       "      <th>cartoon</th>\n",
       "      <th>anime</th>\n",
       "      <th>animal</th>\n",
       "      <th>villain</th>\n",
       "      <th>family</th>\n",
       "      <th>superhero</th>\n",
       "      <th>dog</th>\n",
       "      <th>success</th>\n",
       "    </tr>\n",
       "  </thead>\n",
       "  <tbody>\n",
       "    <tr>\n",
       "      <th>0</th>\n",
       "      <td>The Tigger Movie</td>\n",
       "      <td>2000-02-11</td>\n",
       "      <td>77.0</td>\n",
       "      <td>1</td>\n",
       "      <td>0</td>\n",
       "      <td>0</td>\n",
       "      <td>0</td>\n",
       "      <td>6.281334e+07</td>\n",
       "      <td>9.538108e+07</td>\n",
       "      <td>0</td>\n",
       "      <td>0</td>\n",
       "      <td>0</td>\n",
       "      <td>1</td>\n",
       "      <td>1</td>\n",
       "      <td>0</td>\n",
       "      <td>0</td>\n",
       "      <td>25.0</td>\n",
       "      <td>25.0</td>\n",
       "      <td>0</td>\n",
       "      <td>0</td>\n",
       "      <td>0</td>\n",
       "      <td>0</td>\n",
       "      <td>0</td>\n",
       "      <td>0</td>\n",
       "      <td>0</td>\n",
       "      <td>0</td>\n",
       "      <td>0</td>\n",
       "      <td>0</td>\n",
       "      <td>0</td>\n",
       "      <td>0</td>\n",
       "      <td>0</td>\n",
       "    </tr>\n",
       "    <tr>\n",
       "      <th>1</th>\n",
       "      <td>Digimon: The Movie</td>\n",
       "      <td>2000-03-04</td>\n",
       "      <td>89.0</td>\n",
       "      <td>1</td>\n",
       "      <td>0</td>\n",
       "      <td>0</td>\n",
       "      <td>0</td>\n",
       "      <td>1.151578e+07</td>\n",
       "      <td>3.475671e+07</td>\n",
       "      <td>1</td>\n",
       "      <td>0</td>\n",
       "      <td>0</td>\n",
       "      <td>0</td>\n",
       "      <td>0</td>\n",
       "      <td>1</td>\n",
       "      <td>0</td>\n",
       "      <td>25.0</td>\n",
       "      <td>25.0</td>\n",
       "      <td>0</td>\n",
       "      <td>0</td>\n",
       "      <td>0</td>\n",
       "      <td>0</td>\n",
       "      <td>0</td>\n",
       "      <td>0</td>\n",
       "      <td>1</td>\n",
       "      <td>0</td>\n",
       "      <td>0</td>\n",
       "      <td>0</td>\n",
       "      <td>1</td>\n",
       "      <td>0</td>\n",
       "      <td>1</td>\n",
       "    </tr>\n",
       "  </tbody>\n",
       "</table>\n",
       "</div>"
      ],
      "text/plain": [
       "                title release_date  runtime  quarter_q1  quarter_q2  \\\n",
       "0    The Tigger Movie   2000-02-11     77.0           1           0   \n",
       "1  Digimon: The Movie   2000-03-04     89.0           1           0   \n",
       "\n",
       "   quarter_q3  quarter_q4   real_budget  real_revenue  \\\n",
       "0           0           0  6.281334e+07  9.538108e+07   \n",
       "1           0           0  1.151578e+07  3.475671e+07   \n",
       "\n",
       "   Science Fiction, Family  Action, Comedy, Adventure, Family  \\\n",
       "0                        0                                  0   \n",
       "1                        1                                  0   \n",
       "\n",
       "   Fantasy, Adventure, Comedy, Family  genre_other  original_language_en  \\\n",
       "0                                   0            1                     1   \n",
       "1                                   0            0                     0   \n",
       "\n",
       "   original_language_ja  original_language_other  companies_trueskill  \\\n",
       "0                     0                        0                 25.0   \n",
       "1                     1                        0                 25.0   \n",
       "\n",
       "   credits_trueskill  duringcreditsstinger  aftercreditsstinger  sequel  \\\n",
       "0               25.0                     0                    0       0   \n",
       "1               25.0                     0                    0       0   \n",
       "\n",
       "   anthropomorphism  friendship  cartoon  anime  animal  villain  family  \\\n",
       "0                 0           0        0      0       0        0       0   \n",
       "1                 0           0        0      1       0        0       0   \n",
       "\n",
       "   superhero  dog  success  \n",
       "0          0    0        0  \n",
       "1          1    0        1  "
      ]
     },
     "execution_count": 8,
     "metadata": {},
     "output_type": "execute_result"
    }
   ],
   "source": [
    "# Define columns to drop (ID, textual data, redundant features)\n",
    "cols_to_drop = [\n",
    "    \"id\", \"overview\", \"production_companies\", \"popularity\", \"budget\", \"revenue\",\n",
    "    \"credits\", \"keywords\", \"status\", \"tagline\", \"vote_average\", \"vote_count\",\n",
    "    \"production_companies_list\", \"credits_list\", \"poster_path\", \"backdrop_path\",\n",
    "    \"recommendations\", \"release_year\", \"release_quarter\", \"split_keywords\", \"clean_keywords\",\n",
    "]\n",
    "\n",
    "# Drop specified columns\n",
    "df_anim_model_2 = df_anim_model_2.drop(labels=cols_to_drop, axis=1)\n",
    "\n",
    "# Display first two rows to confirm changes\n",
    "df_anim_model_2.head(2)"
   ]
  },
  {
   "cell_type": "code",
   "execution_count": 9,
   "id": "3730aafd-f1e5-4f60-bae5-b099f5f7e4b9",
   "metadata": {
    "execution": {
     "iopub.execute_input": "2025-03-18T00:43:14.733665Z",
     "iopub.status.busy": "2025-03-18T00:43:14.733468Z",
     "iopub.status.idle": "2025-03-18T00:43:14.739173Z",
     "shell.execute_reply": "2025-03-18T00:43:14.738317Z",
     "shell.execute_reply.started": "2025-03-18T00:43:14.733646Z"
    }
   },
   "outputs": [
    {
     "data": {
      "text/plain": [
       "Index(['title', 'release_date', 'runtime', 'quarter_q1', 'quarter_q2',\n",
       "       'quarter_q3', 'quarter_q4', 'real_budget', 'real_revenue',\n",
       "       'Science Fiction, Family', 'Action, Comedy, Adventure, Family',\n",
       "       'Fantasy, Adventure, Comedy, Family', 'genre_other',\n",
       "       'original_language_en', 'original_language_ja',\n",
       "       'original_language_other', 'companies_trueskill', 'credits_trueskill',\n",
       "       'duringcreditsstinger', 'aftercreditsstinger', 'sequel',\n",
       "       'anthropomorphism', 'friendship', 'cartoon', 'anime', 'animal',\n",
       "       'villain', 'family', 'superhero', 'dog', 'success'],\n",
       "      dtype='object')"
      ]
     },
     "execution_count": 9,
     "metadata": {},
     "output_type": "execute_result"
    }
   ],
   "source": [
    "# Display remaining column names\n",
    "df_anim_model_2.columns"
   ]
  },
  {
   "cell_type": "code",
   "execution_count": 10,
   "id": "46ccf55f-9c85-4872-a053-90a0ebc8323d",
   "metadata": {
    "execution": {
     "iopub.execute_input": "2025-03-18T00:43:14.740078Z",
     "iopub.status.busy": "2025-03-18T00:43:14.739846Z",
     "iopub.status.idle": "2025-03-18T00:43:14.747336Z",
     "shell.execute_reply": "2025-03-18T00:43:14.746444Z",
     "shell.execute_reply.started": "2025-03-18T00:43:14.740056Z"
    }
   },
   "outputs": [
    {
     "data": {
      "text/plain": [
       "title                                  object\n",
       "release_date                           object\n",
       "runtime                               float64\n",
       "quarter_q1                              int64\n",
       "quarter_q2                              int64\n",
       "quarter_q3                              int64\n",
       "quarter_q4                              int64\n",
       "real_budget                           float64\n",
       "real_revenue                          float64\n",
       "Science Fiction, Family                 int64\n",
       "Action, Comedy, Adventure, Family       int64\n",
       "Fantasy, Adventure, Comedy, Family      int64\n",
       "genre_other                             int64\n",
       "original_language_en                    int64\n",
       "original_language_ja                    int64\n",
       "original_language_other                 int64\n",
       "companies_trueskill                   float64\n",
       "credits_trueskill                     float64\n",
       "duringcreditsstinger                    int64\n",
       "aftercreditsstinger                     int64\n",
       "sequel                                  int64\n",
       "anthropomorphism                        int64\n",
       "friendship                              int64\n",
       "cartoon                                 int64\n",
       "anime                                   int64\n",
       "animal                                  int64\n",
       "villain                                 int64\n",
       "family                                  int64\n",
       "superhero                               int64\n",
       "dog                                     int64\n",
       "success                                 int64\n",
       "dtype: object"
      ]
     },
     "execution_count": 10,
     "metadata": {},
     "output_type": "execute_result"
    }
   ],
   "source": [
    "# Display feature data types\n",
    "df_anim_model_2.dtypes"
   ]
  },
  {
   "cell_type": "code",
   "execution_count": 11,
   "id": "9b4ee265-faec-48cd-9af0-34962be50945",
   "metadata": {
    "execution": {
     "iopub.execute_input": "2025-03-18T00:43:14.748201Z",
     "iopub.status.busy": "2025-03-18T00:43:14.747971Z",
     "iopub.status.idle": "2025-03-18T00:43:14.754307Z",
     "shell.execute_reply": "2025-03-18T00:43:14.753126Z",
     "shell.execute_reply.started": "2025-03-18T00:43:14.748179Z"
    }
   },
   "outputs": [],
   "source": [
    "# Features used for modeling\n",
    "features = df_anim_model_2.drop([\"title\", \"release_date\", \"real_revenue\", \n",
    "                                 \"success\", \"quarter_q4\", \"genre_other\",\n",
    "                                 \"original_language_other\"], axis=1).columns.to_list()\n",
    "\n",
    "# Target variable\n",
    "target = [\"success\"]"
   ]
  },
  {
   "cell_type": "code",
   "execution_count": 12,
   "id": "2d728adc-853e-45c2-92e3-3224d5984c94",
   "metadata": {
    "execution": {
     "iopub.execute_input": "2025-03-18T00:43:14.755327Z",
     "iopub.status.busy": "2025-03-18T00:43:14.755056Z",
     "iopub.status.idle": "2025-03-18T00:43:14.764655Z",
     "shell.execute_reply": "2025-03-18T00:43:14.763775Z",
     "shell.execute_reply.started": "2025-03-18T00:43:14.755301Z"
    }
   },
   "outputs": [
    {
     "name": "stdout",
     "output_type": "stream",
     "text": [
      "Earliest release date: 2000-02-11 00:00:00\n",
      "Latest release date: 2024-06-20 00:00:00\n"
     ]
    }
   ],
   "source": [
    "# Convert release_date column to datetime\n",
    "df_anim_model_2[\"release_date\"] = pd.to_datetime(df_anim_model_2[\"release_date\"], errors=\"coerce\")\n",
    "\n",
    "# Get dataset time range\n",
    "earliest_date = df_anim_model_2[\"release_date\"].min()\n",
    "latest_date = df_anim_model_2[\"release_date\"].max()\n",
    "\n",
    "# Display the earliest and latest release dates\n",
    "print(f\"Earliest release date: {earliest_date}\")\n",
    "print(f\"Latest release date: {latest_date}\")"
   ]
  },
  {
   "cell_type": "markdown",
   "id": "4d9018fb-cccd-4c9b-98d5-7942eafebc83",
   "metadata": {},
   "source": [
    "# Baseline\n",
    "\n",
    "**Why Use a Linear Regression Baseline?**  \n",
    "- Provides a **data-driven benchmark** for revenue prediction.  \n",
    "- Helps assess whether **more complex models** significantly improve accuracy.  \n",
    "- Captures relationships between **budget, features, and revenue**.  \n",
    "- More adaptable than simple rules like **fixed multipliers (e.g., 2.5× budget)**.\n",
    "\n",
    "**How the Linear Regression Baseline Works**  \n",
    "1. **Train a Linear Regression model** using historical movie features.  \n",
    "2. **Predict revenue** based on input features.  \n",
    "3. **Evaluate performance** using MAE, RMSE, R², and MAPE.  \n",
    "4. **Compare against rule-based baselines** to determine added value.  \n",
    "\n",
    "---\n",
    "\n",
    "**Why Use a 2.5× Budget Baseline?**  \n",
    "- Represents a **common industry heuristic** for animated movies.  \n",
    "- Quick and interpretable: does not require model training.  \n",
    "- Serves as a **sanity check**: if ML models don’t outperform it, they may lack real predictive power.  \n",
    "\n",
    "**How the 2.5× Budget Baseline Works**  \n",
    "1. Compute **Estimated Revenue** as `2.5 × Budget`.  \n",
    "2. Compare **predicted vs. actual revenue** using MAE and RMSE.  \n",
    "3. Use it as a **lower-bound benchmark**: a good ML model should outperform this simple assumption.  \n"
   ]
  },
  {
   "cell_type": "code",
   "execution_count": 13,
   "id": "048e9007-ddd8-4d2d-a40e-b15df183185b",
   "metadata": {
    "execution": {
     "iopub.execute_input": "2025-03-18T00:43:14.765832Z",
     "iopub.status.busy": "2025-03-18T00:43:14.765585Z",
     "iopub.status.idle": "2025-03-18T00:43:14.863993Z",
     "shell.execute_reply": "2025-03-18T00:43:14.863142Z",
     "shell.execute_reply.started": "2025-03-18T00:43:14.765809Z"
    }
   },
   "outputs": [
    {
     "name": "stderr",
     "output_type": "stream",
     "text": [
      "K-Fold Progress: 100%|██████████| 5/5 [00:00<00:00, 82.52it/s]"
     ]
    },
    {
     "name": "stdout",
     "output_type": "stream",
     "text": [
      "\n",
      "Baseline Model (Dummy Classifier) Performance:\n",
      "Average Accuracy: 0.5063\n",
      "Average F1 Score: 0.5231\n",
      "Average Precision: 0.5484\n",
      "Average Recall: 0.5000\n",
      "\n",
      "Detailed Performance Across K-Fold Splits:\n",
      "   Accuracy  F1 Score  Precision    Recall\n",
      "0  0.476190  0.492308   0.516129  0.470588\n",
      "1  0.444444  0.461538   0.483871  0.441176\n",
      "2  0.571429  0.584615   0.612903  0.558824\n",
      "3  0.539683  0.553846   0.580645  0.529412\n",
      "4  0.500000  0.523077   0.548387  0.500000\n"
     ]
    },
    {
     "name": "stderr",
     "output_type": "stream",
     "text": [
      "\n"
     ]
    }
   ],
   "source": [
    "from sklearn.model_selection import StratifiedKFold\n",
    "from sklearn.dummy import DummyClassifier\n",
    "from sklearn.metrics import accuracy_score, f1_score, precision_score, recall_score\n",
    "import numpy as np\n",
    "import pandas as pd\n",
    "from tqdm import tqdm\n",
    "\n",
    "# Define Stratified K-Fold (ensures similar class distribution in each fold)\n",
    "kf = StratifiedKFold(n_splits=5, shuffle=True, random_state=42)\n",
    "\n",
    "# Prepare data\n",
    "X = df_anim_model_2[features]\n",
    "y = df_anim_model_2[\"success\"]\n",
    "\n",
    "# Initialize results dictionary\n",
    "results = {\"Accuracy\": [], \"F1 Score\": [], \"Precision\": [], \"Recall\": []}\n",
    "\n",
    "# Loop over K-Fold splits with tqdm for progress tracking\n",
    "for fold, (train_index, test_index) in enumerate(tqdm(kf.split(X, y), desc=\"K-Fold Progress\", total=kf.get_n_splits())):\n",
    "    X_train, X_test = X.iloc[train_index], X.iloc[test_index]\n",
    "    y_train, y_test = y.iloc[train_index], y.iloc[test_index]\n",
    "\n",
    "    # Train baseline classifier\n",
    "    dummy_clf = DummyClassifier(strategy=\"uniform\", random_state=42)\n",
    "    dummy_clf.fit(X_train, y_train)\n",
    "    y_pred = dummy_clf.predict(X_test)\n",
    "\n",
    "    # Compute classification metrics\n",
    "    results[\"Accuracy\"].append(accuracy_score(y_test, y_pred))\n",
    "    results[\"F1 Score\"].append(f1_score(y_test, y_pred, zero_division=0))\n",
    "    results[\"Precision\"].append(precision_score(y_test, y_pred, zero_division=0))\n",
    "    results[\"Recall\"].append(recall_score(y_test, y_pred, zero_division=0))\n",
    "\n",
    "# Compute the average of each metric\n",
    "average_metrics = {metric: np.mean(values) for metric, values in results.items()}\n",
    "\n",
    "# Print the results\n",
    "print(\"\\nBaseline Model (Dummy Classifier) Performance:\")\n",
    "print(f\"Average Accuracy: {average_metrics['Accuracy']:.4f}\")\n",
    "print(f\"Average F1 Score: {average_metrics['F1 Score']:.4f}\")\n",
    "print(f\"Average Precision: {average_metrics['Precision']:.4f}\")\n",
    "print(f\"Average Recall: {average_metrics['Recall']:.4f}\")\n",
    "\n",
    "# Store results in DataFrame for further analysis\n",
    "df_baseline_results = pd.DataFrame(results)\n",
    "print(\"\\nDetailed Performance Across K-Fold Splits:\")\n",
    "print(df_baseline_results)\n"
   ]
  },
  {
   "cell_type": "markdown",
   "id": "f8018659-afd6-4a44-9371-991555f27f61",
   "metadata": {},
   "source": [
    "# Model"
   ]
  },
  {
   "cell_type": "markdown",
   "id": "06b429e0-4557-4ee1-9f1a-25010610353f",
   "metadata": {},
   "source": [
    "## Initial Selection\n",
    "\n",
    "**Why Use Tree-Based Models?**\n",
    "- The dataset is primarily **categorical**, making tree-based models a natural choice.\n",
    "- Tree-based algorithms handle **categorical splits** efficiently without requiring extensive preprocessing.\n",
    "- Ensemble methods like **Random Forest, XGBoost, and CatBoost** improve performance by reducing variance and capturing non-linear relationships.\n",
    "\n",
    "**Models Being Evaluated**\n",
    "1. **Decision Tree Regressor**:  \n",
    "   - A simple, interpretable model that creates hierarchical decision rules.\n",
    "2. **Random Forest Regressor**:  \n",
    "   - An ensemble of decision trees that improves generalization and reduces overfitting.\n",
    "3. **XGBoost Regressor**:  \n",
    "   - A gradient boosting method optimized for speed and performance.\n",
    "4. **CatBoost Regressor**:  \n",
    "   - Specifically designed for categorical data, requiring minimal preprocessing.\n",
    "\n",
    "**How Model Selection Works**\n",
    "1. **Train Each Model Using Rolling Window Splits**:  \n",
    "   - Ensures evaluation is time-aware, mimicking real-world forecasting.\n",
    "2. **Compute Performance Metrics**:  \n",
    "   - **Mean Absolute Error (MAE)**: Measures average absolute prediction error.\n",
    "   - **Root Mean Squared Error (RMSE)**: Penalizes larger errors more significantly.\n",
    "   - **R² Score**: Assesses how well the model explains revenue variance.\n",
    "   - **Mean Absolute Percentage Error (MAPE)**: Provides an interpretable percentage-based error.\n",
    "3. **Select the Best Model**:  \n",
    "   - The model with the **lowest average MAE** is chosen for further optimization.\n",
    "\n",
    "By testing these models, the goal is to **identify the most effective approach** for predicting movie revenue while leveraging the strengths of tree-based methods.  "
   ]
  },
  {
   "cell_type": "code",
   "execution_count": 14,
   "id": "7412b6df-6a6c-4a94-a271-8654fd5fbf0d",
   "metadata": {
    "execution": {
     "iopub.execute_input": "2025-03-18T00:43:14.865003Z",
     "iopub.status.busy": "2025-03-18T00:43:14.864797Z",
     "iopub.status.idle": "2025-03-18T00:43:24.111146Z",
     "shell.execute_reply": "2025-03-18T00:43:24.109934Z",
     "shell.execute_reply.started": "2025-03-18T00:43:14.864983Z"
    }
   },
   "outputs": [
    {
     "name": "stderr",
     "output_type": "stream",
     "text": [
      "K-Fold Progress:   0%|          | 0/5 [00:00<?, ?it/s]\n",
      "\u001b[Aining models (Fold 1):   0%|          | 0/4 [00:00<?, ?it/s]\n",
      "\u001b[Aining models (Fold 1):  50%|█████     | 2/4 [00:00<00:00,  2.15it/s]\n",
      "\u001b[Aining models (Fold 1):  75%|███████▌  | 3/4 [00:01<00:00,  2.59it/s]\n",
      "\u001b[Aining models (Fold 1): 100%|██████████| 4/4 [00:01<00:00,  1.97it/s]\n",
      "K-Fold Progress:  20%|██        | 1/5 [00:01<00:07,  1.93s/it]         \n",
      "\u001b[Aining models (Fold 2):   0%|          | 0/4 [00:00<?, ?it/s]\n",
      "\u001b[Aining models (Fold 2):  50%|█████     | 2/4 [00:00<00:00,  2.16it/s]\n",
      "\u001b[Aining models (Fold 2):  75%|███████▌  | 3/4 [00:01<00:00,  2.83it/s]\n",
      "\u001b[Aining models (Fold 2): 100%|██████████| 4/4 [00:01<00:00,  2.22it/s]\n",
      "K-Fold Progress:  40%|████      | 2/5 [00:03<00:05,  1.83s/it]         \n",
      "\u001b[Aining models (Fold 3):   0%|          | 0/4 [00:00<?, ?it/s]\n",
      "\u001b[Aining models (Fold 3):  50%|█████     | 2/4 [00:00<00:00,  2.09it/s]\n",
      "\u001b[Aining models (Fold 3):  75%|███████▌  | 3/4 [00:01<00:00,  2.69it/s]\n",
      "\u001b[Aining models (Fold 3): 100%|██████████| 4/4 [00:01<00:00,  2.11it/s]\n",
      "K-Fold Progress:  60%|██████    | 3/5 [00:05<00:03,  1.83s/it]         \n",
      "\u001b[Aining models (Fold 4):   0%|          | 0/4 [00:00<?, ?it/s]\n",
      "\u001b[Aining models (Fold 4):  50%|█████     | 2/4 [00:00<00:00,  2.21it/s]\n",
      "\u001b[Aining models (Fold 4):  75%|███████▌  | 3/4 [00:01<00:00,  2.81it/s]\n",
      "\u001b[Aining models (Fold 4): 100%|██████████| 4/4 [00:01<00:00,  2.10it/s]\n",
      "K-Fold Progress:  80%|████████  | 4/5 [00:07<00:01,  1.82s/it]         \n",
      "\u001b[Aining models (Fold 5):   0%|          | 0/4 [00:00<?, ?it/s]\n",
      "\u001b[Aining models (Fold 5):  50%|█████     | 2/4 [00:00<00:00,  2.04it/s]\n",
      "\u001b[Aining models (Fold 5):  75%|███████▌  | 3/4 [00:01<00:00,  2.62it/s]\n",
      "\u001b[Aining models (Fold 5): 100%|██████████| 4/4 [00:01<00:00,  2.05it/s]\n",
      "K-Fold Progress: 100%|██████████| 5/5 [00:09<00:00,  1.85s/it]         "
     ]
    },
    {
     "name": "stdout",
     "output_type": "stream",
     "text": [
      "\n",
      "Best model based on F1 Score: RandomForest\n",
      "   Average F1 Score: 0.6741\n",
      "\n",
      "              Accuracy  F1 Score  Precision    Recall\n",
      "RandomForest  0.640092  0.674053   0.663518  0.694118\n",
      "XGBoost       0.649616  0.668334   0.674037  0.676471\n",
      "CatBoost      0.646595  0.667155   0.673539  0.670588\n",
      "DecisionTree  0.589350  0.617092   0.621943  0.617647\n"
     ]
    },
    {
     "name": "stderr",
     "output_type": "stream",
     "text": [
      "\n"
     ]
    }
   ],
   "source": [
    "from sklearn.model_selection import StratifiedKFold\n",
    "from sklearn.tree import DecisionTreeClassifier\n",
    "from sklearn.ensemble import RandomForestClassifier\n",
    "from xgboost import XGBClassifier\n",
    "from catboost import CatBoostClassifier\n",
    "from tqdm import tqdm\n",
    "import numpy as np\n",
    "import pandas as pd\n",
    "from sklearn.metrics import accuracy_score, f1_score, precision_score, recall_score\n",
    "\n",
    "# Define classification models\n",
    "models = {\n",
    "    \"DecisionTree\": DecisionTreeClassifier(random_state=42),\n",
    "    \"RandomForest\": RandomForestClassifier(n_estimators=500, random_state=42),\n",
    "    \"XGBoost\": XGBClassifier(n_estimators=500, learning_rate=0.1, eval_metric=\"logloss\", random_state=42),\n",
    "    \"CatBoost\": CatBoostClassifier(n_estimators=500, learning_rate=0.1, verbose=0, random_state=42),\n",
    "}\n",
    "\n",
    "# Initialize results dictionary\n",
    "results = {model_name: {\"Accuracy\": [], \"F1 Score\": [], \"Precision\": [], \"Recall\": []} for model_name in models.keys()}\n",
    "\n",
    "# Define Stratified K-Fold (ensures similar class distribution in each fold)\n",
    "kf = StratifiedKFold(n_splits=5, shuffle=True, random_state=42)\n",
    "\n",
    "# Prepare data\n",
    "X = df_anim_model_2[features]\n",
    "y = df_anim_model_2[\"success\"]\n",
    "\n",
    "# Loop over K-Fold splits with tqdm progress bar\n",
    "for fold, (train_index, test_index) in enumerate(tqdm(kf.split(X, y), desc=\"K-Fold Progress\", total=kf.get_n_splits())):\n",
    "    X_train, X_test = X.iloc[train_index], X.iloc[test_index]\n",
    "    y_train, y_test = y.iloc[train_index], y.iloc[test_index]\n",
    "\n",
    "    for model_name, model in tqdm(models.items(), desc=f\"Training models (Fold {fold+1})\", leave=False):\n",
    "        model.fit(X_train, y_train)\n",
    "        y_pred = model.predict(X_test)\n",
    "\n",
    "        # Compute classification metrics\n",
    "        results[model_name][\"Accuracy\"].append(accuracy_score(y_test, y_pred))\n",
    "        results[model_name][\"F1 Score\"].append(f1_score(y_test, y_pred, zero_division=0))\n",
    "        results[model_name][\"Precision\"].append(precision_score(y_test, y_pred, zero_division=0))\n",
    "        results[model_name][\"Recall\"].append(recall_score(y_test, y_pred, zero_division=0))\n",
    "\n",
    "# Compute the average of each metric for each model\n",
    "average_metrics = {\n",
    "    model_name: {metric: np.mean(values) for metric, values in metrics.items()}\n",
    "    for model_name, metrics in results.items()\n",
    "}\n",
    "\n",
    "# Identify the best model based on highest F1 Score\n",
    "best_model_name = max(average_metrics, key=lambda k: average_metrics[k][\"F1 Score\"])\n",
    "best_model_f1 = average_metrics[best_model_name][\"F1 Score\"]\n",
    "\n",
    "print(f\"\\nBest model based on F1 Score: {best_model_name}\")\n",
    "print(f\"   Average F1 Score: {best_model_f1:.4f}\\n\")\n",
    "\n",
    "# Convert results to DataFrame\n",
    "df_results = pd.DataFrame.from_dict(average_metrics, orient=\"index\").sort_values(by=\"F1 Score\", ascending=False)\n",
    "print(df_results)\n"
   ]
  },
  {
   "cell_type": "markdown",
   "id": "bebf785b-4a9e-40c1-ac49-7b4f9a5f91a7",
   "metadata": {},
   "source": [
    "## Hyperparameter Tuning\n",
    "\n",
    "**Why CatBoost?**\n",
    "- This is the **best-performing model** from the initial evaluation.\n",
    "- Hyperparameters were optimized using **Optuna** to improve predictive accuracy.\n",
    "- It leverages **gradient boosting** to handle complex patterns in movie revenue data."
   ]
  },
  {
   "cell_type": "code",
   "execution_count": 15,
   "id": "6b939f54-83ba-4d3d-ad17-2fc021bcb9ae",
   "metadata": {
    "execution": {
     "iopub.execute_input": "2025-03-18T00:43:24.114191Z",
     "iopub.status.busy": "2025-03-18T00:43:24.113593Z",
     "iopub.status.idle": "2025-03-18T00:48:10.591502Z",
     "shell.execute_reply": "2025-03-18T00:48:10.590436Z",
     "shell.execute_reply.started": "2025-03-18T00:43:24.114137Z"
    }
   },
   "outputs": [
    {
     "name": "stderr",
     "output_type": "stream",
     "text": [
      "[I 2025-03-18 08:43:24,137] A new study created in memory with name: no-name-b13b23d2-f088-4225-a23d-e12484a5400a\n",
      "[I 2025-03-18 08:44:26,815] Trial 6 finished with value: 0.6537054512784861 and parameters: {'n_estimators': 100, 'max_depth': 8, 'min_samples_split': 2, 'min_samples_leaf': 3, 'max_features': None}. Best is trial 6 with value: 0.6537054512784861.\n",
      "[I 2025-03-18 08:44:27,668] Trial 0 finished with value: 0.6709291016841236 and parameters: {'n_estimators': 100, 'max_depth': 13, 'min_samples_split': 2, 'min_samples_leaf': 3, 'max_features': 'sqrt'}. Best is trial 0 with value: 0.6709291016841236.\n",
      "[I 2025-03-18 08:45:04,001] Trial 10 finished with value: 0.6592595644570027 and parameters: {'n_estimators': 200, 'max_depth': 4, 'min_samples_split': 9, 'min_samples_leaf': 1, 'max_features': None}. Best is trial 0 with value: 0.6709291016841236.\n",
      "[I 2025-03-18 08:45:05,310] Trial 5 finished with value: 0.6866337557932047 and parameters: {'n_estimators': 200, 'max_depth': 16, 'min_samples_split': 10, 'min_samples_leaf': 4, 'max_features': 'log2'}. Best is trial 5 with value: 0.6866337557932047.\n",
      "[I 2025-03-18 08:46:05,473] Trial 13 finished with value: 0.6868474521853021 and parameters: {'n_estimators': 400, 'max_depth': 12, 'min_samples_split': 4, 'min_samples_leaf': 4, 'max_features': 'log2'}. Best is trial 13 with value: 0.6868474521853021.\n",
      "[I 2025-03-18 08:46:06,489] Trial 8 finished with value: 0.6662322049279076 and parameters: {'n_estimators': 400, 'max_depth': 8, 'min_samples_split': 7, 'min_samples_leaf': 4, 'max_features': None}. Best is trial 13 with value: 0.6868474521853021.\n",
      "[I 2025-03-18 08:47:15,929] Trial 11 finished with value: 0.6727624470541744 and parameters: {'n_estimators': 700, 'max_depth': 6, 'min_samples_split': 5, 'min_samples_leaf': 4, 'max_features': 'sqrt'}. Best is trial 13 with value: 0.6868474521853021.\n",
      "[I 2025-03-18 08:47:18,187] Trial 12 finished with value: 0.6707891364821519 and parameters: {'n_estimators': 700, 'max_depth': 7, 'min_samples_split': 2, 'min_samples_leaf': 5, 'max_features': 'sqrt'}. Best is trial 13 with value: 0.6868474521853021.\n",
      "[I 2025-03-18 08:47:31,450] Trial 14 finished with value: 0.6767888360228729 and parameters: {'n_estimators': 800, 'max_depth': 8, 'min_samples_split': 3, 'min_samples_leaf': 7, 'max_features': 'log2'}. Best is trial 13 with value: 0.6868474521853021.\n",
      "[I 2025-03-18 08:47:32,504] Trial 1 finished with value: 0.6854532979485407 and parameters: {'n_estimators': 800, 'max_depth': 10, 'min_samples_split': 7, 'min_samples_leaf': 10, 'max_features': 'sqrt'}. Best is trial 13 with value: 0.6868474521853021.\n",
      "[I 2025-03-18 08:47:38,614] Trial 2 finished with value: 0.6889363520303106 and parameters: {'n_estimators': 800, 'max_depth': 17, 'min_samples_split': 4, 'min_samples_leaf': 7, 'max_features': None}. Best is trial 2 with value: 0.6889363520303106.\n",
      "[I 2025-03-18 08:47:44,922] Trial 7 finished with value: 0.6980459029311541 and parameters: {'n_estimators': 900, 'max_depth': 17, 'min_samples_split': 5, 'min_samples_leaf': 6, 'max_features': 'log2'}. Best is trial 7 with value: 0.6980459029311541.\n",
      "[I 2025-03-18 08:47:45,775] Trial 4 finished with value: 0.6853553934478778 and parameters: {'n_estimators': 900, 'max_depth': 6, 'min_samples_split': 2, 'min_samples_leaf': 9, 'max_features': 'log2'}. Best is trial 7 with value: 0.6980459029311541.\n",
      "[I 2025-03-18 08:47:46,204] Trial 9 finished with value: 0.6746345143466229 and parameters: {'n_estimators': 900, 'max_depth': 8, 'min_samples_split': 8, 'min_samples_leaf': 7, 'max_features': 'log2'}. Best is trial 7 with value: 0.6980459029311541.\n",
      "[I 2025-03-18 08:47:47,529] Trial 3 finished with value: 0.6866690891495741 and parameters: {'n_estimators': 1000, 'max_depth': 10, 'min_samples_split': 2, 'min_samples_leaf': 6, 'max_features': 'log2'}. Best is trial 7 with value: 0.6980459029311541.\n",
      "K-Fold Progress: 100%|██████████| 5/5 [00:23<00:00,  4.61s/it]"
     ]
    },
    {
     "name": "stdout",
     "output_type": "stream",
     "text": [
      "\n",
      "Random Forest Classification Performance with Optimized Hyperparameters:\n",
      "Best Hyperparameters: {'n_estimators': 900, 'max_depth': 17, 'min_samples_split': 5, 'min_samples_leaf': 6, 'max_features': 'log2'}\n",
      "Average Accuracy: 0.6591\n",
      "Average F1 Score: 0.6980\n",
      "Average Precision: 0.6674\n",
      "Average Recall: 0.7471\n",
      "\n",
      "Detailed Performance Across K-Fold Splits:\n",
      "   Accuracy  F1 Score  Precision    Recall\n",
      "0  0.587302  0.580645   0.642857  0.529412\n",
      "1  0.619048  0.657143   0.638889  0.676471\n",
      "2  0.730159  0.746269   0.757576  0.735294\n",
      "3  0.730159  0.790123   0.680851  0.941176\n",
      "4  0.629032  0.716049   0.617021  0.852941\n"
     ]
    },
    {
     "name": "stderr",
     "output_type": "stream",
     "text": [
      "\n"
     ]
    }
   ],
   "source": [
    "import pandas as pd\n",
    "import numpy as np\n",
    "import optuna\n",
    "from sklearn.ensemble import RandomForestClassifier\n",
    "from sklearn.model_selection import StratifiedKFold\n",
    "from sklearn.metrics import accuracy_score, f1_score, precision_score, recall_score\n",
    "from tqdm import tqdm\n",
    "\n",
    "# Prepare data\n",
    "X = df_anim_model_2[features]\n",
    "y = df_anim_model_2[\"success\"]\n",
    "\n",
    "# Define K-Fold\n",
    "kf = StratifiedKFold(n_splits=5, shuffle=True, random_state=42)\n",
    "\n",
    "def objective(trial):\n",
    "    \"\"\"Objective function for Optuna to optimize Random Forest hyperparameters.\"\"\"\n",
    "    \n",
    "    # Suggest hyperparameters\n",
    "    n_estimators = trial.suggest_int(\"n_estimators\", 100, 1000, step=100)\n",
    "    max_depth = trial.suggest_int(\"max_depth\", 4, 20)\n",
    "    min_samples_split = trial.suggest_int(\"min_samples_split\", 2, 10)\n",
    "    min_samples_leaf = trial.suggest_int(\"min_samples_leaf\", 1, 10)\n",
    "    max_features = trial.suggest_categorical(\"max_features\", [\"sqrt\", \"log2\", None])\n",
    "\n",
    "    # Initialize model with suggested hyperparameters\n",
    "    model = RandomForestClassifier(\n",
    "        n_estimators=n_estimators,\n",
    "        max_depth=max_depth,\n",
    "        min_samples_split=min_samples_split,\n",
    "        min_samples_leaf=min_samples_leaf,\n",
    "        max_features=max_features,\n",
    "        random_state=42,  # Ensure reproducibility\n",
    "        n_jobs=-1  # Use all CPU cores\n",
    "    )\n",
    "\n",
    "    f1_scores = []\n",
    "\n",
    "    # Perform K-Fold Cross-Validation\n",
    "    for train_index, test_index in kf.split(X, y):\n",
    "        X_train, X_test = X.iloc[train_index], X.iloc[test_index]\n",
    "        y_train, y_test = y.iloc[train_index], y.iloc[test_index]\n",
    "\n",
    "        model.fit(X_train, y_train)\n",
    "        y_pred = model.predict(X_test)\n",
    "\n",
    "        f1_scores.append(f1_score(y_test, y_pred, zero_division=0))\n",
    "\n",
    "    # Return mean F1 score across all folds\n",
    "    return np.mean(f1_scores)\n",
    "\n",
    "# Run Optuna optimization with fixed random state for reproducibility\n",
    "study = optuna.create_study(direction=\"maximize\", sampler=optuna.samplers.TPESampler(seed=42))\n",
    "study.optimize(objective, n_trials=15, n_jobs=-1)\n"
   ]
  },
  {
   "cell_type": "code",
   "execution_count": 16,
   "id": "bbce63bd-4dcb-41c6-99e7-06dbbd96f0fa",
   "metadata": {
    "execution": {
     "iopub.execute_input": "2025-03-18T00:48:10.592942Z",
     "iopub.status.busy": "2025-03-18T00:48:10.592619Z",
     "iopub.status.idle": "2025-03-18T00:48:10.599642Z",
     "shell.execute_reply": "2025-03-18T00:48:10.598616Z",
     "shell.execute_reply.started": "2025-03-18T00:48:10.592913Z"
    },
    "scrolled": true
   },
   "outputs": [],
   "source": [
    "# import optuna\n",
    "# import numpy as np\n",
    "# from sklearn.model_selection import StratifiedKFold\n",
    "# from xgboost import XGBClassifier\n",
    "# from sklearn.metrics import f1_score\n",
    "\n",
    "# # Prepare data\n",
    "# X = df_anim_model_2[features]\n",
    "# y = df_anim_model_2[\"success\"]\n",
    "\n",
    "# # Define K-Fold\n",
    "# kf = StratifiedKFold(n_splits=5, shuffle=True, random_state=42)\n",
    "\n",
    "# def objective(trial):\n",
    "#     \"\"\"Objective function for Optuna to optimize XGBoost hyperparameters.\"\"\"\n",
    "    \n",
    "#     # Suggest hyperparameters\n",
    "#     n_estimators = trial.suggest_int(\"n_estimators\", 200, 1000, step=100)\n",
    "#     max_depth = trial.suggest_int(\"max_depth\", 4, 10)\n",
    "#     learning_rate = trial.suggest_float(\"learning_rate\", 0.01, 0.3)\n",
    "#     min_child_weight = trial.suggest_int(\"min_child_weight\", 1, 10)\n",
    "#     gamma = trial.suggest_float(\"gamma\", 0, 5)\n",
    "#     colsample_bytree = trial.suggest_float(\"colsample_bytree\", 0.5, 1.0)\n",
    "\n",
    "#     # Initialize model with suggested hyperparameters\n",
    "#     model = XGBClassifier(\n",
    "#         n_estimators=n_estimators,\n",
    "#         max_depth=max_depth,\n",
    "#         learning_rate=learning_rate,\n",
    "#         min_child_weight=min_child_weight,\n",
    "#         gamma=gamma,\n",
    "#         colsample_bytree=colsample_bytree,\n",
    "#         eval_metric=\"logloss\",\n",
    "#         use_label_encoder=False,\n",
    "#         random_state=42\n",
    "#     )\n",
    "\n",
    "#     f1_scores = []\n",
    "\n",
    "#     # Perform K-Fold Cross-Validation\n",
    "#     for train_index, test_index in kf.split(X, y):\n",
    "#         X_train, X_test = X.iloc[train_index], X.iloc[test_index]\n",
    "#         y_train, y_test = y.iloc[train_index], y.iloc[test_index]\n",
    "\n",
    "#         model.fit(X_train, y_train)\n",
    "#         y_pred = model.predict(X_test)\n",
    "\n",
    "#         f1_scores.append(f1_score(y_test, y_pred, zero_division=0))\n",
    "\n",
    "#     # Return mean F1 score across all folds\n",
    "#     return np.mean(f1_scores)\n",
    "\n",
    "# # Run Optuna optimization\n",
    "# study = optuna.create_study(direction=\"maximize\")\n",
    "# study.optimize(objective, n_trials=25, n_jobs=-1)\n",
    "\n",
    "# # Print best hyperparameters\n",
    "# print(\"Best hyperparameters:\", study.best_params)\n"
   ]
  },
  {
   "cell_type": "markdown",
   "id": "84d5c2e3-4e07-4420-ada6-c8c4b1b2d43f",
   "metadata": {},
   "source": [
    "## Best Model Metrics\n",
    "The best-performing model from the initial evaluation is analyzed using key metrics (MAE, RMSE, R², MAPE) to assess its predictive accuracy and generalization ability.  "
   ]
  },
  {
   "cell_type": "code",
   "execution_count": 17,
   "id": "fa91a88a-80d8-4e33-9f4a-ce47759fb090",
   "metadata": {
    "execution": {
     "iopub.execute_input": "2025-03-18T00:48:10.600779Z",
     "iopub.status.busy": "2025-03-18T00:48:10.600488Z",
     "iopub.status.idle": "2025-03-18T00:48:33.667340Z",
     "shell.execute_reply": "2025-03-18T00:48:33.666284Z",
     "shell.execute_reply.started": "2025-03-18T00:48:10.600751Z"
    }
   },
   "outputs": [
    {
     "name": "stderr",
     "output_type": "stream",
     "text": [
      "K-Fold Progress: 100%|██████████| 5/5 [00:23<00:00,  4.60s/it]"
     ]
    },
    {
     "name": "stdout",
     "output_type": "stream",
     "text": [
      "\n",
      "Random Forest Classification Performance with Optimized Hyperparameters:\n",
      "Best Hyperparameters: {'n_estimators': 900, 'max_depth': 17, 'min_samples_split': 5, 'min_samples_leaf': 6, 'max_features': 'log2'}\n",
      "Average Accuracy: 0.6591\n",
      "Average F1 Score: 0.6980\n",
      "Average Precision: 0.6674\n",
      "Average Recall: 0.7471\n",
      "\n",
      "Detailed Performance Across K-Fold Splits:\n",
      "   Accuracy  F1 Score  Precision    Recall\n",
      "0  0.587302  0.580645   0.642857  0.529412\n",
      "1  0.619048  0.657143   0.638889  0.676471\n",
      "2  0.730159  0.746269   0.757576  0.735294\n",
      "3  0.730159  0.790123   0.680851  0.941176\n",
      "4  0.629032  0.716049   0.617021  0.852941\n"
     ]
    },
    {
     "name": "stderr",
     "output_type": "stream",
     "text": [
      "\n"
     ]
    }
   ],
   "source": [
    "import pandas as pd\n",
    "import numpy as np\n",
    "from sklearn.ensemble import RandomForestClassifier\n",
    "from sklearn.model_selection import StratifiedKFold\n",
    "from sklearn.metrics import accuracy_score, f1_score, precision_score, recall_score\n",
    "from tqdm import tqdm\n",
    "\n",
    "# Retrieve best hyperparameters from Optuna study\n",
    "best_rf_params = study.best_params  # Retrieve best params from Optuna study\n",
    "\n",
    "# Initialize the best Random Forest classification model\n",
    "best_rf_model = RandomForestClassifier(**best_rf_params, random_state=42, n_jobs=-1)\n",
    "\n",
    "# Initialize a dictionary to store evaluation metrics\n",
    "results_rf = {\"Accuracy\": [], \"F1 Score\": [], \"Precision\": [], \"Recall\": []}\n",
    "\n",
    "# Define K-Fold\n",
    "kf = StratifiedKFold(n_splits=5, shuffle=True, random_state=42)\n",
    "\n",
    "# Prepare data\n",
    "X = df_anim_model_2[features]\n",
    "y = df_anim_model_2[\"success\"]\n",
    "\n",
    "# Train and evaluate the optimized Random Forest model on K-Fold splits\n",
    "for fold, (train_index, test_index) in enumerate(tqdm(kf.split(X, y), desc=\"K-Fold Progress\", total=kf.get_n_splits())):\n",
    "    X_train, X_test = X.iloc[train_index], X.iloc[test_index]\n",
    "    y_train, y_test = y.iloc[train_index], y.iloc[test_index]\n",
    "\n",
    "    # Train the best Random Forest model\n",
    "    best_rf_model.fit(X_train, y_train)\n",
    "    y_pred = best_rf_model.predict(X_test)\n",
    "\n",
    "    # Compute classification metrics\n",
    "    acc = accuracy_score(y_test, y_pred)\n",
    "    f1 = f1_score(y_test, y_pred, zero_division=0)\n",
    "    precision = precision_score(y_test, y_pred, zero_division=0)\n",
    "    recall = recall_score(y_test, y_pred, zero_division=0)\n",
    "\n",
    "    # Store the results for this fold\n",
    "    results_rf[\"Accuracy\"].append(acc)\n",
    "    results_rf[\"F1 Score\"].append(f1)\n",
    "    results_rf[\"Precision\"].append(precision)\n",
    "    results_rf[\"Recall\"].append(recall)\n",
    "\n",
    "# Compute the average evaluation metrics across all K-Fold splits\n",
    "average_acc_rf = np.mean(results_rf[\"Accuracy\"])\n",
    "average_f1_rf = np.mean(results_rf[\"F1 Score\"])\n",
    "average_precision_rf = np.mean(results_rf[\"Precision\"])\n",
    "average_recall_rf = np.mean(results_rf[\"Recall\"])\n",
    "\n",
    "# Print the results\n",
    "print(f\"\\nRandom Forest Classification Performance with Optimized Hyperparameters:\")\n",
    "print(f\"Best Hyperparameters: {best_rf_params}\")\n",
    "print(f\"Average Accuracy: {average_acc_rf:.4f}\")\n",
    "print(f\"Average F1 Score: {average_f1_rf:.4f}\")\n",
    "print(f\"Average Precision: {average_precision_rf:.4f}\")\n",
    "print(f\"Average Recall: {average_recall_rf:.4f}\")\n",
    "\n",
    "# Store results in DataFrame for further analysis\n",
    "df_rf_results = pd.DataFrame(results_rf)\n",
    "print(\"\\nDetailed Performance Across K-Fold Splits:\")\n",
    "print(df_rf_results)\n"
   ]
  },
  {
   "cell_type": "code",
   "execution_count": null,
   "id": "d2e0157c-b0ae-4492-ad1d-44479c6e9426",
   "metadata": {
    "execution": {
     "execution_failed": "2025-03-18T00:42:53.163Z"
    }
   },
   "outputs": [],
   "source": [
    "# import pandas as pd\n",
    "# import numpy as np\n",
    "# import optuna\n",
    "# from xgboost import XGBClassifier\n",
    "# from sklearn.model_selection import StratifiedKFold\n",
    "# from sklearn.metrics import accuracy_score, f1_score, precision_score, recall_score\n",
    "# from tqdm import tqdm\n",
    "\n",
    "# # Retrieve best hyperparameters from Optuna study\n",
    "# best_xgb_params = study.best_params  # FIXED: Get best params from Optuna study\n",
    "\n",
    "# # Initialize the best XGBoost classification model\n",
    "# best_xgb_model = XGBClassifier(**best_xgb_params, eval_metric=\"logloss\", random_state=42)\n",
    "\n",
    "# # Initialize a dictionary to store evaluation metrics\n",
    "# results_xgb = {\"Accuracy\": [], \"F1 Score\": [], \"Precision\": [], \"Recall\": []}\n",
    "\n",
    "# # Define K-Fold\n",
    "# kf = StratifiedKFold(n_splits=5, shuffle=True, random_state=42)\n",
    "\n",
    "# # Prepare data\n",
    "# X = df_anim_model_2[features]\n",
    "# y = df_anim_model_2[\"success\"]\n",
    "\n",
    "# # Train and evaluate the optimized XGBoost model on K-Fold splits\n",
    "# for fold, (train_index, test_index) in enumerate(tqdm(kf.split(X, y), desc=\"K-Fold Progress\", total=kf.get_n_splits())):\n",
    "#     X_train, X_test = X.iloc[train_index], X.iloc[test_index]\n",
    "#     y_train, y_test = y.iloc[train_index], y.iloc[test_index]\n",
    "\n",
    "#     # Train the best XGBoost model\n",
    "#     best_xgb_model.fit(X_train, y_train, eval_set=[(X_test, y_test)], verbose=False)\n",
    "\n",
    "#     # Predictions\n",
    "#     y_pred = best_xgb_model.predict(X_test)\n",
    "\n",
    "#     # Compute classification metrics\n",
    "#     acc = accuracy_score(y_test, y_pred)\n",
    "#     f1 = f1_score(y_test, y_pred, zero_division=0)\n",
    "#     precision = precision_score(y_test, y_pred, zero_division=0)\n",
    "#     recall = recall_score(y_test, y_pred, zero_division=0)\n",
    "\n",
    "#     # Store the results for this fold\n",
    "#     results_xgb[\"Accuracy\"].append(acc)\n",
    "#     results_xgb[\"F1 Score\"].append(f1)\n",
    "#     results_xgb[\"Precision\"].append(precision)\n",
    "#     results_xgb[\"Recall\"].append(recall)\n",
    "\n",
    "# # Compute the average evaluation metrics across all K-Fold splits\n",
    "# average_acc_xgb = np.mean(results_xgb[\"Accuracy\"])\n",
    "# average_f1_xgb = np.mean(results_xgb[\"F1 Score\"])\n",
    "# average_precision_xgb = np.mean(results_xgb[\"Precision\"])\n",
    "# average_recall_xgb = np.mean(results_xgb[\"Recall\"])\n",
    "\n",
    "# # Print the results\n",
    "# print(f\"\\nXGBoost Classification Performance with Optimized Hyperparameters:\")\n",
    "# print(f\"Best Hyperparameters: {best_xgb_params}\")\n",
    "# print(f\"Average Accuracy: {average_acc_xgb:.4f}\")\n",
    "# print(f\"Average F1 Score: {average_f1_xgb:.4f}\")\n",
    "# print(f\"Average Precision: {average_precision_xgb:.4f}\")\n",
    "# print(f\"Average Recall: {average_recall_xgb:.4f}\")\n",
    "\n",
    "# # Store results in DataFrame for further analysis\n",
    "# df_xgb_results = pd.DataFrame(results_xgb)\n",
    "# print(\"\\nDetailed Performance Across K-Fold Splits:\")\n",
    "# print(df_xgb_results)\n"
   ]
  },
  {
   "cell_type": "markdown",
   "id": "e6d11029-01e2-4a18-9030-7d9e96769e5e",
   "metadata": {},
   "source": [
    "# SHAP"
   ]
  },
  {
   "cell_type": "code",
   "execution_count": null,
   "id": "8555c994-a6fb-41c3-96c1-8bfd37006970",
   "metadata": {},
   "outputs": [],
   "source": [
    "import shap"
   ]
  },
  {
   "cell_type": "code",
   "execution_count": null,
   "id": "bb29d8df-cd72-4a2b-86c8-bde1517ac6eb",
   "metadata": {
    "scrolled": true
   },
   "outputs": [],
   "source": [
    "X_train, Y_train, X_test, Y_test = rolling_splits[1]  # First split\n",
    "print(X_train.head(2))  # Preview the first few rows of the training set\n",
    "print(Y_train.head(2))  # Preview the corresponding target\n",
    "print(X_test.head(2))   # Preview the first few rows of the test set\n",
    "print(Y_test.head(2))   # Preview the corresponding test target"
   ]
  },
  {
   "cell_type": "code",
   "execution_count": null,
   "id": "4445ce1e-8c40-4537-abcb-b4a3b4b44736",
   "metadata": {},
   "outputs": [],
   "source": [
    "df_combined = pd.concat([X_test for _, _, X_test, _ in rolling_splits])\n",
    "print(df_combined.describe())"
   ]
  },
  {
   "cell_type": "code",
   "execution_count": null,
   "id": "fa895527-379d-489f-83e4-15f4587418d0",
   "metadata": {},
   "outputs": [],
   "source": [
    "for i, (X_train, _, X_test, _) in enumerate(rolling_splits):\n",
    "    print(f\"Split {i+1}: Train Size = {X_train.shape[0]}, Test Size = {X_test.shape[0]}\")"
   ]
  },
  {
   "cell_type": "code",
   "execution_count": null,
   "id": "ea953f8c-fbd4-43a8-827a-0f491e1c46fb",
   "metadata": {
    "scrolled": true
   },
   "outputs": [],
   "source": [
    "total_test_size = sum(X_test.shape[0] for _, _, X_test, _ in rolling_splits)\n",
    "print(f\"Total Test Size: {total_test_size}\")"
   ]
  },
  {
   "cell_type": "code",
   "execution_count": null,
   "id": "e2f8285e-3158-46ec-bf3f-e21aa6431ca2",
   "metadata": {},
   "outputs": [],
   "source": [
    "X_test_combined = pd.concat([X_test for _, _, X_test, _ in rolling_splits])\n",
    "\n",
    "explainer = shap.Explainer(best_cb_model)\n",
    "shap_values = explainer(X_test_combined)\n",
    "shap.plots.beeswarm(shap_values, max_display=len(X_test.columns))"
   ]
  },
  {
   "cell_type": "code",
   "execution_count": null,
   "id": "af5687b5-9634-46e7-a7c9-fc62b7e9e987",
   "metadata": {},
   "outputs": [],
   "source": [
    "X_test_with_titles_table = X_test_combined.copy() \n",
    "X_test_with_titles_table['title'] = df_anim_model_2.loc[X_test_combined.index, 'title']\n",
    "X_test_with_titles_table = X_test_with_titles_table.reset_index().rename(columns={'index': 'original_index'})"
   ]
  },
  {
   "cell_type": "code",
   "execution_count": null,
   "id": "ec574df5-31d8-4add-8d35-fcdb0178e8b8",
   "metadata": {
    "jupyter": {
     "source_hidden": true
    }
   },
   "outputs": [],
   "source": [
    "# #to test whether my title and indexing is right\n",
    "# print(X_test_combined.iloc[1])   # Original feature values\n",
    "# print(X_test_with_titles_table.iloc[1])  # Corresponding row with correct title"
   ]
  },
  {
   "cell_type": "code",
   "execution_count": null,
   "id": "733e90cd-3de3-47d1-8006-ed28722e2ea2",
   "metadata": {
    "scrolled": true
   },
   "outputs": [],
   "source": [
    "X_test_with_titles_table[['original_index', 'title']].tail(20)"
   ]
  },
  {
   "cell_type": "code",
   "execution_count": null,
   "id": "838d2a12-fa69-4742-a259-0da88287579f",
   "metadata": {
    "scrolled": true
   },
   "outputs": [],
   "source": [
    "i = 268  # Example index\n",
    "\n",
    "title = X_test_with_titles_table.loc[X_test_with_titles_table['original_index'] == X_test_combined.index[i], 'title'].values[0]\n",
    "shap.plots.waterfall(shap_values[i], max_display=20)\n",
    "print(f\"Title: {title}\")\n"
   ]
  },
  {
   "cell_type": "code",
   "execution_count": null,
   "id": "ca544e7d-a272-47aa-b154-8b8abc4c4ead",
   "metadata": {},
   "outputs": [],
   "source": [
    "# # locate title\n",
    "# locate = X_test_with_titles_table[X_test_with_titles_table['title'] == 'Despicable Me 3']\n",
    "\n",
    "# # Display the rows that match\n",
    "# display(locate)\n"
   ]
  },
  {
   "cell_type": "markdown",
   "id": "7099b3c8-6ccc-491b-bc28-eb42d3282c05",
   "metadata": {},
   "source": [
    "# DICE"
   ]
  },
  {
   "cell_type": "code",
   "execution_count": null,
   "id": "878b4b16-97be-4169-8074-46722bcebc47",
   "metadata": {},
   "outputs": [],
   "source": [
    "pip install dice-ml"
   ]
  },
  {
   "cell_type": "code",
   "execution_count": null,
   "id": "6f0552f3-7655-492e-b593-adf6e4dd1142",
   "metadata": {},
   "outputs": [],
   "source": [
    "import dice_ml\n",
    "from dice_ml import Dice\n",
    "import pandas as pd\n",
    "import numpy as np"
   ]
  },
  {
   "cell_type": "code",
   "execution_count": null,
   "id": "daff0408-c969-4b89-9033-6b0d41ccd8ac",
   "metadata": {},
   "outputs": [],
   "source": [
    "# X_test_with_titles_table['sqrt_real_revenue'] = anim_profitable.loc[X_test.index, 'sqrt_real_revenue'].values\n",
    "# X_test_with_titles_table['sqrt_real_budget'] = anim_profitable.loc[X_test.index, 'sqrt_real_budget'].values\n",
    "# X_test_with_titles_table['release_date'] = anim_profitable.loc[X_test.index, 'release_date']\n",
    "# X_test_with_titles_table['y_pred'] = y_pred\n",
    "# X_test_with_titles_table['success_fail'] = (\n",
    "#     X_test_with_titles_table['y_pred'] >= (X_test_with_titles_table['sqrt_real_budget'] * 2)\n",
    "# ).astype(int)\n",
    "\n",
    "# X_test_with_titles_table.loc[9, ['title', 'release_date','sqrt_real_budget', 'y_pred', 'sqrt_real_revenue','success_fail']]"
   ]
  },
  {
   "cell_type": "code",
   "execution_count": null,
   "id": "165819c7-3ff2-4ecb-9958-9ef4f4826381",
   "metadata": {},
   "outputs": [],
   "source": [
    "# Imee, use this code to make `anim_profitable_mod` df\n",
    "anim_profitable_mod = df_anim_model_2.copy()"
   ]
  },
  {
   "cell_type": "code",
   "execution_count": null,
   "id": "603615ab-61f1-4ce5-8d24-5406c2a28048",
   "metadata": {},
   "outputs": [],
   "source": [
    "anim_profitable_dice = anim_profitable_mod.drop(columns='release_date')"
   ]
  },
  {
   "cell_type": "code",
   "execution_count": null,
   "id": "c053d42b-335c-4128-aef2-00b50eeeb955",
   "metadata": {
    "scrolled": true
   },
   "outputs": [],
   "source": [
    "import dice_ml\n",
    "from dice_ml.utils import helpers  # Import DICE helpers\n",
    "\n",
    "feature_names = X_train.columns.tolist()\n",
    "target_name = 'real_revenue'\n",
    "\n",
    "# Initialize DICE data and model objects\n",
    "data_dice = dice_ml.Data(\n",
    "    dataframe=anim_profitable_dice.drop('title', axis=1),  \n",
    "    continuous_features=feature_names,\n",
    "    outcome_name=target_name\n",
    ")\n",
    "\n",
    "model_dice = dice_ml.Model(model=best_cb_model, backend=\"sklearn\", model_type=\"regressor\")\n",
    "\n",
    "# Create a DICE explainer instance\n",
    "dice_explainer = dice_ml.Dice(data_dice, model_dice)"
   ]
  },
  {
   "cell_type": "code",
   "execution_count": null,
   "id": "39a2bc06-d76a-4e95-862a-fc668186a05f",
   "metadata": {},
   "outputs": [],
   "source": [
    "i = 301\n",
    "\n",
    "query_instance = anim_profitable_dice.drop(columns=[target_name]).loc[[i]]\n",
    "title_value = anim_profitable_dice.loc[i, 'title']\n",
    "\n",
    "query_instance_cleaned = query_instance.drop('title', axis=1)"
   ]
  },
  {
   "cell_type": "code",
   "execution_count": null,
   "id": "2d49ca4e-d5be-47f4-a8b4-bbc0e596a43e",
   "metadata": {},
   "outputs": [],
   "source": [
    "# Generate counterfactuals\n",
    "cf_examples = dice_explainer.generate_counterfactuals(\n",
    "    query_instance_cleaned,  # Drop 'title' directly here\n",
    "    total_CFs=15,\n",
    "    desired_range=[np.percentile(y_train, 75), np.percentile(y_train, 90)] #top 25% of your target values, top 10% of your target values.\n",
    ")\n",
    "\n",
    "print(f'Movie Title {title_value}')\n",
    "cf_examples.visualize_as_dataframe()"
   ]
  },
  {
   "cell_type": "code",
   "execution_count": null,
   "id": "11fb76ea-c926-40d3-9671-75d0a360ec4a",
   "metadata": {},
   "outputs": [],
   "source": []
  },
  {
   "cell_type": "code",
   "execution_count": null,
   "id": "9a4a53c3-3ffd-43a7-bb0c-cbce25e72333",
   "metadata": {},
   "outputs": [],
   "source": [
    "features_to_vary = ['real_budget']\n",
    "\n",
    "# Correct desired range (two values: lower bound and upper bound)\n",
    "desired_range = [np.percentile(y_train, 50), np.percentile(y_train, 90)]  # Corrected range with two values\n",
    "\n",
    "# Generate counterfactuals\n",
    "cf_examples = dice_explainer.generate_counterfactuals(\n",
    "    query_instance_cleaned,  \n",
    "    total_CFs=15,  \n",
    "    desired_range=desired_range,\n",
    "    features_to_vary=features_to_vary  # Use the full feature list\n",
    ")\n",
    "\n",
    "print(f'Movie Title {title_value}')\n",
    "cf_examples.visualize_as_dataframe()"
   ]
  },
  {
   "cell_type": "code",
   "execution_count": null,
   "id": "01cc49e6-2edf-4d0b-b1c3-0de2d1ef0aa7",
   "metadata": {},
   "outputs": [],
   "source": []
  },
  {
   "cell_type": "code",
   "execution_count": null,
   "id": "4bfec6fb-7571-4129-be9c-d42cd38af6f9",
   "metadata": {},
   "outputs": [],
   "source": [
    "anim_profitable_dice['title'] == 'Strange World'"
   ]
  },
  {
   "cell_type": "code",
   "execution_count": null,
   "id": "067df73e-80cd-4239-ae63-21d5776a8fa4",
   "metadata": {},
   "outputs": [],
   "source": [
    "anim_profitable_dice.tail(20)"
   ]
  },
  {
   "cell_type": "code",
   "execution_count": null,
   "id": "82b09b76-f5cd-43e7-8252-90a20bf46267",
   "metadata": {},
   "outputs": [],
   "source": []
  },
  {
   "cell_type": "markdown",
   "id": "735fa5fb-3c9b-4f5f-b731-fffbd45a1789",
   "metadata": {},
   "source": [
    "# DICE per Split"
   ]
  },
  {
   "cell_type": "code",
   "execution_count": null,
   "id": "00f71dae-9a5e-47fe-a5cf-96c7c1a7d9bd",
   "metadata": {},
   "outputs": [],
   "source": [
    "feature_names = ['runtime', 'quarter_q1', 'quarter_q2', 'quarter_q3', 'quarter_q4',\n",
    "       'real_budget', 'Science Fiction, Family',\n",
    "       'Action, Family, Adventure, Comedy',\n",
    "       'Family, Adventure, Comedy, Fantasy', 'genre_other',\n",
    "       'original_language_en', 'original_language_ja',\n",
    "       'original_language_other', 'companies_trueskill', 'credits_trueskill',\n",
    "       'duringcreditsstinger', 'aftercreditsstinger', 'sequel',\n",
    "       'anthropomorphism', 'friendship', 'cartoon', 'anime', 'animal',\n",
    "       'villain', 'family', 'superhero', 'dog', 'live action and animation']\n",
    "target_name = 'real_revenue'"
   ]
  },
  {
   "cell_type": "markdown",
   "id": "d90001c7-00fa-4362-a6c3-5aca22357103",
   "metadata": {},
   "source": [
    "## Split 2"
   ]
  },
  {
   "cell_type": "code",
   "execution_count": null,
   "id": "c19757d0-9747-45e2-81a0-ac9afd9ecaec",
   "metadata": {},
   "outputs": [],
   "source": [
    "# Check first train and test split\n",
    "X_train, Y_train, X_test, Y_test = rolling_splits[1]\n",
    "\n",
    "df_train_2 = pd.concat([X_train, Y_train, anim_profitable_mod[\"release_date\"], anim_profitable_mod[\"title\"]], axis=1).dropna()\n",
    "df_test_2 = pd.concat([X_test, Y_test, anim_profitable_mod[\"release_date\"],anim_profitable_mod[\"title\"]], axis=1).dropna()"
   ]
  },
  {
   "cell_type": "code",
   "execution_count": null,
   "id": "7bd33aa4-abe7-4bf7-8869-fb592a56be89",
   "metadata": {},
   "outputs": [],
   "source": [
    "df_test_2[df_test_2['real_budget'] > df_test_2['real_revenue']]"
   ]
  },
  {
   "cell_type": "code",
   "execution_count": null,
   "id": "d9e00996-3588-4add-afe6-43fcfcde044f",
   "metadata": {},
   "outputs": [],
   "source": [
    "import dice_ml\n",
    "from dice_ml.utils import helpers  # Import DICE helpers\n",
    "\n",
    "\n",
    "\n",
    "# Initialize DICE data and model objects\n",
    "data_dice = dice_ml.Data(\n",
    "    dataframe=df_train_2.drop(['title', 'release_date'], axis=1),  \n",
    "    continuous_features=feature_names,\n",
    "    outcome_name=target_name\n",
    ")\n",
    "\n",
    "model_dice = dice_ml.Model(model=best_cb_model, backend=\"sklearn\", model_type=\"regressor\")\n",
    "\n",
    "# Create a DICE explainer instance\n",
    "dice_explainer = dice_ml.Dice(data_dice, model_dice)"
   ]
  },
  {
   "cell_type": "code",
   "execution_count": null,
   "id": "4ed69668-6c3a-4153-8050-837e69ca8180",
   "metadata": {},
   "outputs": [],
   "source": [
    "i = 72\n",
    "\n",
    "query_instance = df_test_2.drop(columns=[target_name]).loc[[i]]\n",
    "title_value = df_test_2.loc[i, 'title']\n",
    "\n"
   ]
  },
  {
   "cell_type": "code",
   "execution_count": null,
   "id": "399ec529-137f-44cc-a86b-7f549d36b9a0",
   "metadata": {},
   "outputs": [],
   "source": [
    "query_instance_cleaned = query_instance.drop(['title', 'release_date'], axis=1)"
   ]
  },
  {
   "cell_type": "code",
   "execution_count": null,
   "id": "b8c35e9b-2431-4d08-9f56-f23a6765c9d9",
   "metadata": {},
   "outputs": [],
   "source": [
    "query_instance_cleaned "
   ]
  },
  {
   "cell_type": "code",
   "execution_count": null,
   "id": "3a435eaf-bf4e-4f05-bc63-6bec3bca4c7c",
   "metadata": {},
   "outputs": [],
   "source": [
    "features_to_vary = ['real_budget']\n",
    "\n",
    "# Correct desired range (two values: lower bound and upper bound)\n",
    "desired_range = [df_train_2['real_revenue'].quantile(0.2), \n",
    "                 df_train_2['real_revenue'].quantile(0.9)]\n",
    "\n",
    "\n",
    "# Generate counterfactuals\n",
    "cf_examples = dice_explainer.generate_counterfactuals(\n",
    "    query_instance_cleaned,  \n",
    "    total_CFs=15,  \n",
    "    desired_range=desired_range,\n",
    "    features_to_vary=features_to_vary  # Use the full feature list\n",
    ")\n",
    "\n",
    "print(f'Movie Title {title_value}')\n",
    "cf_examples.visualize_as_dataframe()"
   ]
  },
  {
   "cell_type": "markdown",
   "id": "1c733428-f8fa-4a16-aaa0-90ffcea2990a",
   "metadata": {},
   "source": [
    "## Split 3"
   ]
  },
  {
   "cell_type": "code",
   "execution_count": null,
   "id": "6229327f-4853-4fb5-97dc-4b686d960fc5",
   "metadata": {},
   "outputs": [],
   "source": [
    "# Check first train and test split\n",
    "X_train, Y_train, X_test, Y_test = rolling_splits[2]\n",
    "\n",
    "df_train_3 = pd.concat([X_train, Y_train, anim_profitable_mod[\"release_date\"], anim_profitable_mod[\"title\"]], axis=1).dropna()\n",
    "df_test_3 = pd.concat([X_test, Y_test, anim_profitable_mod[\"release_date\"],anim_profitable_mod[\"title\"]], axis=1).dropna()\n",
    "\n",
    "df_test_3[df_test_3['real_budget'] > df_test_3['real_revenue']]"
   ]
  },
  {
   "cell_type": "code",
   "execution_count": null,
   "id": "1357a79e-80a9-4eec-901b-489f9228832b",
   "metadata": {},
   "outputs": [],
   "source": [
    "import dice_ml\n",
    "from dice_ml.utils import helpers  # Import DICE helpers\n",
    "\n",
    "# Initialize DICE data and model objects\n",
    "data_dice = dice_ml.Data(\n",
    "    dataframe=df_train_3.drop(['title', 'release_date'], axis=1),  \n",
    "    continuous_features=feature_names,\n",
    "    outcome_name=target_name\n",
    ")\n",
    "\n",
    "model_dice = dice_ml.Model(model=best_cb_model, backend=\"sklearn\", model_type=\"regressor\")\n",
    "\n",
    "# Create a DICE explainer instance\n",
    "dice_explainer = dice_ml.Dice(data_dice, model_dice)\n",
    "\n",
    "i = 81\n",
    "\n",
    "query_instance = df_test_3.drop(columns=[target_name]).loc[[i]]\n",
    "title_value = df_test_3.loc[i, 'title']"
   ]
  },
  {
   "cell_type": "code",
   "execution_count": null,
   "id": "f7a9bc33-924d-4b33-83e5-c7f2b47122cc",
   "metadata": {},
   "outputs": [],
   "source": [
    "query_instance_cleaned = query_instance.drop(['title', 'release_date'], axis=1)"
   ]
  },
  {
   "cell_type": "code",
   "execution_count": null,
   "id": "3742d87d-3e90-4911-b370-926db1447fcf",
   "metadata": {},
   "outputs": [],
   "source": [
    "features_to_vary = ['real_budget']\n",
    "\n",
    "# Correct desired range (two values: lower bound and upper bound)\n",
    "#desired_range = [np.percentile(y_train, 50), np.percentile(y_train, 90)]  # Corrected range with two values\n",
    "desired_range = [df_test_3['real_budget'].min(), np.inf]\n",
    "\n",
    "# Generate counterfactuals\n",
    "cf_examples = dice_explainer.generate_counterfactuals(\n",
    "    query_instance_cleaned,  \n",
    "    total_CFs=15,  \n",
    "    desired_range=desired_range,\n",
    "    features_to_vary=features_to_vary  # Use the full feature list\n",
    ")\n",
    "\n",
    "print(f'Movie Title {title_value}')\n",
    "cf_examples.visualize_as_dataframe()"
   ]
  },
  {
   "cell_type": "markdown",
   "id": "78d37eaa-bfeb-4ac4-baeb-0af91c7f0bda",
   "metadata": {},
   "source": [
    "## Split 6"
   ]
  },
  {
   "cell_type": "code",
   "execution_count": null,
   "id": "c4e373ca-75fb-48f4-9022-536b071757ca",
   "metadata": {},
   "outputs": [],
   "source": [
    "# Check first train and test split\n",
    "X_train, Y_train, X_test, Y_test = rolling_splits[6]\n",
    "\n",
    "df_train_7 = pd.concat([X_train, Y_train, anim_profitable_mod[\"release_date\"], anim_profitable_mod[\"title\"]], axis=1).dropna()\n",
    "df_test_7 = pd.concat([X_test, Y_test, anim_profitable_mod[\"release_date\"],anim_profitable_mod[\"title\"]], axis=1).dropna()\n",
    "\n",
    "df_test_7[df_test_7['real_budget'] > df_test_7['real_revenue']]"
   ]
  },
  {
   "cell_type": "code",
   "execution_count": null,
   "id": "1df22051-5f30-468a-abc5-6ae3f075aae6",
   "metadata": {},
   "outputs": [],
   "source": [
    "data_dice = dice_ml.Data(\n",
    "    dataframe=df_train_7.drop(['title', 'release_date'], axis=1),  \n",
    "    continuous_features=feature_names,\n",
    "    outcome_name=target_name\n",
    ")\n",
    "\n",
    "model_dice = dice_ml.Model(model=best_cb_model, backend=\"sklearn\", model_type=\"regressor\")\n",
    "\n",
    "# Create a DICE explainer instance\n",
    "dice_explainer = dice_ml.Dice(data_dice, model_dice)\n",
    "\n",
    "i = 130\n",
    "\n",
    "query_instance = df_test_7.drop(columns=[target_name]).loc[[i]]\n",
    "title_value = df_test_7.loc[i, 'title']"
   ]
  },
  {
   "cell_type": "code",
   "execution_count": null,
   "id": "43380097-12f3-4b70-8890-921a56d42eff",
   "metadata": {},
   "outputs": [],
   "source": [
    "query_instance_cleaned = query_instance.drop(['title', 'release_date'], axis=1)"
   ]
  },
  {
   "cell_type": "code",
   "execution_count": null,
   "id": "f826c23f-2744-4a30-b636-d9f3dacde25d",
   "metadata": {},
   "outputs": [],
   "source": [
    "features_to_vary = ['real_budget']\n",
    "\n",
    "# Correct desired range (two values: lower bound and upper bound)\n",
    "desired_range = [np.percentile(y_train, 50), np.percentile(y_train, 90)]  # Corrected range with two values\n",
    "\n",
    "# Generate counterfactuals\n",
    "cf_examples = dice_explainer.generate_counterfactuals(\n",
    "    query_instance_cleaned,  \n",
    "    total_CFs=15,  \n",
    "    desired_range=desired_range,\n",
    "    features_to_vary=features_to_vary  # Use the full feature list\n",
    ")\n",
    "\n",
    "print(f'Movie Title {title_value}')\n",
    "cf_examples.visualize_as_dataframe()"
   ]
  },
  {
   "cell_type": "code",
   "execution_count": null,
   "id": "e9ee337b-a09e-429d-8ea4-5860be236f9c",
   "metadata": {},
   "outputs": [],
   "source": []
  },
  {
   "cell_type": "code",
   "execution_count": null,
   "id": "a7e1de82-15b6-42e2-ac62-eeda8419ba84",
   "metadata": {},
   "outputs": [],
   "source": []
  },
  {
   "cell_type": "code",
   "execution_count": null,
   "id": "8dbedda6-fe2b-4e4e-b352-ee069cdd3086",
   "metadata": {},
   "outputs": [],
   "source": []
  },
  {
   "cell_type": "markdown",
   "id": "4f7e7ad7-9e92-497f-b095-9e8677c542f7",
   "metadata": {},
   "source": [
    "## Split 5"
   ]
  },
  {
   "cell_type": "code",
   "execution_count": null,
   "id": "bf225bd2-28f0-4a0e-95af-2f508afee994",
   "metadata": {},
   "outputs": [],
   "source": []
  },
  {
   "cell_type": "code",
   "execution_count": null,
   "id": "45264005-7131-413b-b891-5ce033ed27f4",
   "metadata": {},
   "outputs": [],
   "source": []
  },
  {
   "cell_type": "markdown",
   "id": "c7a390d8-6d73-4f55-96a3-4df377cbe7e0",
   "metadata": {},
   "source": [
    "## Split 6"
   ]
  },
  {
   "cell_type": "code",
   "execution_count": null,
   "id": "ed998030-9918-4156-aa6a-981dbe128ba3",
   "metadata": {},
   "outputs": [],
   "source": []
  },
  {
   "cell_type": "code",
   "execution_count": null,
   "id": "43c4bb85-852b-4f7d-9d25-a00701468a7e",
   "metadata": {},
   "outputs": [],
   "source": []
  },
  {
   "cell_type": "markdown",
   "id": "6dac9402-bae8-4081-aaef-18fe3475c1f8",
   "metadata": {},
   "source": [
    "## Split 7 "
   ]
  },
  {
   "cell_type": "code",
   "execution_count": null,
   "id": "4d1f089c-6fc9-4d44-8771-ec0e5d73c33c",
   "metadata": {},
   "outputs": [],
   "source": []
  },
  {
   "cell_type": "code",
   "execution_count": null,
   "id": "9efc07eb-63bd-4d06-8aed-87274aa0505d",
   "metadata": {},
   "outputs": [],
   "source": []
  },
  {
   "cell_type": "markdown",
   "id": "cc39cfcb-b703-495f-8ad0-6aa99067b0ca",
   "metadata": {},
   "source": [
    "## Split 8"
   ]
  },
  {
   "cell_type": "code",
   "execution_count": null,
   "id": "3c4d5617-fce5-4e44-ad9c-f229c4075468",
   "metadata": {},
   "outputs": [],
   "source": []
  }
 ],
 "metadata": {
  "kernelspec": {
   "display_name": "Python [conda env:base] *",
   "language": "python",
   "name": "conda-base-py"
  },
  "language_info": {
   "codemirror_mode": {
    "name": "ipython",
    "version": 3
   },
   "file_extension": ".py",
   "mimetype": "text/x-python",
   "name": "python",
   "nbconvert_exporter": "python",
   "pygments_lexer": "ipython3",
   "version": "3.12.8"
  }
 },
 "nbformat": 4,
 "nbformat_minor": 5
}
