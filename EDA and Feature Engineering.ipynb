{
 "cells": [
  {
   "cell_type": "code",
   "execution_count": 1,
   "id": "21ecc9a3-54e9-40dd-86a7-0d1d42a3eda9",
   "metadata": {
    "execution": {
     "iopub.execute_input": "2025-03-18T02:38:28.536258Z",
     "iopub.status.busy": "2025-03-18T02:38:28.536041Z",
     "iopub.status.idle": "2025-03-18T02:38:28.541226Z",
     "shell.execute_reply": "2025-03-18T02:38:28.540262Z",
     "shell.execute_reply.started": "2025-03-18T02:38:28.536235Z"
    },
    "jupyter": {
     "source_hidden": true
    },
    "scrolled": true
   },
   "outputs": [],
   "source": [
    "# Install necessary dependencies (if not already installed)\n",
    "# %pip install optuna  # Hyperparameter optimization library\n",
    "# %pip install --upgrade scikit-learn  # Upgrade scikit-learn to the latest version\n",
    "# %pip install trueskill  # TrueSkill rating system for ranking"
   ]
  },
  {
   "cell_type": "markdown",
   "id": "2f73da54-f12c-4f9f-8c99-4d076d1f878b",
   "metadata": {},
   "source": [
    "# Predicting Box Office Earnings\n",
    "This notebook aims to create a model that predicts box office earnings."
   ]
  },
  {
   "cell_type": "markdown",
   "id": "28b103dc-bb38-4cfa-b05c-ffe9baa59f56",
   "metadata": {},
   "source": [
    "# Import the Relevant Libraries"
   ]
  },
  {
   "cell_type": "code",
   "execution_count": 2,
   "id": "39aa3155-7d41-4907-bd88-3f63f80d1177",
   "metadata": {
    "execution": {
     "iopub.execute_input": "2025-03-18T02:38:28.541978Z",
     "iopub.status.busy": "2025-03-18T02:38:28.541767Z",
     "iopub.status.idle": "2025-03-18T02:38:31.314110Z",
     "shell.execute_reply": "2025-03-18T02:38:31.312653Z",
     "shell.execute_reply.started": "2025-03-18T02:38:28.541956Z"
    }
   },
   "outputs": [],
   "source": [
    "# Standard library imports\n",
    "import re\n",
    "import warnings\n",
    "\n",
    "# Third-party library imports\n",
    "import numpy as np\n",
    "import pandas as pd\n",
    "import matplotlib.pyplot as plt\n",
    "import seaborn as sns\n",
    "from tqdm import tqdm\n",
    "\n",
    "# Scikit-learn preprocessing and utilities\n",
    "from sklearn.model_selection import train_test_split, GridSearchCV\n",
    "from sklearn.preprocessing import (\n",
    "    StandardScaler,\n",
    "    OneHotEncoder,\n",
    "    MultiLabelBinarizer,\n",
    "    LabelEncoder,\n",
    ")\n",
    "from sklearn.pipeline import Pipeline\n",
    "from sklearn.compose import ColumnTransformer\n",
    "\n",
    "# Regression models\n",
    "from sklearn.linear_model import Ridge, Lasso\n",
    "from sklearn.tree import DecisionTreeRegressor\n",
    "from sklearn.ensemble import RandomForestRegressor\n",
    "from xgboost import XGBRegressor\n",
    "from sklearn.svm import SVR\n",
    "from sklearn.dummy import DummyRegressor\n",
    "\n",
    "# Model evaluation metrics\n",
    "from sklearn.metrics import (\n",
    "    mean_absolute_error,\n",
    "    mean_squared_error,\n",
    "    r2_score,\n",
    "    mean_absolute_percentage_error,\n",
    ")\n",
    "\n",
    "# Feature selection and text processing\n",
    "from sklearn.feature_selection import mutual_info_regression\n",
    "from sklearn.feature_extraction.text import TfidfVectorizer, CountVectorizer\n",
    "\n",
    "# Frequent pattern mining and statistical analysis\n",
    "from mlxtend.frequent_patterns import apriori\n",
    "from scipy.cluster.hierarchy import linkage, dendrogram, fcluster\n",
    "from scipy.stats import skew, kurtosis, pearsonr, spearmanr\n",
    "\n",
    "# TrueSkill ranking system\n",
    "import trueskill as ts\n",
    "\n",
    "# Optuna for hyperparameter optimization\n",
    "import optuna\n",
    "import optuna.visualization as vis\n",
    "\n",
    "# Kaggle utilities\n",
    "import kagglehub\n",
    "\n",
    "# Display 500 columns for dataframes\n",
    "pd.set_option(\"display.max_column\", 200)\n",
    "\n",
    "# Suppress warnings\n",
    "warnings.filterwarnings(\"ignore\")"
   ]
  },
  {
   "cell_type": "markdown",
   "id": "a83e79f5-7d8e-40fb-8039-72499dbf0ea6",
   "metadata": {},
   "source": [
    "# Load the Dataset"
   ]
  },
  {
   "cell_type": "markdown",
   "id": "45966390-4ec0-4fd6-ab03-30a1b4b8df0c",
   "metadata": {},
   "source": [
    "This dataset is sourced from **[Millions of Movies on Kaggle](https://www.kaggle.com/datasets/akshaypawar7/millions-of-movies/data)**, which provides **metadata for over 700,000 movies** listed in the **TMDB (The Movie Database) dataset**. The dataset is **updated daily** and includes rich metadata such as:\n",
    "\n",
    "## Key Features in the Dataset\n",
    "- **Movie details:** Titles, release dates, languages, genres.\n",
    "- **Financial data:** Budgets, revenues.\n",
    "- **Production details:** Production companies, countries.\n",
    "- **Ratings & reviews:** TMDB vote counts and vote averages.\n",
    "- **Content metadata:** Plot keywords, recommendations, crew & cast details.\n",
    "\n",
    "## Dataset Source & API\n",
    "The dataset is compiled from the **TMDB Open API**, providing extensive movie data. However, it is **not officially endorsed or certified by TMDB**.\n",
    "\n",
    "By leveraging this dataset, we can explore trends, build predictive models, and analyze the **factors that contribute to a movie's success**."
   ]
  },
  {
   "cell_type": "code",
   "execution_count": 3,
   "id": "fea74afa-09fe-4702-98b9-17a82141ad4c",
   "metadata": {
    "execution": {
     "iopub.execute_input": "2025-03-18T02:38:31.317111Z",
     "iopub.status.busy": "2025-03-18T02:38:31.315853Z",
     "iopub.status.idle": "2025-03-18T02:38:39.433419Z",
     "shell.execute_reply": "2025-03-18T02:38:39.432469Z",
     "shell.execute_reply.started": "2025-03-18T02:38:31.317017Z"
    }
   },
   "outputs": [
    {
     "name": "stdout",
     "output_type": "stream",
     "text": [
      "Warning: Looks like you're using an outdated `kagglehub` version (installed: 0.3.6), please consider upgrading to the latest version (0.3.10).\n"
     ]
    },
    {
     "data": {
      "text/html": [
       "<div>\n",
       "<style scoped>\n",
       "    .dataframe tbody tr th:only-of-type {\n",
       "        vertical-align: middle;\n",
       "    }\n",
       "\n",
       "    .dataframe tbody tr th {\n",
       "        vertical-align: top;\n",
       "    }\n",
       "\n",
       "    .dataframe thead th {\n",
       "        text-align: right;\n",
       "    }\n",
       "</style>\n",
       "<table border=\"1\" class=\"dataframe\">\n",
       "  <thead>\n",
       "    <tr style=\"text-align: right;\">\n",
       "      <th></th>\n",
       "      <th>id</th>\n",
       "      <th>title</th>\n",
       "      <th>genres</th>\n",
       "      <th>original_language</th>\n",
       "      <th>overview</th>\n",
       "      <th>popularity</th>\n",
       "      <th>production_companies</th>\n",
       "      <th>release_date</th>\n",
       "      <th>budget</th>\n",
       "      <th>revenue</th>\n",
       "      <th>runtime</th>\n",
       "      <th>status</th>\n",
       "      <th>tagline</th>\n",
       "      <th>vote_average</th>\n",
       "      <th>vote_count</th>\n",
       "      <th>credits</th>\n",
       "      <th>keywords</th>\n",
       "      <th>poster_path</th>\n",
       "      <th>backdrop_path</th>\n",
       "      <th>recommendations</th>\n",
       "    </tr>\n",
       "  </thead>\n",
       "  <tbody>\n",
       "    <tr>\n",
       "      <th>0</th>\n",
       "      <td>615656</td>\n",
       "      <td>Meg 2: The Trench</td>\n",
       "      <td>Action-Science Fiction-Horror</td>\n",
       "      <td>en</td>\n",
       "      <td>An exploratory dive into the deepest depths of...</td>\n",
       "      <td>8763.998</td>\n",
       "      <td>Apelles Entertainment-Warner Bros. Pictures-di...</td>\n",
       "      <td>2023-08-02</td>\n",
       "      <td>129000000.0</td>\n",
       "      <td>3.520565e+08</td>\n",
       "      <td>116.0</td>\n",
       "      <td>Released</td>\n",
       "      <td>Back for seconds.</td>\n",
       "      <td>7.079</td>\n",
       "      <td>1365.0</td>\n",
       "      <td>Jason Statham-Wu Jing-Shuya Sophia Cai-Sergio ...</td>\n",
       "      <td>based on novel or book-sequel-kaiju</td>\n",
       "      <td>/4m1Au3YkjqsxF8iwQy0fPYSxE0h.jpg</td>\n",
       "      <td>/qlxy8yo5bcgUw2KAmmojUKp4rHd.jpg</td>\n",
       "      <td>1006462-298618-569094-1061181-346698-1076487-6...</td>\n",
       "    </tr>\n",
       "    <tr>\n",
       "      <th>1</th>\n",
       "      <td>758323</td>\n",
       "      <td>The Pope's Exorcist</td>\n",
       "      <td>Horror-Mystery-Thriller</td>\n",
       "      <td>en</td>\n",
       "      <td>Father Gabriele Amorth Chief Exorcist of the V...</td>\n",
       "      <td>5953.227</td>\n",
       "      <td>Screen Gems-2.0 Entertainment-Jesus &amp; Mary-Wor...</td>\n",
       "      <td>2023-04-05</td>\n",
       "      <td>18000000.0</td>\n",
       "      <td>6.567582e+07</td>\n",
       "      <td>103.0</td>\n",
       "      <td>Released</td>\n",
       "      <td>Inspired by the actual files of Father Gabriel...</td>\n",
       "      <td>7.433</td>\n",
       "      <td>545.0</td>\n",
       "      <td>Russell Crowe-Daniel Zovatto-Alex Essoe-Franco...</td>\n",
       "      <td>spain-rome italy-vatican-pope-pig-possession-c...</td>\n",
       "      <td>/9JBEPLTPSm0d1mbEcLxULjJq9Eh.jpg</td>\n",
       "      <td>/hiHGRbyTcbZoLsYYkO4QiCLYe34.jpg</td>\n",
       "      <td>713704-296271-502356-1076605-1084225-1008005-9...</td>\n",
       "    </tr>\n",
       "    <tr>\n",
       "      <th>2</th>\n",
       "      <td>533535</td>\n",
       "      <td>Deadpool &amp; Wolverine</td>\n",
       "      <td>Action-Comedy-Science Fiction</td>\n",
       "      <td>en</td>\n",
       "      <td>A listless Wade Wilson toils away in civilian ...</td>\n",
       "      <td>5410.496</td>\n",
       "      <td>Marvel Studios-Maximum Effort-21 Laps Entertai...</td>\n",
       "      <td>2024-07-24</td>\n",
       "      <td>200000000.0</td>\n",
       "      <td>1.326387e+09</td>\n",
       "      <td>128.0</td>\n",
       "      <td>Released</td>\n",
       "      <td>Come together.</td>\n",
       "      <td>7.765</td>\n",
       "      <td>3749.0</td>\n",
       "      <td>Ryan Reynolds-Hugh Jackman-Emma Corrin-Matthew...</td>\n",
       "      <td>hero-superhero-anti hero-mutant-breaking the f...</td>\n",
       "      <td>/8cdWjvZQUExUUTzyp4t6EDMubfO.jpg</td>\n",
       "      <td>/dvBCdCohwWbsP5qAaglOXagDMtk.jpg</td>\n",
       "      <td>573435-519182-957452-1022789-945961-718821-103...</td>\n",
       "    </tr>\n",
       "    <tr>\n",
       "      <th>3</th>\n",
       "      <td>667538</td>\n",
       "      <td>Transformers: Rise of the Beasts</td>\n",
       "      <td>Action-Adventure-Science Fiction</td>\n",
       "      <td>en</td>\n",
       "      <td>When a new threat capable of destroying the en...</td>\n",
       "      <td>5409.104</td>\n",
       "      <td>Skydance-Paramount-di Bonaventura Pictures-Bay...</td>\n",
       "      <td>2023-06-06</td>\n",
       "      <td>200000000.0</td>\n",
       "      <td>4.070455e+08</td>\n",
       "      <td>127.0</td>\n",
       "      <td>Released</td>\n",
       "      <td>Unite or fall.</td>\n",
       "      <td>7.340</td>\n",
       "      <td>1007.0</td>\n",
       "      <td>Anthony Ramos-Dominique Fishback-Luna Lauren V...</td>\n",
       "      <td>peru-alien-end of the world-based on cartoon-b...</td>\n",
       "      <td>/gPbM0MK8CP8A174rmUwGsADNYKD.jpg</td>\n",
       "      <td>/woJbg7ZqidhpvqFGGMRhWQNoxwa.jpg</td>\n",
       "      <td>496450-569094-298618-385687-877100-598331-4628...</td>\n",
       "    </tr>\n",
       "    <tr>\n",
       "      <th>4</th>\n",
       "      <td>693134</td>\n",
       "      <td>Dune: Part Two</td>\n",
       "      <td>Science Fiction-Adventure</td>\n",
       "      <td>en</td>\n",
       "      <td>Follow the mythic journey of Paul Atreides as ...</td>\n",
       "      <td>4742.163</td>\n",
       "      <td>Legendary Pictures</td>\n",
       "      <td>2024-02-27</td>\n",
       "      <td>190000000.0</td>\n",
       "      <td>6.838137e+08</td>\n",
       "      <td>167.0</td>\n",
       "      <td>Released</td>\n",
       "      <td>Long live the fighters.</td>\n",
       "      <td>8.300</td>\n",
       "      <td>2770.0</td>\n",
       "      <td>Timothée Chalamet-Zendaya-Rebecca Ferguson-Jav...</td>\n",
       "      <td>epic-based on novel or book-fight-sandstorm-sa...</td>\n",
       "      <td>/czembW0Rk1Ke7lCJGahbOhdCuhV.jpg</td>\n",
       "      <td>/xOMo8BRK7PfcJv9JCnx7s5hj0PX.jpg</td>\n",
       "      <td>438631-763215-792307-1011985-467244-634492-359...</td>\n",
       "    </tr>\n",
       "  </tbody>\n",
       "</table>\n",
       "</div>"
      ],
      "text/plain": [
       "       id                             title                            genres  \\\n",
       "0  615656                 Meg 2: The Trench     Action-Science Fiction-Horror   \n",
       "1  758323               The Pope's Exorcist           Horror-Mystery-Thriller   \n",
       "2  533535              Deadpool & Wolverine     Action-Comedy-Science Fiction   \n",
       "3  667538  Transformers: Rise of the Beasts  Action-Adventure-Science Fiction   \n",
       "4  693134                    Dune: Part Two         Science Fiction-Adventure   \n",
       "\n",
       "  original_language                                           overview  \\\n",
       "0                en  An exploratory dive into the deepest depths of...   \n",
       "1                en  Father Gabriele Amorth Chief Exorcist of the V...   \n",
       "2                en  A listless Wade Wilson toils away in civilian ...   \n",
       "3                en  When a new threat capable of destroying the en...   \n",
       "4                en  Follow the mythic journey of Paul Atreides as ...   \n",
       "\n",
       "   popularity                               production_companies release_date  \\\n",
       "0    8763.998  Apelles Entertainment-Warner Bros. Pictures-di...   2023-08-02   \n",
       "1    5953.227  Screen Gems-2.0 Entertainment-Jesus & Mary-Wor...   2023-04-05   \n",
       "2    5410.496  Marvel Studios-Maximum Effort-21 Laps Entertai...   2024-07-24   \n",
       "3    5409.104  Skydance-Paramount-di Bonaventura Pictures-Bay...   2023-06-06   \n",
       "4    4742.163                                 Legendary Pictures   2024-02-27   \n",
       "\n",
       "        budget       revenue  runtime    status  \\\n",
       "0  129000000.0  3.520565e+08    116.0  Released   \n",
       "1   18000000.0  6.567582e+07    103.0  Released   \n",
       "2  200000000.0  1.326387e+09    128.0  Released   \n",
       "3  200000000.0  4.070455e+08    127.0  Released   \n",
       "4  190000000.0  6.838137e+08    167.0  Released   \n",
       "\n",
       "                                             tagline  vote_average  \\\n",
       "0                                  Back for seconds.         7.079   \n",
       "1  Inspired by the actual files of Father Gabriel...         7.433   \n",
       "2                                     Come together.         7.765   \n",
       "3                                     Unite or fall.         7.340   \n",
       "4                            Long live the fighters.         8.300   \n",
       "\n",
       "   vote_count                                            credits  \\\n",
       "0      1365.0  Jason Statham-Wu Jing-Shuya Sophia Cai-Sergio ...   \n",
       "1       545.0  Russell Crowe-Daniel Zovatto-Alex Essoe-Franco...   \n",
       "2      3749.0  Ryan Reynolds-Hugh Jackman-Emma Corrin-Matthew...   \n",
       "3      1007.0  Anthony Ramos-Dominique Fishback-Luna Lauren V...   \n",
       "4      2770.0  Timothée Chalamet-Zendaya-Rebecca Ferguson-Jav...   \n",
       "\n",
       "                                            keywords  \\\n",
       "0                based on novel or book-sequel-kaiju   \n",
       "1  spain-rome italy-vatican-pope-pig-possession-c...   \n",
       "2  hero-superhero-anti hero-mutant-breaking the f...   \n",
       "3  peru-alien-end of the world-based on cartoon-b...   \n",
       "4  epic-based on novel or book-fight-sandstorm-sa...   \n",
       "\n",
       "                        poster_path                     backdrop_path  \\\n",
       "0  /4m1Au3YkjqsxF8iwQy0fPYSxE0h.jpg  /qlxy8yo5bcgUw2KAmmojUKp4rHd.jpg   \n",
       "1  /9JBEPLTPSm0d1mbEcLxULjJq9Eh.jpg  /hiHGRbyTcbZoLsYYkO4QiCLYe34.jpg   \n",
       "2  /8cdWjvZQUExUUTzyp4t6EDMubfO.jpg  /dvBCdCohwWbsP5qAaglOXagDMtk.jpg   \n",
       "3  /gPbM0MK8CP8A174rmUwGsADNYKD.jpg  /woJbg7ZqidhpvqFGGMRhWQNoxwa.jpg   \n",
       "4  /czembW0Rk1Ke7lCJGahbOhdCuhV.jpg  /xOMo8BRK7PfcJv9JCnx7s5hj0PX.jpg   \n",
       "\n",
       "                                     recommendations  \n",
       "0  1006462-298618-569094-1061181-346698-1076487-6...  \n",
       "1  713704-296271-502356-1076605-1084225-1008005-9...  \n",
       "2  573435-519182-957452-1022789-945961-718821-103...  \n",
       "3  496450-569094-298618-385687-877100-598331-4628...  \n",
       "4  438631-763215-792307-1011985-467244-634492-359...  "
      ]
     },
     "execution_count": 3,
     "metadata": {},
     "output_type": "execute_result"
    }
   ],
   "source": [
    "# Download dataset from KaggleHub\n",
    "path = kagglehub.dataset_download(\"akshaypawar7/millions-of-movies\")\n",
    "\n",
    "# Load movies dataset\n",
    "df_movies = pd.read_csv(f\"{path}/movies.csv\")\n",
    "\n",
    "# Display first 5 rows\n",
    "df_movies.head()"
   ]
  },
  {
   "cell_type": "code",
   "execution_count": 4,
   "id": "375be4d1-7ccd-4ccb-9cb5-535c2687499c",
   "metadata": {
    "execution": {
     "iopub.execute_input": "2025-03-18T02:38:39.434666Z",
     "iopub.status.busy": "2025-03-18T02:38:39.434422Z",
     "iopub.status.idle": "2025-03-18T02:38:39.441109Z",
     "shell.execute_reply": "2025-03-18T02:38:39.440031Z",
     "shell.execute_reply.started": "2025-03-18T02:38:39.434644Z"
    }
   },
   "outputs": [
    {
     "name": "stdout",
     "output_type": "stream",
     "text": [
      "Dataset shape: (722317, 20)\n"
     ]
    }
   ],
   "source": [
    "print(f\"Dataset shape: {df_movies.shape}\")"
   ]
  },
  {
   "cell_type": "markdown",
   "id": "1ff68882-3752-44f2-a739-7d04b3f8b420",
   "metadata": {},
   "source": [
    "# Exploratory Data Analysis, Part 1: Initial Exploration and Filtering of Data Points"
   ]
  },
  {
   "cell_type": "markdown",
   "id": "6fc53703-111e-40d8-80ef-1e5e04912cc2",
   "metadata": {},
   "source": [
    "## Revenue"
   ]
  },
  {
   "cell_type": "markdown",
   "id": "b53b1f4d-1dbd-461a-af97-3eace75a5c8b",
   "metadata": {},
   "source": [
    "### Revenue Distribution Analysis\n",
    "\n",
    "Before filtering, we need to check the distribution of movie revenues. Movie revenue is often **right-skewed**, meaning that **a small number of movies earn significantly more** than the rest.  \n",
    "\n",
    "To visualize this, we plotted a histogram of revenue and calculated two key statistical measures:\n",
    "\n",
    "- **Skewness**: Measures the asymmetry of the data distribution.\n",
    "  - A **positive skewness (>1)** indicates a long tail on the right (few movies with very high revenue).\n",
    "- **Kurtosis**: Measures the \"tailedness\" of the distribution.\n",
    "  - A **high kurtosis** suggests that extreme values (blockbusters) strongly impact the dataset.\n",
    "\n",
    "If revenue is highly skewed, removing low-revenue movies can improve analysis.\n"
   ]
  },
  {
   "cell_type": "code",
   "execution_count": 5,
   "id": "f8dbd4ad-ecab-4cf1-b9e6-80060835555c",
   "metadata": {
    "execution": {
     "iopub.execute_input": "2025-03-18T02:38:39.441995Z",
     "iopub.status.busy": "2025-03-18T02:38:39.441792Z",
     "iopub.status.idle": "2025-03-18T02:38:39.470185Z",
     "shell.execute_reply": "2025-03-18T02:38:39.469316Z",
     "shell.execute_reply.started": "2025-03-18T02:38:39.441973Z"
    }
   },
   "outputs": [
    {
     "name": "stdout",
     "output_type": "stream",
     "text": [
      "Revenue Statistics:\n",
      "count    7.223170e+05\n",
      "mean     1.007747e+06\n",
      "std      2.048321e+07\n",
      "min     -1.200000e+01\n",
      "25%      0.000000e+00\n",
      "50%      0.000000e+00\n",
      "75%      0.000000e+00\n",
      "max      2.920357e+09\n",
      "Name: revenue, dtype: float64\n"
     ]
    }
   ],
   "source": [
    "print(\"Revenue Statistics:\")\n",
    "print(df_movies[\"revenue\"].describe())"
   ]
  },
  {
   "cell_type": "code",
   "execution_count": 6,
   "id": "5bb7d399-d6fc-44aa-a098-1311bcfa6f12",
   "metadata": {
    "execution": {
     "iopub.execute_input": "2025-03-18T02:38:39.472504Z",
     "iopub.status.busy": "2025-03-18T02:38:39.472263Z",
     "iopub.status.idle": "2025-03-18T02:38:40.181816Z",
     "shell.execute_reply": "2025-03-18T02:38:40.180915Z",
     "shell.execute_reply.started": "2025-03-18T02:38:39.472482Z"
    }
   },
   "outputs": [
    {
     "data": {
      "image/png": "[encoded data removed]",
      "text/plain": [
       "<Figure size 1000x500 with 1 Axes>"
      ]
     },
     "metadata": {},
     "output_type": "display_data"
    },
    {
     "name": "stdout",
     "output_type": "stream",
     "text": [
      "Skewness: 45.79\n",
      "Kurtosis: 3269.52\n"
     ]
    }
   ],
   "source": [
    "# Plot revenue distribution\n",
    "plt.figure(figsize=(10, 5))\n",
    "sns.histplot(df_movies[\"revenue\"], bins=50, kde=False)\n",
    "plt.xlabel(\"Revenue\")\n",
    "plt.ylabel(\"Frequency\")\n",
    "plt.title(\"Distribution of Movie Revenues\")\n",
    "plt.show()\n",
    "\n",
    "# Check for skewness\n",
    "print(f\"Skewness: {df_movies[\"revenue\"].skew():.2f}\")\n",
    "print(f\"Kurtosis: {df_movies[\"revenue\"].kurtosis():.2f}\")"
   ]
  },
  {
   "cell_type": "markdown",
   "id": "d2d4f3ca-8e20-4a4f-8741-e3e47c23f2cb",
   "metadata": {},
   "source": [
    "### Filtering High-Revenue Movies\n",
    "\n",
    "Since the revenue distribution is **highly right-skewed**, we apply a **99th percentile filter** to keep only the **top 1% of movies**.\n",
    "\n",
    "**Why filter the lower 99%?**\n",
    "- **Focus on high-performing movies**: Most of the revenue in the industry is generated by a few blockbusters.\n",
    "- **Avoid noise from small productions**: Many movies have very low or negligible earnings.\n",
    "- **Improve model robustness**: If we are building a prediction model, training on high-revenue movies ensures better performance for blockbuster predictions.\n",
    "- **Handle inaccurate or incomplete revenue records**: Some movies have **revenues recorded as `0` or `1`**, likely due to **poor tracking, limited releases, or missing data**. These data points distort the distribution and add unnecessary noise.\n",
    "- **Ensure meaningful comparisons**: Keeping only the top 1% prevents **small, untracked films** from affecting insights about blockbuster trends.\n",
    "\n",
    "By applying this filter, we create a dataset that focuses on **movies with substantial financial performance**, removing the influence of incomplete or irrelevant data.\n"
   ]
  },
  {
   "cell_type": "code",
   "execution_count": 7,
   "id": "2f3fab61-b18a-4870-897a-e7552e889d9e",
   "metadata": {
    "execution": {
     "iopub.execute_input": "2025-03-18T02:38:40.182883Z",
     "iopub.status.busy": "2025-03-18T02:38:40.182648Z",
     "iopub.status.idle": "2025-03-18T02:38:40.422902Z",
     "shell.execute_reply": "2025-03-18T02:38:40.422025Z",
     "shell.execute_reply.started": "2025-03-18T02:38:40.182861Z"
    }
   },
   "outputs": [
    {
     "name": "stdout",
     "output_type": "stream",
     "text": [
      "Number of movies with revenue recorded as 0 or 1: 705280\n"
     ]
    }
   ],
   "source": [
    "# Count movies with revenue recorded as 0 or 1\n",
    "zero_or_one_revenue = df_movies[df_movies[\"revenue\"].isin([0, 1])]\n",
    "\n",
    "# Display the count and some sample rows\n",
    "print(f\"Number of movies with revenue recorded as 0 or 1: {zero_or_one_revenue.shape[0]}\")"
   ]
  },
  {
   "cell_type": "code",
   "execution_count": 8,
   "id": "6cd404fc-024a-44db-b8c3-fe6ece8906eb",
   "metadata": {
    "execution": {
     "iopub.execute_input": "2025-03-18T02:38:40.423933Z",
     "iopub.status.busy": "2025-03-18T02:38:40.423710Z",
     "iopub.status.idle": "2025-03-18T02:38:40.429497Z",
     "shell.execute_reply": "2025-03-18T02:38:40.428206Z",
     "shell.execute_reply.started": "2025-03-18T02:38:40.423909Z"
    },
    "jupyter": {
     "source_hidden": true
    }
   },
   "outputs": [],
   "source": [
    "# df_movies = df_movies[df_movies['revenue'] > 1]\n",
    "# df_revenue_describe = df_movies[\"revenue\"].describe()\n",
    "# df_movies = df_movies.dropna(subset=[\"genres\"])\n",
    "# iqr = (df_revenue_describe[\"75%\"] - df_revenue_describe[\"25%\"]) * 1.5\n",
    "# df_movies = df_movies[df_movies[\"revenue\"] > df_revenue_describe[\"75%\"] + iqr]\n",
    "# #if greater than 3rd quartile + iqr = outlier\n",
    "# #if 1st q -iqr = outlier"
   ]
  },
  {
   "cell_type": "code",
   "execution_count": 9,
   "id": "8379fb2d-4184-4789-8705-f9eb87189fd4",
   "metadata": {
    "execution": {
     "iopub.execute_input": "2025-03-18T02:38:40.430523Z",
     "iopub.status.busy": "2025-03-18T02:38:40.430234Z",
     "iopub.status.idle": "2025-03-18T02:38:40.435927Z",
     "shell.execute_reply": "2025-03-18T02:38:40.434760Z",
     "shell.execute_reply.started": "2025-03-18T02:38:40.430496Z"
    },
    "jupyter": {
     "source_hidden": true
    }
   },
   "outputs": [],
   "source": [
    "# # Store original dataset size and revenue statistics before filtering\n",
    "# original_size = df_movies.shape[0]\n",
    "# original_revenue_stats = df_movies[\"revenue\"].describe()\n",
    "\n",
    "# # Compute IQR-based threshold\n",
    "# iqr = (original_revenue_stats[\"75%\"] - original_revenue_stats[\"25%\"]) * 1.5\n",
    "# upper_threshold = original_revenue_stats[\"75%\"] + iqr\n",
    "\n",
    "# # Create a new filtered dataframe excluding movies below the IQR threshold\n",
    "# df_movies_1 = df_movies[df_movies[\"revenue\"] > upper_threshold]\n",
    "\n",
    "# # Display filter results\n",
    "# print(f\"Original dataset size: {original_size}\")\n",
    "# print(f\"Filtered dataset size: {df_movies_1.shape[0]}\")\n",
    "# print(f\"Movies removed: {original_size - df_movies_1.shape[0]}\")\n"
   ]
  },
  {
   "cell_type": "code",
   "execution_count": 10,
   "id": "8db7ea26-afc2-4a68-9a27-e7db43799440",
   "metadata": {
    "execution": {
     "iopub.execute_input": "2025-03-18T02:38:40.437023Z",
     "iopub.status.busy": "2025-03-18T02:38:40.436765Z",
     "iopub.status.idle": "2025-03-18T02:38:40.478809Z",
     "shell.execute_reply": "2025-03-18T02:38:40.477924Z",
     "shell.execute_reply.started": "2025-03-18T02:38:40.436998Z"
    }
   },
   "outputs": [
    {
     "name": "stdout",
     "output_type": "stream",
     "text": [
      "Original dataset size: 722317\n",
      "Filtered dataset size: 7224\n",
      "Movies removed: 715093\n"
     ]
    }
   ],
   "source": [
    "# Store original dataset size and revenue statistics before filtering\n",
    "original_size = df_movies.shape[0]\n",
    "original_revenue_stats = df_movies[\"revenue\"].describe()\n",
    "\n",
    "# Identify the 99th percentile revenue threshold\n",
    "top_1_percent_value = df_movies[\"revenue\"].quantile(0.99)\n",
    "\n",
    "# Create a new filtered dataframe for the top 1% revenue movies\n",
    "df_movies_1 = df_movies[df_movies[\"revenue\"] >= top_1_percent_value]\n",
    "\n",
    "# Display filter results\n",
    "print(f\"Original dataset size: {original_size}\")\n",
    "print(f\"Filtered dataset size: {df_movies_1.shape[0]}\")\n",
    "print(f\"Movies removed: {original_size - df_movies_1.shape[0]}\")"
   ]
  },
  {
   "cell_type": "code",
   "execution_count": 11,
   "id": "0f9ccbad-e65c-4b7e-93b2-e9b2f87da4f7",
   "metadata": {
    "execution": {
     "iopub.execute_input": "2025-03-18T02:38:40.479682Z",
     "iopub.status.busy": "2025-03-18T02:38:40.479498Z",
     "iopub.status.idle": "2025-03-18T02:38:40.532693Z",
     "shell.execute_reply": "2025-03-18T02:38:40.531687Z",
     "shell.execute_reply.started": "2025-03-18T02:38:40.479665Z"
    }
   },
   "outputs": [
    {
     "name": "stdout",
     "output_type": "stream",
     "text": [
      "Number of movies with revenue recorded as 0 or 1: 0\n"
     ]
    }
   ],
   "source": [
    "# Count movies with revenue recorded as 0 or 1\n",
    "zero_or_one_revenue = df_movies_1[df_movies_1[\"revenue\"].isin([0, 1])]\n",
    "\n",
    "# Display the count and some sample rows\n",
    "print(f\"Number of movies with revenue recorded as 0 or 1: {zero_or_one_revenue.shape[0]}\")"
   ]
  },
  {
   "cell_type": "markdown",
   "id": "b0ab24d7-1aa2-4572-a2ec-bb211b0c90a5",
   "metadata": {},
   "source": [
    "### Comparing Revenue Before and After Filtering\n",
    "\n",
    "To ensure that our filtering step was **effective**, we compare key statistics **before and after** applying the 99th percentile filter.\n",
    "\n",
    "**What are we checking?**\n",
    "- **Mean & Median Revenue**: Should increase significantly after filtering.\n",
    "- **Min & Max Revenue**: Ensures we only kept **blockbusters**.\n",
    "- **Number of Movies Removed**: Helps quantify the impact of filtering.\n",
    "\n",
    "This comparison justifies our choice to remove lower-revenue movies and confirms that our dataset now focuses on **high-grossing films**."
   ]
  },
  {
   "cell_type": "code",
   "execution_count": 12,
   "id": "a9687009-1079-4aba-af69-df3706497ffd",
   "metadata": {
    "execution": {
     "iopub.execute_input": "2025-03-18T02:38:40.533776Z",
     "iopub.status.busy": "2025-03-18T02:38:40.533549Z",
     "iopub.status.idle": "2025-03-18T02:38:40.544560Z",
     "shell.execute_reply": "2025-03-18T02:38:40.543667Z",
     "shell.execute_reply.started": "2025-03-18T02:38:40.533754Z"
    }
   },
   "outputs": [
    {
     "name": "stdout",
     "output_type": "stream",
     "text": [
      "Original Revenue Statistics:\n",
      "count    7.223170e+05\n",
      "mean     1.007747e+06\n",
      "std      2.048321e+07\n",
      "min     -1.200000e+01\n",
      "25%      0.000000e+00\n",
      "50%      0.000000e+00\n",
      "75%      0.000000e+00\n",
      "max      2.920357e+09\n",
      "Name: revenue, dtype: float64\n",
      "\n",
      "Filtered Revenue Statistics:\n",
      "count    7.224000e+03\n",
      "mean     9.895587e+07\n",
      "std      1.796056e+08\n",
      "min      7.033500e+06\n",
      "25%      1.517758e+07\n",
      "50%      3.569646e+07\n",
      "75%      1.005237e+08\n",
      "max      2.920357e+09\n",
      "Name: revenue, dtype: float64\n",
      "\n",
      "Original dataset size: 722317\n",
      "Filtered dataset size: 7224\n",
      "Movies removed: 715093\n"
     ]
    }
   ],
   "source": [
    "# Store updated dataset size and revenue statistics after filtering\n",
    "filtered_size = df_movies_1.shape[0]\n",
    "filtered_revenue_stats = df_movies_1[\"revenue\"].describe()\n",
    "\n",
    "# Compare statistics before and after filtering\n",
    "print(\"Original Revenue Statistics:\")\n",
    "print(original_revenue_stats)\n",
    "\n",
    "print(\"\\nFiltered Revenue Statistics:\")\n",
    "print(filtered_revenue_stats)\n",
    "\n",
    "# Show how many movies were removed\n",
    "print(f\"\\nOriginal dataset size: {original_size}\")\n",
    "print(f\"Filtered dataset size: {filtered_size}\")\n",
    "print(f\"Movies removed: {original_size - filtered_size}\")"
   ]
  },
  {
   "cell_type": "code",
   "execution_count": 13,
   "id": "a28510a7-44a9-4452-948e-57b00c26685b",
   "metadata": {
    "execution": {
     "iopub.execute_input": "2025-03-18T02:38:40.545522Z",
     "iopub.status.busy": "2025-03-18T02:38:40.545241Z",
     "iopub.status.idle": "2025-03-18T02:38:41.007359Z",
     "shell.execute_reply": "2025-03-18T02:38:41.006464Z",
     "shell.execute_reply.started": "2025-03-18T02:38:40.545497Z"
    }
   },
   "outputs": [
    {
     "data": {
      "image/png": "[encoded data removed]",
      "text/plain": [
       "<Figure size 1000x500 with 1 Axes>"
      ]
     },
     "metadata": {},
     "output_type": "display_data"
    }
   ],
   "source": [
    "# Visualizing the revenue distribution AFTER filtering\n",
    "\n",
    "# Set figure size\n",
    "plt.figure(figsize=(10, 5))\n",
    "\n",
    "# Plot histogram with KDE (Kernel Density Estimate) to show distribution\n",
    "sns.histplot(df_movies_1[\"revenue\"], bins=50, kde=True)\n",
    "\n",
    "# Add labels and title\n",
    "plt.xlabel(\"Revenue\")\n",
    "plt.ylabel(\"Frequency\")\n",
    "plt.title(\"Distribution of Movie Revenues (After Filtering Top 1%)\")\n",
    "\n",
    "# Show the plot\n",
    "plt.show()"
   ]
  },
  {
   "cell_type": "code",
   "execution_count": 14,
   "id": "9534a071-3194-4d2b-8067-ffa201ed31b7",
   "metadata": {
    "execution": {
     "iopub.execute_input": "2025-03-18T02:38:41.008201Z",
     "iopub.status.busy": "2025-03-18T02:38:41.007982Z",
     "iopub.status.idle": "2025-03-18T02:38:41.016195Z",
     "shell.execute_reply": "2025-03-18T02:38:41.014716Z",
     "shell.execute_reply.started": "2025-03-18T02:38:41.008179Z"
    }
   },
   "outputs": [
    {
     "name": "stdout",
     "output_type": "stream",
     "text": [
      "Column Data Types:\n",
      "id                        int64\n",
      "title                    object\n",
      "genres                   object\n",
      "original_language        object\n",
      "overview                 object\n",
      "popularity              float64\n",
      "production_companies     object\n",
      "release_date             object\n",
      "budget                  float64\n",
      "revenue                 float64\n",
      "runtime                 float64\n",
      "status                   object\n",
      "tagline                  object\n",
      "vote_average            float64\n",
      "vote_count              float64\n",
      "credits                  object\n",
      "keywords                 object\n",
      "poster_path              object\n",
      "backdrop_path            object\n",
      "recommendations          object\n",
      "dtype: object\n"
     ]
    }
   ],
   "source": [
    "print(\"Column Data Types:\")\n",
    "print(df_movies_1.dtypes)"
   ]
  },
  {
   "cell_type": "code",
   "execution_count": 15,
   "id": "a06d69f0-23e4-440e-8c6f-7332939c16d1",
   "metadata": {
    "execution": {
     "iopub.execute_input": "2025-03-18T02:38:41.017423Z",
     "iopub.status.busy": "2025-03-18T02:38:41.017157Z",
     "iopub.status.idle": "2025-03-18T02:38:41.029248Z",
     "shell.execute_reply": "2025-03-18T02:38:41.028431Z",
     "shell.execute_reply.started": "2025-03-18T02:38:41.017399Z"
    }
   },
   "outputs": [
    {
     "name": "stdout",
     "output_type": "stream",
     "text": [
      "Earliest release date: 1915-02-08 00:00:00\n",
      "Latest release date: 2024-10-22 00:00:00\n"
     ]
    }
   ],
   "source": [
    "# Convert release_date to datetime format, coercing errors to NaT (if any invalid dates exist)\n",
    "df_movies_1[\"release_date\"] = pd.to_datetime(df_movies_1[\"release_date\"], errors=\"coerce\")\n",
    "\n",
    "# Get the earliest and latest release dates\n",
    "earliest_date = df_movies_1[\"release_date\"].min()\n",
    "latest_date = df_movies_1[\"release_date\"].max()\n",
    "\n",
    "# Display the results\n",
    "print(f\"Earliest release date: {earliest_date}\")\n",
    "print(f\"Latest release date: {latest_date}\")"
   ]
  },
  {
   "cell_type": "markdown",
   "id": "1e4e3e1f-0fed-4356-a422-d73777ef5001",
   "metadata": {},
   "source": [
    "### Revenue Distribution - Box Plot\n",
    "\n",
    "The box plot shows that **most movies** have revenues **at the lower end**, with only a few earning extremely high amounts. This reveals a **heavily right-skewed distribution** with a **significant number of outliers**.\n",
    "\n",
    "**Key Observations:**\n",
    "- The **median revenue** is positioned near the lower end, meaning **half of all movies earn relatively little**.\n",
    "- The **interquartile range (IQR)** is very small, indicating that **most movies cluster around low revenues**.\n",
    "- A **long upper whisker** and many **outliers** suggest that a **small number of blockbuster films** earn exponentially more than the majority.\n",
    "- Some movies have **recorded revenues as `0` or `1`**, likely due to **poor tracking, missing data, or very limited releases**. These data points **heavily compress the lower end of the distribution**.\n",
    "- This confirms the **huge revenue gap** between **average movies** and **major hits**, while also highlighting potential data inconsistencies."
   ]
  },
  {
   "cell_type": "code",
   "execution_count": 16,
   "id": "161318d5-7256-450e-aeaa-48b8fa53ae92",
   "metadata": {
    "execution": {
     "iopub.execute_input": "2025-03-18T02:38:41.030158Z",
     "iopub.status.busy": "2025-03-18T02:38:41.029939Z",
     "iopub.status.idle": "2025-03-18T02:38:41.159021Z",
     "shell.execute_reply": "2025-03-18T02:38:41.157702Z",
     "shell.execute_reply.started": "2025-03-18T02:38:41.030138Z"
    }
   },
   "outputs": [
    {
     "data": {
      "image/png": "[encoded data removed]",
      "text/plain": [
       "<Figure size 800x500 with 1 Axes>"
      ]
     },
     "metadata": {},
     "output_type": "display_data"
    }
   ],
   "source": [
    "# Box plot to visualize the distribution of movie revenues\n",
    "plt.figure(figsize=(8, 5))\n",
    "\n",
    "# Create a horizontal box plot of revenue\n",
    "sns.boxplot(x=df_movies_1[\"revenue\"])\n",
    "\n",
    "# Add title and labels\n",
    "plt.title(\"Box Plot of Movie Revenues\")\n",
    "plt.xlabel(\"Revenue\")\n",
    "\n",
    "# Display the plot\n",
    "plt.show()"
   ]
  },
  {
   "cell_type": "markdown",
   "id": "a5ca05a8-861c-4cee-b23f-fbf93bec3ca3",
   "metadata": {},
   "source": [
    "### Revenue Distribution - Line Plot\n",
    "\n",
    "This plot shows movie revenues **sorted in ascending order**, helping us visualize how revenue is distributed across movies.\n",
    "\n",
    "**Key Observations:**\n",
    "- The revenue curve remains **nearly flat** for most of the dataset, confirming that **most movies earn relatively little**.\n",
    "- A **sharp rise at the end** indicates that a **small fraction of movies (blockbusters) earn dramatically more**.\n",
    "- This confirms the **power-law distribution** commonly seen in movie revenues—where **a few movies dominate earnings while most struggle**."
   ]
  },
  {
   "cell_type": "code",
   "execution_count": 17,
   "id": "8aa51ce6-2a52-4db3-b529-f392e830a2e9",
   "metadata": {
    "execution": {
     "iopub.execute_input": "2025-03-18T02:38:41.161596Z",
     "iopub.status.busy": "2025-03-18T02:38:41.160812Z",
     "iopub.status.idle": "2025-03-18T02:38:41.362922Z",
     "shell.execute_reply": "2025-03-18T02:38:41.361584Z",
     "shell.execute_reply.started": "2025-03-18T02:38:41.161539Z"
    }
   },
   "outputs": [
    {
     "data": {
      "image/png": "[encoded data removed]",
      "text/plain": [
       "<Figure size 1000x600 with 1 Axes>"
      ]
     },
     "metadata": {},
     "output_type": "display_data"
    }
   ],
   "source": [
    "# Line plot of sorted revenue values to visualize distribution\n",
    "plt.figure(figsize=(10, 6))\n",
    "\n",
    "# Plot sorted revenue values (excluding NaNs)\n",
    "plt.plot(sorted(df_movies_1[\"revenue\"].dropna().values))\n",
    "\n",
    "# Add title and labels\n",
    "plt.title(\"Revenue Distribution (Line Plot)\")\n",
    "plt.xlabel(\"Index (Sorted by Revenue)\")\n",
    "plt.ylabel(\"Revenue\")\n",
    "\n",
    "# Enable grid for better readability\n",
    "plt.grid(True)\n",
    "\n",
    "# Display the plot\n",
    "plt.show()"
   ]
  },
  {
   "cell_type": "markdown",
   "id": "8224627d-111b-4559-8f9d-10ea682dcab9",
   "metadata": {
    "execution": {
     "iopub.execute_input": "2025-03-16T18:14:52.358659Z",
     "iopub.status.busy": "2025-03-16T18:14:52.357947Z",
     "iopub.status.idle": "2025-03-16T18:14:52.371475Z",
     "shell.execute_reply": "2025-03-16T18:14:52.369183Z",
     "shell.execute_reply.started": "2025-03-16T18:14:52.358601Z"
    }
   },
   "source": [
    "### Revenue Distribution - Log Scale\n",
    "\n",
    "To better visualize differences among **lower-revenue movies**, we apply a **log scale** to the revenue values.\n",
    "\n",
    "**Key Observations:**\n",
    "- Unlike the regular plot, the log-transformed version **spreads out lower-revenue movies**, making trends more visible.\n",
    "- The revenue curve appears **more linear**, confirming an **exponential revenue distribution**.\n",
    "- This transformation helps **highlight smaller revenue differences** that were otherwise hidden in the previous plot.\n",
    "- It also reinforces that **blockbusters earn exponentially more than regular movies**."
   ]
  },
  {
   "cell_type": "code",
   "execution_count": 18,
   "id": "2b2a5a7c-4e85-481d-b157-db93ca2c29e9",
   "metadata": {
    "execution": {
     "iopub.execute_input": "2025-03-18T02:38:41.364442Z",
     "iopub.status.busy": "2025-03-18T02:38:41.364090Z",
     "iopub.status.idle": "2025-03-18T02:38:41.719722Z",
     "shell.execute_reply": "2025-03-18T02:38:41.718588Z",
     "shell.execute_reply.started": "2025-03-18T02:38:41.364413Z"
    }
   },
   "outputs": [
    {
     "data": {
      "image/png": "[encoded data removed]",
      "text/plain": [
       "<Figure size 800x500 with 1 Axes>"
      ]
     },
     "metadata": {},
     "output_type": "display_data"
    }
   ],
   "source": [
    "# Line plot of sorted revenue values with log scale for better visualization\n",
    "plt.figure(figsize=(8, 5))\n",
    "\n",
    "# Plot sorted revenue values\n",
    "plt.plot(sorted(df_movies_1[\"revenue\"].dropna().values))\n",
    "\n",
    "# Apply logarithmic scale to Y-axis\n",
    "plt.yscale(\"log\")\n",
    "\n",
    "# Add title and labels\n",
    "plt.title(\"Revenue Distribution (Log Scale)\")\n",
    "plt.xlabel(\"Index (Sorted by Revenue)\")\n",
    "plt.ylabel(\"Revenue (Log Scale)\")\n",
    "\n",
    "# Enable grid for better readability\n",
    "plt.grid(True)\n",
    "\n",
    "# Display the plot\n",
    "plt.show()"
   ]
  },
  {
   "cell_type": "markdown",
   "id": "6ead1fce-2713-487e-9206-49d69d3e2288",
   "metadata": {},
   "source": [
    "## Budget"
   ]
  },
  {
   "cell_type": "markdown",
   "id": "485f342d-c441-42ba-b86c-a18c7561115d",
   "metadata": {},
   "source": [
    "### Budget Distribution - Box Plot\n",
    "\n",
    "This box plot reveals a **highly skewed distribution** of movie budgets, with most films having **relatively small budgets clustered near the lower end**, while a few **blockbuster productions stand out as extreme outliers** with exceptionally high budgets.\n",
    "\n",
    "**Key Observations:**\n",
    "- The **median budget** is positioned near the lower end, indicating that **most films operate with limited resources**.\n",
    "- A **tight interquartile range (IQR)** suggests that **many movies have similar budget constraints**.\n",
    "- A **long upper whisker** and multiple **outliers** highlight that **a handful of big-budget films dominate the upper range**.\n",
    "- Some movies may have **recorded budgets as `0` or `1`**, likely due to **missing data or lack of accurate reporting**.\n",
    "- The large gap between the **main data cluster and these outliers** emphasizes the industry's **budget disparity**, where **a small number of high-budget productions receive the majority of financial investment**."
   ]
  },
  {
   "cell_type": "code",
   "execution_count": 19,
   "id": "b4f7970d-9674-4489-a7a0-854a262b09aa",
   "metadata": {
    "execution": {
     "iopub.execute_input": "2025-03-18T02:38:41.720680Z",
     "iopub.status.busy": "2025-03-18T02:38:41.720459Z",
     "iopub.status.idle": "2025-03-18T02:38:41.843960Z",
     "shell.execute_reply": "2025-03-18T02:38:41.843152Z",
     "shell.execute_reply.started": "2025-03-18T02:38:41.720659Z"
    }
   },
   "outputs": [
    {
     "data": {
      "image/png": "[encoded data removed]",
      "text/plain": [
       "<Figure size 800x500 with 1 Axes>"
      ]
     },
     "metadata": {},
     "output_type": "display_data"
    }
   ],
   "source": [
    "# Box plot to visualize the distribution of movie budgets\n",
    "plt.figure(figsize=(8, 5))\n",
    "\n",
    "# Create a horizontal box plot of budgets\n",
    "sns.boxplot(x=df_movies_1[\"budget\"])\n",
    "\n",
    "# Add title and labels\n",
    "plt.title(\"Box Plot of Movie Budgets\")\n",
    "plt.xlabel(\"Budget\")\n",
    "\n",
    "# Display the plot\n",
    "plt.show()"
   ]
  },
  {
   "cell_type": "markdown",
   "id": "2fd8603e-29af-4ab6-90ce-79e13eca596c",
   "metadata": {},
   "source": [
    "To ensure a meaningful budget analysis, we filter out movies with a **budget of 0** since these entries likely represent **missing or untracked data**.\n",
    "\n",
    "**Why Remove Movies with Zero Budget?**\n",
    "- **Data Accuracy:** Movies with a `budget = 0` likely have incomplete or unreliable financial records.\n",
    "- **Improved Insights:** Retaining only movies with reported budgets ensures a more accurate distribution.\n",
    "- **Better Visualization:** The box plot previously showed an **extremely skewed distribution**, which is influenced by a large number of zero-budget movies.\n",
    "\n",
    "After filtering, we analyze the **adjusted budget distribution**."
   ]
  },
  {
   "cell_type": "code",
   "execution_count": 20,
   "id": "9af0895a-4185-4224-958f-f9e3698cc9d2",
   "metadata": {
    "execution": {
     "iopub.execute_input": "2025-03-18T02:38:41.844827Z",
     "iopub.status.busy": "2025-03-18T02:38:41.844615Z",
     "iopub.status.idle": "2025-03-18T02:38:41.856218Z",
     "shell.execute_reply": "2025-03-18T02:38:41.854496Z",
     "shell.execute_reply.started": "2025-03-18T02:38:41.844807Z"
    }
   },
   "outputs": [
    {
     "name": "stdout",
     "output_type": "stream",
     "text": [
      "Number of movies with revenue recorded as 0 or 1: 1239\n"
     ]
    }
   ],
   "source": [
    "# Count movies with revenue recorded as 0 or 1\n",
    "zero_or_one_revenue = df_movies_1[df_movies_1[\"budget\"].isin([0, 1])]\n",
    "\n",
    "# Display the count and some sample rows\n",
    "print(f\"Number of movies with revenue recorded as 0 or 1: {zero_or_one_revenue.shape[0]}\")"
   ]
  },
  {
   "cell_type": "code",
   "execution_count": 21,
   "id": "dbfbb619-40e3-46cb-a18c-03c205863683",
   "metadata": {
    "execution": {
     "iopub.execute_input": "2025-03-18T02:38:41.861746Z",
     "iopub.status.busy": "2025-03-18T02:38:41.861454Z",
     "iopub.status.idle": "2025-03-18T02:38:41.874820Z",
     "shell.execute_reply": "2025-03-18T02:38:41.873909Z",
     "shell.execute_reply.started": "2025-03-18T02:38:41.861719Z"
    }
   },
   "outputs": [
    {
     "name": "stdout",
     "output_type": "stream",
     "text": [
      "Dataset size after removing movies with zero budget: 5985\n"
     ]
    }
   ],
   "source": [
    "# Create a new filtered dataframe excluding movies with zero budget\n",
    "df_movies_2 = df_movies_1[df_movies_1[\"budget\"] > 1].reset_index(drop=True)\n",
    "\n",
    "# Display the number of remaining movies\n",
    "print(f\"Dataset size after removing movies with zero budget: {len(df_movies_2)}\")"
   ]
  },
  {
   "cell_type": "code",
   "execution_count": 22,
   "id": "341beb3f-922c-4a06-831e-9ac1e6c7c1dd",
   "metadata": {
    "execution": {
     "iopub.execute_input": "2025-03-18T02:38:41.875836Z",
     "iopub.status.busy": "2025-03-18T02:38:41.875586Z",
     "iopub.status.idle": "2025-03-18T02:38:41.883494Z",
     "shell.execute_reply": "2025-03-18T02:38:41.882652Z",
     "shell.execute_reply.started": "2025-03-18T02:38:41.875813Z"
    }
   },
   "outputs": [
    {
     "name": "stdout",
     "output_type": "stream",
     "text": [
      "Number of movies with revenue recorded as 0 or 1: 0\n"
     ]
    }
   ],
   "source": [
    "# Count movies with revenue recorded as 0 or 1\n",
    "zero_or_one_revenue = df_movies_2[df_movies_2[\"budget\"].isin([0, 1])]\n",
    "\n",
    "# Display the count and some sample rows\n",
    "print(f\"Number of movies with revenue recorded as 0 or 1: {zero_or_one_revenue.shape[0]}\")"
   ]
  },
  {
   "cell_type": "markdown",
   "id": "1d188919-c7ba-4916-9a99-df375bd54c53",
   "metadata": {},
   "source": [
    "### Budget Distribution - Log Scale\n",
    "\n",
    "This plot shows **movie budgets sorted in ascending order**, with a **logarithmic scale applied to the Y-axis** after filtering out movies with a budget of zero.\n",
    "\n",
    "**Key Observations:**\n",
    "- The **initial flat portion** seen before filtering has disappeared, confirming that all zero-budget movies have been removed.\n",
    "- The **gradual slope** indicates that most movies have **relatively low to mid-range budgets**, with a steady increase.\n",
    "- The **steeper rise at the end** highlights that a small number of **high-budget productions dominate the industry**.\n",
    "- Applying a **log scale** allows us to better visualize **budget differences among smaller and mid-range films**, which would otherwise be compressed in a standard linear plot.\n",
    "\n",
    "By filtering out movies with zero budgets, the distribution now provides a **more accurate view of actual production spending** across different films.\n"
   ]
  },
  {
   "cell_type": "code",
   "execution_count": 23,
   "id": "8509406d-9e14-4909-bb6a-db358834e560",
   "metadata": {
    "execution": {
     "iopub.execute_input": "2025-03-18T02:38:41.884494Z",
     "iopub.status.busy": "2025-03-18T02:38:41.884272Z",
     "iopub.status.idle": "2025-03-18T02:38:42.459044Z",
     "shell.execute_reply": "2025-03-18T02:38:42.458253Z",
     "shell.execute_reply.started": "2025-03-18T02:38:41.884474Z"
    }
   },
   "outputs": [
    {
     "data": {
      "image/png": "[encoded data removed]",
      "text/plain": [
       "<Figure size 800x500 with 1 Axes>"
      ]
     },
     "metadata": {},
     "output_type": "display_data"
    }
   ],
   "source": [
    "# Plot budget distribution with log scale\n",
    "plt.figure(figsize=(8, 5))\n",
    "\n",
    "# Plot sorted budget values\n",
    "plt.plot(sorted(df_movies[\"budget\"]))\n",
    "\n",
    "# Apply logarithmic scale to the Y-axis\n",
    "plt.yscale(\"log\")\n",
    "\n",
    "# Add title and labels\n",
    "plt.title(\"Budget Distribution (Log Scale)\")\n",
    "plt.xlabel(\"Index (Sorted by Budget)\")\n",
    "plt.ylabel(\"Budget (Log Scale)\")\n",
    "\n",
    "# Enable grid for better readability\n",
    "plt.grid(True)\n",
    "\n",
    "# Display the plot\n",
    "plt.show()"
   ]
  },
  {
   "cell_type": "markdown",
   "id": "fd0f6586-55a7-48f7-9e0f-22e766eba03d",
   "metadata": {},
   "source": [
    "## Status (\"Released\", \"Rumored\", \"Post Production\", \"In Production\")"
   ]
  },
  {
   "cell_type": "code",
   "execution_count": 24,
   "id": "2167c949-5330-46b5-8b91-8b4da2bc9db6",
   "metadata": {
    "execution": {
     "iopub.execute_input": "2025-03-18T02:38:42.459872Z",
     "iopub.status.busy": "2025-03-18T02:38:42.459614Z",
     "iopub.status.idle": "2025-03-18T02:38:42.467972Z",
     "shell.execute_reply": "2025-03-18T02:38:42.467118Z",
     "shell.execute_reply.started": "2025-03-18T02:38:42.459847Z"
    }
   },
   "outputs": [
    {
     "data": {
      "text/plain": [
       "status\n",
       "Released           5981\n",
       "Rumored               2\n",
       "Post Production       1\n",
       "In Production         1\n",
       "Name: count, dtype: int64"
      ]
     },
     "execution_count": 24,
     "metadata": {},
     "output_type": "execute_result"
    }
   ],
   "source": [
    "# Count the number of movies for each status category\n",
    "df_movies_2[\"status\"].value_counts()"
   ]
  },
  {
   "cell_type": "markdown",
   "id": "7bdf112f-294e-4fab-bcb8-6c74e99b0f37",
   "metadata": {},
   "source": [
    "The dataset includes movies with different production statuses, such as **\"Released,\" \"Rumored,\" \"Post Production,\" and \"In Production.\"** Since we are analyzing **movies that have actually been released**, we filter out all entries **except those with a \"Released\" status.**"
   ]
  },
  {
   "cell_type": "code",
   "execution_count": 25,
   "id": "4938ad14-deb4-4f7d-b7da-bc8ad59ffaa0",
   "metadata": {
    "execution": {
     "iopub.execute_input": "2025-03-18T02:38:42.468971Z",
     "iopub.status.busy": "2025-03-18T02:38:42.468755Z",
     "iopub.status.idle": "2025-03-18T02:38:42.497632Z",
     "shell.execute_reply": "2025-03-18T02:38:42.496547Z",
     "shell.execute_reply.started": "2025-03-18T02:38:42.468951Z"
    }
   },
   "outputs": [
    {
     "name": "stdout",
     "output_type": "stream",
     "text": [
      "Length before filtering: 7224\n",
      "Length after filtering: 5981\n"
     ]
    }
   ],
   "source": [
    "# Create a filtered dataframe keeping only movies with status \"Released\"\n",
    "print(f\"Length before filtering: {len(df_movies_1)}\")\n",
    "\n",
    "df_movies_3 = df_movies_2[df_movies_2[\"status\"] == \"Released\"]\n",
    "\n",
    "print(f\"Length after filtering: {len(df_movies_3)}\")"
   ]
  },
  {
   "cell_type": "markdown",
   "id": "84eddf5d-d1ae-4fb8-9083-0dec7fac6403",
   "metadata": {},
   "source": [
    "## Release Year\n",
    "\n",
    "To analyze the distribution of movie releases over time, we extract the **release year** from the `release_date` column and visualize it using a histogram. This helps us identify **trends in movie production**, such as peaks in certain decades or declines due to industry shifts."
   ]
  },
  {
   "cell_type": "code",
   "execution_count": 26,
   "id": "3cbd67e3-feec-4fac-bcdf-9f36d1663975",
   "metadata": {
    "execution": {
     "iopub.execute_input": "2025-03-18T02:38:42.499267Z",
     "iopub.status.busy": "2025-03-18T02:38:42.498866Z",
     "iopub.status.idle": "2025-03-18T02:38:42.921791Z",
     "shell.execute_reply": "2025-03-18T02:38:42.920933Z",
     "shell.execute_reply.started": "2025-03-18T02:38:42.499230Z"
    }
   },
   "outputs": [
    {
     "data": {
      "image/png": "[encoded data removed]",
      "text/plain": [
       "<Figure size 1000x500 with 1 Axes>"
      ]
     },
     "metadata": {},
     "output_type": "display_data"
    }
   ],
   "source": [
    "# Extract release year from release_date\n",
    "df_movies_3[\"release_year\"] = df_movies_3[\"release_date\"].dt.year\n",
    "\n",
    "# Plot histogram of release years with density estimation\n",
    "plt.figure(figsize=(10, 5))\n",
    "sns.histplot(df_movies_3[\"release_year\"], kde=True)\n",
    "\n",
    "# Add title and labels\n",
    "plt.title(\"Release Year Distribution\")\n",
    "plt.xlabel(\"Year\")\n",
    "plt.ylabel(\"Count\")\n",
    "\n",
    "# Show the plot\n",
    "plt.show()"
   ]
  },
  {
   "cell_type": "markdown",
   "id": "9a1ba05d-6156-4457-b113-2fb1115e1207",
   "metadata": {},
   "source": [
    "This histogram shows the distribution of movie releases over time.\n",
    "\n",
    "**Key Observations:**\n",
    "- **Early Years (Pre-1960s):** Very few movies were recorded, likely due to limited data availability or the smaller film industry at the time.\n",
    "- **Gradual Increase (1960s-1980s):** A steady rise in the number of films released, reflecting the growth of the film industry.\n",
    "- **Major Growth (1990s-2010s):** A significant increase in movie production, coinciding with:\n",
    "  - The rise of multiplex cinemas.\n",
    "  - Advances in digital filmmaking, making production more accessible.\n",
    "  - The globalization of the film industry, leading to higher output.\n",
    "- **Peak Around 2015-2019:** The highest number of releases occurred during this period, suggesting a boom in content creation.\n",
    "- **Recent Decline (Post-2020):** A sharp drop in movie releases, likely due to:\n",
    "  - The **COVID-19 pandemic**, which disrupted productions.\n",
    "  - The **shift to streaming services**, reducing theatrical releases.\n",
    "  - Possible data collection gaps for very recent years.\n",
    "\n",
    "This distribution highlights how **technological advancements, industry expansion, and global events** influence movie production trends.\n"
   ]
  },
  {
   "cell_type": "markdown",
   "id": "e08d69de-6a36-4e35-86fe-e22855ccc18c",
   "metadata": {},
   "source": [
    "## Summary Statistics"
   ]
  },
  {
   "cell_type": "markdown",
   "id": "33f8631d-1f8d-4a2f-b1a6-769cb4fb2846",
   "metadata": {},
   "source": [
    "## Summary Statistics\n",
    "\n",
    "We compute summary statistics to understand the dataset.\n",
    "\n",
    "**Numerical Summary**\n",
    "- Provides measures like mean, median, min/max, and quartiles for numeric columns.\n",
    "- Helps identify skewness, extreme values, and outliers.\n",
    "\n",
    "**Categorical Summary**\n",
    "- Shows counts of unique values and most frequent categories.\n",
    "- Useful for assessing category distributions and identifying dominant values.\n",
    "\n",
    "These statistics provide a baseline for further analysis and data preprocessing."
   ]
  },
  {
   "cell_type": "code",
   "execution_count": 27,
   "id": "30a3ef51-dee6-4979-9c63-8e1b6e2229ce",
   "metadata": {
    "execution": {
     "iopub.execute_input": "2025-03-18T02:38:42.922798Z",
     "iopub.status.busy": "2025-03-18T02:38:42.922544Z",
     "iopub.status.idle": "2025-03-18T02:38:42.955664Z",
     "shell.execute_reply": "2025-03-18T02:38:42.954815Z",
     "shell.execute_reply.started": "2025-03-18T02:38:42.922779Z"
    }
   },
   "outputs": [
    {
     "data": {
      "text/html": [
       "<div>\n",
       "<style scoped>\n",
       "    .dataframe tbody tr th:only-of-type {\n",
       "        vertical-align: middle;\n",
       "    }\n",
       "\n",
       "    .dataframe tbody tr th {\n",
       "        vertical-align: top;\n",
       "    }\n",
       "\n",
       "    .dataframe thead th {\n",
       "        text-align: right;\n",
       "    }\n",
       "</style>\n",
       "<table border=\"1\" class=\"dataframe\">\n",
       "  <thead>\n",
       "    <tr style=\"text-align: right;\">\n",
       "      <th></th>\n",
       "      <th>id</th>\n",
       "      <th>popularity</th>\n",
       "      <th>release_date</th>\n",
       "      <th>budget</th>\n",
       "      <th>revenue</th>\n",
       "      <th>runtime</th>\n",
       "      <th>vote_average</th>\n",
       "      <th>vote_count</th>\n",
       "      <th>release_year</th>\n",
       "    </tr>\n",
       "  </thead>\n",
       "  <tbody>\n",
       "    <tr>\n",
       "      <th>count</th>\n",
       "      <td>5981.000000</td>\n",
       "      <td>5981.000000</td>\n",
       "      <td>5951</td>\n",
       "      <td>5.981000e+03</td>\n",
       "      <td>5.981000e+03</td>\n",
       "      <td>5981.000000</td>\n",
       "      <td>5981.000000</td>\n",
       "      <td>5981.000000</td>\n",
       "      <td>5951.000000</td>\n",
       "    </tr>\n",
       "    <tr>\n",
       "      <th>mean</th>\n",
       "      <td>127494.383715</td>\n",
       "      <td>43.521257</td>\n",
       "      <td>2003-03-25 03:06:04.779028864</td>\n",
       "      <td>3.673727e+07</td>\n",
       "      <td>1.125752e+08</td>\n",
       "      <td>112.509614</td>\n",
       "      <td>6.497670</td>\n",
       "      <td>2338.217188</td>\n",
       "      <td>2002.690640</td>\n",
       "    </tr>\n",
       "    <tr>\n",
       "      <th>min</th>\n",
       "      <td>6.000000</td>\n",
       "      <td>0.600000</td>\n",
       "      <td>1915-02-08 00:00:00</td>\n",
       "      <td>1.100000e+01</td>\n",
       "      <td>7.033500e+06</td>\n",
       "      <td>0.000000</td>\n",
       "      <td>0.000000</td>\n",
       "      <td>0.000000</td>\n",
       "      <td>1915.000000</td>\n",
       "    </tr>\n",
       "    <tr>\n",
       "      <th>25%</th>\n",
       "      <td>9357.000000</td>\n",
       "      <td>11.419000</td>\n",
       "      <td>1995-12-22 00:00:00</td>\n",
       "      <td>8.765230e+06</td>\n",
       "      <td>1.819561e+07</td>\n",
       "      <td>97.000000</td>\n",
       "      <td>6.000000</td>\n",
       "      <td>331.000000</td>\n",
       "      <td>1995.000000</td>\n",
       "    </tr>\n",
       "    <tr>\n",
       "      <th>50%</th>\n",
       "      <td>16288.000000</td>\n",
       "      <td>17.608000</td>\n",
       "      <td>2006-06-23 00:00:00</td>\n",
       "      <td>2.000000e+07</td>\n",
       "      <td>4.428713e+07</td>\n",
       "      <td>108.000000</td>\n",
       "      <td>6.587000</td>\n",
       "      <td>1055.000000</td>\n",
       "      <td>2006.000000</td>\n",
       "    </tr>\n",
       "    <tr>\n",
       "      <th>75%</th>\n",
       "      <td>177699.000000</td>\n",
       "      <td>30.995000</td>\n",
       "      <td>2013-12-25 00:00:00</td>\n",
       "      <td>4.500000e+07</td>\n",
       "      <td>1.200000e+08</td>\n",
       "      <td>123.000000</td>\n",
       "      <td>7.100000</td>\n",
       "      <td>2744.000000</td>\n",
       "      <td>2013.000000</td>\n",
       "    </tr>\n",
       "    <tr>\n",
       "      <th>max</th>\n",
       "      <td>968051.000000</td>\n",
       "      <td>8763.998000</td>\n",
       "      <td>2024-10-22 00:00:00</td>\n",
       "      <td>5.000000e+08</td>\n",
       "      <td>2.920357e+09</td>\n",
       "      <td>999.000000</td>\n",
       "      <td>10.000000</td>\n",
       "      <td>34857.000000</td>\n",
       "      <td>2024.000000</td>\n",
       "    </tr>\n",
       "    <tr>\n",
       "      <th>std</th>\n",
       "      <td>203061.843868</td>\n",
       "      <td>236.568277</td>\n",
       "      <td>NaN</td>\n",
       "      <td>4.515471e+07</td>\n",
       "      <td>1.923912e+08</td>\n",
       "      <td>29.167056</td>\n",
       "      <td>0.996373</td>\n",
       "      <td>3575.455616</td>\n",
       "      <td>14.764638</td>\n",
       "    </tr>\n",
       "  </tbody>\n",
       "</table>\n",
       "</div>"
      ],
      "text/plain": [
       "                  id   popularity                   release_date  \\\n",
       "count    5981.000000  5981.000000                           5951   \n",
       "mean   127494.383715    43.521257  2003-03-25 03:06:04.779028864   \n",
       "min         6.000000     0.600000            1915-02-08 00:00:00   \n",
       "25%      9357.000000    11.419000            1995-12-22 00:00:00   \n",
       "50%     16288.000000    17.608000            2006-06-23 00:00:00   \n",
       "75%    177699.000000    30.995000            2013-12-25 00:00:00   \n",
       "max    968051.000000  8763.998000            2024-10-22 00:00:00   \n",
       "std    203061.843868   236.568277                            NaN   \n",
       "\n",
       "             budget       revenue      runtime  vote_average    vote_count  \\\n",
       "count  5.981000e+03  5.981000e+03  5981.000000   5981.000000   5981.000000   \n",
       "mean   3.673727e+07  1.125752e+08   112.509614      6.497670   2338.217188   \n",
       "min    1.100000e+01  7.033500e+06     0.000000      0.000000      0.000000   \n",
       "25%    8.765230e+06  1.819561e+07    97.000000      6.000000    331.000000   \n",
       "50%    2.000000e+07  4.428713e+07   108.000000      6.587000   1055.000000   \n",
       "75%    4.500000e+07  1.200000e+08   123.000000      7.100000   2744.000000   \n",
       "max    5.000000e+08  2.920357e+09   999.000000     10.000000  34857.000000   \n",
       "std    4.515471e+07  1.923912e+08    29.167056      0.996373   3575.455616   \n",
       "\n",
       "       release_year  \n",
       "count   5951.000000  \n",
       "mean    2002.690640  \n",
       "min     1915.000000  \n",
       "25%     1995.000000  \n",
       "50%     2006.000000  \n",
       "75%     2013.000000  \n",
       "max     2024.000000  \n",
       "std       14.764638  "
      ]
     },
     "execution_count": 27,
     "metadata": {},
     "output_type": "execute_result"
    }
   ],
   "source": [
    "# Summary statistics for numerical columns\n",
    "df_movies_3.describe()"
   ]
  },
  {
   "cell_type": "code",
   "execution_count": 28,
   "id": "c8aa1ad4-e346-4e1f-bed7-9b2b7dc75a06",
   "metadata": {
    "execution": {
     "iopub.execute_input": "2025-03-18T02:38:42.956479Z",
     "iopub.status.busy": "2025-03-18T02:38:42.956270Z",
     "iopub.status.idle": "2025-03-18T02:38:43.016617Z",
     "shell.execute_reply": "2025-03-18T02:38:43.015825Z",
     "shell.execute_reply.started": "2025-03-18T02:38:42.956460Z"
    }
   },
   "outputs": [
    {
     "data": {
      "text/html": [
       "<div>\n",
       "<style scoped>\n",
       "    .dataframe tbody tr th:only-of-type {\n",
       "        vertical-align: middle;\n",
       "    }\n",
       "\n",
       "    .dataframe tbody tr th {\n",
       "        vertical-align: top;\n",
       "    }\n",
       "\n",
       "    .dataframe thead th {\n",
       "        text-align: right;\n",
       "    }\n",
       "</style>\n",
       "<table border=\"1\" class=\"dataframe\">\n",
       "  <thead>\n",
       "    <tr style=\"text-align: right;\">\n",
       "      <th></th>\n",
       "      <th>title</th>\n",
       "      <th>genres</th>\n",
       "      <th>original_language</th>\n",
       "      <th>overview</th>\n",
       "      <th>production_companies</th>\n",
       "      <th>status</th>\n",
       "      <th>tagline</th>\n",
       "      <th>credits</th>\n",
       "      <th>keywords</th>\n",
       "      <th>poster_path</th>\n",
       "      <th>backdrop_path</th>\n",
       "      <th>recommendations</th>\n",
       "    </tr>\n",
       "  </thead>\n",
       "  <tbody>\n",
       "    <tr>\n",
       "      <th>count</th>\n",
       "      <td>5981</td>\n",
       "      <td>5951</td>\n",
       "      <td>5981</td>\n",
       "      <td>5968</td>\n",
       "      <td>5875</td>\n",
       "      <td>5981</td>\n",
       "      <td>5318</td>\n",
       "      <td>5962</td>\n",
       "      <td>5714</td>\n",
       "      <td>5964</td>\n",
       "      <td>5895</td>\n",
       "      <td>5477</td>\n",
       "    </tr>\n",
       "    <tr>\n",
       "      <th>unique</th>\n",
       "      <td>5816</td>\n",
       "      <td>1490</td>\n",
       "      <td>37</td>\n",
       "      <td>5927</td>\n",
       "      <td>4892</td>\n",
       "      <td>1</td>\n",
       "      <td>5284</td>\n",
       "      <td>5922</td>\n",
       "      <td>5633</td>\n",
       "      <td>5922</td>\n",
       "      <td>5871</td>\n",
       "      <td>5455</td>\n",
       "    </tr>\n",
       "    <tr>\n",
       "      <th>top</th>\n",
       "      <td>Shaft</td>\n",
       "      <td>Comedy</td>\n",
       "      <td>en</td>\n",
       "      <td>Julius Fonteneau has decided to take the law i...</td>\n",
       "      <td>Paramount</td>\n",
       "      <td>Released</td>\n",
       "      <td>Your worst fear comes true</td>\n",
       "      <td>Prithviraj Sukumaran-Priya Anand-Sujith Sankar...</td>\n",
       "      <td>woman director</td>\n",
       "      <td>/quKVGPffv7dTxqToe4084P7qVqj.jpg</td>\n",
       "      <td>/sjzilg0o3Ynd1kbQi6xUdrw7JfY.jpg</td>\n",
       "      <td>404665-263494</td>\n",
       "    </tr>\n",
       "    <tr>\n",
       "      <th>freq</th>\n",
       "      <td>3</td>\n",
       "      <td>335</td>\n",
       "      <td>5112</td>\n",
       "      <td>3</td>\n",
       "      <td>76</td>\n",
       "      <td>5981</td>\n",
       "      <td>3</td>\n",
       "      <td>3</td>\n",
       "      <td>14</td>\n",
       "      <td>3</td>\n",
       "      <td>3</td>\n",
       "      <td>3</td>\n",
       "    </tr>\n",
       "  </tbody>\n",
       "</table>\n",
       "</div>"
      ],
      "text/plain": [
       "        title  genres original_language  \\\n",
       "count    5981    5951              5981   \n",
       "unique   5816    1490                37   \n",
       "top     Shaft  Comedy                en   \n",
       "freq        3     335              5112   \n",
       "\n",
       "                                                 overview  \\\n",
       "count                                                5968   \n",
       "unique                                               5927   \n",
       "top     Julius Fonteneau has decided to take the law i...   \n",
       "freq                                                    3   \n",
       "\n",
       "       production_companies    status                     tagline  \\\n",
       "count                  5875      5981                        5318   \n",
       "unique                 4892         1                        5284   \n",
       "top               Paramount  Released  Your worst fear comes true   \n",
       "freq                     76      5981                           3   \n",
       "\n",
       "                                                  credits        keywords  \\\n",
       "count                                                5962            5714   \n",
       "unique                                               5922            5633   \n",
       "top     Prithviraj Sukumaran-Priya Anand-Sujith Sankar...  woman director   \n",
       "freq                                                    3              14   \n",
       "\n",
       "                             poster_path                     backdrop_path  \\\n",
       "count                               5964                              5895   \n",
       "unique                              5922                              5871   \n",
       "top     /quKVGPffv7dTxqToe4084P7qVqj.jpg  /sjzilg0o3Ynd1kbQi6xUdrw7JfY.jpg   \n",
       "freq                                   3                                 3   \n",
       "\n",
       "       recommendations  \n",
       "count             5477  \n",
       "unique            5455  \n",
       "top      404665-263494  \n",
       "freq                 3  "
      ]
     },
     "execution_count": 28,
     "metadata": {},
     "output_type": "execute_result"
    }
   ],
   "source": [
    "# Summary statistics for categorical columns\n",
    "df_movies_3.describe(include=\"object\")"
   ]
  },
  {
   "cell_type": "markdown",
   "id": "90dd4b23-1005-45ff-be95-11cdce2a934d",
   "metadata": {},
   "source": [
    "# Data Cleaning, Part 1"
   ]
  },
  {
   "cell_type": "markdown",
   "id": "e9ae51de-1958-4100-a7d5-1190f0103215",
   "metadata": {},
   "source": [
    "## Filtering Animated Movies\n",
    "\n",
    "To focus on animated movies, we apply sequential filters.\n",
    "\n",
    "1. **Select Movies Tagged as \"Animation\"**  \n",
    "   - Filters movies where the `genres` column contains \"Animation.\"\n",
    "   - Uses `df_movies_3` as the source dataset to maintain consistency.\n",
    "\n",
    "2. **Remove Movies with Missing Revenue or Budget**  \n",
    "   - Drops entries with `revenue = 0` or `budget = 0` to ensure financial data is meaningful.\n",
    "\n",
    "3. **Filter for 21st Century Releases**  \n",
    "   - Keeps only movies released in or after the year 2000.\n",
    "\n",
    "These steps refine the dataset for more relevant analysis."
   ]
  },
  {
   "cell_type": "code",
   "execution_count": 29,
   "id": "2c093c30-f01b-40f7-be57-7c0834605d2b",
   "metadata": {
    "execution": {
     "iopub.execute_input": "2025-03-18T02:38:43.017490Z",
     "iopub.status.busy": "2025-03-18T02:38:43.017280Z",
     "iopub.status.idle": "2025-03-18T02:38:43.042767Z",
     "shell.execute_reply": "2025-03-18T02:38:43.041927Z",
     "shell.execute_reply.started": "2025-03-18T02:38:43.017471Z"
    }
   },
   "outputs": [
    {
     "data": {
      "text/html": [
       "<div>\n",
       "<style scoped>\n",
       "    .dataframe tbody tr th:only-of-type {\n",
       "        vertical-align: middle;\n",
       "    }\n",
       "\n",
       "    .dataframe tbody tr th {\n",
       "        vertical-align: top;\n",
       "    }\n",
       "\n",
       "    .dataframe thead th {\n",
       "        text-align: right;\n",
       "    }\n",
       "</style>\n",
       "<table border=\"1\" class=\"dataframe\">\n",
       "  <thead>\n",
       "    <tr style=\"text-align: right;\">\n",
       "      <th></th>\n",
       "      <th>id</th>\n",
       "      <th>title</th>\n",
       "      <th>genres</th>\n",
       "      <th>original_language</th>\n",
       "      <th>overview</th>\n",
       "      <th>popularity</th>\n",
       "      <th>production_companies</th>\n",
       "      <th>release_date</th>\n",
       "      <th>budget</th>\n",
       "      <th>revenue</th>\n",
       "      <th>runtime</th>\n",
       "      <th>status</th>\n",
       "      <th>tagline</th>\n",
       "      <th>vote_average</th>\n",
       "      <th>vote_count</th>\n",
       "      <th>credits</th>\n",
       "      <th>keywords</th>\n",
       "      <th>poster_path</th>\n",
       "      <th>backdrop_path</th>\n",
       "      <th>recommendations</th>\n",
       "      <th>release_year</th>\n",
       "    </tr>\n",
       "  </thead>\n",
       "  <tbody>\n",
       "    <tr>\n",
       "      <th>9</th>\n",
       "      <td>519182</td>\n",
       "      <td>Despicable Me 4</td>\n",
       "      <td>Animation-Family-Comedy-Action</td>\n",
       "      <td>en</td>\n",
       "      <td>Gru and Lucy and their girls—Margo Edith and A...</td>\n",
       "      <td>3195.720</td>\n",
       "      <td>Universal Pictures-Illumination-dentsu-Fuji Te...</td>\n",
       "      <td>2024-06-20</td>\n",
       "      <td>100000000.0</td>\n",
       "      <td>810329715.0</td>\n",
       "      <td>94.0</td>\n",
       "      <td>Released</td>\n",
       "      <td>Things just got a little more despicable.</td>\n",
       "      <td>7.350</td>\n",
       "      <td>984.0</td>\n",
       "      <td>Steve Carell-Kristen Wiig-Will Ferrell-Sofía V...</td>\n",
       "      <td>superhero-villain-sequel-super villain-illumin...</td>\n",
       "      <td>/wWba3TaojhK7NdycRhoQpsG0FaH.jpg</td>\n",
       "      <td>/lgkPzcOSnTvjeMnuFzozRO5HHw1.jpg</td>\n",
       "      <td>748783-1022789-1023922-533535-1114738-718821-5...</td>\n",
       "      <td>2024.0</td>\n",
       "    </tr>\n",
       "    <tr>\n",
       "      <th>10</th>\n",
       "      <td>569094</td>\n",
       "      <td>Spider-Man: Across the Spider-Verse</td>\n",
       "      <td>Action-Adventure-Animation-Science Fiction</td>\n",
       "      <td>en</td>\n",
       "      <td>After reuniting with Gwen Stacy Brooklyn’s ful...</td>\n",
       "      <td>2550.738</td>\n",
       "      <td>Columbia Pictures-Sony Pictures Animation-Lord...</td>\n",
       "      <td>2023-05-31</td>\n",
       "      <td>100000000.0</td>\n",
       "      <td>512609552.0</td>\n",
       "      <td>140.0</td>\n",
       "      <td>Released</td>\n",
       "      <td>It's how you wear the mask that matters</td>\n",
       "      <td>8.640</td>\n",
       "      <td>1684.0</td>\n",
       "      <td>Shameik Moore-Hailee Steinfeld-Brian Tyree Hen...</td>\n",
       "      <td>sacrifice-villain-comic book-sequel-superhero-...</td>\n",
       "      <td>/8Vt6mWEReuy4Of61Lnj5Xj704m8.jpg</td>\n",
       "      <td>/4HodYYKEIsGOdinkGi2Ucz6X9i0.jpg</td>\n",
       "      <td>496450-667538-385687-603692-298618-447277-9765...</td>\n",
       "      <td>2023.0</td>\n",
       "    </tr>\n",
       "    <tr>\n",
       "      <th>26</th>\n",
       "      <td>315162</td>\n",
       "      <td>Puss in Boots: The Last Wish</td>\n",
       "      <td>Animation-Family-Fantasy-Adventure-Comedy</td>\n",
       "      <td>en</td>\n",
       "      <td>Puss in Boots discovers that his passion for a...</td>\n",
       "      <td>904.250</td>\n",
       "      <td>DreamWorks Animation-Universal Pictures</td>\n",
       "      <td>2022-12-07</td>\n",
       "      <td>90000000.0</td>\n",
       "      <td>480000000.0</td>\n",
       "      <td>103.0</td>\n",
       "      <td>Released</td>\n",
       "      <td>Say hola to his little friends.</td>\n",
       "      <td>8.284</td>\n",
       "      <td>5759.0</td>\n",
       "      <td>Antonio Banderas-Salma Hayek Pinault-Harvey Gu...</td>\n",
       "      <td>fairy tale-talking dog-spin off-aftercreditsst...</td>\n",
       "      <td>/kuf6dutpsT0vSVehic3EZIqkOBt.jpg</td>\n",
       "      <td>/jr8tSoJGj33XLgFBy6lmZhpGQNu.jpg</td>\n",
       "      <td>943822-1033456-505642-1011679-1058949-100088-1...</td>\n",
       "      <td>2022.0</td>\n",
       "    </tr>\n",
       "    <tr>\n",
       "      <th>27</th>\n",
       "      <td>748783</td>\n",
       "      <td>The Garfield Movie</td>\n",
       "      <td>Animation-Comedy-Family-Adventure-Action</td>\n",
       "      <td>en</td>\n",
       "      <td>Garfield the world-famous Monday-hating lasagn...</td>\n",
       "      <td>813.181</td>\n",
       "      <td>Alcon Entertainment-DNEG-Wayfarer Studios-One ...</td>\n",
       "      <td>2024-04-30</td>\n",
       "      <td>60000000.0</td>\n",
       "      <td>221871392.0</td>\n",
       "      <td>101.0</td>\n",
       "      <td>Released</td>\n",
       "      <td>Indoor cat. Outdoor adventure.</td>\n",
       "      <td>7.179</td>\n",
       "      <td>815.0</td>\n",
       "      <td>Chris Pratt-Samuel L. Jackson-Hannah Waddingha...</td>\n",
       "      <td>friendship-cat-villain-based on comic-lasagne-...</td>\n",
       "      <td>/xYduFGuch9OwbCOEUiamml18ZoB.jpg</td>\n",
       "      <td>/1wP1phHo2CROOqzv7Azs0MT5esU.jpg</td>\n",
       "      <td>1093995-974262-653346-639720-1197406-1207898-1...</td>\n",
       "      <td>2024.0</td>\n",
       "    </tr>\n",
       "    <tr>\n",
       "      <th>28</th>\n",
       "      <td>940551</td>\n",
       "      <td>Migration</td>\n",
       "      <td>Animation-Action-Adventure-Comedy-Family</td>\n",
       "      <td>en</td>\n",
       "      <td>After a migrating duck family alights on their...</td>\n",
       "      <td>800.053</td>\n",
       "      <td>Illumination</td>\n",
       "      <td>2023-12-06</td>\n",
       "      <td>72000000.0</td>\n",
       "      <td>289076685.0</td>\n",
       "      <td>83.0</td>\n",
       "      <td>Released</td>\n",
       "      <td>Odd ducks welcome.</td>\n",
       "      <td>7.563</td>\n",
       "      <td>1009.0</td>\n",
       "      <td>Kumail Nanjiani-Elizabeth Banks-Caspar Jenning...</td>\n",
       "      <td>duck-migration-flight-anthropomorphism-family-...</td>\n",
       "      <td>/ldfCF9RhR40mppkzmftxapaHeTo.jpg</td>\n",
       "      <td>/meyhnvssZOPPjud4F1CjOb4snET.jpg</td>\n",
       "      <td>609681-572802-1022796-866398-787699-930564-845...</td>\n",
       "      <td>2023.0</td>\n",
       "    </tr>\n",
       "  </tbody>\n",
       "</table>\n",
       "</div>"
      ],
      "text/plain": [
       "        id                                title  \\\n",
       "9   519182                      Despicable Me 4   \n",
       "10  569094  Spider-Man: Across the Spider-Verse   \n",
       "26  315162         Puss in Boots: The Last Wish   \n",
       "27  748783                   The Garfield Movie   \n",
       "28  940551                            Migration   \n",
       "\n",
       "                                        genres original_language  \\\n",
       "9               Animation-Family-Comedy-Action                en   \n",
       "10  Action-Adventure-Animation-Science Fiction                en   \n",
       "26   Animation-Family-Fantasy-Adventure-Comedy                en   \n",
       "27    Animation-Comedy-Family-Adventure-Action                en   \n",
       "28    Animation-Action-Adventure-Comedy-Family                en   \n",
       "\n",
       "                                             overview  popularity  \\\n",
       "9   Gru and Lucy and their girls—Margo Edith and A...    3195.720   \n",
       "10  After reuniting with Gwen Stacy Brooklyn’s ful...    2550.738   \n",
       "26  Puss in Boots discovers that his passion for a...     904.250   \n",
       "27  Garfield the world-famous Monday-hating lasagn...     813.181   \n",
       "28  After a migrating duck family alights on their...     800.053   \n",
       "\n",
       "                                 production_companies release_date  \\\n",
       "9   Universal Pictures-Illumination-dentsu-Fuji Te...   2024-06-20   \n",
       "10  Columbia Pictures-Sony Pictures Animation-Lord...   2023-05-31   \n",
       "26            DreamWorks Animation-Universal Pictures   2022-12-07   \n",
       "27  Alcon Entertainment-DNEG-Wayfarer Studios-One ...   2024-04-30   \n",
       "28                                       Illumination   2023-12-06   \n",
       "\n",
       "         budget      revenue  runtime    status  \\\n",
       "9   100000000.0  810329715.0     94.0  Released   \n",
       "10  100000000.0  512609552.0    140.0  Released   \n",
       "26   90000000.0  480000000.0    103.0  Released   \n",
       "27   60000000.0  221871392.0    101.0  Released   \n",
       "28   72000000.0  289076685.0     83.0  Released   \n",
       "\n",
       "                                      tagline  vote_average  vote_count  \\\n",
       "9   Things just got a little more despicable.         7.350       984.0   \n",
       "10    It's how you wear the mask that matters         8.640      1684.0   \n",
       "26            Say hola to his little friends.         8.284      5759.0   \n",
       "27             Indoor cat. Outdoor adventure.         7.179       815.0   \n",
       "28                         Odd ducks welcome.         7.563      1009.0   \n",
       "\n",
       "                                              credits  \\\n",
       "9   Steve Carell-Kristen Wiig-Will Ferrell-Sofía V...   \n",
       "10  Shameik Moore-Hailee Steinfeld-Brian Tyree Hen...   \n",
       "26  Antonio Banderas-Salma Hayek Pinault-Harvey Gu...   \n",
       "27  Chris Pratt-Samuel L. Jackson-Hannah Waddingha...   \n",
       "28  Kumail Nanjiani-Elizabeth Banks-Caspar Jenning...   \n",
       "\n",
       "                                             keywords  \\\n",
       "9   superhero-villain-sequel-super villain-illumin...   \n",
       "10  sacrifice-villain-comic book-sequel-superhero-...   \n",
       "26  fairy tale-talking dog-spin off-aftercreditsst...   \n",
       "27  friendship-cat-villain-based on comic-lasagne-...   \n",
       "28  duck-migration-flight-anthropomorphism-family-...   \n",
       "\n",
       "                         poster_path                     backdrop_path  \\\n",
       "9   /wWba3TaojhK7NdycRhoQpsG0FaH.jpg  /lgkPzcOSnTvjeMnuFzozRO5HHw1.jpg   \n",
       "10  /8Vt6mWEReuy4Of61Lnj5Xj704m8.jpg  /4HodYYKEIsGOdinkGi2Ucz6X9i0.jpg   \n",
       "26  /kuf6dutpsT0vSVehic3EZIqkOBt.jpg  /jr8tSoJGj33XLgFBy6lmZhpGQNu.jpg   \n",
       "27  /xYduFGuch9OwbCOEUiamml18ZoB.jpg  /1wP1phHo2CROOqzv7Azs0MT5esU.jpg   \n",
       "28  /ldfCF9RhR40mppkzmftxapaHeTo.jpg  /meyhnvssZOPPjud4F1CjOb4snET.jpg   \n",
       "\n",
       "                                      recommendations  release_year  \n",
       "9   748783-1022789-1023922-533535-1114738-718821-5...        2024.0  \n",
       "10  496450-667538-385687-603692-298618-447277-9765...        2023.0  \n",
       "26  943822-1033456-505642-1011679-1058949-100088-1...        2022.0  \n",
       "27  1093995-974262-653346-639720-1197406-1207898-1...        2024.0  \n",
       "28  609681-572802-1022796-866398-787699-930564-845...        2023.0  "
      ]
     },
     "execution_count": 29,
     "metadata": {},
     "output_type": "execute_result"
    }
   ],
   "source": [
    "# Select movies with \"Animation\" in the genres column\n",
    "df_animation = df_movies_3[df_movies_3[\"genres\"].notna() & df_movies_3[\"genres\"].str.contains(\"Animation\")]\n",
    "\n",
    "# Display first five rows\n",
    "df_animation.head(5)"
   ]
  },
  {
   "cell_type": "code",
   "execution_count": 30,
   "id": "6d97280a-42c4-4276-bbd8-9249b5214146",
   "metadata": {
    "execution": {
     "iopub.execute_input": "2025-03-18T02:38:43.043709Z",
     "iopub.status.busy": "2025-03-18T02:38:43.043488Z",
     "iopub.status.idle": "2025-03-18T02:38:43.067584Z",
     "shell.execute_reply": "2025-03-18T02:38:43.066014Z",
     "shell.execute_reply.started": "2025-03-18T02:38:43.043688Z"
    }
   },
   "outputs": [
    {
     "data": {
      "text/plain": [
       "(384, 21)"
      ]
     },
     "execution_count": 30,
     "metadata": {},
     "output_type": "execute_result"
    }
   ],
   "source": [
    "# Display the number of animated movies\n",
    "df_animation.shape"
   ]
  },
  {
   "cell_type": "code",
   "execution_count": 31,
   "id": "c2960c31-ca8f-47da-870e-25081656ea91",
   "metadata": {
    "execution": {
     "iopub.execute_input": "2025-03-18T02:38:43.070105Z",
     "iopub.status.busy": "2025-03-18T02:38:43.069279Z",
     "iopub.status.idle": "2025-03-18T02:38:43.095629Z",
     "shell.execute_reply": "2025-03-18T02:38:43.094245Z",
     "shell.execute_reply.started": "2025-03-18T02:38:43.070046Z"
    }
   },
   "outputs": [
    {
     "name": "stdout",
     "output_type": "stream",
     "text": [
      "Length before filtering year: 384\n",
      "Length covering the 21st century: 314\n"
     ]
    }
   ],
   "source": [
    "# Track dataset size before filtering by release year\n",
    "print(\"Length before filtering year:\", len(df_animation))\n",
    "\n",
    "# Create a new filtered dataframe for 21st-century animated movies\n",
    "df_animation_1 = df_animation[df_animation[\"release_date\"].dt.year >= 2000]\n",
    "\n",
    "# Display dataset size after filtering\n",
    "print(\"Length covering the 21st century:\", len(df_animation_1))"
   ]
  },
  {
   "cell_type": "code",
   "execution_count": 32,
   "id": "205e0649-fc4b-49cb-9242-8a65e83bd0fb",
   "metadata": {
    "execution": {
     "iopub.execute_input": "2025-03-18T02:38:43.098170Z",
     "iopub.status.busy": "2025-03-18T02:38:43.097365Z",
     "iopub.status.idle": "2025-03-18T02:38:43.119974Z",
     "shell.execute_reply": "2025-03-18T02:38:43.118606Z",
     "shell.execute_reply.started": "2025-03-18T02:38:43.098111Z"
    }
   },
   "outputs": [
    {
     "data": {
      "text/plain": [
       "Index(['id', 'title', 'genres', 'original_language', 'overview', 'popularity',\n",
       "       'production_companies', 'release_date', 'budget', 'revenue', 'runtime',\n",
       "       'status', 'tagline', 'vote_average', 'vote_count', 'credits',\n",
       "       'keywords', 'poster_path', 'backdrop_path', 'recommendations',\n",
       "       'release_year'],\n",
       "      dtype='object')"
      ]
     },
     "execution_count": 32,
     "metadata": {},
     "output_type": "execute_result"
    }
   ],
   "source": [
    "# Display column names in the filtered animated movies dataset\n",
    "df_animation_1.columns"
   ]
  },
  {
   "cell_type": "markdown",
   "id": "121577d7-3404-4488-b5d8-a1acd46cf5df",
   "metadata": {},
   "source": [
    "# EDA, Part 2: Feature Selection"
   ]
  },
  {
   "cell_type": "markdown",
   "id": "4a52e058-148e-48ae-ab9a-532f320e0306",
   "metadata": {},
   "source": [
    "## Numerical"
   ]
  },
  {
   "cell_type": "markdown",
   "id": "07c8e774-60de-4557-aa7b-1e76db693de8",
   "metadata": {},
   "source": [
    "**Pearson Correlation Analysis**\n",
    "\n",
    "Pearson correlation measures the **linear relationship** between two numerical variables. It ranges from **-1 to 1**, where:\n",
    "- **1.0**: Perfect positive correlation (as one variable increases, the other increases)\n",
    "- **-1.0**: Perfect negative correlation (as one variable increases, the other decreases)\n",
    "- **0.0**: No correlation (no linear relationship)\n",
    "\n",
    "We compute Pearson correlation between **revenue** and key numerical features:  \n",
    "- **Budget**: To assess whether higher production budgets result in higher revenue.\n",
    "- **Runtime**: To check if movie length impacts revenue."
   ]
  },
  {
   "cell_type": "markdown",
   "id": "2efc55aa-e982-4e1a-81bd-fb681b30029c",
   "metadata": {},
   "source": [
    "### Revenue Analysis\n",
    "\n",
    "We examine revenue distribution and its correlation with budget and runtime."
   ]
  },
  {
   "cell_type": "code",
   "execution_count": 33,
   "id": "ae927d7b-864b-43d7-8ef5-59cfe3e5656d",
   "metadata": {
    "execution": {
     "iopub.execute_input": "2025-03-18T02:38:43.122674Z",
     "iopub.status.busy": "2025-03-18T02:38:43.121700Z",
     "iopub.status.idle": "2025-03-18T02:38:43.142137Z",
     "shell.execute_reply": "2025-03-18T02:38:43.141097Z",
     "shell.execute_reply.started": "2025-03-18T02:38:43.122616Z"
    }
   },
   "outputs": [
    {
     "name": "stdout",
     "output_type": "stream",
     "text": [
      "Top 10 Revenue Entries:\n",
      "                             title       revenue\n",
      "387                     Frozen II  1.450000e+09\n",
      "85    The Super Mario Bros. Movie  1.362000e+09\n",
      "211                        Frozen  1.274219e+09\n",
      "578                 Incredibles 2  1.242805e+09\n",
      "1467                      Minions  1.156731e+09\n",
      "259                   Toy Story 4  1.073395e+09\n",
      "307                   Toy Story 3  1.067316e+09\n",
      "1318              Despicable Me 3  1.031553e+09\n",
      "1388                 Finding Dory  1.028571e+09\n",
      "216                      Zootopia  1.023784e+09\n",
      "\n",
      "Lowest 10 Revenue Entries:\n",
      "                                           title    revenue\n",
      "4372                                   Donkey X  7365250.0\n",
      "3652                           A Scanner Darkly  7659918.0\n",
      "2810                        An Egg-celent movie  7800000.0\n",
      "3948                         Ernest & Celestine  8109160.0\n",
      "4479                     The Fixies: Top Secret  8220990.0\n",
      "3879                           Capture the Flag  8306690.0\n",
      "4161                       Condorito: The Movie  8431194.0\n",
      "5912  Чародей равновесия. Тайна Сухаревой башни  8442829.0\n",
      "3408              Another Egg and Chicken Movie  8600000.0\n",
      "3537                                   Charming  8751856.0\n"
     ]
    }
   ],
   "source": [
    "top_10_revenue = df_animation_1[[\"title\", \"revenue\"]].sort_values(by=\"revenue\", ascending=False).head(10)\n",
    "lowest_10_revenue = df_animation_1[[\"title\", \"revenue\"]].sort_values(by=\"revenue\").head(10)\n",
    "\n",
    "print(\"Top 10 Revenue Entries:\\n\", top_10_revenue)\n",
    "print(\"\\nLowest 10 Revenue Entries:\\n\", lowest_10_revenue)"
   ]
  },
  {
   "cell_type": "code",
   "execution_count": 34,
   "id": "fc570964-7e4e-487c-84c5-16f91ec3a28b",
   "metadata": {
    "execution": {
     "iopub.execute_input": "2025-03-18T02:38:43.143350Z",
     "iopub.status.busy": "2025-03-18T02:38:43.142993Z",
     "iopub.status.idle": "2025-03-18T02:38:43.456712Z",
     "shell.execute_reply": "2025-03-18T02:38:43.455644Z",
     "shell.execute_reply.started": "2025-03-18T02:38:43.143315Z"
    }
   },
   "outputs": [
    {
     "data": {
      "image/png": "[encoded data removed]",
      "text/plain": [
       "<Figure size 800x500 with 1 Axes>"
      ]
     },
     "metadata": {},
     "output_type": "display_data"
    }
   ],
   "source": [
    "plt.figure(figsize=(8, 5))\n",
    "plt.hist(df_animation_1[\"revenue\"] / 10**7, bins=30, color=\"palevioletred\", edgecolor=\"black\")\n",
    "plt.title(\"Distribution of Revenue\")\n",
    "plt.xlabel(\"Revenue (in 10^7)\")\n",
    "plt.ylabel(\"Count\")\n",
    "plt.yscale(\"log\")\n",
    "plt.xticks(range(0, int(df_animation_1[\"revenue\"].max() / 10**7) + 1, 20))\n",
    "plt.show()"
   ]
  },
  {
   "cell_type": "markdown",
   "id": "683e947d-59cd-4ebf-8a62-3e14a2b3fbbd",
   "metadata": {},
   "source": [
    "### Budget Analysis\n",
    "\n",
    "We analyze budget distribution and compute its correlation with revenue."
   ]
  },
  {
   "cell_type": "code",
   "execution_count": 35,
   "id": "74eb995c-7b72-475f-bf76-d8c89463e673",
   "metadata": {
    "execution": {
     "iopub.execute_input": "2025-03-18T02:38:43.457715Z",
     "iopub.status.busy": "2025-03-18T02:38:43.457479Z",
     "iopub.status.idle": "2025-03-18T02:38:43.468250Z",
     "shell.execute_reply": "2025-03-18T02:38:43.467426Z",
     "shell.execute_reply.started": "2025-03-18T02:38:43.457688Z"
    }
   },
   "outputs": [
    {
     "name": "stdout",
     "output_type": "stream",
     "text": [
      "Top 10 Budget Entries:\n",
      "                              title       budget\n",
      "5760  Mega Man X: The Day of Sigma  300000000.0\n",
      "364                        Tangled  260000000.0\n",
      "346                      Lightyear  200000000.0\n",
      "307                    Toy Story 3  200000000.0\n",
      "424              A Christmas Carol  200000000.0\n",
      "188                           Luca  200000000.0\n",
      "578                  Incredibles 2  200000000.0\n",
      "590            Monsters University  200000000.0\n",
      "1388                  Finding Dory  200000000.0\n",
      "848                         Onward  200000000.0\n",
      "\n",
      "Lowest 10 Budget Entries:\n",
      "                                           title     budget\n",
      "5951                          Little Tikes Land   100000.0\n",
      "2810                        An Egg-celent movie   800000.0\n",
      "664                  The Last: Naruto the Movie   903852.0\n",
      "1574                   Dragon Ball Super: Broly  1000000.0\n",
      "5912  Чародей равновесия. Тайна Сухаревой башни  1133865.0\n",
      "4374                          Waltz with Bashir  1500000.0\n",
      "3408              Another Egg and Chicken Movie  1900000.0\n",
      "4838           Love Live! The School Idol Movie  3000000.0\n",
      "5702       Three Heroes and the Shamakhan Queen  3000000.0\n",
      "3432            The Big Bad Fox and Other Tales  3000000.0\n"
     ]
    }
   ],
   "source": [
    "top_10_budget = df_animation_1[[\"title\", \"budget\"]].sort_values(by=\"budget\", ascending=False).head(10)\n",
    "lowest_10_budget = df_animation_1[[\"title\", \"budget\"]].sort_values(by=\"budget\").head(10)\n",
    "\n",
    "print(\"Top 10 Budget Entries:\\n\", top_10_budget)\n",
    "print(\"\\nLowest 10 Budget Entries:\\n\", lowest_10_budget)"
   ]
  },
  {
   "cell_type": "code",
   "execution_count": 36,
   "id": "c779e705-6c67-468a-abc7-3aaedd92561f",
   "metadata": {
    "execution": {
     "iopub.execute_input": "2025-03-18T02:38:43.469179Z",
     "iopub.status.busy": "2025-03-18T02:38:43.468957Z",
     "iopub.status.idle": "2025-03-18T02:38:43.742823Z",
     "shell.execute_reply": "2025-03-18T02:38:43.741997Z",
     "shell.execute_reply.started": "2025-03-18T02:38:43.469159Z"
    }
   },
   "outputs": [
    {
     "data": {
      "image/png": "[encoded data removed]",
      "text/plain": [
       "<Figure size 800x500 with 1 Axes>"
      ]
     },
     "metadata": {},
     "output_type": "display_data"
    }
   ],
   "source": [
    "plt.figure(figsize=(8, 5))\n",
    "plt.hist(df_animation_1[\"budget\"] / 10**7, bins=30, color=\"palevioletred\", edgecolor=\"black\")\n",
    "plt.title(\"Distribution of Budget (in 10^7)\")\n",
    "plt.xlabel(\"Budget (in 10^7)\")\n",
    "plt.ylabel(\"Count\")\n",
    "plt.yscale(\"log\")  # Log scale for better visibility\n",
    "plt.show()"
   ]
  },
  {
   "cell_type": "code",
   "execution_count": 37,
   "id": "24fc5c7d-e072-423e-8b01-9427c07bdb28",
   "metadata": {
    "execution": {
     "iopub.execute_input": "2025-03-18T02:38:43.743708Z",
     "iopub.status.busy": "2025-03-18T02:38:43.743486Z",
     "iopub.status.idle": "2025-03-18T02:38:43.753010Z",
     "shell.execute_reply": "2025-03-18T02:38:43.752207Z",
     "shell.execute_reply.started": "2025-03-18T02:38:43.743688Z"
    }
   },
   "outputs": [
    {
     "name": "stdout",
     "output_type": "stream",
     "text": [
      "Pearson Correlation between Budget and Revenue: 0.5926\n",
      "P-value: 0.0000\n"
     ]
    }
   ],
   "source": [
    "# Copy dataset and remove missing values\n",
    "df_animation_2 = df_animation_1[[\"budget\", \"revenue\"]].dropna()\n",
    "\n",
    "# Compute Pearson correlation and p-value\n",
    "corr_budget, p_value_budget = pearsonr(df_animation_2[\"budget\"], df_animation_2[\"revenue\"])\n",
    "\n",
    "# Display results\n",
    "print(f\"Pearson Correlation between Budget and Revenue: {corr_budget:.4f}\")\n",
    "print(f\"P-value: {p_value_budget:.4f}\")"
   ]
  },
  {
   "cell_type": "markdown",
   "id": "00b9839f-6e2c-40cd-be1e-4f1eda7b0b05",
   "metadata": {},
   "source": [
    "### Runtime Analysis\n",
    "\n",
    "We explore the distribution of runtime and its correlation with revenue."
   ]
  },
  {
   "cell_type": "code",
   "execution_count": 38,
   "id": "336349eb-21fa-45f6-8e4a-d794ed0c99f5",
   "metadata": {
    "execution": {
     "iopub.execute_input": "2025-03-18T02:38:43.754151Z",
     "iopub.status.busy": "2025-03-18T02:38:43.753786Z",
     "iopub.status.idle": "2025-03-18T02:38:44.142400Z",
     "shell.execute_reply": "2025-03-18T02:38:44.141548Z",
     "shell.execute_reply.started": "2025-03-18T02:38:43.754131Z"
    }
   },
   "outputs": [
    {
     "data": {
      "image/png": "[encoded data removed]",
      "text/plain": [
       "<Figure size 640x480 with 1 Axes>"
      ]
     },
     "metadata": {},
     "output_type": "display_data"
    }
   ],
   "source": [
    "sns.histplot(df_animation_1[\"runtime\"], kde=True)\n",
    "plt.title(\"Runtime Distribution\")\n",
    "plt.show()"
   ]
  },
  {
   "cell_type": "code",
   "execution_count": 39,
   "id": "98cc8e79-6eb4-461c-b91c-38882174eb03",
   "metadata": {
    "execution": {
     "iopub.execute_input": "2025-03-18T02:38:44.143409Z",
     "iopub.status.busy": "2025-03-18T02:38:44.143181Z",
     "iopub.status.idle": "2025-03-18T02:38:44.154010Z",
     "shell.execute_reply": "2025-03-18T02:38:44.153158Z",
     "shell.execute_reply.started": "2025-03-18T02:38:44.143389Z"
    }
   },
   "outputs": [
    {
     "name": "stdout",
     "output_type": "stream",
     "text": [
      "Pearson Correlation between Runtime and Revenue: 0.2325\n",
      "P-value: 0.0000\n"
     ]
    }
   ],
   "source": [
    "# Copy dataset\n",
    "df_animation_3 = df_animation_1.copy()\n",
    "\n",
    "# Fill missing runtime values with the median\n",
    "df_animation_3[\"runtime\"].fillna(df_animation_3[\"runtime\"].median(), inplace=True)\n",
    "\n",
    "# Remove rows with missing revenue values\n",
    "df_animation_3 = df_animation_3[[\"runtime\", \"revenue\"]].dropna()\n",
    "\n",
    "# Compute Pearson correlation and p-value\n",
    "corr_runtime, p_value_runtime = pearsonr(df_animation_3[\"runtime\"], df_animation_3[\"revenue\"])\n",
    "\n",
    "# Display results\n",
    "print(f\"Pearson Correlation between Runtime and Revenue: {corr_runtime:.4f}\")\n",
    "print(f\"P-value: {p_value_runtime:.4f}\")"
   ]
  },
  {
   "cell_type": "markdown",
   "id": "ab12fb4a-3712-4194-8e5e-b010df39c48c",
   "metadata": {},
   "source": [
    "### Year of Release"
   ]
  },
  {
   "cell_type": "code",
   "execution_count": 40,
   "id": "40b5a769-68c9-4187-9849-dba67ccdab97",
   "metadata": {
    "execution": {
     "iopub.execute_input": "2025-03-18T02:38:44.154996Z",
     "iopub.status.busy": "2025-03-18T02:38:44.154758Z",
     "iopub.status.idle": "2025-03-18T02:38:44.162344Z",
     "shell.execute_reply": "2025-03-18T02:38:44.161468Z",
     "shell.execute_reply.started": "2025-03-18T02:38:44.154973Z"
    }
   },
   "outputs": [
    {
     "name": "stdout",
     "output_type": "stream",
     "text": [
      "Earliest release date: 2000-02-11 00:00:00\n",
      "Latest release date: 2024-06-20 00:00:00\n"
     ]
    }
   ],
   "source": [
    "# Convert release date column to datetime format, coercing errors to NaT\n",
    "df_animation_1[\"release_date\"] = pd.to_datetime(\n",
    "    df_animation_1[\"release_date\"], errors=\"coerce\"\n",
    ")\n",
    "\n",
    "# Find the earliest and latest release dates\n",
    "earliest_date_anim = df_animation_1[\"release_date\"].min()\n",
    "latest_date_anim = df_animation_1[\"release_date\"].max()\n",
    "\n",
    "# Print the earliest and latest release dates\n",
    "print(f\"Earliest release date: {earliest_date_anim}\")\n",
    "print(f\"Latest release date: {latest_date_anim}\")"
   ]
  },
  {
   "cell_type": "code",
   "execution_count": 41,
   "id": "562490a6-bcc9-4522-9e0a-59b9d22eac95",
   "metadata": {
    "execution": {
     "iopub.execute_input": "2025-03-18T02:38:44.163195Z",
     "iopub.status.busy": "2025-03-18T02:38:44.162975Z",
     "iopub.status.idle": "2025-03-18T02:38:44.532485Z",
     "shell.execute_reply": "2025-03-18T02:38:44.531626Z",
     "shell.execute_reply.started": "2025-03-18T02:38:44.163173Z"
    }
   },
   "outputs": [
    {
     "data": {
      "image/png": "[encoded data removed]",
      "text/plain": [
       "<Figure size 640x480 with 1 Axes>"
      ]
     },
     "metadata": {},
     "output_type": "display_data"
    }
   ],
   "source": [
    "# Extract release year from the release date column\n",
    "df_animation_1[\"release_year\"] = df_animation_1[\"release_date\"].dt.year\n",
    "\n",
    "# Plot the release year distribution\n",
    "sns.histplot(df_animation_1[\"release_year\"], kde=True)\n",
    "plt.title(\"Release Year Distribution\")\n",
    "plt.xlabel(\"Release Year\")\n",
    "plt.ylabel(\"Count\")\n",
    "plt.show()"
   ]
  },
  {
   "cell_type": "code",
   "execution_count": 42,
   "id": "3dc62103-3e32-4644-a931-25b4f3fa34c9",
   "metadata": {
    "execution": {
     "iopub.execute_input": "2025-03-18T02:38:44.533585Z",
     "iopub.status.busy": "2025-03-18T02:38:44.533332Z",
     "iopub.status.idle": "2025-03-18T02:38:44.544319Z",
     "shell.execute_reply": "2025-03-18T02:38:44.543396Z",
     "shell.execute_reply.started": "2025-03-18T02:38:44.533556Z"
    }
   },
   "outputs": [
    {
     "name": "stdout",
     "output_type": "stream",
     "text": [
      "Spearman Correlation between Release Year and Revenue: 0.0504\n",
      "P-value: 0.3732\n"
     ]
    }
   ],
   "source": [
    "# Copy dataset and extract release year\n",
    "df_animation_4 = df_animation_1.copy()\n",
    "df_animation_4[\"release_year\"] = df_animation_4[\"release_date\"].dt.year\n",
    "\n",
    "# Drop rows with missing values in release_year or revenue\n",
    "df_animation_4 = df_animation_4[[\"release_year\", \"revenue\"]].dropna()\n",
    "\n",
    "# Compute Spearman correlation and p-value\n",
    "corr_year, p_value_year = spearmanr(df_animation_4[\"release_year\"], df_animation_4[\"revenue\"])\n",
    "\n",
    "# Display results\n",
    "print(f\"Spearman Correlation between Release Year and Revenue: {corr_year:.4f}\")\n",
    "print(f\"P-value: {p_value_year:.4f}\")"
   ]
  },
  {
   "cell_type": "markdown",
   "id": "d5a1233d-d1b5-4d44-9b76-e557cd67923b",
   "metadata": {},
   "source": [
    "### Feature Selection\n",
    "\n",
    "**Kept Features**\n",
    "- **Budget (Correlation = 0.5926)**  \n",
    "  A moderate-to-strong positive correlation suggests that higher budgets are associated with higher revenue. Larger budgets typically allow for better production, marketing, and distribution, leading to increased earnings.\n",
    "\n",
    "- **Runtime (Correlation = 0.2325)**  \n",
    "  A weak-to-moderate positive correlation indicates that longer movies may generate slightly higher revenue, likely due to higher production value. However, the effect is less direct than budget, as longer runtimes can also limit daily screenings.\n",
    "\n",
    "**Dropped Features**\n",
    "- **Release year**\n",
    "    \n",
    "    Release year will not be included because its **high p-value (0.3732)** indicate **no meaningful relationship** with revenue; instead, **seasonal timing (quarters) is a more actionable and predictive feature** for movie success. Release year is not actionable because studios cannot release a movie in the past. Instead, seasonal timing (quarters) is more relevant and will be explored in the Feature Engineering section of this notebook, as studios can strategically choose when to release a film (e.g., summer, holiday season)."
   ]
  },
  {
   "cell_type": "markdown",
   "id": "de3ac1e8-a9b5-4d2e-a03a-447f34bb8e79",
   "metadata": {},
   "source": [
    "## Categorical"
   ]
  },
  {
   "cell_type": "markdown",
   "id": "f482a269-989f-4400-a2fb-dbd7efc67cbd",
   "metadata": {},
   "source": [
    "**General Function for Splitting Delimited Strings**\n",
    "  \n",
    "The function `split_delimited_string` standardizes and processes delimited categorical data. It ensures consistency by replacing commas with hyphens before splitting the string into a list. This is useful for categorical features that store multiple values in a single column."
   ]
  },
  {
   "cell_type": "code",
   "execution_count": 43,
   "id": "1a2cdaf9-6637-4cfd-9ae5-e6db4c7a2984",
   "metadata": {
    "execution": {
     "iopub.execute_input": "2025-03-18T02:38:44.545227Z",
     "iopub.status.busy": "2025-03-18T02:38:44.544985Z",
     "iopub.status.idle": "2025-03-18T02:38:44.549278Z",
     "shell.execute_reply": "2025-03-18T02:38:44.548476Z",
     "shell.execute_reply.started": "2025-03-18T02:38:44.545205Z"
    }
   },
   "outputs": [],
   "source": [
    "def dash_str_to_list(value):\n",
    "    \"\"\"Converts a delimited string into a list, unifying delimiters before splitting.\"\"\"\n",
    "    if isinstance(value, str):\n",
    "        return value.replace(\",\", \"-\").split(\"-\")  # Unify delimiters before splitting\n",
    "    return []"
   ]
  },
  {
   "cell_type": "markdown",
   "id": "872881b6-cd2c-4379-a3d3-ac157dcac858",
   "metadata": {},
   "source": [
    "### Genre  \n",
    "\n",
    "This section processes and analyzes the `genres` column in the dataset. It includes transforming genre strings into lists, analyzing genre distributions, and evaluating their impact on revenue using Mutual Information (MI)."
   ]
  },
  {
   "cell_type": "code",
   "execution_count": 44,
   "id": "d89db676-3609-4281-bf05-b5de2e0d36c8",
   "metadata": {
    "execution": {
     "iopub.execute_input": "2025-03-18T02:38:44.550568Z",
     "iopub.status.busy": "2025-03-18T02:38:44.550158Z",
     "iopub.status.idle": "2025-03-18T02:38:44.839727Z",
     "shell.execute_reply": "2025-03-18T02:38:44.838870Z",
     "shell.execute_reply.started": "2025-03-18T02:38:44.550545Z"
    }
   },
   "outputs": [
    {
     "data": {
      "image/png": "[encoded data removed]",
      "text/plain": [
       "<Figure size 1000x600 with 1 Axes>"
      ]
     },
     "metadata": {},
     "output_type": "display_data"
    }
   ],
   "source": [
    "df_animation_1[\"genres_list\"] = df_animation_1[\"genres\"].apply(dash_str_to_list)\n",
    "\n",
    "exploded_df_genre = df_animation_1.explode(\"genres_list\")\n",
    "\n",
    "genre_counts = exploded_df_genre[\"genres_list\"].value_counts()\n",
    "filtered_genre_count = genre_counts.drop(\"Animation\")\n",
    "\n",
    "plt.figure(figsize=(10, 6))\n",
    "sns.barplot(x=filtered_genre_count.values, y=filtered_genre_count.index, palette=\"viridis\")\n",
    "plt.title(\"Genre Distribution (Excluding Animation)\")\n",
    "plt.xlabel(\"Count\")\n",
    "plt.ylabel(\"Genres\")\n",
    "plt.show()"
   ]
  },
  {
   "cell_type": "code",
   "execution_count": 45,
   "id": "eee870cd-ba58-49db-addb-6aedd5a3d63f",
   "metadata": {
    "execution": {
     "iopub.execute_input": "2025-03-18T02:38:44.840636Z",
     "iopub.status.busy": "2025-03-18T02:38:44.840389Z",
     "iopub.status.idle": "2025-03-18T02:38:44.907536Z",
     "shell.execute_reply": "2025-03-18T02:38:44.906667Z",
     "shell.execute_reply.started": "2025-03-18T02:38:44.840614Z"
    }
   },
   "outputs": [
    {
     "name": "stdout",
     "output_type": "stream",
     "text": [
      "              Genre      MI_Score\n",
      "3            Comedy  4.765286e-02\n",
      "1         Adventure  3.421186e-02\n",
      "14  Science Fiction  3.292807e-02\n",
      "8           Fantasy  1.848464e-02\n",
      "11            Music  1.727970e-02\n",
      "7            Family  1.688048e-02\n",
      "6             Drama  1.099554e-02\n",
      "17          Western  3.413944e-03\n",
      "12          Mystery  2.427906e-03\n",
      "4             Crime  1.051396e-03\n",
      "5       Documentary  6.661338e-16\n",
      "2         Animation  2.220446e-16\n",
      "0            Action  0.000000e+00\n",
      "9           History  0.000000e+00\n",
      "13          Romance  0.000000e+00\n",
      "10           Horror  0.000000e+00\n",
      "15         Thriller  0.000000e+00\n",
      "16              War  0.000000e+00\n"
     ]
    }
   ],
   "source": [
    "mlb = MultiLabelBinarizer()\n",
    "genre_encoded = mlb.fit_transform(df_animation_1[\"genres_list\"])\n",
    "\n",
    "df_genre_encoded = pd.DataFrame(genre_encoded, columns=mlb.classes_, index=df_animation_1.index)\n",
    "\n",
    "df_animation_1[\"revenue\"].fillna(0, inplace=True)\n",
    "revenue_scaled = StandardScaler().fit_transform(df_animation_1[[\"revenue\"]])\n",
    "\n",
    "mi_scores_genre = mutual_info_regression(df_genre_encoded, revenue_scaled.ravel())\n",
    "\n",
    "mi_scores_df_genre = pd.DataFrame({\"Genre\": mlb.classes_, \"MI_Score\": mi_scores_genre})\n",
    "mi_scores_df_sorted_genre = mi_scores_df_genre.sort_values(by=\"MI_Score\", ascending=False)\n",
    "\n",
    "print(mi_scores_df_sorted_genre)"
   ]
  },
  {
   "cell_type": "markdown",
   "id": "37b9af30-3369-435c-a294-5bedceeef023",
   "metadata": {},
   "source": [
    "### Original Language\n",
    "Analyzing the distribution and predictive value of the original language in animated films."
   ]
  },
  {
   "cell_type": "code",
   "execution_count": 46,
   "id": "f14ee026-f399-4d50-8e5c-0c56cc6bfcfa",
   "metadata": {
    "execution": {
     "iopub.execute_input": "2025-03-18T02:38:44.908500Z",
     "iopub.status.busy": "2025-03-18T02:38:44.908277Z",
     "iopub.status.idle": "2025-03-18T02:38:44.914467Z",
     "shell.execute_reply": "2025-03-18T02:38:44.913657Z",
     "shell.execute_reply.started": "2025-03-18T02:38:44.908480Z"
    }
   },
   "outputs": [
    {
     "name": "stdout",
     "output_type": "stream",
     "text": [
      "original_language\n",
      "en    255\n",
      "ja     23\n",
      "fr     13\n",
      "es     10\n",
      "zh      6\n",
      "ru      4\n",
      "de      1\n",
      "he      1\n",
      "it      1\n",
      "Name: count, dtype: int64\n"
     ]
    }
   ],
   "source": [
    "# Count occurrences of each original language\n",
    "language_counts = df_animation_1[\"original_language\"].value_counts()\n",
    "print(language_counts)"
   ]
  },
  {
   "cell_type": "code",
   "execution_count": 47,
   "id": "62277471-3c79-4226-99bb-f5a194c9e82e",
   "metadata": {
    "execution": {
     "iopub.execute_input": "2025-03-18T02:38:44.915247Z",
     "iopub.status.busy": "2025-03-18T02:38:44.915051Z",
     "iopub.status.idle": "2025-03-18T02:38:45.089108Z",
     "shell.execute_reply": "2025-03-18T02:38:45.088305Z",
     "shell.execute_reply.started": "2025-03-18T02:38:44.915229Z"
    }
   },
   "outputs": [
    {
     "data": {
      "image/png": "[encoded data removed]",
      "text/plain": [
       "<Figure size 1000x600 with 1 Axes>"
      ]
     },
     "metadata": {},
     "output_type": "display_data"
    }
   ],
   "source": [
    "# Plot the distribution of original languages\n",
    "plt.figure(figsize=(10, 6))\n",
    "sns.barplot(\n",
    "    x=language_counts.index,\n",
    "    y=language_counts.values\n",
    ")\n",
    "\n",
    "plt.title(\"Distribution of Original Languages in Animated Films\")\n",
    "plt.xlabel(\"Original Language\")\n",
    "plt.ylabel(\"Count\")\n",
    "plt.xticks(rotation=45)  # Rotate labels for better readability\n",
    "plt.show()"
   ]
  },
  {
   "cell_type": "code",
   "execution_count": 48,
   "id": "778a0523-c084-4ee4-a7fd-b7d6ed4d43a5",
   "metadata": {
    "execution": {
     "iopub.execute_input": "2025-03-18T02:38:45.090105Z",
     "iopub.status.busy": "2025-03-18T02:38:45.089874Z",
     "iopub.status.idle": "2025-03-18T02:38:45.102781Z",
     "shell.execute_reply": "2025-03-18T02:38:45.101989Z",
     "shell.execute_reply.started": "2025-03-18T02:38:45.090084Z"
    }
   },
   "outputs": [
    {
     "data": {
      "text/html": [
       "<div>\n",
       "<style scoped>\n",
       "    .dataframe tbody tr th:only-of-type {\n",
       "        vertical-align: middle;\n",
       "    }\n",
       "\n",
       "    .dataframe tbody tr th {\n",
       "        vertical-align: top;\n",
       "    }\n",
       "\n",
       "    .dataframe thead th {\n",
       "        text-align: right;\n",
       "    }\n",
       "</style>\n",
       "<table border=\"1\" class=\"dataframe\">\n",
       "  <thead>\n",
       "    <tr style=\"text-align: right;\">\n",
       "      <th></th>\n",
       "      <th>title</th>\n",
       "      <th>original_language</th>\n",
       "      <th>revenue</th>\n",
       "      <th>budget</th>\n",
       "    </tr>\n",
       "  </thead>\n",
       "  <tbody>\n",
       "    <tr>\n",
       "      <th>2154</th>\n",
       "      <td>Ne Zha</td>\n",
       "      <td>zh</td>\n",
       "      <td>742500000.0</td>\n",
       "      <td>20000000.0</td>\n",
       "    </tr>\n",
       "    <tr>\n",
       "      <th>43</th>\n",
       "      <td>Demon Slayer -Kimetsu no Yaiba- The Movie: Mug...</td>\n",
       "      <td>ja</td>\n",
       "      <td>503063688.0</td>\n",
       "      <td>15800000.0</td>\n",
       "    </tr>\n",
       "    <tr>\n",
       "      <th>5760</th>\n",
       "      <td>Mega Man X: The Day of Sigma</td>\n",
       "      <td>ja</td>\n",
       "      <td>428000000.0</td>\n",
       "      <td>300000000.0</td>\n",
       "    </tr>\n",
       "    <tr>\n",
       "      <th>76</th>\n",
       "      <td>The Boy and the Heron</td>\n",
       "      <td>ja</td>\n",
       "      <td>294200000.0</td>\n",
       "      <td>50000000.0</td>\n",
       "    </tr>\n",
       "    <tr>\n",
       "      <th>427</th>\n",
       "      <td>Spirited Away</td>\n",
       "      <td>ja</td>\n",
       "      <td>274925095.0</td>\n",
       "      <td>19000000.0</td>\n",
       "    </tr>\n",
       "  </tbody>\n",
       "</table>\n",
       "</div>"
      ],
      "text/plain": [
       "                                                  title original_language  \\\n",
       "2154                                             Ne Zha                zh   \n",
       "43    Demon Slayer -Kimetsu no Yaiba- The Movie: Mug...                ja   \n",
       "5760                       Mega Man X: The Day of Sigma                ja   \n",
       "76                                The Boy and the Heron                ja   \n",
       "427                                       Spirited Away                ja   \n",
       "\n",
       "          revenue       budget  \n",
       "2154  742500000.0   20000000.0  \n",
       "43    503063688.0   15800000.0  \n",
       "5760  428000000.0  300000000.0  \n",
       "76    294200000.0   50000000.0  \n",
       "427   274925095.0   19000000.0  "
      ]
     },
     "execution_count": 48,
     "metadata": {},
     "output_type": "execute_result"
    }
   ],
   "source": [
    "# Filter movies that are not in English\n",
    "non_english_movies = df_animation_1[df_animation_1[\"original_language\"] != \"en\"]\n",
    "\n",
    "# Select relevant columns and sort by revenue in descending order\n",
    "non_english_sorted = non_english_movies[\n",
    "    [\"title\", \"original_language\", \"revenue\", \"budget\"]\n",
    "].sort_values(by=\"revenue\", ascending=False)\n",
    "\n",
    "# Display the top 10 highest-revenue non-English animated movies\n",
    "non_english_sorted.head(5)"
   ]
  },
  {
   "cell_type": "code",
   "execution_count": 49,
   "id": "151dcc9c-3fcf-442b-b464-b966f730eced",
   "metadata": {
    "execution": {
     "iopub.execute_input": "2025-03-18T02:38:45.103680Z",
     "iopub.status.busy": "2025-03-18T02:38:45.103477Z",
     "iopub.status.idle": "2025-03-18T02:38:45.173440Z",
     "shell.execute_reply": "2025-03-18T02:38:45.172582Z",
     "shell.execute_reply.started": "2025-03-18T02:38:45.103660Z"
    }
   },
   "outputs": [
    {
     "name": "stdout",
     "output_type": "stream",
     "text": [
      "MI Score for Original Language: 0.17368\n",
      "              Genre      MI_Score\n",
      "3            Comedy  4.765286e-02\n",
      "1         Adventure  3.421186e-02\n",
      "14  Science Fiction  3.292807e-02\n",
      "8           Fantasy  1.848464e-02\n",
      "11            Music  1.727970e-02\n",
      "7            Family  1.688048e-02\n",
      "6             Drama  1.099554e-02\n",
      "17          Western  3.413944e-03\n",
      "12          Mystery  2.427906e-03\n",
      "4             Crime  1.051396e-03\n",
      "5       Documentary  6.661338e-16\n",
      "2         Animation  2.220446e-16\n",
      "0            Action  0.000000e+00\n",
      "9           History  0.000000e+00\n",
      "13          Romance  0.000000e+00\n",
      "10           Horror  0.000000e+00\n",
      "15         Thriller  0.000000e+00\n",
      "16              War  0.000000e+00\n"
     ]
    }
   ],
   "source": [
    "# Copy dataframe for MI analysis\n",
    "MI_lang = df_animation_1.copy()\n",
    "\n",
    "# Handle missing values\n",
    "MI_lang[\"original_language\"].fillna(\"unknown\", inplace=True)\n",
    "MI_lang[\"revenue\"].fillna(0, inplace=True)\n",
    "\n",
    "# Encode original language using LabelEncoder\n",
    "le = LabelEncoder()\n",
    "language_encoded = le.fit_transform(MI_lang[\"original_language\"]).reshape(-1, 1)\n",
    "\n",
    "# Standardize revenue\n",
    "revenue_scaled = StandardScaler().fit_transform(MI_lang[[\"revenue\"]])\n",
    "\n",
    "# Compute mutual information score for original language\n",
    "mi_score_language = mutual_info_regression(language_encoded, revenue_scaled.ravel())[0]\n",
    "\n",
    "print(f\"MI Score for Original Language: {mi_score_language:.5f}\")\n",
    "\n",
    "# Encode genres using MultiLabelBinarizer\n",
    "mlb = MultiLabelBinarizer()\n",
    "genre_encoded = mlb.fit_transform(MI_lang[\"genres_list\"])\n",
    "\n",
    "# Convert to DataFrame\n",
    "df_genre_encoded = pd.DataFrame(\n",
    "    genre_encoded, columns=mlb.classes_, index=MI_lang.index\n",
    ")\n",
    "\n",
    "# Compute mutual information scores for genres\n",
    "mi_scores_genre = mutual_info_regression(df_genre_encoded, revenue_scaled.ravel())\n",
    "\n",
    "# Store and sort MI scores\n",
    "mi_scores_df_genre = pd.DataFrame({\"Genre\": mlb.classes_, \"MI_Score\": mi_scores_genre})\n",
    "mi_scores_df_sorted_genre = mi_scores_df_genre.sort_values(by=\"MI_Score\", ascending=False)\n",
    "\n",
    "# Display sorted MI scores\n",
    "print(mi_scores_df_sorted_genre)"
   ]
  },
  {
   "cell_type": "markdown",
   "id": "b5078797-e840-43ba-8fea-437aba198968",
   "metadata": {},
   "source": [
    "### Production Companies\n",
    "Production companies impact budget, distribution, and marketing, all of which affect revenue."
   ]
  },
  {
   "cell_type": "code",
   "execution_count": 50,
   "id": "679351c3-ea94-4e48-9165-a954b53eec6c",
   "metadata": {
    "execution": {
     "iopub.execute_input": "2025-03-18T02:38:45.174248Z",
     "iopub.status.busy": "2025-03-18T02:38:45.174048Z",
     "iopub.status.idle": "2025-03-18T02:38:45.187623Z",
     "shell.execute_reply": "2025-03-18T02:38:45.186114Z",
     "shell.execute_reply.started": "2025-03-18T02:38:45.174228Z"
    }
   },
   "outputs": [],
   "source": [
    "# Convert production company strings to lists\n",
    "df_animation_1[\"production_companies_list\"] = df_animation_1[\"production_companies\"].apply(\n",
    "    dash_str_to_list\n",
    ")\n",
    "\n",
    "# Explode the dataframe so that each production company gets its own row\n",
    "df_exploded_prod = df_animation_1.explode(\"production_companies_list\")\n",
    "\n",
    "# Compute total revenue per production company and sort by descending revenue\n",
    "df_prod_rev_anim = (\n",
    "    df_exploded_prod.groupby(\"production_companies_list\")[\"revenue\"]\n",
    "    .sum()\n",
    "    .reset_index()\n",
    "    .sort_values(by=\"revenue\", ascending=False)\n",
    ")\n",
    "\n",
    "# Select the top 25 highest-revenue production companies\n",
    "top_20_companies_anim = df_prod_rev_anim.head(25)"
   ]
  },
  {
   "cell_type": "code",
   "execution_count": 51,
   "id": "0fd430bd-94d9-44d5-bdff-3c65e77449a3",
   "metadata": {
    "execution": {
     "iopub.execute_input": "2025-03-18T02:38:45.188511Z",
     "iopub.status.busy": "2025-03-18T02:38:45.188272Z",
     "iopub.status.idle": "2025-03-18T02:38:45.577003Z",
     "shell.execute_reply": "2025-03-18T02:38:45.576134Z",
     "shell.execute_reply.started": "2025-03-18T02:38:45.188489Z"
    }
   },
   "outputs": [
    {
     "data": {
      "image/png": "[encoded data removed]",
      "text/plain": [
       "<Figure size 1000x600 with 1 Axes>"
      ]
     },
     "metadata": {},
     "output_type": "display_data"
    }
   ],
   "source": [
    "production_counts = df_exploded_prod[\"production_companies_list\"].value_counts()\n",
    "top_production_counts = production_counts.head(25)\n",
    "\n",
    "plt.figure(figsize=(10, 6))\n",
    "sns.barplot(x=top_production_counts.values, y=top_production_counts.index, palette=\"plasma\")\n",
    "\n",
    "plt.title(\"Top 10 Production Companies by Count\")\n",
    "plt.xlabel(\"Count\")\n",
    "plt.ylabel(\"Production Companies\")\n",
    "plt.show()"
   ]
  },
  {
   "cell_type": "code",
   "execution_count": 52,
   "id": "d7bfc244-e3ef-4dfa-9b8e-86df0a14f8b8",
   "metadata": {
    "execution": {
     "iopub.execute_input": "2025-03-18T02:38:45.577880Z",
     "iopub.status.busy": "2025-03-18T02:38:45.577669Z",
     "iopub.status.idle": "2025-03-18T02:38:46.931473Z",
     "shell.execute_reply": "2025-03-18T02:38:46.930572Z",
     "shell.execute_reply.started": "2025-03-18T02:38:45.577861Z"
    }
   },
   "outputs": [
    {
     "name": "stdout",
     "output_type": "stream",
     "text": [
      "            Production_Company  MI_Score\n",
      "132       DreamWorks Animation  0.054763\n",
      "104          Columbia Pictures  0.038153\n",
      "209               Illumination  0.037866\n",
      "335                      Pixar  0.035529\n",
      "66            Blue Sky Studios  0.034361\n",
      "..                         ...       ...\n",
      "30            Arad Productions  0.000000\n",
      "32   Aronnax Animation Studios  0.000000\n",
      "33    Assemblage Entertainment  0.000000\n",
      "34                  Atresmedia  0.000000\n",
      "35        Audiovisual Aval SGR  0.000000\n",
      "\n",
      "[505 rows x 2 columns]\n"
     ]
    }
   ],
   "source": [
    "# Encode production companies using MultiLabelBinarizer\n",
    "mlb = MultiLabelBinarizer()\n",
    "companies_encoded = mlb.fit_transform(df_animation_1[\"production_companies_list\"])\n",
    "\n",
    "# Convert to DataFrame\n",
    "df_companies_encoded = pd.DataFrame(\n",
    "    companies_encoded, columns=mlb.classes_, index=df_animation_1.index\n",
    ")\n",
    "\n",
    "# Handle missing revenue values\n",
    "df_animation_1[\"revenue\"].fillna(0, inplace=True)\n",
    "\n",
    "# Standardize revenue for MI computation\n",
    "scaler = StandardScaler()\n",
    "revenue_scaled = scaler.fit_transform(df_animation_1[[\"revenue\"]])\n",
    "\n",
    "# Compute mutual information scores for production companies\n",
    "mi_scores_companies = mutual_info_regression(df_companies_encoded, revenue_scaled.ravel())\n",
    "\n",
    "# Store and sort MI scores\n",
    "mi_scores_df_companies = pd.DataFrame(\n",
    "    {\"Production_Company\": mlb.classes_, \"MI_Score\": mi_scores_companies}\n",
    ")\n",
    "mi_scores_df_sorted_companies = mi_scores_df_companies.sort_values(\n",
    "    by=\"MI_Score\", ascending=False\n",
    ")\n",
    "\n",
    "# Display sorted MI scores\n",
    "print(mi_scores_df_sorted_companies)"
   ]
  },
  {
   "cell_type": "markdown",
   "id": "1b7da840-f381-4b2f-8554-e5c17f91cd00",
   "metadata": {},
   "source": [
    "### Actor"
   ]
  },
  {
   "cell_type": "code",
   "execution_count": 53,
   "id": "a6b3f427-58e3-45f5-8d9a-39a3896104a5",
   "metadata": {
    "execution": {
     "iopub.execute_input": "2025-03-18T02:38:46.932423Z",
     "iopub.status.busy": "2025-03-18T02:38:46.932198Z",
     "iopub.status.idle": "2025-03-18T02:38:46.956966Z",
     "shell.execute_reply": "2025-03-18T02:38:46.955608Z",
     "shell.execute_reply.started": "2025-03-18T02:38:46.932402Z"
    },
    "scrolled": true
   },
   "outputs": [],
   "source": [
    "# Convert credits column into a list format\n",
    "df_animation_1[\"credits_list\"] = df_animation_1[\"credits\"].apply(dash_str_to_list)\n",
    "\n",
    "# Explode the dataframe so each actor gets their own row\n",
    "df_exploded_credits = df_animation_1.explode(\"credits_list\")\n",
    "\n",
    "# Aggregate revenue by actor and calculate average revenue\n",
    "actor_avg_revenue = (\n",
    "    df_exploded_credits.groupby(\"credits_list\")[\"revenue\"]\n",
    "    .mean()\n",
    "    .reset_index()\n",
    "    .rename(columns={\"credits_list\": \"Actor\", \"revenue\": \"avg_revenue\"})\n",
    ")\n",
    "\n",
    "# Sort actors by highest average revenue\n",
    "actor_avg_revenue_sorted = actor_avg_revenue.sort_values(by=\"avg_revenue\", ascending=False)"
   ]
  },
  {
   "cell_type": "code",
   "execution_count": 54,
   "id": "576b227d-b7d1-43a4-a907-463b23fe3784",
   "metadata": {
    "execution": {
     "iopub.execute_input": "2025-03-18T02:38:46.957990Z",
     "iopub.status.busy": "2025-03-18T02:38:46.957774Z",
     "iopub.status.idle": "2025-03-18T02:38:46.969248Z",
     "shell.execute_reply": "2025-03-18T02:38:46.968467Z",
     "shell.execute_reply.started": "2025-03-18T02:38:46.957970Z"
    }
   },
   "outputs": [
    {
     "data": {
      "text/html": [
       "<div>\n",
       "<style scoped>\n",
       "    .dataframe tbody tr th:only-of-type {\n",
       "        vertical-align: middle;\n",
       "    }\n",
       "\n",
       "    .dataframe tbody tr th {\n",
       "        vertical-align: top;\n",
       "    }\n",
       "\n",
       "    .dataframe thead th {\n",
       "        text-align: right;\n",
       "    }\n",
       "</style>\n",
       "<table border=\"1\" class=\"dataframe\">\n",
       "  <thead>\n",
       "    <tr style=\"text-align: right;\">\n",
       "      <th></th>\n",
       "      <th>Actor</th>\n",
       "      <th>avg_revenue</th>\n",
       "    </tr>\n",
       "  </thead>\n",
       "  <tbody>\n",
       "    <tr>\n",
       "      <th>962</th>\n",
       "      <td>Chris Evans</td>\n",
       "      <td>161017207.5</td>\n",
       "    </tr>\n",
       "  </tbody>\n",
       "</table>\n",
       "</div>"
      ],
      "text/plain": [
       "           Actor  avg_revenue\n",
       "962  Chris Evans  161017207.5"
      ]
     },
     "execution_count": 54,
     "metadata": {},
     "output_type": "execute_result"
    }
   ],
   "source": [
    "# Retrieve average revenue for Chris Evans as an example\n",
    "actor_avg_revenue_sorted[actor_avg_revenue_sorted[\"Actor\"] == \"Chris Evans\"]"
   ]
  },
  {
   "cell_type": "code",
   "execution_count": 55,
   "id": "2294aaf0-0b80-4c7e-b00a-181da3375c3e",
   "metadata": {
    "execution": {
     "iopub.execute_input": "2025-03-18T02:38:46.970215Z",
     "iopub.status.busy": "2025-03-18T02:38:46.970015Z",
     "iopub.status.idle": "2025-03-18T02:39:02.475089Z",
     "shell.execute_reply": "2025-03-18T02:39:02.474214Z",
     "shell.execute_reply.started": "2025-03-18T02:38:46.970197Z"
    }
   },
   "outputs": [
    {
     "name": "stdout",
     "output_type": "stream",
     "text": [
      "                  Actor  MI_Score\n",
      "5212       Steve Coogan  0.053665\n",
      "2715  John Ratzenberger  0.045899\n",
      "4501      Pierre Coffin  0.039688\n",
      "2893      Julie Andrews  0.039098\n",
      "340          Anna Faris  0.038077\n",
      "...                 ...       ...\n",
      "5832    Zooey Deschanel  0.000000\n",
      "5834       Zoë Crawford  0.000000\n",
      "5835        Zoë Kravitz  0.000000\n",
      "5836           Zoë Raye  0.000000\n",
      "5837               hyun  0.000000\n",
      "\n",
      "[5849 rows x 2 columns]\n"
     ]
    }
   ],
   "source": [
    "# Copy the dataset for MI analysis\n",
    "MI_actors = df_animation_1.copy()\n",
    "\n",
    "# Convert credits column to a list of actors\n",
    "MI_actors[\"actors_list\"] = MI_actors[\"credits\"].apply(dash_str_to_list)\n",
    "\n",
    "# One-hot encode the actors\n",
    "mlb = MultiLabelBinarizer()\n",
    "MI_actors_encoded = mlb.fit_transform(MI_actors[\"actors_list\"])\n",
    "\n",
    "# Convert encoded data to a DataFrame\n",
    "MI_actors_df = pd.DataFrame(\n",
    "    MI_actors_encoded, columns=mlb.classes_, index=MI_actors.index\n",
    ")\n",
    "\n",
    "# Handle missing revenue values\n",
    "MI_actors[\"revenue\"].fillna(0, inplace=True)\n",
    "\n",
    "# Standardize revenue for MI computation\n",
    "scaler = StandardScaler()\n",
    "revenue_scaled = scaler.fit_transform(MI_actors[[\"revenue\"]])\n",
    "\n",
    "# Compute mutual information scores for actors\n",
    "mi_scores_actors = mutual_info_regression(MI_actors_df, revenue_scaled.ravel())\n",
    "\n",
    "# Store and sort MI scores\n",
    "mi_scores_df_actors = pd.DataFrame({\n",
    "    \"Actor\": mlb.classes_,\n",
    "    \"MI_Score\": mi_scores_actors\n",
    "}).sort_values(by=\"MI_Score\", ascending=False)\n",
    "\n",
    "# Display sorted MI scores\n",
    "print(mi_scores_df_actors)"
   ]
  },
  {
   "cell_type": "markdown",
   "id": "317658be-2fd6-471e-8f5b-3a362c8d0f4e",
   "metadata": {},
   "source": [
    "### Feature Selection\n",
    "\n",
    "**Kept Features**\n",
    "- **Genre**: Genres show moderate mutual information with revenue, meaning they contribute to revenue variability. Certain genres like Comedy, Adventure, and Science Fiction have higher MI scores, making them relevant predictors.\n",
    "- **Original Language**: With an MI score of **0.1698**, original language shows a stronger relationship with revenue than many other categorical variables, indicating that language can influence market reach and earnings.\n",
    "- **Production Companies**: Some production companies (e.g., DreamWorks, Pixar) exhibit notable MI scores, meaning the reputation and resources of production studios impact revenue. Companies with a track record of successful films contribute predictive power.\n",
    "- **Actors**: Certain actors (e.g., Steve Coogan, John Ratzenberger) have nonzero MI scores, suggesting that star power affects revenue. Well-known actors can attract larger audiences, making this a meaningful feature."
   ]
  },
  {
   "cell_type": "markdown",
   "id": "c3d60a90-1659-45ad-bbd2-b4dc1ce873fb",
   "metadata": {},
   "source": [
    "## Textual Data\n",
    "Analyzing how textual features, such as movie overviews and keywords, relate to revenue."
   ]
  },
  {
   "cell_type": "markdown",
   "id": "e60c1148-4b9b-4495-9c83-bf9f7afd84c3",
   "metadata": {},
   "source": [
    "### Overview\n",
    "Extracting key terms from **movie summaries** using TF-IDF and assessing their predictive power."
   ]
  },
  {
   "cell_type": "code",
   "execution_count": 56,
   "id": "95592fe4-45fd-400f-8059-88d059d6f17f",
   "metadata": {
    "execution": {
     "iopub.execute_input": "2025-03-18T02:39:02.475984Z",
     "iopub.status.busy": "2025-03-18T02:39:02.475778Z",
     "iopub.status.idle": "2025-03-18T02:39:05.297152Z",
     "shell.execute_reply": "2025-03-18T02:39:05.296318Z",
     "shell.execute_reply.started": "2025-03-18T02:39:02.475964Z"
    }
   },
   "outputs": [
    {
     "name": "stdout",
     "output_type": "stream",
     "text": [
      "Top Terms in Movie Overviews with Highest MI with Revenue:\n",
      "         Term  MI Score\n",
      "0       world  0.020150\n",
      "1       finds  0.018589\n",
      "2         new  0.017398\n",
      "3         gru  0.016036\n",
      "4        town  0.015266\n",
      "5      forest  0.015127\n",
      "6      forces  0.015119\n",
      "7         boy  0.014398\n",
      "8     central  0.013511\n",
      "9     biggest  0.013457\n",
      "10  adventure  0.012931\n",
      "11      space  0.011643\n",
      "12       time  0.010807\n",
      "13      takes  0.010549\n",
      "14       care  0.009949\n",
      "15       soon  0.009899\n",
      "16       hero  0.008539\n",
      "17     planet  0.008086\n",
      "18     rabbit  0.008050\n",
      "19       high  0.006961\n"
     ]
    }
   ],
   "source": [
    "# Copy dataset for MI analysis\n",
    "MI_overview = df_animation_1.copy()\n",
    "\n",
    "# Handle missing values\n",
    "MI_overview[\"overview\"].fillna(\"\", inplace=True)\n",
    "MI_overview[\"revenue\"].fillna(0, inplace=True)\n",
    "\n",
    "# Vectorize movie overviews using TF-IDF (filters common words)\n",
    "vectorizer = TfidfVectorizer(max_features=1000, stop_words=\"english\")\n",
    "overview_vectorized = vectorizer.fit_transform(MI_overview[\"overview\"]).toarray()\n",
    "\n",
    "# Standardize revenue for MI computation\n",
    "scaler = StandardScaler()\n",
    "revenue_scaled = scaler.fit_transform(MI_overview[[\"revenue\"]])\n",
    "\n",
    "# Compute mutual information scores for TF-IDF terms\n",
    "mi_scores_overview = mutual_info_regression(overview_vectorized, revenue_scaled.ravel())\n",
    "\n",
    "# Store results in a DataFrame\n",
    "mi_df_overview = pd.DataFrame({\n",
    "    \"Term\": vectorizer.get_feature_names_out(),\n",
    "    \"MI Score\": mi_scores_overview\n",
    "})\n",
    "\n",
    "# Sort MI scores in descending order\n",
    "mi_df_sorted_overview = mi_df_overview.sort_values(\n",
    "    by=\"MI Score\", ascending=False\n",
    ").reset_index(drop=True)\n",
    "\n",
    "# Display top terms with the highest MI scores\n",
    "print(\"Top Terms in Movie Overviews with Highest MI with Revenue:\")\n",
    "print(mi_df_sorted_overview.head(20))"
   ]
  },
  {
   "cell_type": "markdown",
   "id": "1b3752b7-41bc-4b31-96a8-424825cd433c",
   "metadata": {},
   "source": [
    "### Keyword\n",
    "Extracting significant **movie keywords** and assessing their predictive power for revenue."
   ]
  },
  {
   "cell_type": "code",
   "execution_count": 57,
   "id": "1b64afcf-9370-486f-a445-5c32accbfb2f",
   "metadata": {
    "execution": {
     "iopub.execute_input": "2025-03-18T02:39:05.297860Z",
     "iopub.status.busy": "2025-03-18T02:39:05.297656Z",
     "iopub.status.idle": "2025-03-18T02:39:07.925126Z",
     "shell.execute_reply": "2025-03-18T02:39:07.924251Z",
     "shell.execute_reply.started": "2025-03-18T02:39:05.297841Z"
    }
   },
   "outputs": [
    {
     "name": "stdout",
     "output_type": "stream",
     "text": [
      "Top Keywords with Highest MI with Revenue:\n",
      "                 Keyword  MI Score\n",
      "0                 sequel  0.105286\n",
      "1   duringcreditsstinger  0.065979\n",
      "2                 animal  0.054453\n",
      "3                minions  0.038911\n",
      "4                  anime  0.027018\n",
      "5                   stop  0.025242\n",
      "6                singing  0.025112\n",
      "7                 flying  0.023672\n",
      "8           illumination  0.023533\n",
      "9                 dragon  0.022221\n",
      "10                  post  0.022040\n",
      "11               cartoon  0.021490\n",
      "12          relationship  0.021362\n",
      "13              director  0.020508\n",
      "14                motion  0.019999\n",
      "15                    in  0.019718\n",
      "16                 magic  0.019456\n",
      "17                  arts  0.018605\n",
      "18               martial  0.018605\n",
      "19                   and  0.018382\n"
     ]
    }
   ],
   "source": [
    "# Copy dataset for MI analysis\n",
    "MI_key = df_animation_1.copy()\n",
    "\n",
    "# Handle missing values\n",
    "MI_key[\"keywords\"].fillna(\"\", inplace=True)\n",
    "MI_key[\"revenue\"].fillna(0, inplace=True)\n",
    "\n",
    "# Vectorize keywords using CountVectorizer (limits features for efficiency)\n",
    "vectorizer = CountVectorizer(max_features=1000)\n",
    "keywords_vectorized = vectorizer.fit_transform(MI_key[\"keywords\"]).toarray()\n",
    "\n",
    "# Standardize revenue for MI computation\n",
    "scaler = StandardScaler()\n",
    "revenue_scaled = scaler.fit_transform(MI_key[[\"revenue\"]])\n",
    "\n",
    "# Compute mutual information scores for keywords\n",
    "mi_scores_keywords = mutual_info_regression(keywords_vectorized, revenue_scaled.ravel())\n",
    "\n",
    "# Store results in a DataFrame\n",
    "mi_df_keywords = pd.DataFrame({\n",
    "    \"Keyword\": vectorizer.get_feature_names_out(),\n",
    "    \"MI Score\": mi_scores_keywords\n",
    "})\n",
    "\n",
    "# Sort MI scores in descending order\n",
    "mi_df_sorted_keywords = mi_df_keywords.sort_values(\n",
    "    by=\"MI Score\", ascending=False\n",
    ").reset_index(drop=True)\n",
    "\n",
    "# Display top keywords with the highest MI scores\n",
    "print(\"Top Keywords with Highest MI with Revenue:\")\n",
    "print(mi_df_sorted_keywords.head(20))"
   ]
  },
  {
   "cell_type": "markdown",
   "id": "bee89447-ad05-4b62-b54c-04ba4ed0ac44",
   "metadata": {},
   "source": [
    "### Feature Selection\n",
    "\n",
    "- **Keywords will be included** as they exhibit higher mutual information scores with revenue. The top keyword, *sequel*, has an MI score of **0.105**, which is quite strong for textual data. Other meaningful keywords, such as *animal*, *minions*, and *anime*, also indicate that specific themes and elements in movies are predictive of revenue.\n",
    "\n",
    "- **Overview will be excluded** because its mutual information scores fall within the **0.01–0.02** range, suggesting only a weak relationship with revenue. While certain words like *world* and *finds* appear frequently, they do not provide strong predictive power compared to keywords."
   ]
  },
  {
   "cell_type": "markdown",
   "id": "56cdce90-0c3a-4259-84c4-f4793393f63d",
   "metadata": {},
   "source": [
    "## Summary Statistics"
   ]
  },
  {
   "cell_type": "code",
   "execution_count": 58,
   "id": "97cc717b-17c9-4a36-a9bc-1a0dc604e03d",
   "metadata": {
    "execution": {
     "iopub.execute_input": "2025-03-18T02:39:07.926055Z",
     "iopub.status.busy": "2025-03-18T02:39:07.925795Z",
     "iopub.status.idle": "2025-03-18T02:39:07.958142Z",
     "shell.execute_reply": "2025-03-18T02:39:07.957363Z",
     "shell.execute_reply.started": "2025-03-18T02:39:07.926029Z"
    }
   },
   "outputs": [
    {
     "data": {
      "text/html": [
       "<div>\n",
       "<style scoped>\n",
       "    .dataframe tbody tr th:only-of-type {\n",
       "        vertical-align: middle;\n",
       "    }\n",
       "\n",
       "    .dataframe tbody tr th {\n",
       "        vertical-align: top;\n",
       "    }\n",
       "\n",
       "    .dataframe thead th {\n",
       "        text-align: right;\n",
       "    }\n",
       "</style>\n",
       "<table border=\"1\" class=\"dataframe\">\n",
       "  <thead>\n",
       "    <tr style=\"text-align: right;\">\n",
       "      <th></th>\n",
       "      <th>id</th>\n",
       "      <th>popularity</th>\n",
       "      <th>release_date</th>\n",
       "      <th>budget</th>\n",
       "      <th>revenue</th>\n",
       "      <th>runtime</th>\n",
       "      <th>vote_average</th>\n",
       "      <th>vote_count</th>\n",
       "      <th>release_year</th>\n",
       "    </tr>\n",
       "  </thead>\n",
       "  <tbody>\n",
       "    <tr>\n",
       "      <th>count</th>\n",
       "      <td>314.000000</td>\n",
       "      <td>314.000000</td>\n",
       "      <td>314</td>\n",
       "      <td>3.140000e+02</td>\n",
       "      <td>3.140000e+02</td>\n",
       "      <td>314.000000</td>\n",
       "      <td>314.000000</td>\n",
       "      <td>314.000000</td>\n",
       "      <td>314.000000</td>\n",
       "    </tr>\n",
       "    <tr>\n",
       "      <th>mean</th>\n",
       "      <td>191172.015924</td>\n",
       "      <td>80.992248</td>\n",
       "      <td>2012-07-19 20:19:52.356687872</td>\n",
       "      <td>7.458393e+07</td>\n",
       "      <td>2.557931e+08</td>\n",
       "      <td>93.181529</td>\n",
       "      <td>6.749997</td>\n",
       "      <td>3565.130573</td>\n",
       "      <td>2012.025478</td>\n",
       "    </tr>\n",
       "    <tr>\n",
       "      <th>min</th>\n",
       "      <td>12.000000</td>\n",
       "      <td>0.666000</td>\n",
       "      <td>2000-02-11 00:00:00</td>\n",
       "      <td>1.000000e+05</td>\n",
       "      <td>7.365250e+06</td>\n",
       "      <td>25.000000</td>\n",
       "      <td>0.000000</td>\n",
       "      <td>0.000000</td>\n",
       "      <td>2000.000000</td>\n",
       "    </tr>\n",
       "    <tr>\n",
       "      <th>25%</th>\n",
       "      <td>12877.500000</td>\n",
       "      <td>19.845500</td>\n",
       "      <td>2007-08-19 00:00:00</td>\n",
       "      <td>2.902500e+07</td>\n",
       "      <td>4.864025e+07</td>\n",
       "      <td>87.000000</td>\n",
       "      <td>6.200000</td>\n",
       "      <td>547.750000</td>\n",
       "      <td>2007.000000</td>\n",
       "    </tr>\n",
       "    <tr>\n",
       "      <th>50%</th>\n",
       "      <td>88422.500000</td>\n",
       "      <td>34.299000</td>\n",
       "      <td>2012-12-19 12:00:00</td>\n",
       "      <td>7.000000e+07</td>\n",
       "      <td>1.472687e+08</td>\n",
       "      <td>92.000000</td>\n",
       "      <td>6.800000</td>\n",
       "      <td>1996.500000</td>\n",
       "      <td>2012.000000</td>\n",
       "    </tr>\n",
       "    <tr>\n",
       "      <th>75%</th>\n",
       "      <td>333345.000000</td>\n",
       "      <td>65.665750</td>\n",
       "      <td>2017-06-15 00:00:00</td>\n",
       "      <td>1.022500e+08</td>\n",
       "      <td>3.606189e+08</td>\n",
       "      <td>100.000000</td>\n",
       "      <td>7.373000</td>\n",
       "      <td>4934.000000</td>\n",
       "      <td>2017.000000</td>\n",
       "    </tr>\n",
       "    <tr>\n",
       "      <th>max</th>\n",
       "      <td>940551.000000</td>\n",
       "      <td>3195.720000</td>\n",
       "      <td>2024-06-20 00:00:00</td>\n",
       "      <td>3.000000e+08</td>\n",
       "      <td>1.450000e+09</td>\n",
       "      <td>140.000000</td>\n",
       "      <td>8.640000</td>\n",
       "      <td>21482.000000</td>\n",
       "      <td>2024.000000</td>\n",
       "    </tr>\n",
       "    <tr>\n",
       "      <th>std</th>\n",
       "      <td>208205.123067</td>\n",
       "      <td>247.576585</td>\n",
       "      <td>NaN</td>\n",
       "      <td>5.584439e+07</td>\n",
       "      <td>2.806181e+08</td>\n",
       "      <td>11.898755</td>\n",
       "      <td>0.867582</td>\n",
       "      <td>4214.438584</td>\n",
       "      <td>6.253892</td>\n",
       "    </tr>\n",
       "  </tbody>\n",
       "</table>\n",
       "</div>"
      ],
      "text/plain": [
       "                  id   popularity                   release_date  \\\n",
       "count     314.000000   314.000000                            314   \n",
       "mean   191172.015924    80.992248  2012-07-19 20:19:52.356687872   \n",
       "min        12.000000     0.666000            2000-02-11 00:00:00   \n",
       "25%     12877.500000    19.845500            2007-08-19 00:00:00   \n",
       "50%     88422.500000    34.299000            2012-12-19 12:00:00   \n",
       "75%    333345.000000    65.665750            2017-06-15 00:00:00   \n",
       "max    940551.000000  3195.720000            2024-06-20 00:00:00   \n",
       "std    208205.123067   247.576585                            NaN   \n",
       "\n",
       "             budget       revenue     runtime  vote_average    vote_count  \\\n",
       "count  3.140000e+02  3.140000e+02  314.000000    314.000000    314.000000   \n",
       "mean   7.458393e+07  2.557931e+08   93.181529      6.749997   3565.130573   \n",
       "min    1.000000e+05  7.365250e+06   25.000000      0.000000      0.000000   \n",
       "25%    2.902500e+07  4.864025e+07   87.000000      6.200000    547.750000   \n",
       "50%    7.000000e+07  1.472687e+08   92.000000      6.800000   1996.500000   \n",
       "75%    1.022500e+08  3.606189e+08  100.000000      7.373000   4934.000000   \n",
       "max    3.000000e+08  1.450000e+09  140.000000      8.640000  21482.000000   \n",
       "std    5.584439e+07  2.806181e+08   11.898755      0.867582   4214.438584   \n",
       "\n",
       "       release_year  \n",
       "count    314.000000  \n",
       "mean    2012.025478  \n",
       "min     2000.000000  \n",
       "25%     2007.000000  \n",
       "50%     2012.000000  \n",
       "75%     2017.000000  \n",
       "max     2024.000000  \n",
       "std        6.253892  "
      ]
     },
     "execution_count": 58,
     "metadata": {},
     "output_type": "execute_result"
    }
   ],
   "source": [
    "# Display summary statistics for numerical features\n",
    "df_animation_1.describe()"
   ]
  },
  {
   "cell_type": "code",
   "execution_count": 59,
   "id": "8310dd1e-102c-44f1-94cb-703bc87f61bb",
   "metadata": {
    "execution": {
     "iopub.execute_input": "2025-03-18T02:39:07.959036Z",
     "iopub.status.busy": "2025-03-18T02:39:07.958835Z",
     "iopub.status.idle": "2025-03-18T02:39:08.000822Z",
     "shell.execute_reply": "2025-03-18T02:39:07.999998Z",
     "shell.execute_reply.started": "2025-03-18T02:39:07.959016Z"
    }
   },
   "outputs": [
    {
     "data": {
      "text/html": [
       "<div>\n",
       "<style scoped>\n",
       "    .dataframe tbody tr th:only-of-type {\n",
       "        vertical-align: middle;\n",
       "    }\n",
       "\n",
       "    .dataframe tbody tr th {\n",
       "        vertical-align: top;\n",
       "    }\n",
       "\n",
       "    .dataframe thead th {\n",
       "        text-align: right;\n",
       "    }\n",
       "</style>\n",
       "<table border=\"1\" class=\"dataframe\">\n",
       "  <thead>\n",
       "    <tr style=\"text-align: right;\">\n",
       "      <th></th>\n",
       "      <th>title</th>\n",
       "      <th>genres</th>\n",
       "      <th>original_language</th>\n",
       "      <th>overview</th>\n",
       "      <th>production_companies</th>\n",
       "      <th>status</th>\n",
       "      <th>tagline</th>\n",
       "      <th>credits</th>\n",
       "      <th>keywords</th>\n",
       "      <th>poster_path</th>\n",
       "      <th>backdrop_path</th>\n",
       "      <th>recommendations</th>\n",
       "      <th>genres_list</th>\n",
       "      <th>production_companies_list</th>\n",
       "      <th>credits_list</th>\n",
       "    </tr>\n",
       "  </thead>\n",
       "  <tbody>\n",
       "    <tr>\n",
       "      <th>count</th>\n",
       "      <td>314</td>\n",
       "      <td>314</td>\n",
       "      <td>314</td>\n",
       "      <td>314</td>\n",
       "      <td>309</td>\n",
       "      <td>314</td>\n",
       "      <td>278</td>\n",
       "      <td>314</td>\n",
       "      <td>306</td>\n",
       "      <td>313</td>\n",
       "      <td>313</td>\n",
       "      <td>305</td>\n",
       "      <td>314</td>\n",
       "      <td>314</td>\n",
       "      <td>314</td>\n",
       "    </tr>\n",
       "    <tr>\n",
       "      <th>unique</th>\n",
       "      <td>314</td>\n",
       "      <td>177</td>\n",
       "      <td>9</td>\n",
       "      <td>314</td>\n",
       "      <td>224</td>\n",
       "      <td>1</td>\n",
       "      <td>278</td>\n",
       "      <td>314</td>\n",
       "      <td>301</td>\n",
       "      <td>313</td>\n",
       "      <td>313</td>\n",
       "      <td>305</td>\n",
       "      <td>177</td>\n",
       "      <td>225</td>\n",
       "      <td>314</td>\n",
       "    </tr>\n",
       "    <tr>\n",
       "      <th>top</th>\n",
       "      <td>Little Tikes Land</td>\n",
       "      <td>Animation-Comedy-Family</td>\n",
       "      <td>en</td>\n",
       "      <td>Little Tikes Land includes 4 CGI-animated stor...</td>\n",
       "      <td>DreamWorks Animation</td>\n",
       "      <td>Released</td>\n",
       "      <td>Join the little tikes in their magical adventu...</td>\n",
       "      <td>Phillip Corlett-Brooklyn Chang-Jason Michas-Ja...</td>\n",
       "      <td>anime</td>\n",
       "      <td>/3Kt4IOflyR9ZQUk30Zu2WN1Lmd3.jpg</td>\n",
       "      <td>/3MrBmx9IuulMGanHPucXgyxDqRi.jpg</td>\n",
       "      <td>33534-154922-33065-314946-451172-83865-9907-13...</td>\n",
       "      <td>[Animation, Comedy, Family]</td>\n",
       "      <td>[DreamWorks Animation]</td>\n",
       "      <td>[Phillip Corlett, Brooklyn Chang, Jason Michas...</td>\n",
       "    </tr>\n",
       "    <tr>\n",
       "      <th>freq</th>\n",
       "      <td>1</td>\n",
       "      <td>17</td>\n",
       "      <td>255</td>\n",
       "      <td>1</td>\n",
       "      <td>16</td>\n",
       "      <td>314</td>\n",
       "      <td>1</td>\n",
       "      <td>1</td>\n",
       "      <td>4</td>\n",
       "      <td>1</td>\n",
       "      <td>1</td>\n",
       "      <td>1</td>\n",
       "      <td>17</td>\n",
       "      <td>16</td>\n",
       "      <td>1</td>\n",
       "    </tr>\n",
       "  </tbody>\n",
       "</table>\n",
       "</div>"
      ],
      "text/plain": [
       "                    title                   genres original_language  \\\n",
       "count                 314                      314               314   \n",
       "unique                314                      177                 9   \n",
       "top     Little Tikes Land  Animation-Comedy-Family                en   \n",
       "freq                    1                       17               255   \n",
       "\n",
       "                                                 overview  \\\n",
       "count                                                 314   \n",
       "unique                                                314   \n",
       "top     Little Tikes Land includes 4 CGI-animated stor...   \n",
       "freq                                                    1   \n",
       "\n",
       "        production_companies    status  \\\n",
       "count                    309       314   \n",
       "unique                   224         1   \n",
       "top     DreamWorks Animation  Released   \n",
       "freq                      16       314   \n",
       "\n",
       "                                                  tagline  \\\n",
       "count                                                 278   \n",
       "unique                                                278   \n",
       "top     Join the little tikes in their magical adventu...   \n",
       "freq                                                    1   \n",
       "\n",
       "                                                  credits keywords  \\\n",
       "count                                                 314      306   \n",
       "unique                                                314      301   \n",
       "top     Phillip Corlett-Brooklyn Chang-Jason Michas-Ja...    anime   \n",
       "freq                                                    1        4   \n",
       "\n",
       "                             poster_path                     backdrop_path  \\\n",
       "count                                313                               313   \n",
       "unique                               313                               313   \n",
       "top     /3Kt4IOflyR9ZQUk30Zu2WN1Lmd3.jpg  /3MrBmx9IuulMGanHPucXgyxDqRi.jpg   \n",
       "freq                                   1                                 1   \n",
       "\n",
       "                                          recommendations  \\\n",
       "count                                                 305   \n",
       "unique                                                305   \n",
       "top     33534-154922-33065-314946-451172-83865-9907-13...   \n",
       "freq                                                    1   \n",
       "\n",
       "                        genres_list production_companies_list  \\\n",
       "count                           314                       314   \n",
       "unique                          177                       225   \n",
       "top     [Animation, Comedy, Family]    [DreamWorks Animation]   \n",
       "freq                             17                        16   \n",
       "\n",
       "                                             credits_list  \n",
       "count                                                 314  \n",
       "unique                                                314  \n",
       "top     [Phillip Corlett, Brooklyn Chang, Jason Michas...  \n",
       "freq                                                    1  "
      ]
     },
     "execution_count": 59,
     "metadata": {},
     "output_type": "execute_result"
    }
   ],
   "source": [
    "# Display summary statistics for categorical (object) features\n",
    "df_animation_1.describe(include=\"object\")"
   ]
  },
  {
   "cell_type": "markdown",
   "id": "583c25ba-2e7b-42b1-bae9-7caeb7a8b2ec",
   "metadata": {},
   "source": [
    "# Data Cleaning, Part 2"
   ]
  },
  {
   "cell_type": "markdown",
   "id": "3d935378-a867-4b6c-b909-892889715bec",
   "metadata": {},
   "source": [
    "## Filtering Relevant Columns\n",
    "\n",
    "To streamline the dataset, we retain only the most relevant columns needed for analysis. This includes identifiers, textual descriptions, financial data, and categorical attributes. By removing unnecessary columns, we improve efficiency and focus on features that contribute to meaningful insights.\n",
    "\n",
    "After filtering, we check the **shape** of the dataset to confirm the changes."
   ]
  },
  {
   "cell_type": "code",
   "execution_count": 60,
   "id": "293bd53e-c0f1-476c-b516-13e5b144a990",
   "metadata": {
    "execution": {
     "iopub.execute_input": "2025-03-18T02:39:08.001777Z",
     "iopub.status.busy": "2025-03-18T02:39:08.001530Z",
     "iopub.status.idle": "2025-03-18T02:39:08.018106Z",
     "shell.execute_reply": "2025-03-18T02:39:08.016965Z",
     "shell.execute_reply.started": "2025-03-18T02:39:08.001756Z"
    }
   },
   "outputs": [
    {
     "data": {
      "text/html": [
       "<div>\n",
       "<style scoped>\n",
       "    .dataframe tbody tr th:only-of-type {\n",
       "        vertical-align: middle;\n",
       "    }\n",
       "\n",
       "    .dataframe tbody tr th {\n",
       "        vertical-align: top;\n",
       "    }\n",
       "\n",
       "    .dataframe thead th {\n",
       "        text-align: right;\n",
       "    }\n",
       "</style>\n",
       "<table border=\"1\" class=\"dataframe\">\n",
       "  <thead>\n",
       "    <tr style=\"text-align: right;\">\n",
       "      <th></th>\n",
       "      <th>id</th>\n",
       "      <th>title</th>\n",
       "      <th>genres</th>\n",
       "      <th>original_language</th>\n",
       "      <th>overview</th>\n",
       "      <th>production_companies</th>\n",
       "      <th>release_date</th>\n",
       "      <th>budget</th>\n",
       "      <th>revenue</th>\n",
       "      <th>runtime</th>\n",
       "      <th>credits</th>\n",
       "      <th>keywords</th>\n",
       "    </tr>\n",
       "  </thead>\n",
       "  <tbody>\n",
       "    <tr>\n",
       "      <th>9</th>\n",
       "      <td>519182</td>\n",
       "      <td>Despicable Me 4</td>\n",
       "      <td>Animation-Family-Comedy-Action</td>\n",
       "      <td>en</td>\n",
       "      <td>Gru and Lucy and their girls—Margo Edith and A...</td>\n",
       "      <td>Universal Pictures-Illumination-dentsu-Fuji Te...</td>\n",
       "      <td>2024-06-20</td>\n",
       "      <td>100000000.0</td>\n",
       "      <td>810329715.0</td>\n",
       "      <td>94.0</td>\n",
       "      <td>Steve Carell-Kristen Wiig-Will Ferrell-Sofía V...</td>\n",
       "      <td>superhero-villain-sequel-super villain-illumin...</td>\n",
       "    </tr>\n",
       "    <tr>\n",
       "      <th>10</th>\n",
       "      <td>569094</td>\n",
       "      <td>Spider-Man: Across the Spider-Verse</td>\n",
       "      <td>Action-Adventure-Animation-Science Fiction</td>\n",
       "      <td>en</td>\n",
       "      <td>After reuniting with Gwen Stacy Brooklyn’s ful...</td>\n",
       "      <td>Columbia Pictures-Sony Pictures Animation-Lord...</td>\n",
       "      <td>2023-05-31</td>\n",
       "      <td>100000000.0</td>\n",
       "      <td>512609552.0</td>\n",
       "      <td>140.0</td>\n",
       "      <td>Shameik Moore-Hailee Steinfeld-Brian Tyree Hen...</td>\n",
       "      <td>sacrifice-villain-comic book-sequel-superhero-...</td>\n",
       "    </tr>\n",
       "    <tr>\n",
       "      <th>26</th>\n",
       "      <td>315162</td>\n",
       "      <td>Puss in Boots: The Last Wish</td>\n",
       "      <td>Animation-Family-Fantasy-Adventure-Comedy</td>\n",
       "      <td>en</td>\n",
       "      <td>Puss in Boots discovers that his passion for a...</td>\n",
       "      <td>DreamWorks Animation-Universal Pictures</td>\n",
       "      <td>2022-12-07</td>\n",
       "      <td>90000000.0</td>\n",
       "      <td>480000000.0</td>\n",
       "      <td>103.0</td>\n",
       "      <td>Antonio Banderas-Salma Hayek Pinault-Harvey Gu...</td>\n",
       "      <td>fairy tale-talking dog-spin off-aftercreditsst...</td>\n",
       "    </tr>\n",
       "    <tr>\n",
       "      <th>27</th>\n",
       "      <td>748783</td>\n",
       "      <td>The Garfield Movie</td>\n",
       "      <td>Animation-Comedy-Family-Adventure-Action</td>\n",
       "      <td>en</td>\n",
       "      <td>Garfield the world-famous Monday-hating lasagn...</td>\n",
       "      <td>Alcon Entertainment-DNEG-Wayfarer Studios-One ...</td>\n",
       "      <td>2024-04-30</td>\n",
       "      <td>60000000.0</td>\n",
       "      <td>221871392.0</td>\n",
       "      <td>101.0</td>\n",
       "      <td>Chris Pratt-Samuel L. Jackson-Hannah Waddingha...</td>\n",
       "      <td>friendship-cat-villain-based on comic-lasagne-...</td>\n",
       "    </tr>\n",
       "    <tr>\n",
       "      <th>28</th>\n",
       "      <td>940551</td>\n",
       "      <td>Migration</td>\n",
       "      <td>Animation-Action-Adventure-Comedy-Family</td>\n",
       "      <td>en</td>\n",
       "      <td>After a migrating duck family alights on their...</td>\n",
       "      <td>Illumination</td>\n",
       "      <td>2023-12-06</td>\n",
       "      <td>72000000.0</td>\n",
       "      <td>289076685.0</td>\n",
       "      <td>83.0</td>\n",
       "      <td>Kumail Nanjiani-Elizabeth Banks-Caspar Jenning...</td>\n",
       "      <td>duck-migration-flight-anthropomorphism-family-...</td>\n",
       "    </tr>\n",
       "  </tbody>\n",
       "</table>\n",
       "</div>"
      ],
      "text/plain": [
       "        id                                title  \\\n",
       "9   519182                      Despicable Me 4   \n",
       "10  569094  Spider-Man: Across the Spider-Verse   \n",
       "26  315162         Puss in Boots: The Last Wish   \n",
       "27  748783                   The Garfield Movie   \n",
       "28  940551                            Migration   \n",
       "\n",
       "                                        genres original_language  \\\n",
       "9               Animation-Family-Comedy-Action                en   \n",
       "10  Action-Adventure-Animation-Science Fiction                en   \n",
       "26   Animation-Family-Fantasy-Adventure-Comedy                en   \n",
       "27    Animation-Comedy-Family-Adventure-Action                en   \n",
       "28    Animation-Action-Adventure-Comedy-Family                en   \n",
       "\n",
       "                                             overview  \\\n",
       "9   Gru and Lucy and their girls—Margo Edith and A...   \n",
       "10  After reuniting with Gwen Stacy Brooklyn’s ful...   \n",
       "26  Puss in Boots discovers that his passion for a...   \n",
       "27  Garfield the world-famous Monday-hating lasagn...   \n",
       "28  After a migrating duck family alights on their...   \n",
       "\n",
       "                                 production_companies release_date  \\\n",
       "9   Universal Pictures-Illumination-dentsu-Fuji Te...   2024-06-20   \n",
       "10  Columbia Pictures-Sony Pictures Animation-Lord...   2023-05-31   \n",
       "26            DreamWorks Animation-Universal Pictures   2022-12-07   \n",
       "27  Alcon Entertainment-DNEG-Wayfarer Studios-One ...   2024-04-30   \n",
       "28                                       Illumination   2023-12-06   \n",
       "\n",
       "         budget      revenue  runtime  \\\n",
       "9   100000000.0  810329715.0     94.0   \n",
       "10  100000000.0  512609552.0    140.0   \n",
       "26   90000000.0  480000000.0    103.0   \n",
       "27   60000000.0  221871392.0    101.0   \n",
       "28   72000000.0  289076685.0     83.0   \n",
       "\n",
       "                                              credits  \\\n",
       "9   Steve Carell-Kristen Wiig-Will Ferrell-Sofía V...   \n",
       "10  Shameik Moore-Hailee Steinfeld-Brian Tyree Hen...   \n",
       "26  Antonio Banderas-Salma Hayek Pinault-Harvey Gu...   \n",
       "27  Chris Pratt-Samuel L. Jackson-Hannah Waddingha...   \n",
       "28  Kumail Nanjiani-Elizabeth Banks-Caspar Jenning...   \n",
       "\n",
       "                                             keywords  \n",
       "9   superhero-villain-sequel-super villain-illumin...  \n",
       "10  sacrifice-villain-comic book-sequel-superhero-...  \n",
       "26  fairy tale-talking dog-spin off-aftercreditsst...  \n",
       "27  friendship-cat-villain-based on comic-lasagne-...  \n",
       "28  duck-migration-flight-anthropomorphism-family-...  "
      ]
     },
     "execution_count": 60,
     "metadata": {},
     "output_type": "execute_result"
    }
   ],
   "source": [
    "# Select relevant columns and remove irrelevant ones\n",
    "df_animation_5 = df_animation_1[[\n",
    "    \"id\", \"title\", \"genres\", \"original_language\", \"overview\",\n",
    "    \"production_companies\", \"release_date\", \"budget\", \"revenue\",\n",
    "    \"runtime\", \"credits\", \"keywords\"\n",
    "]]\n",
    "\n",
    "df_animation_5.head(5)"
   ]
  },
  {
   "cell_type": "code",
   "execution_count": 61,
   "id": "ee4dd4bb-0d8b-4044-a4b7-e68179fd5021",
   "metadata": {
    "execution": {
     "iopub.execute_input": "2025-03-18T02:39:08.018867Z",
     "iopub.status.busy": "2025-03-18T02:39:08.018669Z",
     "iopub.status.idle": "2025-03-18T02:39:08.022877Z",
     "shell.execute_reply": "2025-03-18T02:39:08.022442Z",
     "shell.execute_reply.started": "2025-03-18T02:39:08.018848Z"
    }
   },
   "outputs": [
    {
     "data": {
      "text/plain": [
       "(314, 2)"
      ]
     },
     "execution_count": 61,
     "metadata": {},
     "output_type": "execute_result"
    }
   ],
   "source": [
    "# Display the shape of the cleaned dataset\n",
    "df_animation_2.shape"
   ]
  },
  {
   "cell_type": "markdown",
   "id": "b08a0f9d-3cae-4f18-bd56-59734fed6b3c",
   "metadata": {},
   "source": [
    "# Feature Engineering\n",
    "\n",
    "The succeeding steps taken for feature engineering ensures that the dataset captures **important patterns and relationships** that a model can learn from.  \n",
    "\n",
    "For this dataset, we focus on:  \n",
    "- **Date-Based Features**: Extracting **release quarters** to capture **seasonal effects** on revenue.  \n",
    "- **Categorical Features**: Encoding **genres, production companies, original language, and actors** to reflect their impact on revenue.  \n",
    "- **Text Features**: Using **keywords** to represent thematic elements that influence movie success.  \n",
    "\n",
    "These transformations help improve **interpretability** and allow models to make better revenue predictions based on actionable insights.\n"
   ]
  },
  {
   "cell_type": "markdown",
   "id": "1fe2ca3d-108b-4aa5-b1bb-19543458c77b",
   "metadata": {},
   "source": [
    "## Date-Based Features\n",
    "\n",
    "To capture **seasonal trends** in movie performance, we extract the **release quarter** from the release date. Certain quarters may influence revenue due to **seasonal demand**, such as:\n",
    "- **Q1** (January–March): Post-holiday releases and early-year animated films.\n",
    "- **Q2** (April–June): Start of the summer blockbuster season.\n",
    "- **Q3** (July–September): Peak summer releases and early fall films.\n",
    "- **Q4** (October–December): Holiday and award-season releases.\n",
    "\n",
    "By encoding **release quarters** instead of **release years**, it will allow studios to **strategically time movie releases** for maximum revenue. Since **release year is uncontrollable**, focusing on **quarters** helps in planning **marketing campaigns, distribution strategies, and production schedules**. For example, a **family-friendly animated movie** may perform better in **Q4 (holiday season)**, while an **action-packed franchise film** might be best suited for **Q2 (summer blockbusters)**."
   ]
  },
  {
   "cell_type": "code",
   "execution_count": 62,
   "id": "2e39da50-3ba6-46bc-acf8-cc1955aeeaf9",
   "metadata": {
    "execution": {
     "iopub.execute_input": "2025-03-18T02:39:08.023660Z",
     "iopub.status.busy": "2025-03-18T02:39:08.023459Z",
     "iopub.status.idle": "2025-03-18T02:39:08.085994Z",
     "shell.execute_reply": "2025-03-18T02:39:08.085545Z",
     "shell.execute_reply.started": "2025-03-18T02:39:08.023641Z"
    }
   },
   "outputs": [
    {
     "data": {
      "text/html": [
       "<div>\n",
       "<style scoped>\n",
       "    .dataframe tbody tr th:only-of-type {\n",
       "        vertical-align: middle;\n",
       "    }\n",
       "\n",
       "    .dataframe tbody tr th {\n",
       "        vertical-align: top;\n",
       "    }\n",
       "\n",
       "    .dataframe thead th {\n",
       "        text-align: right;\n",
       "    }\n",
       "</style>\n",
       "<table border=\"1\" class=\"dataframe\">\n",
       "  <thead>\n",
       "    <tr style=\"text-align: right;\">\n",
       "      <th></th>\n",
       "      <th>id</th>\n",
       "      <th>title</th>\n",
       "      <th>genres</th>\n",
       "      <th>original_language</th>\n",
       "      <th>overview</th>\n",
       "      <th>popularity</th>\n",
       "      <th>production_companies</th>\n",
       "      <th>release_date</th>\n",
       "      <th>budget</th>\n",
       "      <th>revenue</th>\n",
       "      <th>runtime</th>\n",
       "      <th>status</th>\n",
       "      <th>tagline</th>\n",
       "      <th>vote_average</th>\n",
       "      <th>vote_count</th>\n",
       "      <th>credits</th>\n",
       "      <th>keywords</th>\n",
       "      <th>poster_path</th>\n",
       "      <th>backdrop_path</th>\n",
       "      <th>recommendations</th>\n",
       "      <th>release_year</th>\n",
       "      <th>genres_list</th>\n",
       "      <th>production_companies_list</th>\n",
       "      <th>credits_list</th>\n",
       "      <th>quarter_q1</th>\n",
       "      <th>quarter_q2</th>\n",
       "      <th>quarter_q3</th>\n",
       "      <th>quarter_q4</th>\n",
       "    </tr>\n",
       "  </thead>\n",
       "  <tbody>\n",
       "    <tr>\n",
       "      <th>0</th>\n",
       "      <td>15655</td>\n",
       "      <td>The Tigger Movie</td>\n",
       "      <td>Family-Animation-Comedy</td>\n",
       "      <td>en</td>\n",
       "      <td>Winnie the Pooh Piglet Owl Kanga Roo and Rabbi...</td>\n",
       "      <td>20.167</td>\n",
       "      <td>Walt Disney Pictures-Disney Television Animati...</td>\n",
       "      <td>2000-02-11</td>\n",
       "      <td>30000000.0</td>\n",
       "      <td>45554533.0</td>\n",
       "      <td>77.0</td>\n",
       "      <td>Released</td>\n",
       "      <td>NaN</td>\n",
       "      <td>6.500</td>\n",
       "      <td>487.0</td>\n",
       "      <td>Jim Cummings-Ken Sansom-John Fiedler-Peter Cul...</td>\n",
       "      <td>woman director</td>\n",
       "      <td>/lxuiGvLHIL1ZyePP7bn6FcKj0Mr.jpg</td>\n",
       "      <td>/uMoSM7r4dst4e5aFUhDEDPyh1hL.jpg</td>\n",
       "      <td>13691-13682-13706-16394-27332-14885-326911-511...</td>\n",
       "      <td>2000</td>\n",
       "      <td>[Family, Animation, Comedy]</td>\n",
       "      <td>[Walt Disney Pictures, Disney Television Anima...</td>\n",
       "      <td>[Jim Cummings, Ken Sansom, John Fiedler, Peter...</td>\n",
       "      <td>1</td>\n",
       "      <td>0</td>\n",
       "      <td>0</td>\n",
       "      <td>0</td>\n",
       "    </tr>\n",
       "    <tr>\n",
       "      <th>1</th>\n",
       "      <td>20455</td>\n",
       "      <td>Digimon: The Movie</td>\n",
       "      <td>Fantasy-Animation-Science Fiction-Family</td>\n",
       "      <td>ja</td>\n",
       "      <td>The first story focused on Tai and Kari Kamiya...</td>\n",
       "      <td>13.017</td>\n",
       "      <td>Saban Entertainment-Toei Company-Fox Family Fi...</td>\n",
       "      <td>2000-03-04</td>\n",
       "      <td>5500000.0</td>\n",
       "      <td>16600000.0</td>\n",
       "      <td>89.0</td>\n",
       "      <td>Released</td>\n",
       "      <td>New Monsters. New Battles. Now on the Big Screen.</td>\n",
       "      <td>6.600</td>\n",
       "      <td>243.0</td>\n",
       "      <td>Lara Jill Miller-Joshua Seth-Bob Papenbrook-Da...</td>\n",
       "      <td>video game-monster-loss of energy-computer-sup...</td>\n",
       "      <td>/1MpgVWRCdWEgu9qZivyNX4glDe.jpg</td>\n",
       "      <td>/1ZFUt0LtYkF568iCkRXCScgBP5g.jpg</td>\n",
       "      <td>97787-75571-12599-98299-10228-10991-36201-8873...</td>\n",
       "      <td>2000</td>\n",
       "      <td>[Fantasy, Animation, Science Fiction, Family]</td>\n",
       "      <td>[Saban Entertainment, Toei Company, Fox Family...</td>\n",
       "      <td>[Lara Jill Miller, Joshua Seth, Bob Papenbrook...</td>\n",
       "      <td>1</td>\n",
       "      <td>0</td>\n",
       "      <td>0</td>\n",
       "      <td>0</td>\n",
       "    </tr>\n",
       "    <tr>\n",
       "      <th>2</th>\n",
       "      <td>10501</td>\n",
       "      <td>The Road to El Dorado</td>\n",
       "      <td>Family-Adventure-Animation-Comedy-Fantasy</td>\n",
       "      <td>en</td>\n",
       "      <td>After a failed swindle two con-men end up with...</td>\n",
       "      <td>41.768</td>\n",
       "      <td>DreamWorks Animation-DreamWorks Pictures</td>\n",
       "      <td>2000-03-31</td>\n",
       "      <td>95000000.0</td>\n",
       "      <td>76432727.0</td>\n",
       "      <td>89.0</td>\n",
       "      <td>Released</td>\n",
       "      <td>They came for the gold. They stayed for the ad...</td>\n",
       "      <td>7.242</td>\n",
       "      <td>3354.0</td>\n",
       "      <td>Kenneth Branagh-Kevin Kline-Rosie Perez-Armand...</td>\n",
       "      <td>gold-horse-musical-cartoon-sword fight-con art...</td>\n",
       "      <td>/ryXm7xp4aqQyda0FU2eMfHehPBg.jpg</td>\n",
       "      <td>/ciID0Mu1pPuOUP3JbOsDXQ5aMV6.jpg</td>\n",
       "      <td>10865-8916-10009-9837-9444-14411-11688-9023-90...</td>\n",
       "      <td>2000</td>\n",
       "      <td>[Family, Adventure, Animation, Comedy, Fantasy]</td>\n",
       "      <td>[DreamWorks Animation, DreamWorks Pictures]</td>\n",
       "      <td>[Kenneth Branagh, Kevin Kline, Rosie Perez, Ar...</td>\n",
       "      <td>1</td>\n",
       "      <td>0</td>\n",
       "      <td>0</td>\n",
       "      <td>0</td>\n",
       "    </tr>\n",
       "    <tr>\n",
       "      <th>3</th>\n",
       "      <td>10567</td>\n",
       "      <td>Dinosaur</td>\n",
       "      <td>Animation-Family-Adventure</td>\n",
       "      <td>en</td>\n",
       "      <td>An orphaned dinosaur raised by lemurs joins an...</td>\n",
       "      <td>62.622</td>\n",
       "      <td>Walt Disney Pictures-Walt Disney Feature Anima...</td>\n",
       "      <td>2000-05-19</td>\n",
       "      <td>127500000.0</td>\n",
       "      <td>354248063.0</td>\n",
       "      <td>82.0</td>\n",
       "      <td>Released</td>\n",
       "      <td>Discover a world you've only imagined.</td>\n",
       "      <td>6.534</td>\n",
       "      <td>2455.0</td>\n",
       "      <td>D.B. Sweeney-Alfre Woodard-Ossie Davis-Max Cas...</td>\n",
       "      <td>cataclysm-asteroid-leader-villain-comet-migrat...</td>\n",
       "      <td>/rSje3FS7ycJSglowlngjsvDt7vO.jpg</td>\n",
       "      <td>/laeEtakR2pLKu3CeRwB2lU5Y53X.jpg</td>\n",
       "      <td>12129-7443-11688-10865-13691-49948-15655-12233...</td>\n",
       "      <td>2000</td>\n",
       "      <td>[Animation, Family, Adventure]</td>\n",
       "      <td>[Walt Disney Pictures, Walt Disney Feature Ani...</td>\n",
       "      <td>[D.B. Sweeney, Alfre Woodard, Ossie Davis, Max...</td>\n",
       "      <td>0</td>\n",
       "      <td>1</td>\n",
       "      <td>0</td>\n",
       "      <td>0</td>\n",
       "    </tr>\n",
       "    <tr>\n",
       "      <th>4</th>\n",
       "      <td>7450</td>\n",
       "      <td>Titan A.E.</td>\n",
       "      <td>Animation-Action-Science Fiction-Family-Adventure</td>\n",
       "      <td>en</td>\n",
       "      <td>A young man finds out that he holds the key to...</td>\n",
       "      <td>19.759</td>\n",
       "      <td>20th Century Fox-David Kirschner Productions-F...</td>\n",
       "      <td>2000-06-16</td>\n",
       "      <td>75000000.0</td>\n",
       "      <td>36754634.0</td>\n",
       "      <td>94.0</td>\n",
       "      <td>Released</td>\n",
       "      <td>When Earth Ends, The Adventure Begins.</td>\n",
       "      <td>6.609</td>\n",
       "      <td>916.0</td>\n",
       "      <td>Matt Damon-Bill Pullman-Drew Barrymore-John Le...</td>\n",
       "      <td>monster-galaxy-dystopia-space-alien-mission</td>\n",
       "      <td>/el2iHk3LTJWfEnwrvcRkvWY501G.jpg</td>\n",
       "      <td>/pniACHS8KDVCldB3BlwL78RIZ7V.jpg</td>\n",
       "      <td>9016-14411-2114-9837-10016-2157-8584-13225-97-...</td>\n",
       "      <td>2000</td>\n",
       "      <td>[Animation, Action, Science Fiction, Family, A...</td>\n",
       "      <td>[20th Century Fox, David Kirschner Productions...</td>\n",
       "      <td>[Matt Damon, Bill Pullman, Drew Barrymore, Joh...</td>\n",
       "      <td>0</td>\n",
       "      <td>1</td>\n",
       "      <td>0</td>\n",
       "      <td>0</td>\n",
       "    </tr>\n",
       "  </tbody>\n",
       "</table>\n",
       "</div>"
      ],
      "text/plain": [
       "      id                  title  \\\n",
       "0  15655       The Tigger Movie   \n",
       "1  20455     Digimon: The Movie   \n",
       "2  10501  The Road to El Dorado   \n",
       "3  10567               Dinosaur   \n",
       "4   7450             Titan A.E.   \n",
       "\n",
       "                                              genres original_language  \\\n",
       "0                            Family-Animation-Comedy                en   \n",
       "1           Fantasy-Animation-Science Fiction-Family                ja   \n",
       "2          Family-Adventure-Animation-Comedy-Fantasy                en   \n",
       "3                         Animation-Family-Adventure                en   \n",
       "4  Animation-Action-Science Fiction-Family-Adventure                en   \n",
       "\n",
       "                                            overview  popularity  \\\n",
       "0  Winnie the Pooh Piglet Owl Kanga Roo and Rabbi...      20.167   \n",
       "1  The first story focused on Tai and Kari Kamiya...      13.017   \n",
       "2  After a failed swindle two con-men end up with...      41.768   \n",
       "3  An orphaned dinosaur raised by lemurs joins an...      62.622   \n",
       "4  A young man finds out that he holds the key to...      19.759   \n",
       "\n",
       "                                production_companies release_date  \\\n",
       "0  Walt Disney Pictures-Disney Television Animati...   2000-02-11   \n",
       "1  Saban Entertainment-Toei Company-Fox Family Fi...   2000-03-04   \n",
       "2           DreamWorks Animation-DreamWorks Pictures   2000-03-31   \n",
       "3  Walt Disney Pictures-Walt Disney Feature Anima...   2000-05-19   \n",
       "4  20th Century Fox-David Kirschner Productions-F...   2000-06-16   \n",
       "\n",
       "        budget      revenue  runtime    status  \\\n",
       "0   30000000.0   45554533.0     77.0  Released   \n",
       "1    5500000.0   16600000.0     89.0  Released   \n",
       "2   95000000.0   76432727.0     89.0  Released   \n",
       "3  127500000.0  354248063.0     82.0  Released   \n",
       "4   75000000.0   36754634.0     94.0  Released   \n",
       "\n",
       "                                             tagline  vote_average  \\\n",
       "0                                                NaN         6.500   \n",
       "1  New Monsters. New Battles. Now on the Big Screen.         6.600   \n",
       "2  They came for the gold. They stayed for the ad...         7.242   \n",
       "3             Discover a world you've only imagined.         6.534   \n",
       "4             When Earth Ends, The Adventure Begins.         6.609   \n",
       "\n",
       "   vote_count                                            credits  \\\n",
       "0       487.0  Jim Cummings-Ken Sansom-John Fiedler-Peter Cul...   \n",
       "1       243.0  Lara Jill Miller-Joshua Seth-Bob Papenbrook-Da...   \n",
       "2      3354.0  Kenneth Branagh-Kevin Kline-Rosie Perez-Armand...   \n",
       "3      2455.0  D.B. Sweeney-Alfre Woodard-Ossie Davis-Max Cas...   \n",
       "4       916.0  Matt Damon-Bill Pullman-Drew Barrymore-John Le...   \n",
       "\n",
       "                                            keywords  \\\n",
       "0                                     woman director   \n",
       "1  video game-monster-loss of energy-computer-sup...   \n",
       "2  gold-horse-musical-cartoon-sword fight-con art...   \n",
       "3  cataclysm-asteroid-leader-villain-comet-migrat...   \n",
       "4        monster-galaxy-dystopia-space-alien-mission   \n",
       "\n",
       "                        poster_path                     backdrop_path  \\\n",
       "0  /lxuiGvLHIL1ZyePP7bn6FcKj0Mr.jpg  /uMoSM7r4dst4e5aFUhDEDPyh1hL.jpg   \n",
       "1   /1MpgVWRCdWEgu9qZivyNX4glDe.jpg  /1ZFUt0LtYkF568iCkRXCScgBP5g.jpg   \n",
       "2  /ryXm7xp4aqQyda0FU2eMfHehPBg.jpg  /ciID0Mu1pPuOUP3JbOsDXQ5aMV6.jpg   \n",
       "3  /rSje3FS7ycJSglowlngjsvDt7vO.jpg  /laeEtakR2pLKu3CeRwB2lU5Y53X.jpg   \n",
       "4  /el2iHk3LTJWfEnwrvcRkvWY501G.jpg  /pniACHS8KDVCldB3BlwL78RIZ7V.jpg   \n",
       "\n",
       "                                     recommendations  release_year  \\\n",
       "0  13691-13682-13706-16394-27332-14885-326911-511...          2000   \n",
       "1  97787-75571-12599-98299-10228-10991-36201-8873...          2000   \n",
       "2  10865-8916-10009-9837-9444-14411-11688-9023-90...          2000   \n",
       "3  12129-7443-11688-10865-13691-49948-15655-12233...          2000   \n",
       "4  9016-14411-2114-9837-10016-2157-8584-13225-97-...          2000   \n",
       "\n",
       "                                         genres_list  \\\n",
       "0                        [Family, Animation, Comedy]   \n",
       "1      [Fantasy, Animation, Science Fiction, Family]   \n",
       "2    [Family, Adventure, Animation, Comedy, Fantasy]   \n",
       "3                     [Animation, Family, Adventure]   \n",
       "4  [Animation, Action, Science Fiction, Family, A...   \n",
       "\n",
       "                           production_companies_list  \\\n",
       "0  [Walt Disney Pictures, Disney Television Anima...   \n",
       "1  [Saban Entertainment, Toei Company, Fox Family...   \n",
       "2        [DreamWorks Animation, DreamWorks Pictures]   \n",
       "3  [Walt Disney Pictures, Walt Disney Feature Ani...   \n",
       "4  [20th Century Fox, David Kirschner Productions...   \n",
       "\n",
       "                                        credits_list  quarter_q1  quarter_q2  \\\n",
       "0  [Jim Cummings, Ken Sansom, John Fiedler, Peter...           1           0   \n",
       "1  [Lara Jill Miller, Joshua Seth, Bob Papenbrook...           1           0   \n",
       "2  [Kenneth Branagh, Kevin Kline, Rosie Perez, Ar...           1           0   \n",
       "3  [D.B. Sweeney, Alfre Woodard, Ossie Davis, Max...           0           1   \n",
       "4  [Matt Damon, Bill Pullman, Drew Barrymore, Joh...           0           1   \n",
       "\n",
       "   quarter_q3  quarter_q4  \n",
       "0           0           0  \n",
       "1           0           0  \n",
       "2           0           0  \n",
       "3           0           0  \n",
       "4           0           0  "
      ]
     },
     "execution_count": 62,
     "metadata": {},
     "output_type": "execute_result"
    }
   ],
   "source": [
    "# Sort the dataset by 'release_date'\n",
    "df_animation_5 = df_animation_1.sort_values(by=\"release_date\", ignore_index=True)\n",
    "\n",
    "# Convert release_date to datetime format\n",
    "df_animation_5[\"release_date\"] = pd.to_datetime(df_animation_5[\"release_date\"])\n",
    "\n",
    "# Extract the quarter and map it to categorical labels\n",
    "df_animation_5[\"release_quarter\"] = df_animation_5[\"release_date\"].dt.quarter.map(\n",
    "    {1: \"q1\", 2: \"q2\", 3: \"q3\", 4: \"q4\"}\n",
    ")\n",
    "\n",
    "# One-hot encode the quarters\n",
    "df_animation_5 = pd.get_dummies(df_animation_5, columns=[\"release_quarter\"], prefix=\"quarter\")\n",
    "\n",
    "# Ensure quarter columns are treated as integers\n",
    "df_animation_5[[\"quarter_q1\", \"quarter_q2\", \"quarter_q3\", \"quarter_q4\"]] = df_animation_5[\n",
    "    [\"quarter_q1\", \"quarter_q2\", \"quarter_q3\", \"quarter_q4\"]\n",
    "].astype(int)\n",
    "\n",
    "# Display the first 5 rows\n",
    "df_animation_5.head(5)"
   ]
  },
  {
   "cell_type": "code",
   "execution_count": 63,
   "id": "6db9761c-c1cf-4f90-bab7-d877ac76b93d",
   "metadata": {
    "execution": {
     "iopub.execute_input": "2025-03-18T02:39:08.086787Z",
     "iopub.status.busy": "2025-03-18T02:39:08.086583Z",
     "iopub.status.idle": "2025-03-18T02:39:08.102250Z",
     "shell.execute_reply": "2025-03-18T02:39:08.101802Z",
     "shell.execute_reply.started": "2025-03-18T02:39:08.086767Z"
    }
   },
   "outputs": [
    {
     "name": "stdout",
     "output_type": "stream",
     "text": [
      "Mutual Information between Release Quarter and Revenue: 0.0394\n"
     ]
    }
   ],
   "source": [
    "# Create a single categorical column for quarters\n",
    "df_animation_5[\"release_quarter\"] = df_animation_5[\n",
    "    [\"quarter_q1\", \"quarter_q2\", \"quarter_q3\", \"quarter_q4\"]\n",
    "].idxmax(axis=1).str.replace(\"quarter_\", \"\").str.upper()\n",
    "\n",
    "# Drop missing values to avoid computation errors\n",
    "df_quarter_mi = df_animation_5[[\"release_quarter\", \"revenue\"]].dropna()\n",
    "\n",
    "# Encode quarter as categorical values\n",
    "le = LabelEncoder()\n",
    "quarter_encoded = le.fit_transform(df_quarter_mi[\"release_quarter\"]).reshape(-1, 1)\n",
    "\n",
    "# Standardize revenue\n",
    "scaler = StandardScaler()\n",
    "revenue_scaled = scaler.fit_transform(df_quarter_mi[[\"revenue\"]])\n",
    "\n",
    "# Compute MI score between quarter and revenue\n",
    "mi_score_quarter = mutual_info_regression(quarter_encoded, revenue_scaled.ravel())[0]\n",
    "\n",
    "# Display result\n",
    "print(f\"Mutual Information between Release Quarter and Revenue: {mi_score_quarter:.4f}\")\n"
   ]
  },
  {
   "cell_type": "markdown",
   "id": "354f2e84-61e7-412d-a55c-06c2999bc08d",
   "metadata": {},
   "source": [
    "While **0.0395** is not extremely high, it is **not negligible** for categorical features in real-world scenarios. It suggests that release timing has some influence on revenue."
   ]
  },
  {
   "cell_type": "markdown",
   "id": "1288f85e-3571-4da6-913a-adb74fcec1db",
   "metadata": {},
   "source": [
    "## Revenue and Budget"
   ]
  },
  {
   "cell_type": "markdown",
   "id": "9462b33a-8414-4cc4-8ed1-51db305fdae8",
   "metadata": {},
   "source": [
    "### Adjusting for Inflation\n",
    "To ensure accurate comparisons across different years, we adjust **budget** and **revenue** for inflation.  \n",
    "\n",
    "We assume an **average annual inflation rate of 3%**, based on **historical long-term inflation trends**. The U.S. Bureau of Labor Statistics (BLS) reports that **inflation has averaged around 3% per year** over the past several decades. This rate is also commonly used in **financial modeling and forecasting**.  \n",
    "\n",
    "**Source:** [U.S. Bureau of Labor Statistics - Historical Inflation Data](https://www.bls.gov/cpi/)\n"
   ]
  },
  {
   "cell_type": "code",
   "execution_count": 64,
   "id": "0a9bd57a-2cc3-4185-a42c-cfef5a7fce49",
   "metadata": {
    "execution": {
     "iopub.execute_input": "2025-03-18T02:39:08.103038Z",
     "iopub.status.busy": "2025-03-18T02:39:08.102836Z",
     "iopub.status.idle": "2025-03-18T02:39:08.124895Z",
     "shell.execute_reply": "2025-03-18T02:39:08.124452Z",
     "shell.execute_reply.started": "2025-03-18T02:39:08.103020Z"
    }
   },
   "outputs": [
    {
     "data": {
      "text/html": [
       "<div>\n",
       "<style scoped>\n",
       "    .dataframe tbody tr th:only-of-type {\n",
       "        vertical-align: middle;\n",
       "    }\n",
       "\n",
       "    .dataframe tbody tr th {\n",
       "        vertical-align: top;\n",
       "    }\n",
       "\n",
       "    .dataframe thead th {\n",
       "        text-align: right;\n",
       "    }\n",
       "</style>\n",
       "<table border=\"1\" class=\"dataframe\">\n",
       "  <thead>\n",
       "    <tr style=\"text-align: right;\">\n",
       "      <th></th>\n",
       "      <th>id</th>\n",
       "      <th>title</th>\n",
       "      <th>genres</th>\n",
       "      <th>original_language</th>\n",
       "      <th>overview</th>\n",
       "      <th>popularity</th>\n",
       "      <th>production_companies</th>\n",
       "      <th>release_date</th>\n",
       "      <th>budget</th>\n",
       "      <th>revenue</th>\n",
       "      <th>runtime</th>\n",
       "      <th>status</th>\n",
       "      <th>tagline</th>\n",
       "      <th>vote_average</th>\n",
       "      <th>vote_count</th>\n",
       "      <th>credits</th>\n",
       "      <th>keywords</th>\n",
       "      <th>poster_path</th>\n",
       "      <th>backdrop_path</th>\n",
       "      <th>recommendations</th>\n",
       "      <th>release_year</th>\n",
       "      <th>genres_list</th>\n",
       "      <th>production_companies_list</th>\n",
       "      <th>credits_list</th>\n",
       "      <th>quarter_q1</th>\n",
       "      <th>quarter_q2</th>\n",
       "      <th>quarter_q3</th>\n",
       "      <th>quarter_q4</th>\n",
       "      <th>release_quarter</th>\n",
       "      <th>real_budget</th>\n",
       "      <th>real_revenue</th>\n",
       "    </tr>\n",
       "  </thead>\n",
       "  <tbody>\n",
       "    <tr>\n",
       "      <th>0</th>\n",
       "      <td>15655</td>\n",
       "      <td>The Tigger Movie</td>\n",
       "      <td>Family-Animation-Comedy</td>\n",
       "      <td>en</td>\n",
       "      <td>Winnie the Pooh Piglet Owl Kanga Roo and Rabbi...</td>\n",
       "      <td>20.167</td>\n",
       "      <td>Walt Disney Pictures-Disney Television Animati...</td>\n",
       "      <td>2000-02-11</td>\n",
       "      <td>30000000.0</td>\n",
       "      <td>45554533.0</td>\n",
       "      <td>77.0</td>\n",
       "      <td>Released</td>\n",
       "      <td>NaN</td>\n",
       "      <td>6.5</td>\n",
       "      <td>487.0</td>\n",
       "      <td>Jim Cummings-Ken Sansom-John Fiedler-Peter Cul...</td>\n",
       "      <td>woman director</td>\n",
       "      <td>/lxuiGvLHIL1ZyePP7bn6FcKj0Mr.jpg</td>\n",
       "      <td>/uMoSM7r4dst4e5aFUhDEDPyh1hL.jpg</td>\n",
       "      <td>13691-13682-13706-16394-27332-14885-326911-511...</td>\n",
       "      <td>2000</td>\n",
       "      <td>[Family, Animation, Comedy]</td>\n",
       "      <td>[Walt Disney Pictures, Disney Television Anima...</td>\n",
       "      <td>[Jim Cummings, Ken Sansom, John Fiedler, Peter...</td>\n",
       "      <td>1</td>\n",
       "      <td>0</td>\n",
       "      <td>0</td>\n",
       "      <td>0</td>\n",
       "      <td>Q1</td>\n",
       "      <td>6.281334e+07</td>\n",
       "      <td>9.538108e+07</td>\n",
       "    </tr>\n",
       "    <tr>\n",
       "      <th>1</th>\n",
       "      <td>20455</td>\n",
       "      <td>Digimon: The Movie</td>\n",
       "      <td>Fantasy-Animation-Science Fiction-Family</td>\n",
       "      <td>ja</td>\n",
       "      <td>The first story focused on Tai and Kari Kamiya...</td>\n",
       "      <td>13.017</td>\n",
       "      <td>Saban Entertainment-Toei Company-Fox Family Fi...</td>\n",
       "      <td>2000-03-04</td>\n",
       "      <td>5500000.0</td>\n",
       "      <td>16600000.0</td>\n",
       "      <td>89.0</td>\n",
       "      <td>Released</td>\n",
       "      <td>New Monsters. New Battles. Now on the Big Screen.</td>\n",
       "      <td>6.6</td>\n",
       "      <td>243.0</td>\n",
       "      <td>Lara Jill Miller-Joshua Seth-Bob Papenbrook-Da...</td>\n",
       "      <td>video game-monster-loss of energy-computer-sup...</td>\n",
       "      <td>/1MpgVWRCdWEgu9qZivyNX4glDe.jpg</td>\n",
       "      <td>/1ZFUt0LtYkF568iCkRXCScgBP5g.jpg</td>\n",
       "      <td>97787-75571-12599-98299-10228-10991-36201-8873...</td>\n",
       "      <td>2000</td>\n",
       "      <td>[Fantasy, Animation, Science Fiction, Family]</td>\n",
       "      <td>[Saban Entertainment, Toei Company, Fox Family...</td>\n",
       "      <td>[Lara Jill Miller, Joshua Seth, Bob Papenbrook...</td>\n",
       "      <td>1</td>\n",
       "      <td>0</td>\n",
       "      <td>0</td>\n",
       "      <td>0</td>\n",
       "      <td>Q1</td>\n",
       "      <td>1.151578e+07</td>\n",
       "      <td>3.475671e+07</td>\n",
       "    </tr>\n",
       "  </tbody>\n",
       "</table>\n",
       "</div>"
      ],
      "text/plain": [
       "      id               title                                    genres  \\\n",
       "0  15655    The Tigger Movie                   Family-Animation-Comedy   \n",
       "1  20455  Digimon: The Movie  Fantasy-Animation-Science Fiction-Family   \n",
       "\n",
       "  original_language                                           overview  \\\n",
       "0                en  Winnie the Pooh Piglet Owl Kanga Roo and Rabbi...   \n",
       "1                ja  The first story focused on Tai and Kari Kamiya...   \n",
       "\n",
       "   popularity                               production_companies release_date  \\\n",
       "0      20.167  Walt Disney Pictures-Disney Television Animati...   2000-02-11   \n",
       "1      13.017  Saban Entertainment-Toei Company-Fox Family Fi...   2000-03-04   \n",
       "\n",
       "       budget     revenue  runtime    status  \\\n",
       "0  30000000.0  45554533.0     77.0  Released   \n",
       "1   5500000.0  16600000.0     89.0  Released   \n",
       "\n",
       "                                             tagline  vote_average  \\\n",
       "0                                                NaN           6.5   \n",
       "1  New Monsters. New Battles. Now on the Big Screen.           6.6   \n",
       "\n",
       "   vote_count                                            credits  \\\n",
       "0       487.0  Jim Cummings-Ken Sansom-John Fiedler-Peter Cul...   \n",
       "1       243.0  Lara Jill Miller-Joshua Seth-Bob Papenbrook-Da...   \n",
       "\n",
       "                                            keywords  \\\n",
       "0                                     woman director   \n",
       "1  video game-monster-loss of energy-computer-sup...   \n",
       "\n",
       "                        poster_path                     backdrop_path  \\\n",
       "0  /lxuiGvLHIL1ZyePP7bn6FcKj0Mr.jpg  /uMoSM7r4dst4e5aFUhDEDPyh1hL.jpg   \n",
       "1   /1MpgVWRCdWEgu9qZivyNX4glDe.jpg  /1ZFUt0LtYkF568iCkRXCScgBP5g.jpg   \n",
       "\n",
       "                                     recommendations  release_year  \\\n",
       "0  13691-13682-13706-16394-27332-14885-326911-511...          2000   \n",
       "1  97787-75571-12599-98299-10228-10991-36201-8873...          2000   \n",
       "\n",
       "                                     genres_list  \\\n",
       "0                    [Family, Animation, Comedy]   \n",
       "1  [Fantasy, Animation, Science Fiction, Family]   \n",
       "\n",
       "                           production_companies_list  \\\n",
       "0  [Walt Disney Pictures, Disney Television Anima...   \n",
       "1  [Saban Entertainment, Toei Company, Fox Family...   \n",
       "\n",
       "                                        credits_list  quarter_q1  quarter_q2  \\\n",
       "0  [Jim Cummings, Ken Sansom, John Fiedler, Peter...           1           0   \n",
       "1  [Lara Jill Miller, Joshua Seth, Bob Papenbrook...           1           0   \n",
       "\n",
       "   quarter_q3  quarter_q4 release_quarter   real_budget  real_revenue  \n",
       "0           0           0              Q1  6.281334e+07  9.538108e+07  \n",
       "1           0           0              Q1  1.151578e+07  3.475671e+07  "
      ]
     },
     "execution_count": 64,
     "metadata": {},
     "output_type": "execute_result"
    }
   ],
   "source": [
    "# Define the annual inflation rate (assumed long-term average)\n",
    "INFLATION_RATE = 1.03  # 3% annual inflation\n",
    "\n",
    "# Adjust budget and revenue to real 2025 values\n",
    "df_animation_5[\"real_budget\"] = df_animation_5[\"budget\"] * (\n",
    "    INFLATION_RATE ** (2025 - df_animation_5[\"release_year\"])\n",
    ")\n",
    "\n",
    "df_animation_5[\"real_revenue\"] = df_animation_5[\"revenue\"] * (\n",
    "    INFLATION_RATE ** (2025 - df_animation_5[\"release_year\"])\n",
    ")\n",
    "\n",
    "# Display the first two rows of the updated dataset\n",
    "df_animation_5.head(2)"
   ]
  },
  {
   "cell_type": "markdown",
   "id": "3fcca227-0163-4dee-8985-238c2a5b700f",
   "metadata": {},
   "source": [
    "### Log and SQRT"
   ]
  },
  {
   "cell_type": "code",
   "execution_count": 65,
   "id": "88a95250-08ba-4196-a1f5-3c27b462821a",
   "metadata": {
    "execution": {
     "iopub.execute_input": "2025-03-18T02:39:08.125691Z",
     "iopub.status.busy": "2025-03-18T02:39:08.125485Z",
     "iopub.status.idle": "2025-03-18T02:39:08.128595Z",
     "shell.execute_reply": "2025-03-18T02:39:08.128034Z",
     "shell.execute_reply.started": "2025-03-18T02:39:08.125672Z"
    }
   },
   "outputs": [],
   "source": [
    "# df_animation_5[\"log_real_revenue\"] = np.log10(df_animation_5[\"real_revenue\"])\n",
    "# df_animation_5[\"log_real_budget\"] = np.log10(df_animation_5[\"real_budget\"])\n",
    "\n",
    "# df_animation_5[\"sqrt_real_revenue\"] = np.sqrt(df_animation_5[\"real_revenue\"])\n",
    "# df_animation_5[\"sqrt_real_budget\"] = np.sqrt(df_animation_5[\"real_budget\"])\n",
    "\n",
    "# df_animation_5[[\"real_revenue\", \"real_budget\", \"log_real_revenue\", \"log_real_budget\", \"sqrt_real_revenue\", \"sqrt_real_budget\"]]"
   ]
  },
  {
   "cell_type": "code",
   "execution_count": 66,
   "id": "290f6ad1-0238-40ef-a9d5-e7dafbda6cc8",
   "metadata": {
    "execution": {
     "iopub.execute_input": "2025-03-18T02:39:08.134495Z",
     "iopub.status.busy": "2025-03-18T02:39:08.134279Z",
     "iopub.status.idle": "2025-03-18T02:39:08.137170Z",
     "shell.execute_reply": "2025-03-18T02:39:08.136665Z",
     "shell.execute_reply.started": "2025-03-18T02:39:08.134475Z"
    }
   },
   "outputs": [],
   "source": [
    "# corr_movies = df_animation_5[[\n",
    "#     \"real_budget\", \"log_real_budget\", \"sqrt_real_budget\",\n",
    "#     \"real_revenue\", \"log_real_revenue\", \"sqrt_real_revenue\"\n",
    "# ]].corr()\n",
    "# sns.heatmap(corr_movies, annot=True, cmap=\"coolwarm\", center=0, vmin=-1, vmax=1)"
   ]
  },
  {
   "cell_type": "code",
   "execution_count": 67,
   "id": "be613117-efc5-4e49-a46e-fc60f9e6585d",
   "metadata": {
    "execution": {
     "iopub.execute_input": "2025-03-18T02:39:08.137949Z",
     "iopub.status.busy": "2025-03-18T02:39:08.137750Z",
     "iopub.status.idle": "2025-03-18T02:39:08.141589Z",
     "shell.execute_reply": "2025-03-18T02:39:08.141057Z",
     "shell.execute_reply.started": "2025-03-18T02:39:08.137931Z"
    }
   },
   "outputs": [],
   "source": [
    "# fig, axes = plt.subplots(3, 2, figsize=(14, 12))\n",
    "\n",
    "# # Original values: real_revenue and real_budget\n",
    "# sns.histplot(df_animation_5[\"real_revenue\"], kde=True, ax=axes[0, 0], color=\"skyblue\", bins=30)\n",
    "# axes[0, 0].set_title(\"Histogram of real_revenue\")\n",
    "\n",
    "# sns.histplot(df_animation_5[\"real_budget\"], kde=True, ax=axes[0, 1], color=\"lightgreen\", bins=30)\n",
    "# axes[0, 1].set_title(\"Histogram of real_budget\")\n",
    "\n",
    "# # Log-transformed values: log_real_revenue and log_real_budget\n",
    "# sns.histplot(df_animation_5[\"log_real_revenue\"], kde=True, ax=axes[1, 0], color=\"salmon\", bins=30)\n",
    "# axes[1, 0].set_title(\"Histogram of log_real_revenue\")\n",
    "\n",
    "# sns.histplot(df_animation_5[\"log_real_budget\"], kde=True, ax=axes[1, 1], color=\"yellow\", bins=30)\n",
    "# axes[1, 1].set_title(\"Histogram of log_real_budget\")\n",
    "\n",
    "# # Square root-transformed values: sqrt_real_revenue and sqrt_real_budget\n",
    "# sns.histplot(df_animation_5[\"sqrt_real_revenue\"], kde=True, ax=axes[2, 0], color=\"orange\", bins=30)\n",
    "# axes[2, 0].set_title(\"Histogram of sqrt_real_revenue\")\n",
    "\n",
    "# sns.histplot(df_animation_5[\"sqrt_real_budget\"], kde=True, ax=axes[2, 1], color=\"lightcoral\", bins=30)\n",
    "# axes[2, 1].set_title(\"Histogram of sqrt_real_budget\")\n",
    "\n",
    "# # Skewness and Kurtosis for each column\n",
    "# columns = [\"real_revenue\", \"real_budget\", \"log_real_revenue\", \"log_real_budget\", \"sqrt_real_revenue\", \"sqrt_real_budget\"]\n",
    "\n",
    "# # Calculate and print skewness and kurtosis\n",
    "# print(\"Skewness and Kurtosis of each column:\\n\")\n",
    "# for col in columns:\n",
    "#     col_skewness = skew(df_animation_5[col].dropna())  # dropna to handle any NaN values\n",
    "#     col_kurtosis = kurtosis(df_animation_5[col].dropna())\n",
    "#     print(f\"{col}: Skewness = {col_skewness:.4f}, Kurtosis = {col_kurtosis:.4f}\")\n",
    "\n",
    "# # Show all the plots\n",
    "# plt.tight_layout()\n",
    "# plt.show()\n"
   ]
  },
  {
   "cell_type": "markdown",
   "id": "fd3e4592-8e23-4269-ba13-ceeb9dd3f663",
   "metadata": {},
   "source": [
    "Based on the skewness and kurtosis results, the square root transformations (sqrt_real_revenue and sqrt_real_budget) appear to be the most effective for normalizing the data. These transformations exhibit lower skewness, with values closer to 0, indicating that the data is more symmetric. Additionally, the square root transformations have negative kurtosis, suggesting lighter tails and fewer extreme values compared to the original data. In contrast, the log transformations (log_real_revenue and log_real_budget) reduce skewness but introduce more extreme values, as indicated by their higher positive kurtosis and stronger negative skewness. This results in a distribution that is less normal, with a leftward tail and more extreme outliers. Therefore, the square root transformations offer a more balanced approach, bringing the data closer to a normal distribution without distorting the tails too much, making them better suited for modeling or statistical analysis that assumes normality."
   ]
  },
  {
   "cell_type": "code",
   "execution_count": 68,
   "id": "2024885d-d1bc-4600-8bbe-3bec9bbbcc97",
   "metadata": {
    "execution": {
     "iopub.execute_input": "2025-03-18T02:39:08.142345Z",
     "iopub.status.busy": "2025-03-18T02:39:08.142147Z",
     "iopub.status.idle": "2025-03-18T02:39:08.145258Z",
     "shell.execute_reply": "2025-03-18T02:39:08.144724Z",
     "shell.execute_reply.started": "2025-03-18T02:39:08.142327Z"
    }
   },
   "outputs": [],
   "source": [
    "# df_animation_5.columns"
   ]
  },
  {
   "cell_type": "code",
   "execution_count": 69,
   "id": "a97eab17-87a9-44f5-bbe1-384b0ac18cc7",
   "metadata": {
    "execution": {
     "iopub.execute_input": "2025-03-18T02:39:08.146156Z",
     "iopub.status.busy": "2025-03-18T02:39:08.145830Z",
     "iopub.status.idle": "2025-03-18T02:39:08.149851Z",
     "shell.execute_reply": "2025-03-18T02:39:08.149332Z",
     "shell.execute_reply.started": "2025-03-18T02:39:08.146137Z"
    }
   },
   "outputs": [],
   "source": [
    "# df_animation_5 = df_animation_5.drop(columns=[\"log_real_revenue\", \"log_real_budget\"])\n",
    "# df_animation_5.columns"
   ]
  },
  {
   "cell_type": "markdown",
   "id": "1494926f-b3fc-4fdc-9fd6-03a977164fea",
   "metadata": {},
   "source": [
    "## Converting Categorical Data"
   ]
  },
  {
   "cell_type": "markdown",
   "id": "b27a27c2-8f2f-4b1e-8d4c-1feb194f51df",
   "metadata": {},
   "source": [
    "#### Genre\n",
    "To analyze genre patterns, we **convert categorical genre data into a binary format** using a **MultiLabelBinarizer (MLB)**. This transformation allows us to:\n",
    "- Represent each movie as a **set of genre indicators** (1 if the genre applies, 0 otherwise).\n",
    "- Use **frequent itemset mining** to find **genre co-occurrence patterns**.\n",
    "- Apply **association rule mining** to discover relationships between genres.\n",
    "\n",
    "We also exclude **\"Animation\"** from the binary dataset to analyze **how other genres relate to animated movies**.\n",
    "\n",
    "**Why Modify Genre Encoding?**\n",
    "- The frequent itemset mining (FIM) analysis revealed **overlapping genre patterns** across movies.\n",
    "- Instead of treating each genre independently, we **structured the encoding** to:\n",
    "  - Reduce **redundant splits** in tree-based models.\n",
    "  - Improve **generalization** by capturing shared genre relationships.\n",
    "  - Maintain **interpretability** by grouping common and unique genre elements.\n",
    "\n",
    "**How the Encoding Works**\n",
    "1. **Extract Common Genre Patterns**  \n",
    "   - `Family` appears in **all frequent itemsets**, so it is encoded separately:\n",
    "     ```python\n",
    "     df[\"Genre_Family\"] = df[\"Family\"].astype(int)\n",
    "     ```\n",
    "   - This prevents the model from repeatedly splitting on `Family`.\n",
    "\n",
    "2. **Create a Combined Feature for Overlapping Genres**  \n",
    "   - `Comedy` and `Adventure` appear together in two frequent sets.\n",
    "   - We encode them as a single feature:\n",
    "     ```python\n",
    "     df[\"Genre_Comedy_Adventure\"] = ((df[\"Comedy\"] == 1) & (df[\"Adventure\"] == 1)).astype(int)\n",
    "     ```\n",
    "   - This avoids **duplicate decisions** in tree splits.\n",
    "\n",
    "3. **Differentiate Unique Genres**  \n",
    "   - Each genre appearing in only **one frequent set** gets its own indicator:\n",
    "     ```python\n",
    "     df[\"Genre_Action_Only\"] = ((df[\"Action\"] == 1) & (df[\"Fantasy\"] == 0) & (df[\"Science Fiction\"] == 0)).astype(int)\n",
    "     df[\"Genre_Fantasy_Only\"] = ((df[\"Fantasy\"] == 1) & (df[\"Action\"] == 0) & (df[\"Science Fiction\"] == 0)).astype(int)\n",
    "     df[\"Genre_SciFi_Only\"] = ((df[\"Science Fiction\"] == 1) & (df[\"Action\"] == 0) & (df[\"Fantasy\"] == 0)).astype(int)\n",
    "     ```\n",
    "   - This ensures the model **distinguishes between genre-specific influences**.\n",
    "\n",
    "4. **Drop Original Genre Columns After Transformation**  \n",
    "   - The raw genre indicators (`genres_list`, `genres`) and previously separate one-hot-encoded columns are removed:\n",
    "     ```python\n",
    "     df = df.drop(columns_to_drop, axis=1)\n",
    "     df = df.drop([\"genres_list\", \"genres\"], axis=1)\n",
    "     ```\n",
    "   - This keeps the dataset clean and avoids **data leakage** from redundant genre encodings.\n",
    "\n",
    "**Why This Works for Tree-Based Models**\n",
    "✅ **Prevents inefficient splits** by reducing repeated genre patterns.  \n",
    "✅ **Improves model interpretability** by explicitly encoding **common** and **unique** genre characteristics.  \n",
    "✅ **Optimizes decision trees** by structuring categorical interactions effectively.  \n",
    "\n",
    "This approach ensures the **genre features provide the most predictive power** while keeping the model's decisions clear and efficient.  \n"
   ]
  },
  {
   "cell_type": "code",
   "execution_count": 70,
   "id": "a85f74f7-010e-4656-9ab6-8d4c625ebed9",
   "metadata": {
    "execution": {
     "iopub.execute_input": "2025-03-18T02:39:08.150635Z",
     "iopub.status.busy": "2025-03-18T02:39:08.150437Z",
     "iopub.status.idle": "2025-03-18T02:39:08.178722Z",
     "shell.execute_reply": "2025-03-18T02:39:08.178126Z",
     "shell.execute_reply.started": "2025-03-18T02:39:08.150616Z"
    }
   },
   "outputs": [
    {
     "data": {
      "text/html": [
       "<div>\n",
       "<style scoped>\n",
       "    .dataframe tbody tr th:only-of-type {\n",
       "        vertical-align: middle;\n",
       "    }\n",
       "\n",
       "    .dataframe tbody tr th {\n",
       "        vertical-align: top;\n",
       "    }\n",
       "\n",
       "    .dataframe thead th {\n",
       "        text-align: right;\n",
       "    }\n",
       "</style>\n",
       "<table border=\"1\" class=\"dataframe\">\n",
       "  <thead>\n",
       "    <tr style=\"text-align: right;\">\n",
       "      <th></th>\n",
       "      <th>id</th>\n",
       "      <th>title</th>\n",
       "      <th>genres</th>\n",
       "      <th>original_language</th>\n",
       "      <th>overview</th>\n",
       "      <th>popularity</th>\n",
       "      <th>production_companies</th>\n",
       "      <th>release_date</th>\n",
       "      <th>budget</th>\n",
       "      <th>revenue</th>\n",
       "      <th>runtime</th>\n",
       "      <th>status</th>\n",
       "      <th>tagline</th>\n",
       "      <th>vote_average</th>\n",
       "      <th>vote_count</th>\n",
       "      <th>credits</th>\n",
       "      <th>keywords</th>\n",
       "      <th>poster_path</th>\n",
       "      <th>backdrop_path</th>\n",
       "      <th>recommendations</th>\n",
       "      <th>release_year</th>\n",
       "      <th>genres_list</th>\n",
       "      <th>production_companies_list</th>\n",
       "      <th>credits_list</th>\n",
       "      <th>quarter_q1</th>\n",
       "      <th>quarter_q2</th>\n",
       "      <th>quarter_q3</th>\n",
       "      <th>quarter_q4</th>\n",
       "      <th>release_quarter</th>\n",
       "      <th>real_budget</th>\n",
       "      <th>real_revenue</th>\n",
       "      <th>Action</th>\n",
       "      <th>Adventure</th>\n",
       "      <th>Animation</th>\n",
       "      <th>Comedy</th>\n",
       "      <th>Crime</th>\n",
       "      <th>Documentary</th>\n",
       "      <th>Drama</th>\n",
       "      <th>Family</th>\n",
       "      <th>Fantasy</th>\n",
       "      <th>History</th>\n",
       "      <th>Horror</th>\n",
       "      <th>Music</th>\n",
       "      <th>Mystery</th>\n",
       "      <th>Romance</th>\n",
       "      <th>Science Fiction</th>\n",
       "      <th>Thriller</th>\n",
       "      <th>War</th>\n",
       "      <th>Western</th>\n",
       "    </tr>\n",
       "  </thead>\n",
       "  <tbody>\n",
       "    <tr>\n",
       "      <th>0</th>\n",
       "      <td>15655</td>\n",
       "      <td>The Tigger Movie</td>\n",
       "      <td>Family-Animation-Comedy</td>\n",
       "      <td>en</td>\n",
       "      <td>Winnie the Pooh Piglet Owl Kanga Roo and Rabbi...</td>\n",
       "      <td>20.167</td>\n",
       "      <td>Walt Disney Pictures-Disney Television Animati...</td>\n",
       "      <td>2000-02-11</td>\n",
       "      <td>30000000.0</td>\n",
       "      <td>45554533.0</td>\n",
       "      <td>77.0</td>\n",
       "      <td>Released</td>\n",
       "      <td>NaN</td>\n",
       "      <td>6.5</td>\n",
       "      <td>487.0</td>\n",
       "      <td>Jim Cummings-Ken Sansom-John Fiedler-Peter Cul...</td>\n",
       "      <td>woman director</td>\n",
       "      <td>/lxuiGvLHIL1ZyePP7bn6FcKj0Mr.jpg</td>\n",
       "      <td>/uMoSM7r4dst4e5aFUhDEDPyh1hL.jpg</td>\n",
       "      <td>13691-13682-13706-16394-27332-14885-326911-511...</td>\n",
       "      <td>2000</td>\n",
       "      <td>[Family, Animation, Comedy]</td>\n",
       "      <td>[Walt Disney Pictures, Disney Television Anima...</td>\n",
       "      <td>[Jim Cummings, Ken Sansom, John Fiedler, Peter...</td>\n",
       "      <td>1</td>\n",
       "      <td>0</td>\n",
       "      <td>0</td>\n",
       "      <td>0</td>\n",
       "      <td>Q1</td>\n",
       "      <td>6.281334e+07</td>\n",
       "      <td>9.538108e+07</td>\n",
       "      <td>0</td>\n",
       "      <td>0</td>\n",
       "      <td>1</td>\n",
       "      <td>1</td>\n",
       "      <td>0</td>\n",
       "      <td>0</td>\n",
       "      <td>0</td>\n",
       "      <td>1</td>\n",
       "      <td>0</td>\n",
       "      <td>0</td>\n",
       "      <td>0</td>\n",
       "      <td>0</td>\n",
       "      <td>0</td>\n",
       "      <td>0</td>\n",
       "      <td>0</td>\n",
       "      <td>0</td>\n",
       "      <td>0</td>\n",
       "      <td>0</td>\n",
       "    </tr>\n",
       "    <tr>\n",
       "      <th>1</th>\n",
       "      <td>20455</td>\n",
       "      <td>Digimon: The Movie</td>\n",
       "      <td>Fantasy-Animation-Science Fiction-Family</td>\n",
       "      <td>ja</td>\n",
       "      <td>The first story focused on Tai and Kari Kamiya...</td>\n",
       "      <td>13.017</td>\n",
       "      <td>Saban Entertainment-Toei Company-Fox Family Fi...</td>\n",
       "      <td>2000-03-04</td>\n",
       "      <td>5500000.0</td>\n",
       "      <td>16600000.0</td>\n",
       "      <td>89.0</td>\n",
       "      <td>Released</td>\n",
       "      <td>New Monsters. New Battles. Now on the Big Screen.</td>\n",
       "      <td>6.6</td>\n",
       "      <td>243.0</td>\n",
       "      <td>Lara Jill Miller-Joshua Seth-Bob Papenbrook-Da...</td>\n",
       "      <td>video game-monster-loss of energy-computer-sup...</td>\n",
       "      <td>/1MpgVWRCdWEgu9qZivyNX4glDe.jpg</td>\n",
       "      <td>/1ZFUt0LtYkF568iCkRXCScgBP5g.jpg</td>\n",
       "      <td>97787-75571-12599-98299-10228-10991-36201-8873...</td>\n",
       "      <td>2000</td>\n",
       "      <td>[Fantasy, Animation, Science Fiction, Family]</td>\n",
       "      <td>[Saban Entertainment, Toei Company, Fox Family...</td>\n",
       "      <td>[Lara Jill Miller, Joshua Seth, Bob Papenbrook...</td>\n",
       "      <td>1</td>\n",
       "      <td>0</td>\n",
       "      <td>0</td>\n",
       "      <td>0</td>\n",
       "      <td>Q1</td>\n",
       "      <td>1.151578e+07</td>\n",
       "      <td>3.475671e+07</td>\n",
       "      <td>0</td>\n",
       "      <td>0</td>\n",
       "      <td>1</td>\n",
       "      <td>0</td>\n",
       "      <td>0</td>\n",
       "      <td>0</td>\n",
       "      <td>0</td>\n",
       "      <td>1</td>\n",
       "      <td>1</td>\n",
       "      <td>0</td>\n",
       "      <td>0</td>\n",
       "      <td>0</td>\n",
       "      <td>0</td>\n",
       "      <td>0</td>\n",
       "      <td>1</td>\n",
       "      <td>0</td>\n",
       "      <td>0</td>\n",
       "      <td>0</td>\n",
       "    </tr>\n",
       "  </tbody>\n",
       "</table>\n",
       "</div>"
      ],
      "text/plain": [
       "      id               title                                    genres  \\\n",
       "0  15655    The Tigger Movie                   Family-Animation-Comedy   \n",
       "1  20455  Digimon: The Movie  Fantasy-Animation-Science Fiction-Family   \n",
       "\n",
       "  original_language                                           overview  \\\n",
       "0                en  Winnie the Pooh Piglet Owl Kanga Roo and Rabbi...   \n",
       "1                ja  The first story focused on Tai and Kari Kamiya...   \n",
       "\n",
       "   popularity                               production_companies release_date  \\\n",
       "0      20.167  Walt Disney Pictures-Disney Television Animati...   2000-02-11   \n",
       "1      13.017  Saban Entertainment-Toei Company-Fox Family Fi...   2000-03-04   \n",
       "\n",
       "       budget     revenue  runtime    status  \\\n",
       "0  30000000.0  45554533.0     77.0  Released   \n",
       "1   5500000.0  16600000.0     89.0  Released   \n",
       "\n",
       "                                             tagline  vote_average  \\\n",
       "0                                                NaN           6.5   \n",
       "1  New Monsters. New Battles. Now on the Big Screen.           6.6   \n",
       "\n",
       "   vote_count                                            credits  \\\n",
       "0       487.0  Jim Cummings-Ken Sansom-John Fiedler-Peter Cul...   \n",
       "1       243.0  Lara Jill Miller-Joshua Seth-Bob Papenbrook-Da...   \n",
       "\n",
       "                                            keywords  \\\n",
       "0                                     woman director   \n",
       "1  video game-monster-loss of energy-computer-sup...   \n",
       "\n",
       "                        poster_path                     backdrop_path  \\\n",
       "0  /lxuiGvLHIL1ZyePP7bn6FcKj0Mr.jpg  /uMoSM7r4dst4e5aFUhDEDPyh1hL.jpg   \n",
       "1   /1MpgVWRCdWEgu9qZivyNX4glDe.jpg  /1ZFUt0LtYkF568iCkRXCScgBP5g.jpg   \n",
       "\n",
       "                                     recommendations  release_year  \\\n",
       "0  13691-13682-13706-16394-27332-14885-326911-511...          2000   \n",
       "1  97787-75571-12599-98299-10228-10991-36201-8873...          2000   \n",
       "\n",
       "                                     genres_list  \\\n",
       "0                    [Family, Animation, Comedy]   \n",
       "1  [Fantasy, Animation, Science Fiction, Family]   \n",
       "\n",
       "                           production_companies_list  \\\n",
       "0  [Walt Disney Pictures, Disney Television Anima...   \n",
       "1  [Saban Entertainment, Toei Company, Fox Family...   \n",
       "\n",
       "                                        credits_list  quarter_q1  quarter_q2  \\\n",
       "0  [Jim Cummings, Ken Sansom, John Fiedler, Peter...           1           0   \n",
       "1  [Lara Jill Miller, Joshua Seth, Bob Papenbrook...           1           0   \n",
       "\n",
       "   quarter_q3  quarter_q4 release_quarter   real_budget  real_revenue  Action  \\\n",
       "0           0           0              Q1  6.281334e+07  9.538108e+07       0   \n",
       "1           0           0              Q1  1.151578e+07  3.475671e+07       0   \n",
       "\n",
       "   Adventure  Animation  Comedy  Crime  Documentary  Drama  Family  Fantasy  \\\n",
       "0          0          1       1      0            0      0       1        0   \n",
       "1          0          1       0      0            0      0       1        1   \n",
       "\n",
       "   History  Horror  Music  Mystery  Romance  Science Fiction  Thriller  War  \\\n",
       "0        0       0      0        0        0                0         0    0   \n",
       "1        0       0      0        0        0                1         0    0   \n",
       "\n",
       "   Western  \n",
       "0        0  \n",
       "1        0  "
      ]
     },
     "execution_count": 70,
     "metadata": {},
     "output_type": "execute_result"
    }
   ],
   "source": [
    "mlb = MultiLabelBinarizer()\n",
    "\n",
    "# Create binary genre representation\n",
    "genre_dummies = pd.DataFrame(\n",
    "    mlb.fit_transform(df_animation_5[\"genres_list\"]),\n",
    "    columns=mlb.classes_,\n",
    "    index=df_animation_5.index,\n",
    ")\n",
    "\n",
    "# Merge with original dataframe\n",
    "df_animation_6 = pd.concat([df_animation_5, genre_dummies], axis=1)\n",
    "\n",
    "df_animation_6.head(2)"
   ]
  },
  {
   "cell_type": "code",
   "execution_count": 71,
   "id": "be4fec89-03ef-411a-86e3-1bacf9534b76",
   "metadata": {
    "execution": {
     "iopub.execute_input": "2025-03-18T02:39:08.179622Z",
     "iopub.status.busy": "2025-03-18T02:39:08.179353Z",
     "iopub.status.idle": "2025-03-18T02:39:08.184370Z",
     "shell.execute_reply": "2025-03-18T02:39:08.183777Z",
     "shell.execute_reply.started": "2025-03-18T02:39:08.179601Z"
    }
   },
   "outputs": [
    {
     "data": {
      "text/plain": [
       "Index(['id', 'title', 'genres', 'original_language', 'overview', 'popularity',\n",
       "       'production_companies', 'release_date', 'budget', 'revenue', 'runtime',\n",
       "       'status', 'tagline', 'vote_average', 'vote_count', 'credits',\n",
       "       'keywords', 'poster_path', 'backdrop_path', 'recommendations',\n",
       "       'release_year', 'genres_list', 'production_companies_list',\n",
       "       'credits_list', 'quarter_q1', 'quarter_q2', 'quarter_q3', 'quarter_q4',\n",
       "       'release_quarter', 'real_budget', 'real_revenue', 'Action', 'Adventure',\n",
       "       'Animation', 'Comedy', 'Crime', 'Documentary', 'Drama', 'Family',\n",
       "       'Fantasy', 'History', 'Horror', 'Music', 'Mystery', 'Romance',\n",
       "       'Science Fiction', 'Thriller', 'War', 'Western'],\n",
       "      dtype='object')"
      ]
     },
     "execution_count": 71,
     "metadata": {},
     "output_type": "execute_result"
    }
   ],
   "source": [
    "# View the columns of dataframe with one-hot encoded values. \n",
    "df_animation_6.columns"
   ]
  },
  {
   "cell_type": "code",
   "execution_count": 72,
   "id": "3b4c311e-a3dc-4c91-97fa-f836e7e23920",
   "metadata": {
    "execution": {
     "iopub.execute_input": "2025-03-18T02:39:08.185257Z",
     "iopub.status.busy": "2025-03-18T02:39:08.185014Z",
     "iopub.status.idle": "2025-03-18T02:39:08.189684Z",
     "shell.execute_reply": "2025-03-18T02:39:08.188949Z",
     "shell.execute_reply.started": "2025-03-18T02:39:08.185234Z"
    }
   },
   "outputs": [],
   "source": [
    "df_genre = df_animation_6[\n",
    "    [\n",
    "        \"title\", \"Action\", \"Adventure\", \"Animation\", \"Comedy\", \"Crime\", \"Drama\", \"Family\", \n",
    "        \"Fantasy\", \"Horror\", \"Music\", \"Mystery\", \"Romance\", \"Science Fiction\", \n",
    "        \"Thriller\", \"War\", \"Western\",\n",
    "    ]\n",
    "]"
   ]
  },
  {
   "cell_type": "code",
   "execution_count": 73,
   "id": "717a742e-d8d5-4f0c-96b8-2263ec0a40ac",
   "metadata": {
    "execution": {
     "iopub.execute_input": "2025-03-18T02:39:08.190486Z",
     "iopub.status.busy": "2025-03-18T02:39:08.190242Z",
     "iopub.status.idle": "2025-03-18T02:39:08.216623Z",
     "shell.execute_reply": "2025-03-18T02:39:08.214940Z",
     "shell.execute_reply.started": "2025-03-18T02:39:08.190466Z"
    }
   },
   "outputs": [],
   "source": [
    "# Remove \"title\" and \"Animation\" columns for frequent pattern analysis\n",
    "data_binary = df_genre.drop([\"title\", \"Animation\"], axis=1)"
   ]
  },
  {
   "cell_type": "code",
   "execution_count": 74,
   "id": "978cd93a-a231-464e-9b49-fb935e77bdd6",
   "metadata": {
    "execution": {
     "iopub.execute_input": "2025-03-18T02:39:08.219096Z",
     "iopub.status.busy": "2025-03-18T02:39:08.218500Z",
     "iopub.status.idle": "2025-03-18T02:39:08.541149Z",
     "shell.execute_reply": "2025-03-18T02:39:08.540311Z",
     "shell.execute_reply.started": "2025-03-18T02:39:08.219042Z"
    }
   },
   "outputs": [
    {
     "data": {
      "image/png": "[encoded data removed]",
      "text/plain": [
       "<Figure size 640x480 with 1 Axes>"
      ]
     },
     "metadata": {},
     "output_type": "display_data"
    }
   ],
   "source": [
    "def get_maximal_itemsets_count(data_binary, min_support):\n",
    "    \"\"\"Computes the number of maximal frequent itemsets for a given support threshold.\"\"\"\n",
    "    frequent_itemsets = apriori(data_binary, min_support=min_support, use_colnames=True)\n",
    "    max_itemsets = frequent_itemsets[\n",
    "        ~frequent_itemsets[\"itemsets\"].apply(\n",
    "            lambda x: any(set(x).issubset(y) for y in frequent_itemsets[\"itemsets\"] if set(x) != set(y))\n",
    "        )\n",
    "    ]\n",
    "    return len(max_itemsets)\n",
    "\n",
    "# Generate support values and compute maximal itemsets count\n",
    "support_values = np.arange(0.01, 0.5, 0.01)\n",
    "maximal_item_counts = [get_maximal_itemsets_count(data_binary, s) for s in support_values]\n",
    "\n",
    "# Plot the elbow method for determining optimal support threshold\n",
    "plt.plot(support_values, maximal_item_counts, marker=\"o\")\n",
    "plt.xlabel(\"Min Support\")\n",
    "plt.ylabel(\"Number of Maximal Frequent Itemsets\")\n",
    "plt.title(\"Elbow Method for Optimal Support Threshold (Maximal Itemsets)\")\n",
    "plt.grid(True)\n",
    "plt.show()"
   ]
  },
  {
   "cell_type": "code",
   "execution_count": 75,
   "id": "08de0049-9574-4e00-872a-54840f270c25",
   "metadata": {
    "execution": {
     "iopub.execute_input": "2025-03-18T02:39:08.542601Z",
     "iopub.status.busy": "2025-03-18T02:39:08.542368Z",
     "iopub.status.idle": "2025-03-18T02:39:08.561063Z",
     "shell.execute_reply": "2025-03-18T02:39:08.560304Z",
     "shell.execute_reply.started": "2025-03-18T02:39:08.542580Z"
    }
   },
   "outputs": [
    {
     "name": "stdout",
     "output_type": "stream",
     "text": [
      "Maximal Frequent Itemsets at min_support = 0.07:\n",
      "\n"
     ]
    },
    {
     "data": {
      "text/html": [
       "<div>\n",
       "<style scoped>\n",
       "    .dataframe tbody tr th:only-of-type {\n",
       "        vertical-align: middle;\n",
       "    }\n",
       "\n",
       "    .dataframe tbody tr th {\n",
       "        vertical-align: top;\n",
       "    }\n",
       "\n",
       "    .dataframe thead th {\n",
       "        text-align: right;\n",
       "    }\n",
       "</style>\n",
       "<table border=\"1\" class=\"dataframe\">\n",
       "  <thead>\n",
       "    <tr style=\"text-align: right;\">\n",
       "      <th></th>\n",
       "      <th>support</th>\n",
       "      <th>itemsets</th>\n",
       "    </tr>\n",
       "  </thead>\n",
       "  <tbody>\n",
       "    <tr>\n",
       "      <th>15</th>\n",
       "      <td>0.073248</td>\n",
       "      <td>(Science Fiction, Family)</td>\n",
       "    </tr>\n",
       "    <tr>\n",
       "      <th>23</th>\n",
       "      <td>0.070064</td>\n",
       "      <td>(Comedy, Adventure, Action, Family)</td>\n",
       "    </tr>\n",
       "    <tr>\n",
       "      <th>24</th>\n",
       "      <td>0.130573</td>\n",
       "      <td>(Comedy, Adventure, Family, Fantasy)</td>\n",
       "    </tr>\n",
       "  </tbody>\n",
       "</table>\n",
       "</div>"
      ],
      "text/plain": [
       "     support                              itemsets\n",
       "15  0.073248             (Science Fiction, Family)\n",
       "23  0.070064   (Comedy, Adventure, Action, Family)\n",
       "24  0.130573  (Comedy, Adventure, Family, Fantasy)"
      ]
     },
     "metadata": {},
     "output_type": "display_data"
    }
   ],
   "source": [
    "def get_maximal_itemsets(data_binary, min_support):\n",
    "    \"\"\"\n",
    "    Identifies maximal frequent itemsets for a given support threshold.\n",
    "\n",
    "    Parameters:\n",
    "    - data_binary (DataFrame): Binary-encoded dataset for association rule mining.\n",
    "    - min_support (float): Minimum support threshold.\n",
    "\n",
    "    Returns:\n",
    "    - DataFrame: Maximal frequent itemsets.\n",
    "    \"\"\"\n",
    "    frequent_itemsets = apriori(data_binary, min_support=min_support, use_colnames=True)\n",
    "\n",
    "    # Identify maximal itemsets by ensuring no itemset is a subset of another\n",
    "    maximal_itemsets = frequent_itemsets.loc[\n",
    "        ~frequent_itemsets[\"itemsets\"].apply(\n",
    "            lambda x: any(set(x).issubset(y) for y in frequent_itemsets[\"itemsets\"] if set(x) != set(y))\n",
    "        )\n",
    "    ]\n",
    "\n",
    "    return maximal_itemsets\n",
    "\n",
    "\n",
    "# Set minimum support value\n",
    "min_support_value = 0.07\n",
    "\n",
    "# Compute maximal frequent itemsets\n",
    "maximal_itemsets_at_007 = get_maximal_itemsets(data_binary, min_support_value)\n",
    "\n",
    "# Display results\n",
    "print(f\"Maximal Frequent Itemsets at min_support = {min_support_value}:\\n\")\n",
    "display(maximal_itemsets_at_007)"
   ]
  },
  {
   "cell_type": "code",
   "execution_count": 76,
   "id": "5ecdc8d6-c097-4fe3-901e-29450f68d761",
   "metadata": {
    "execution": {
     "iopub.execute_input": "2025-03-18T02:39:08.561888Z",
     "iopub.status.busy": "2025-03-18T02:39:08.561689Z",
     "iopub.status.idle": "2025-03-18T02:39:08.570450Z",
     "shell.execute_reply": "2025-03-18T02:39:08.569644Z",
     "shell.execute_reply.started": "2025-03-18T02:39:08.561870Z"
    }
   },
   "outputs": [],
   "source": [
    "# Append the maximal itemsets as new columns\n",
    "for itemset in maximal_itemsets_at_007['itemsets']:\n",
    "    column_name = ', '.join(itemset)  # Column name based on itemset\n",
    "    data_binary[column_name] = data_binary[list(itemset)].all(axis=1).astype(int)"
   ]
  },
  {
   "cell_type": "code",
   "execution_count": 77,
   "id": "2a5b3d61-7a23-4c6d-baa1-ffeca255a3e5",
   "metadata": {
    "execution": {
     "iopub.execute_input": "2025-03-18T02:39:08.571263Z",
     "iopub.status.busy": "2025-03-18T02:39:08.571027Z",
     "iopub.status.idle": "2025-03-18T02:39:08.577197Z",
     "shell.execute_reply": "2025-03-18T02:39:08.576425Z",
     "shell.execute_reply.started": "2025-03-18T02:39:08.571243Z"
    }
   },
   "outputs": [
    {
     "data": {
      "text/plain": [
       "Index(['Action', 'Adventure', 'Comedy', 'Crime', 'Drama', 'Family', 'Fantasy',\n",
       "       'Horror', 'Music', 'Mystery', 'Romance', 'Science Fiction', 'Thriller',\n",
       "       'War', 'Western', 'Science Fiction, Family',\n",
       "       'Comedy, Adventure, Action, Family',\n",
       "       'Comedy, Adventure, Family, Fantasy'],\n",
       "      dtype='object')"
      ]
     },
     "execution_count": 77,
     "metadata": {},
     "output_type": "execute_result"
    }
   ],
   "source": [
    "data_binary.columns"
   ]
  },
  {
   "cell_type": "code",
   "execution_count": 78,
   "id": "4770d52a-6135-4bbf-b60a-fdea5c09df22",
   "metadata": {
    "execution": {
     "iopub.execute_input": "2025-03-18T02:39:08.578025Z",
     "iopub.status.busy": "2025-03-18T02:39:08.577830Z",
     "iopub.status.idle": "2025-03-18T02:39:08.590209Z",
     "shell.execute_reply": "2025-03-18T02:39:08.589327Z",
     "shell.execute_reply.started": "2025-03-18T02:39:08.578007Z"
    }
   },
   "outputs": [
    {
     "data": {
      "text/html": [
       "<div>\n",
       "<style scoped>\n",
       "    .dataframe tbody tr th:only-of-type {\n",
       "        vertical-align: middle;\n",
       "    }\n",
       "\n",
       "    .dataframe tbody tr th {\n",
       "        vertical-align: top;\n",
       "    }\n",
       "\n",
       "    .dataframe thead th {\n",
       "        text-align: right;\n",
       "    }\n",
       "</style>\n",
       "<table border=\"1\" class=\"dataframe\">\n",
       "  <thead>\n",
       "    <tr style=\"text-align: right;\">\n",
       "      <th></th>\n",
       "      <th>title</th>\n",
       "      <th>Science Fiction, Family</th>\n",
       "      <th>Comedy, Adventure, Action, Family</th>\n",
       "      <th>Comedy, Adventure, Family, Fantasy</th>\n",
       "    </tr>\n",
       "  </thead>\n",
       "  <tbody>\n",
       "    <tr>\n",
       "      <th>0</th>\n",
       "      <td>The Tigger Movie</td>\n",
       "      <td>0</td>\n",
       "      <td>0</td>\n",
       "      <td>0</td>\n",
       "    </tr>\n",
       "    <tr>\n",
       "      <th>1</th>\n",
       "      <td>Digimon: The Movie</td>\n",
       "      <td>1</td>\n",
       "      <td>0</td>\n",
       "      <td>0</td>\n",
       "    </tr>\n",
       "  </tbody>\n",
       "</table>\n",
       "</div>"
      ],
      "text/plain": [
       "                title  Science Fiction, Family  \\\n",
       "0    The Tigger Movie                        0   \n",
       "1  Digimon: The Movie                        1   \n",
       "\n",
       "   Comedy, Adventure, Action, Family  Comedy, Adventure, Family, Fantasy  \n",
       "0                                  0                                   0  \n",
       "1                                  0                                   0  "
      ]
     },
     "execution_count": 78,
     "metadata": {},
     "output_type": "execute_result"
    }
   ],
   "source": [
    "# Define a list of genres to remove from the dataset\n",
    "columns_to_drop = [\n",
    "    \"Action\", \"Animation\", \"Adventure\", \"Comedy\", \"Crime\", \"Documentary\", \"Drama\", \n",
    "    \"Family\", \"Fantasy\", \"Horror\", \"History\", \"Music\", \"Mystery\", \"Romance\", \n",
    "    \"Science Fiction\", \"Thriller\", \"War\", \"Western\",\n",
    "]\n",
    "\n",
    "# Drop the selected genre columns while ignoring errors if they don't exist\n",
    "data_binary_cleaned = data_binary.drop(columns=columns_to_drop, errors=\"ignore\")\n",
    "\n",
    "# Restore \"title\" column to keep movie names in the cleaned dataset\n",
    "data_binary_cleaned[\"title\"] = df_genre[\"title\"]\n",
    "\n",
    "# Ensure \"title\" remains the first column while keeping other columns in order\n",
    "column_order = [\"title\"] + [col for col in data_binary_cleaned.columns if col != \"title\"]\n",
    "data_binary_cleaned = data_binary_cleaned[column_order]\n",
    "\n",
    "# Display the first two rows of the cleaned dataset\n",
    "data_binary_cleaned.head(2)"
   ]
  },
  {
   "cell_type": "code",
   "execution_count": 79,
   "id": "82e67fad-4aa3-4191-84e4-dd2b096b9906",
   "metadata": {
    "execution": {
     "iopub.execute_input": "2025-03-18T02:39:08.591258Z",
     "iopub.status.busy": "2025-03-18T02:39:08.591040Z",
     "iopub.status.idle": "2025-03-18T02:39:08.600017Z",
     "shell.execute_reply": "2025-03-18T02:39:08.599563Z",
     "shell.execute_reply.started": "2025-03-18T02:39:08.591237Z"
    }
   },
   "outputs": [
    {
     "data": {
      "text/html": [
       "<div>\n",
       "<style scoped>\n",
       "    .dataframe tbody tr th:only-of-type {\n",
       "        vertical-align: middle;\n",
       "    }\n",
       "\n",
       "    .dataframe tbody tr th {\n",
       "        vertical-align: top;\n",
       "    }\n",
       "\n",
       "    .dataframe thead th {\n",
       "        text-align: right;\n",
       "    }\n",
       "</style>\n",
       "<table border=\"1\" class=\"dataframe\">\n",
       "  <thead>\n",
       "    <tr style=\"text-align: right;\">\n",
       "      <th></th>\n",
       "      <th>title</th>\n",
       "      <th>Science Fiction, Family</th>\n",
       "      <th>Comedy, Adventure, Action, Family</th>\n",
       "      <th>Comedy, Adventure, Family, Fantasy</th>\n",
       "    </tr>\n",
       "  </thead>\n",
       "  <tbody>\n",
       "    <tr>\n",
       "      <th>0</th>\n",
       "      <td>The Tigger Movie</td>\n",
       "      <td>0</td>\n",
       "      <td>0</td>\n",
       "      <td>0</td>\n",
       "    </tr>\n",
       "    <tr>\n",
       "      <th>3</th>\n",
       "      <td>Dinosaur</td>\n",
       "      <td>0</td>\n",
       "      <td>0</td>\n",
       "      <td>0</td>\n",
       "    </tr>\n",
       "  </tbody>\n",
       "</table>\n",
       "</div>"
      ],
      "text/plain": [
       "              title  Science Fiction, Family  \\\n",
       "0  The Tigger Movie                        0   \n",
       "3          Dinosaur                        0   \n",
       "\n",
       "   Comedy, Adventure, Action, Family  Comedy, Adventure, Family, Fantasy  \n",
       "0                                  0                                   0  \n",
       "3                                  0                                   0  "
      ]
     },
     "metadata": {},
     "output_type": "display_data"
    },
    {
     "name": "stdout",
     "output_type": "stream",
     "text": [
      "Number of rows that have no genre labels assigned: 239\n"
     ]
    }
   ],
   "source": [
    "# Identify movies that have no genre labels assigned (all zeros in genre columns)\n",
    "all_zeros = data_binary_cleaned.loc[(data_binary_cleaned.iloc[:, 1:] == 0).all(axis=1)]\n",
    "display(all_zeros.head(2))\n",
    "print(f\"Number of rows that have no genre labels assigned: {all_zeros.shape[0]}\")"
   ]
  },
  {
   "cell_type": "code",
   "execution_count": 80,
   "id": "628ab655-6187-45ff-98f0-e275af0e49a2",
   "metadata": {
    "execution": {
     "iopub.execute_input": "2025-03-18T02:39:08.600782Z",
     "iopub.status.busy": "2025-03-18T02:39:08.600582Z",
     "iopub.status.idle": "2025-03-18T02:39:08.605362Z",
     "shell.execute_reply": "2025-03-18T02:39:08.604916Z",
     "shell.execute_reply.started": "2025-03-18T02:39:08.600763Z"
    }
   },
   "outputs": [
    {
     "name": "stdout",
     "output_type": "stream",
     "text": [
      "Science Fiction, Family               23\n",
      "Comedy, Adventure, Action, Family     22\n",
      "Comedy, Adventure, Family, Fantasy    41\n",
      "dtype: int64\n"
     ]
    }
   ],
   "source": [
    "# Compute the total count of each genre across all movies\n",
    "column_sums = data_binary_cleaned.sum(numeric_only=True)\n",
    "\n",
    "# Display the genre counts\n",
    "print(column_sums)"
   ]
  },
  {
   "cell_type": "code",
   "execution_count": 81,
   "id": "4cffe551-91c5-49f7-974d-c72478521548",
   "metadata": {
    "execution": {
     "iopub.execute_input": "2025-03-18T02:39:08.606131Z",
     "iopub.status.busy": "2025-03-18T02:39:08.605927Z",
     "iopub.status.idle": "2025-03-18T02:39:08.614559Z",
     "shell.execute_reply": "2025-03-18T02:39:08.614086Z",
     "shell.execute_reply.started": "2025-03-18T02:39:08.606112Z"
    }
   },
   "outputs": [],
   "source": [
    "# Identify movies that have no genre labels\n",
    "all_zeros = data_binary_cleaned.loc[(data_binary_cleaned.iloc[:, 1:] == 0).all(axis=1)]\n",
    "\n",
    "# Assign a new \"genre_other\" label to these movies\n",
    "data_binary_cleaned.loc[all_zeros.index, \"genre_other\"] = 1\n",
    "\n",
    "# Fill NaN values with 0 and ensure \"genre_other\" is an integer column\n",
    "data_binary_cleaned[\"genre_other\"] = data_binary_cleaned[\"genre_other\"].fillna(0)\n",
    "data_binary_cleaned[\"genre_other\"] = data_binary_cleaned[\"genre_other\"].astype(int)"
   ]
  },
  {
   "cell_type": "code",
   "execution_count": 82,
   "id": "f2e332de-7ae5-4225-9f64-e5b488b600f0",
   "metadata": {
    "execution": {
     "iopub.execute_input": "2025-03-18T02:39:08.615476Z",
     "iopub.status.busy": "2025-03-18T02:39:08.615189Z",
     "iopub.status.idle": "2025-03-18T02:39:08.622829Z",
     "shell.execute_reply": "2025-03-18T02:39:08.622326Z",
     "shell.execute_reply.started": "2025-03-18T02:39:08.615454Z"
    }
   },
   "outputs": [
    {
     "data": {
      "text/html": [
       "<div>\n",
       "<style scoped>\n",
       "    .dataframe tbody tr th:only-of-type {\n",
       "        vertical-align: middle;\n",
       "    }\n",
       "\n",
       "    .dataframe tbody tr th {\n",
       "        vertical-align: top;\n",
       "    }\n",
       "\n",
       "    .dataframe thead th {\n",
       "        text-align: right;\n",
       "    }\n",
       "</style>\n",
       "<table border=\"1\" class=\"dataframe\">\n",
       "  <thead>\n",
       "    <tr style=\"text-align: right;\">\n",
       "      <th></th>\n",
       "      <th>title</th>\n",
       "      <th>Science Fiction, Family</th>\n",
       "      <th>Comedy, Adventure, Action, Family</th>\n",
       "      <th>Comedy, Adventure, Family, Fantasy</th>\n",
       "      <th>genre_other</th>\n",
       "    </tr>\n",
       "  </thead>\n",
       "  <tbody>\n",
       "  </tbody>\n",
       "</table>\n",
       "</div>"
      ],
      "text/plain": [
       "Empty DataFrame\n",
       "Columns: [title, Science Fiction, Family, Comedy, Adventure, Action, Family, Comedy, Adventure, Family, Fantasy, genre_other]\n",
       "Index: []"
      ]
     },
     "execution_count": 82,
     "metadata": {},
     "output_type": "execute_result"
    }
   ],
   "source": [
    "# Recheck if any movies still have no genre labels assigned\n",
    "all_zeros_check = data_binary_cleaned.loc[(data_binary_cleaned.iloc[:, 1:] == 0).all(axis=1)]\n",
    "all_zeros_check.head(2)"
   ]
  },
  {
   "cell_type": "code",
   "execution_count": 83,
   "id": "173dfe89-a0af-4c48-b63a-7273a68e82c1",
   "metadata": {
    "execution": {
     "iopub.execute_input": "2025-03-18T02:39:08.623618Z",
     "iopub.status.busy": "2025-03-18T02:39:08.623415Z",
     "iopub.status.idle": "2025-03-18T02:39:08.628346Z",
     "shell.execute_reply": "2025-03-18T02:39:08.627747Z",
     "shell.execute_reply.started": "2025-03-18T02:39:08.623600Z"
    }
   },
   "outputs": [
    {
     "name": "stdout",
     "output_type": "stream",
     "text": [
      "Science Fiction, Family                23\n",
      "Comedy, Adventure, Action, Family      22\n",
      "Comedy, Adventure, Family, Fantasy     41\n",
      "genre_other                           239\n",
      "dtype: int64\n"
     ]
    }
   ],
   "source": [
    "# Recalculate the total count of each genre, including \"genre_other\"\n",
    "column_sums_check = data_binary_cleaned.sum(numeric_only=True)\n",
    "\n",
    "# Display the updated genre counts\n",
    "print(column_sums_check)"
   ]
  },
  {
   "cell_type": "code",
   "execution_count": 84,
   "id": "a8696b20-fde7-4c07-bb1c-5accc0f28297",
   "metadata": {
    "execution": {
     "iopub.execute_input": "2025-03-18T02:39:08.629157Z",
     "iopub.status.busy": "2025-03-18T02:39:08.628914Z",
     "iopub.status.idle": "2025-03-18T02:39:08.633347Z",
     "shell.execute_reply": "2025-03-18T02:39:08.632765Z",
     "shell.execute_reply.started": "2025-03-18T02:39:08.629137Z"
    }
   },
   "outputs": [
    {
     "data": {
      "text/plain": [
       "Index(['title', 'Science Fiction, Family', 'Comedy, Adventure, Action, Family',\n",
       "       'Comedy, Adventure, Family, Fantasy', 'genre_other'],\n",
       "      dtype='object')"
      ]
     },
     "execution_count": 84,
     "metadata": {},
     "output_type": "execute_result"
    }
   ],
   "source": [
    "data_binary_cleaned.columns"
   ]
  },
  {
   "cell_type": "code",
   "execution_count": 85,
   "id": "ec7417e5-8976-4e14-8349-4a18e0624a8f",
   "metadata": {
    "execution": {
     "iopub.execute_input": "2025-03-18T02:39:08.634148Z",
     "iopub.status.busy": "2025-03-18T02:39:08.633915Z",
     "iopub.status.idle": "2025-03-18T02:39:08.697286Z",
     "shell.execute_reply": "2025-03-18T02:39:08.696431Z",
     "shell.execute_reply.started": "2025-03-18T02:39:08.634129Z"
    }
   },
   "outputs": [
    {
     "data": {
      "text/html": [
       "<div>\n",
       "<style scoped>\n",
       "    .dataframe tbody tr th:only-of-type {\n",
       "        vertical-align: middle;\n",
       "    }\n",
       "\n",
       "    .dataframe tbody tr th {\n",
       "        vertical-align: top;\n",
       "    }\n",
       "\n",
       "    .dataframe thead th {\n",
       "        text-align: right;\n",
       "    }\n",
       "</style>\n",
       "<table border=\"1\" class=\"dataframe\">\n",
       "  <thead>\n",
       "    <tr style=\"text-align: right;\">\n",
       "      <th></th>\n",
       "      <th>id</th>\n",
       "      <th>title</th>\n",
       "      <th>original_language</th>\n",
       "      <th>overview</th>\n",
       "      <th>popularity</th>\n",
       "      <th>production_companies</th>\n",
       "      <th>release_date</th>\n",
       "      <th>budget</th>\n",
       "      <th>revenue</th>\n",
       "      <th>runtime</th>\n",
       "      <th>status</th>\n",
       "      <th>tagline</th>\n",
       "      <th>vote_average</th>\n",
       "      <th>vote_count</th>\n",
       "      <th>credits</th>\n",
       "      <th>keywords</th>\n",
       "      <th>poster_path</th>\n",
       "      <th>backdrop_path</th>\n",
       "      <th>recommendations</th>\n",
       "      <th>release_year</th>\n",
       "      <th>production_companies_list</th>\n",
       "      <th>credits_list</th>\n",
       "      <th>quarter_q1</th>\n",
       "      <th>quarter_q2</th>\n",
       "      <th>quarter_q3</th>\n",
       "      <th>quarter_q4</th>\n",
       "      <th>release_quarter</th>\n",
       "      <th>real_budget</th>\n",
       "      <th>real_revenue</th>\n",
       "      <th>Science Fiction, Family</th>\n",
       "      <th>Comedy, Adventure, Action, Family</th>\n",
       "      <th>Comedy, Adventure, Family, Fantasy</th>\n",
       "      <th>genre_other</th>\n",
       "    </tr>\n",
       "  </thead>\n",
       "  <tbody>\n",
       "    <tr>\n",
       "      <th>0</th>\n",
       "      <td>15655</td>\n",
       "      <td>The Tigger Movie</td>\n",
       "      <td>en</td>\n",
       "      <td>Winnie the Pooh Piglet Owl Kanga Roo and Rabbi...</td>\n",
       "      <td>20.167</td>\n",
       "      <td>Walt Disney Pictures-Disney Television Animati...</td>\n",
       "      <td>2000-02-11</td>\n",
       "      <td>30000000.0</td>\n",
       "      <td>45554533.0</td>\n",
       "      <td>77.0</td>\n",
       "      <td>Released</td>\n",
       "      <td>NaN</td>\n",
       "      <td>6.500</td>\n",
       "      <td>487.0</td>\n",
       "      <td>Jim Cummings-Ken Sansom-John Fiedler-Peter Cul...</td>\n",
       "      <td>woman director</td>\n",
       "      <td>/lxuiGvLHIL1ZyePP7bn6FcKj0Mr.jpg</td>\n",
       "      <td>/uMoSM7r4dst4e5aFUhDEDPyh1hL.jpg</td>\n",
       "      <td>13691-13682-13706-16394-27332-14885-326911-511...</td>\n",
       "      <td>2000</td>\n",
       "      <td>[Walt Disney Pictures, Disney Television Anima...</td>\n",
       "      <td>[Jim Cummings, Ken Sansom, John Fiedler, Peter...</td>\n",
       "      <td>1</td>\n",
       "      <td>0</td>\n",
       "      <td>0</td>\n",
       "      <td>0</td>\n",
       "      <td>Q1</td>\n",
       "      <td>6.281334e+07</td>\n",
       "      <td>9.538108e+07</td>\n",
       "      <td>0</td>\n",
       "      <td>0</td>\n",
       "      <td>0</td>\n",
       "      <td>1</td>\n",
       "    </tr>\n",
       "    <tr>\n",
       "      <th>1</th>\n",
       "      <td>20455</td>\n",
       "      <td>Digimon: The Movie</td>\n",
       "      <td>ja</td>\n",
       "      <td>The first story focused on Tai and Kari Kamiya...</td>\n",
       "      <td>13.017</td>\n",
       "      <td>Saban Entertainment-Toei Company-Fox Family Fi...</td>\n",
       "      <td>2000-03-04</td>\n",
       "      <td>5500000.0</td>\n",
       "      <td>16600000.0</td>\n",
       "      <td>89.0</td>\n",
       "      <td>Released</td>\n",
       "      <td>New Monsters. New Battles. Now on the Big Screen.</td>\n",
       "      <td>6.600</td>\n",
       "      <td>243.0</td>\n",
       "      <td>Lara Jill Miller-Joshua Seth-Bob Papenbrook-Da...</td>\n",
       "      <td>video game-monster-loss of energy-computer-sup...</td>\n",
       "      <td>/1MpgVWRCdWEgu9qZivyNX4glDe.jpg</td>\n",
       "      <td>/1ZFUt0LtYkF568iCkRXCScgBP5g.jpg</td>\n",
       "      <td>97787-75571-12599-98299-10228-10991-36201-8873...</td>\n",
       "      <td>2000</td>\n",
       "      <td>[Saban Entertainment, Toei Company, Fox Family...</td>\n",
       "      <td>[Lara Jill Miller, Joshua Seth, Bob Papenbrook...</td>\n",
       "      <td>1</td>\n",
       "      <td>0</td>\n",
       "      <td>0</td>\n",
       "      <td>0</td>\n",
       "      <td>Q1</td>\n",
       "      <td>1.151578e+07</td>\n",
       "      <td>3.475671e+07</td>\n",
       "      <td>1</td>\n",
       "      <td>0</td>\n",
       "      <td>0</td>\n",
       "      <td>0</td>\n",
       "    </tr>\n",
       "    <tr>\n",
       "      <th>2</th>\n",
       "      <td>10501</td>\n",
       "      <td>The Road to El Dorado</td>\n",
       "      <td>en</td>\n",
       "      <td>After a failed swindle two con-men end up with...</td>\n",
       "      <td>41.768</td>\n",
       "      <td>DreamWorks Animation-DreamWorks Pictures</td>\n",
       "      <td>2000-03-31</td>\n",
       "      <td>95000000.0</td>\n",
       "      <td>76432727.0</td>\n",
       "      <td>89.0</td>\n",
       "      <td>Released</td>\n",
       "      <td>They came for the gold. They stayed for the ad...</td>\n",
       "      <td>7.242</td>\n",
       "      <td>3354.0</td>\n",
       "      <td>Kenneth Branagh-Kevin Kline-Rosie Perez-Armand...</td>\n",
       "      <td>gold-horse-musical-cartoon-sword fight-con art...</td>\n",
       "      <td>/ryXm7xp4aqQyda0FU2eMfHehPBg.jpg</td>\n",
       "      <td>/ciID0Mu1pPuOUP3JbOsDXQ5aMV6.jpg</td>\n",
       "      <td>10865-8916-10009-9837-9444-14411-11688-9023-90...</td>\n",
       "      <td>2000</td>\n",
       "      <td>[DreamWorks Animation, DreamWorks Pictures]</td>\n",
       "      <td>[Kenneth Branagh, Kevin Kline, Rosie Perez, Ar...</td>\n",
       "      <td>1</td>\n",
       "      <td>0</td>\n",
       "      <td>0</td>\n",
       "      <td>0</td>\n",
       "      <td>Q1</td>\n",
       "      <td>1.989089e+08</td>\n",
       "      <td>1.600332e+08</td>\n",
       "      <td>0</td>\n",
       "      <td>0</td>\n",
       "      <td>1</td>\n",
       "      <td>0</td>\n",
       "    </tr>\n",
       "    <tr>\n",
       "      <th>3</th>\n",
       "      <td>10567</td>\n",
       "      <td>Dinosaur</td>\n",
       "      <td>en</td>\n",
       "      <td>An orphaned dinosaur raised by lemurs joins an...</td>\n",
       "      <td>62.622</td>\n",
       "      <td>Walt Disney Pictures-Walt Disney Feature Anima...</td>\n",
       "      <td>2000-05-19</td>\n",
       "      <td>127500000.0</td>\n",
       "      <td>354248063.0</td>\n",
       "      <td>82.0</td>\n",
       "      <td>Released</td>\n",
       "      <td>Discover a world you've only imagined.</td>\n",
       "      <td>6.534</td>\n",
       "      <td>2455.0</td>\n",
       "      <td>D.B. Sweeney-Alfre Woodard-Ossie Davis-Max Cas...</td>\n",
       "      <td>cataclysm-asteroid-leader-villain-comet-migrat...</td>\n",
       "      <td>/rSje3FS7ycJSglowlngjsvDt7vO.jpg</td>\n",
       "      <td>/laeEtakR2pLKu3CeRwB2lU5Y53X.jpg</td>\n",
       "      <td>12129-7443-11688-10865-13691-49948-15655-12233...</td>\n",
       "      <td>2000</td>\n",
       "      <td>[Walt Disney Pictures, Walt Disney Feature Ani...</td>\n",
       "      <td>[D.B. Sweeney, Alfre Woodard, Ossie Davis, Max...</td>\n",
       "      <td>0</td>\n",
       "      <td>1</td>\n",
       "      <td>0</td>\n",
       "      <td>0</td>\n",
       "      <td>Q2</td>\n",
       "      <td>2.669567e+08</td>\n",
       "      <td>7.417168e+08</td>\n",
       "      <td>0</td>\n",
       "      <td>0</td>\n",
       "      <td>0</td>\n",
       "      <td>1</td>\n",
       "    </tr>\n",
       "    <tr>\n",
       "      <th>4</th>\n",
       "      <td>7450</td>\n",
       "      <td>Titan A.E.</td>\n",
       "      <td>en</td>\n",
       "      <td>A young man finds out that he holds the key to...</td>\n",
       "      <td>19.759</td>\n",
       "      <td>20th Century Fox-David Kirschner Productions-F...</td>\n",
       "      <td>2000-06-16</td>\n",
       "      <td>75000000.0</td>\n",
       "      <td>36754634.0</td>\n",
       "      <td>94.0</td>\n",
       "      <td>Released</td>\n",
       "      <td>When Earth Ends, The Adventure Begins.</td>\n",
       "      <td>6.609</td>\n",
       "      <td>916.0</td>\n",
       "      <td>Matt Damon-Bill Pullman-Drew Barrymore-John Le...</td>\n",
       "      <td>monster-galaxy-dystopia-space-alien-mission</td>\n",
       "      <td>/el2iHk3LTJWfEnwrvcRkvWY501G.jpg</td>\n",
       "      <td>/pniACHS8KDVCldB3BlwL78RIZ7V.jpg</td>\n",
       "      <td>9016-14411-2114-9837-10016-2157-8584-13225-97-...</td>\n",
       "      <td>2000</td>\n",
       "      <td>[20th Century Fox, David Kirschner Productions...</td>\n",
       "      <td>[Matt Damon, Bill Pullman, Drew Barrymore, Joh...</td>\n",
       "      <td>0</td>\n",
       "      <td>1</td>\n",
       "      <td>0</td>\n",
       "      <td>0</td>\n",
       "      <td>Q2</td>\n",
       "      <td>1.570333e+08</td>\n",
       "      <td>7.695604e+07</td>\n",
       "      <td>1</td>\n",
       "      <td>0</td>\n",
       "      <td>0</td>\n",
       "      <td>0</td>\n",
       "    </tr>\n",
       "  </tbody>\n",
       "</table>\n",
       "</div>"
      ],
      "text/plain": [
       "      id                  title original_language  \\\n",
       "0  15655       The Tigger Movie                en   \n",
       "1  20455     Digimon: The Movie                ja   \n",
       "2  10501  The Road to El Dorado                en   \n",
       "3  10567               Dinosaur                en   \n",
       "4   7450             Titan A.E.                en   \n",
       "\n",
       "                                            overview  popularity  \\\n",
       "0  Winnie the Pooh Piglet Owl Kanga Roo and Rabbi...      20.167   \n",
       "1  The first story focused on Tai and Kari Kamiya...      13.017   \n",
       "2  After a failed swindle two con-men end up with...      41.768   \n",
       "3  An orphaned dinosaur raised by lemurs joins an...      62.622   \n",
       "4  A young man finds out that he holds the key to...      19.759   \n",
       "\n",
       "                                production_companies release_date  \\\n",
       "0  Walt Disney Pictures-Disney Television Animati...   2000-02-11   \n",
       "1  Saban Entertainment-Toei Company-Fox Family Fi...   2000-03-04   \n",
       "2           DreamWorks Animation-DreamWorks Pictures   2000-03-31   \n",
       "3  Walt Disney Pictures-Walt Disney Feature Anima...   2000-05-19   \n",
       "4  20th Century Fox-David Kirschner Productions-F...   2000-06-16   \n",
       "\n",
       "        budget      revenue  runtime    status  \\\n",
       "0   30000000.0   45554533.0     77.0  Released   \n",
       "1    5500000.0   16600000.0     89.0  Released   \n",
       "2   95000000.0   76432727.0     89.0  Released   \n",
       "3  127500000.0  354248063.0     82.0  Released   \n",
       "4   75000000.0   36754634.0     94.0  Released   \n",
       "\n",
       "                                             tagline  vote_average  \\\n",
       "0                                                NaN         6.500   \n",
       "1  New Monsters. New Battles. Now on the Big Screen.         6.600   \n",
       "2  They came for the gold. They stayed for the ad...         7.242   \n",
       "3             Discover a world you've only imagined.         6.534   \n",
       "4             When Earth Ends, The Adventure Begins.         6.609   \n",
       "\n",
       "   vote_count                                            credits  \\\n",
       "0       487.0  Jim Cummings-Ken Sansom-John Fiedler-Peter Cul...   \n",
       "1       243.0  Lara Jill Miller-Joshua Seth-Bob Papenbrook-Da...   \n",
       "2      3354.0  Kenneth Branagh-Kevin Kline-Rosie Perez-Armand...   \n",
       "3      2455.0  D.B. Sweeney-Alfre Woodard-Ossie Davis-Max Cas...   \n",
       "4       916.0  Matt Damon-Bill Pullman-Drew Barrymore-John Le...   \n",
       "\n",
       "                                            keywords  \\\n",
       "0                                     woman director   \n",
       "1  video game-monster-loss of energy-computer-sup...   \n",
       "2  gold-horse-musical-cartoon-sword fight-con art...   \n",
       "3  cataclysm-asteroid-leader-villain-comet-migrat...   \n",
       "4        monster-galaxy-dystopia-space-alien-mission   \n",
       "\n",
       "                        poster_path                     backdrop_path  \\\n",
       "0  /lxuiGvLHIL1ZyePP7bn6FcKj0Mr.jpg  /uMoSM7r4dst4e5aFUhDEDPyh1hL.jpg   \n",
       "1   /1MpgVWRCdWEgu9qZivyNX4glDe.jpg  /1ZFUt0LtYkF568iCkRXCScgBP5g.jpg   \n",
       "2  /ryXm7xp4aqQyda0FU2eMfHehPBg.jpg  /ciID0Mu1pPuOUP3JbOsDXQ5aMV6.jpg   \n",
       "3  /rSje3FS7ycJSglowlngjsvDt7vO.jpg  /laeEtakR2pLKu3CeRwB2lU5Y53X.jpg   \n",
       "4  /el2iHk3LTJWfEnwrvcRkvWY501G.jpg  /pniACHS8KDVCldB3BlwL78RIZ7V.jpg   \n",
       "\n",
       "                                     recommendations  release_year  \\\n",
       "0  13691-13682-13706-16394-27332-14885-326911-511...          2000   \n",
       "1  97787-75571-12599-98299-10228-10991-36201-8873...          2000   \n",
       "2  10865-8916-10009-9837-9444-14411-11688-9023-90...          2000   \n",
       "3  12129-7443-11688-10865-13691-49948-15655-12233...          2000   \n",
       "4  9016-14411-2114-9837-10016-2157-8584-13225-97-...          2000   \n",
       "\n",
       "                           production_companies_list  \\\n",
       "0  [Walt Disney Pictures, Disney Television Anima...   \n",
       "1  [Saban Entertainment, Toei Company, Fox Family...   \n",
       "2        [DreamWorks Animation, DreamWorks Pictures]   \n",
       "3  [Walt Disney Pictures, Walt Disney Feature Ani...   \n",
       "4  [20th Century Fox, David Kirschner Productions...   \n",
       "\n",
       "                                        credits_list  quarter_q1  quarter_q2  \\\n",
       "0  [Jim Cummings, Ken Sansom, John Fiedler, Peter...           1           0   \n",
       "1  [Lara Jill Miller, Joshua Seth, Bob Papenbrook...           1           0   \n",
       "2  [Kenneth Branagh, Kevin Kline, Rosie Perez, Ar...           1           0   \n",
       "3  [D.B. Sweeney, Alfre Woodard, Ossie Davis, Max...           0           1   \n",
       "4  [Matt Damon, Bill Pullman, Drew Barrymore, Joh...           0           1   \n",
       "\n",
       "   quarter_q3  quarter_q4 release_quarter   real_budget  real_revenue  \\\n",
       "0           0           0              Q1  6.281334e+07  9.538108e+07   \n",
       "1           0           0              Q1  1.151578e+07  3.475671e+07   \n",
       "2           0           0              Q1  1.989089e+08  1.600332e+08   \n",
       "3           0           0              Q2  2.669567e+08  7.417168e+08   \n",
       "4           0           0              Q2  1.570333e+08  7.695604e+07   \n",
       "\n",
       "   Science Fiction, Family  Comedy, Adventure, Action, Family  \\\n",
       "0                        0                                  0   \n",
       "1                        1                                  0   \n",
       "2                        0                                  0   \n",
       "3                        0                                  0   \n",
       "4                        1                                  0   \n",
       "\n",
       "   Comedy, Adventure, Family, Fantasy  genre_other  \n",
       "0                                   0            1  \n",
       "1                                   0            0  \n",
       "2                                   1            0  \n",
       "3                                   0            1  \n",
       "4                                   0            0  "
      ]
     },
     "execution_count": 85,
     "metadata": {},
     "output_type": "execute_result"
    }
   ],
   "source": [
    "# Merge the cleaned binary genre dataset back into df_animation_5 using \"title\" as the key\n",
    "df_animation_7 = df_animation_6.merge(data_binary_cleaned, on=\"title\", how=\"left\")\n",
    "# Remove the original separate genres, \"genres_list\" and \"genres\" columns as they are now encoded\n",
    "df_animation_7 = df_animation_7.drop(columns_to_drop, axis=1)\n",
    "df_animation_7 = df_animation_7.drop([\"genres_list\", 'genres'], axis=1)\n",
    "# Display the first five rows of the final dataset\n",
    "df_animation_7.head(5)"
   ]
  },
  {
   "cell_type": "code",
   "execution_count": 86,
   "id": "7f121844-9581-40d7-808e-548ffdc30b00",
   "metadata": {
    "execution": {
     "iopub.execute_input": "2025-03-18T02:39:08.698217Z",
     "iopub.status.busy": "2025-03-18T02:39:08.697972Z",
     "iopub.status.idle": "2025-03-18T02:39:08.702935Z",
     "shell.execute_reply": "2025-03-18T02:39:08.702126Z",
     "shell.execute_reply.started": "2025-03-18T02:39:08.698197Z"
    },
    "jupyter": {
     "source_hidden": true
    }
   },
   "outputs": [],
   "source": [
    "# # Extract maximal itemsets as lists of genres (sorted to handle order variations)\n",
    "# maximally_frequent_itemsets = maximal_itemsets_at_007[\"itemsets\"].apply(lambda x: set(x)).tolist()\n",
    "\n",
    "# # Merge the cleaned binary genre dataset back into df_animation_5 using \"title\" as the key\n",
    "# df_animation_7 = df_animation_6.merge(data_binary_cleaned, on=\"title\", how=\"left\")\n",
    "\n",
    "# # Create structured genre features\n",
    "# df_animation_7[\"Genre_Family\"] = df_animation_7[\"Family\"].astype(int)\n",
    "\n",
    "# df_animation_7[\"Genre_Comedy_Adventure\"] = (\n",
    "#     (df_animation_7[\"Comedy\"] == 1) & (df_animation_7[\"Adventure\"] == 1)\n",
    "# ).astype(int)\n",
    "\n",
    "# df_animation_7[\"Genre_Action_Only\"] = (\n",
    "#     (df_animation_7[\"Action\"] == 1) & (df_animation_7[\"Fantasy\"] == 0) & (df_animation_7[\"Science Fiction\"] == 0)\n",
    "# ).astype(int)\n",
    "\n",
    "# df_animation_7[\"Genre_Fantasy_Only\"] = (\n",
    "#     (df_animation_7[\"Fantasy\"] == 1) & (df_animation_7[\"Action\"] == 0) & (df_animation_7[\"Science Fiction\"] == 0)\n",
    "# ).astype(int)\n",
    "\n",
    "# df_animation_7[\"Genre_SciFi_Only\"] = (\n",
    "#     (df_animation_7[\"Science Fiction\"] == 1) & (df_animation_7[\"Action\"] == 0) & (df_animation_7[\"Fantasy\"] == 0)\n",
    "# ).astype(int)\n",
    "\n",
    "# # Drop the individual genre columns\n",
    "# df_animation_7 = df_animation_7.drop(columns=columns_to_drop, errors=\"ignore\")\n",
    "\n",
    "# # Identify actual columns in df_animation_7 that match the maximal itemsets\n",
    "# new_columns_to_drop = [\n",
    "#     col for col in df_animation_7.columns \n",
    "#     if set(col.split(\", \")) in maximally_frequent_itemsets  # Check if the column matches any maximal itemset\n",
    "# ]\n",
    "\n",
    "# # Drop the dynamically identified maximally frequent itemset columns\n",
    "# df_animation_7 = df_animation_7.drop(columns=new_columns_to_drop, errors=\"ignore\")\n",
    "\n",
    "# # Drop original genre columns and unneeded lists\n",
    "# df_animation_7 = df_animation_7.drop([\"genres_list\", \"genres\"], axis=1)\n",
    "\n",
    "# # Display the first five rows of the final dataset\n",
    "# df_animation_7.head(5)"
   ]
  },
  {
   "cell_type": "markdown",
   "id": "12d34e21-2b72-4e98-9600-37dd234dc718",
   "metadata": {},
   "source": [
    "### Original Language\n",
    "\n",
    "We analyze the distribution of movie languages and apply a **cutoff based on the elbow method** to retain only the **top 2 most common languages**, categorizing the rest as **\"other\"**.\n",
    "\n",
    "**Why Apply a Cutoff?**\n",
    "- **Most movies are in a few dominant languages**, while others have low representation.\n",
    "- **Reduces dimensionality** by avoiding excessive one-hot encoding for rare languages.\n",
    "- **Improves interpretability** by focusing on major language trends.\n",
    "\n",
    "After identifying the top 2 languages, we apply **one-hot encoding** to convert the categorical variable into a binary format.\n"
   ]
  },
  {
   "cell_type": "code",
   "execution_count": 87,
   "id": "0fba0338-8b44-4270-8a24-f951d2dabb3a",
   "metadata": {
    "execution": {
     "iopub.execute_input": "2025-03-18T02:39:08.703648Z",
     "iopub.status.busy": "2025-03-18T02:39:08.703453Z",
     "iopub.status.idle": "2025-03-18T02:39:08.877090Z",
     "shell.execute_reply": "2025-03-18T02:39:08.876273Z",
     "shell.execute_reply.started": "2025-03-18T02:39:08.703630Z"
    }
   },
   "outputs": [
    {
     "data": {
      "image/png": "[encoded data removed]",
      "text/plain": [
       "<Figure size 800x500 with 1 Axes>"
      ]
     },
     "metadata": {},
     "output_type": "display_data"
    }
   ],
   "source": [
    "# Compute language frequency counts\n",
    "language_counts = df_animation_7[\"original_language\"].value_counts().values\n",
    "\n",
    "# Plot rank vs. count to determine an optimal cutoff\n",
    "plt.figure(figsize=(8, 5))\n",
    "plt.plot(np.arange(1, len(language_counts) + 1), language_counts, marker=\"o\")\n",
    "\n",
    "# Add labels and title\n",
    "plt.title(\"Elbow Method for Language Cutoff\")\n",
    "plt.xlabel(\"Rank\")\n",
    "plt.ylabel(\"Count\")\n",
    "\n",
    "# Show plot\n",
    "plt.show()"
   ]
  },
  {
   "cell_type": "code",
   "execution_count": 88,
   "id": "7f22ac77-66c6-4ea0-80e7-06f9f2991e67",
   "metadata": {
    "execution": {
     "iopub.execute_input": "2025-03-18T02:39:08.878168Z",
     "iopub.status.busy": "2025-03-18T02:39:08.877946Z",
     "iopub.status.idle": "2025-03-18T02:39:08.885784Z",
     "shell.execute_reply": "2025-03-18T02:39:08.884858Z",
     "shell.execute_reply.started": "2025-03-18T02:39:08.878148Z"
    }
   },
   "outputs": [
    {
     "name": "stdout",
     "output_type": "stream",
     "text": [
      "Top Languages based on Elbow Point: Index(['en', 'ja'], dtype='object', name='original_language')\n"
     ]
    }
   ],
   "source": [
    "# Define the number of top languages to retain\n",
    "top_n = 2\n",
    "\n",
    "# Extract the most frequent languages based on the elbow point\n",
    "top_languages = df_animation_7[\"original_language\"].value_counts().nlargest(top_n).index\n",
    "\n",
    "# Display the selected top languages\n",
    "print(\"Top Languages based on Elbow Point:\", top_languages)"
   ]
  },
  {
   "cell_type": "code",
   "execution_count": 89,
   "id": "83ba0b2f-4c9a-4733-abb9-8f1958f09cc1",
   "metadata": {
    "execution": {
     "iopub.execute_input": "2025-03-18T02:39:08.886659Z",
     "iopub.status.busy": "2025-03-18T02:39:08.886423Z",
     "iopub.status.idle": "2025-03-18T02:39:08.913468Z",
     "shell.execute_reply": "2025-03-18T02:39:08.912137Z",
     "shell.execute_reply.started": "2025-03-18T02:39:08.886639Z"
    }
   },
   "outputs": [],
   "source": [
    "# Replace less common languages with \"other\"\n",
    "df_animation_8 = df_animation_7.copy()\n",
    "df_animation_8[\"original_language\"] = df_animation_8[\"original_language\"].apply(\n",
    "    lambda x: x if x in top_languages else \"other\"\n",
    ")"
   ]
  },
  {
   "cell_type": "code",
   "execution_count": 90,
   "id": "39a61005-0026-4561-8418-c6d41cf74a18",
   "metadata": {
    "execution": {
     "iopub.execute_input": "2025-03-18T02:39:08.916278Z",
     "iopub.status.busy": "2025-03-18T02:39:08.915106Z",
     "iopub.status.idle": "2025-03-18T02:39:08.974499Z",
     "shell.execute_reply": "2025-03-18T02:39:08.973677Z",
     "shell.execute_reply.started": "2025-03-18T02:39:08.916218Z"
    }
   },
   "outputs": [
    {
     "data": {
      "text/html": [
       "<div>\n",
       "<style scoped>\n",
       "    .dataframe tbody tr th:only-of-type {\n",
       "        vertical-align: middle;\n",
       "    }\n",
       "\n",
       "    .dataframe tbody tr th {\n",
       "        vertical-align: top;\n",
       "    }\n",
       "\n",
       "    .dataframe thead th {\n",
       "        text-align: right;\n",
       "    }\n",
       "</style>\n",
       "<table border=\"1\" class=\"dataframe\">\n",
       "  <thead>\n",
       "    <tr style=\"text-align: right;\">\n",
       "      <th></th>\n",
       "      <th>id</th>\n",
       "      <th>title</th>\n",
       "      <th>overview</th>\n",
       "      <th>popularity</th>\n",
       "      <th>production_companies</th>\n",
       "      <th>release_date</th>\n",
       "      <th>budget</th>\n",
       "      <th>revenue</th>\n",
       "      <th>runtime</th>\n",
       "      <th>status</th>\n",
       "      <th>tagline</th>\n",
       "      <th>vote_average</th>\n",
       "      <th>vote_count</th>\n",
       "      <th>credits</th>\n",
       "      <th>keywords</th>\n",
       "      <th>poster_path</th>\n",
       "      <th>backdrop_path</th>\n",
       "      <th>recommendations</th>\n",
       "      <th>release_year</th>\n",
       "      <th>production_companies_list</th>\n",
       "      <th>credits_list</th>\n",
       "      <th>quarter_q1</th>\n",
       "      <th>quarter_q2</th>\n",
       "      <th>quarter_q3</th>\n",
       "      <th>quarter_q4</th>\n",
       "      <th>release_quarter</th>\n",
       "      <th>real_budget</th>\n",
       "      <th>real_revenue</th>\n",
       "      <th>Science Fiction, Family</th>\n",
       "      <th>Comedy, Adventure, Action, Family</th>\n",
       "      <th>Comedy, Adventure, Family, Fantasy</th>\n",
       "      <th>genre_other</th>\n",
       "      <th>original_language_en</th>\n",
       "      <th>original_language_ja</th>\n",
       "      <th>original_language_other</th>\n",
       "    </tr>\n",
       "  </thead>\n",
       "  <tbody>\n",
       "    <tr>\n",
       "      <th>0</th>\n",
       "      <td>15655</td>\n",
       "      <td>The Tigger Movie</td>\n",
       "      <td>Winnie the Pooh Piglet Owl Kanga Roo and Rabbi...</td>\n",
       "      <td>20.167</td>\n",
       "      <td>Walt Disney Pictures-Disney Television Animati...</td>\n",
       "      <td>2000-02-11</td>\n",
       "      <td>30000000.0</td>\n",
       "      <td>45554533.0</td>\n",
       "      <td>77.0</td>\n",
       "      <td>Released</td>\n",
       "      <td>NaN</td>\n",
       "      <td>6.500</td>\n",
       "      <td>487.0</td>\n",
       "      <td>Jim Cummings-Ken Sansom-John Fiedler-Peter Cul...</td>\n",
       "      <td>woman director</td>\n",
       "      <td>/lxuiGvLHIL1ZyePP7bn6FcKj0Mr.jpg</td>\n",
       "      <td>/uMoSM7r4dst4e5aFUhDEDPyh1hL.jpg</td>\n",
       "      <td>13691-13682-13706-16394-27332-14885-326911-511...</td>\n",
       "      <td>2000</td>\n",
       "      <td>[Walt Disney Pictures, Disney Television Anima...</td>\n",
       "      <td>[Jim Cummings, Ken Sansom, John Fiedler, Peter...</td>\n",
       "      <td>1</td>\n",
       "      <td>0</td>\n",
       "      <td>0</td>\n",
       "      <td>0</td>\n",
       "      <td>Q1</td>\n",
       "      <td>6.281334e+07</td>\n",
       "      <td>9.538108e+07</td>\n",
       "      <td>0</td>\n",
       "      <td>0</td>\n",
       "      <td>0</td>\n",
       "      <td>1</td>\n",
       "      <td>1</td>\n",
       "      <td>0</td>\n",
       "      <td>0</td>\n",
       "    </tr>\n",
       "    <tr>\n",
       "      <th>1</th>\n",
       "      <td>20455</td>\n",
       "      <td>Digimon: The Movie</td>\n",
       "      <td>The first story focused on Tai and Kari Kamiya...</td>\n",
       "      <td>13.017</td>\n",
       "      <td>Saban Entertainment-Toei Company-Fox Family Fi...</td>\n",
       "      <td>2000-03-04</td>\n",
       "      <td>5500000.0</td>\n",
       "      <td>16600000.0</td>\n",
       "      <td>89.0</td>\n",
       "      <td>Released</td>\n",
       "      <td>New Monsters. New Battles. Now on the Big Screen.</td>\n",
       "      <td>6.600</td>\n",
       "      <td>243.0</td>\n",
       "      <td>Lara Jill Miller-Joshua Seth-Bob Papenbrook-Da...</td>\n",
       "      <td>video game-monster-loss of energy-computer-sup...</td>\n",
       "      <td>/1MpgVWRCdWEgu9qZivyNX4glDe.jpg</td>\n",
       "      <td>/1ZFUt0LtYkF568iCkRXCScgBP5g.jpg</td>\n",
       "      <td>97787-75571-12599-98299-10228-10991-36201-8873...</td>\n",
       "      <td>2000</td>\n",
       "      <td>[Saban Entertainment, Toei Company, Fox Family...</td>\n",
       "      <td>[Lara Jill Miller, Joshua Seth, Bob Papenbrook...</td>\n",
       "      <td>1</td>\n",
       "      <td>0</td>\n",
       "      <td>0</td>\n",
       "      <td>0</td>\n",
       "      <td>Q1</td>\n",
       "      <td>1.151578e+07</td>\n",
       "      <td>3.475671e+07</td>\n",
       "      <td>1</td>\n",
       "      <td>0</td>\n",
       "      <td>0</td>\n",
       "      <td>0</td>\n",
       "      <td>0</td>\n",
       "      <td>1</td>\n",
       "      <td>0</td>\n",
       "    </tr>\n",
       "    <tr>\n",
       "      <th>2</th>\n",
       "      <td>10501</td>\n",
       "      <td>The Road to El Dorado</td>\n",
       "      <td>After a failed swindle two con-men end up with...</td>\n",
       "      <td>41.768</td>\n",
       "      <td>DreamWorks Animation-DreamWorks Pictures</td>\n",
       "      <td>2000-03-31</td>\n",
       "      <td>95000000.0</td>\n",
       "      <td>76432727.0</td>\n",
       "      <td>89.0</td>\n",
       "      <td>Released</td>\n",
       "      <td>They came for the gold. They stayed for the ad...</td>\n",
       "      <td>7.242</td>\n",
       "      <td>3354.0</td>\n",
       "      <td>Kenneth Branagh-Kevin Kline-Rosie Perez-Armand...</td>\n",
       "      <td>gold-horse-musical-cartoon-sword fight-con art...</td>\n",
       "      <td>/ryXm7xp4aqQyda0FU2eMfHehPBg.jpg</td>\n",
       "      <td>/ciID0Mu1pPuOUP3JbOsDXQ5aMV6.jpg</td>\n",
       "      <td>10865-8916-10009-9837-9444-14411-11688-9023-90...</td>\n",
       "      <td>2000</td>\n",
       "      <td>[DreamWorks Animation, DreamWorks Pictures]</td>\n",
       "      <td>[Kenneth Branagh, Kevin Kline, Rosie Perez, Ar...</td>\n",
       "      <td>1</td>\n",
       "      <td>0</td>\n",
       "      <td>0</td>\n",
       "      <td>0</td>\n",
       "      <td>Q1</td>\n",
       "      <td>1.989089e+08</td>\n",
       "      <td>1.600332e+08</td>\n",
       "      <td>0</td>\n",
       "      <td>0</td>\n",
       "      <td>1</td>\n",
       "      <td>0</td>\n",
       "      <td>1</td>\n",
       "      <td>0</td>\n",
       "      <td>0</td>\n",
       "    </tr>\n",
       "    <tr>\n",
       "      <th>3</th>\n",
       "      <td>10567</td>\n",
       "      <td>Dinosaur</td>\n",
       "      <td>An orphaned dinosaur raised by lemurs joins an...</td>\n",
       "      <td>62.622</td>\n",
       "      <td>Walt Disney Pictures-Walt Disney Feature Anima...</td>\n",
       "      <td>2000-05-19</td>\n",
       "      <td>127500000.0</td>\n",
       "      <td>354248063.0</td>\n",
       "      <td>82.0</td>\n",
       "      <td>Released</td>\n",
       "      <td>Discover a world you've only imagined.</td>\n",
       "      <td>6.534</td>\n",
       "      <td>2455.0</td>\n",
       "      <td>D.B. Sweeney-Alfre Woodard-Ossie Davis-Max Cas...</td>\n",
       "      <td>cataclysm-asteroid-leader-villain-comet-migrat...</td>\n",
       "      <td>/rSje3FS7ycJSglowlngjsvDt7vO.jpg</td>\n",
       "      <td>/laeEtakR2pLKu3CeRwB2lU5Y53X.jpg</td>\n",
       "      <td>12129-7443-11688-10865-13691-49948-15655-12233...</td>\n",
       "      <td>2000</td>\n",
       "      <td>[Walt Disney Pictures, Walt Disney Feature Ani...</td>\n",
       "      <td>[D.B. Sweeney, Alfre Woodard, Ossie Davis, Max...</td>\n",
       "      <td>0</td>\n",
       "      <td>1</td>\n",
       "      <td>0</td>\n",
       "      <td>0</td>\n",
       "      <td>Q2</td>\n",
       "      <td>2.669567e+08</td>\n",
       "      <td>7.417168e+08</td>\n",
       "      <td>0</td>\n",
       "      <td>0</td>\n",
       "      <td>0</td>\n",
       "      <td>1</td>\n",
       "      <td>1</td>\n",
       "      <td>0</td>\n",
       "      <td>0</td>\n",
       "    </tr>\n",
       "    <tr>\n",
       "      <th>4</th>\n",
       "      <td>7450</td>\n",
       "      <td>Titan A.E.</td>\n",
       "      <td>A young man finds out that he holds the key to...</td>\n",
       "      <td>19.759</td>\n",
       "      <td>20th Century Fox-David Kirschner Productions-F...</td>\n",
       "      <td>2000-06-16</td>\n",
       "      <td>75000000.0</td>\n",
       "      <td>36754634.0</td>\n",
       "      <td>94.0</td>\n",
       "      <td>Released</td>\n",
       "      <td>When Earth Ends, The Adventure Begins.</td>\n",
       "      <td>6.609</td>\n",
       "      <td>916.0</td>\n",
       "      <td>Matt Damon-Bill Pullman-Drew Barrymore-John Le...</td>\n",
       "      <td>monster-galaxy-dystopia-space-alien-mission</td>\n",
       "      <td>/el2iHk3LTJWfEnwrvcRkvWY501G.jpg</td>\n",
       "      <td>/pniACHS8KDVCldB3BlwL78RIZ7V.jpg</td>\n",
       "      <td>9016-14411-2114-9837-10016-2157-8584-13225-97-...</td>\n",
       "      <td>2000</td>\n",
       "      <td>[20th Century Fox, David Kirschner Productions...</td>\n",
       "      <td>[Matt Damon, Bill Pullman, Drew Barrymore, Joh...</td>\n",
       "      <td>0</td>\n",
       "      <td>1</td>\n",
       "      <td>0</td>\n",
       "      <td>0</td>\n",
       "      <td>Q2</td>\n",
       "      <td>1.570333e+08</td>\n",
       "      <td>7.695604e+07</td>\n",
       "      <td>1</td>\n",
       "      <td>0</td>\n",
       "      <td>0</td>\n",
       "      <td>0</td>\n",
       "      <td>1</td>\n",
       "      <td>0</td>\n",
       "      <td>0</td>\n",
       "    </tr>\n",
       "  </tbody>\n",
       "</table>\n",
       "</div>"
      ],
      "text/plain": [
       "      id                  title  \\\n",
       "0  15655       The Tigger Movie   \n",
       "1  20455     Digimon: The Movie   \n",
       "2  10501  The Road to El Dorado   \n",
       "3  10567               Dinosaur   \n",
       "4   7450             Titan A.E.   \n",
       "\n",
       "                                            overview  popularity  \\\n",
       "0  Winnie the Pooh Piglet Owl Kanga Roo and Rabbi...      20.167   \n",
       "1  The first story focused on Tai and Kari Kamiya...      13.017   \n",
       "2  After a failed swindle two con-men end up with...      41.768   \n",
       "3  An orphaned dinosaur raised by lemurs joins an...      62.622   \n",
       "4  A young man finds out that he holds the key to...      19.759   \n",
       "\n",
       "                                production_companies release_date  \\\n",
       "0  Walt Disney Pictures-Disney Television Animati...   2000-02-11   \n",
       "1  Saban Entertainment-Toei Company-Fox Family Fi...   2000-03-04   \n",
       "2           DreamWorks Animation-DreamWorks Pictures   2000-03-31   \n",
       "3  Walt Disney Pictures-Walt Disney Feature Anima...   2000-05-19   \n",
       "4  20th Century Fox-David Kirschner Productions-F...   2000-06-16   \n",
       "\n",
       "        budget      revenue  runtime    status  \\\n",
       "0   30000000.0   45554533.0     77.0  Released   \n",
       "1    5500000.0   16600000.0     89.0  Released   \n",
       "2   95000000.0   76432727.0     89.0  Released   \n",
       "3  127500000.0  354248063.0     82.0  Released   \n",
       "4   75000000.0   36754634.0     94.0  Released   \n",
       "\n",
       "                                             tagline  vote_average  \\\n",
       "0                                                NaN         6.500   \n",
       "1  New Monsters. New Battles. Now on the Big Screen.         6.600   \n",
       "2  They came for the gold. They stayed for the ad...         7.242   \n",
       "3             Discover a world you've only imagined.         6.534   \n",
       "4             When Earth Ends, The Adventure Begins.         6.609   \n",
       "\n",
       "   vote_count                                            credits  \\\n",
       "0       487.0  Jim Cummings-Ken Sansom-John Fiedler-Peter Cul...   \n",
       "1       243.0  Lara Jill Miller-Joshua Seth-Bob Papenbrook-Da...   \n",
       "2      3354.0  Kenneth Branagh-Kevin Kline-Rosie Perez-Armand...   \n",
       "3      2455.0  D.B. Sweeney-Alfre Woodard-Ossie Davis-Max Cas...   \n",
       "4       916.0  Matt Damon-Bill Pullman-Drew Barrymore-John Le...   \n",
       "\n",
       "                                            keywords  \\\n",
       "0                                     woman director   \n",
       "1  video game-monster-loss of energy-computer-sup...   \n",
       "2  gold-horse-musical-cartoon-sword fight-con art...   \n",
       "3  cataclysm-asteroid-leader-villain-comet-migrat...   \n",
       "4        monster-galaxy-dystopia-space-alien-mission   \n",
       "\n",
       "                        poster_path                     backdrop_path  \\\n",
       "0  /lxuiGvLHIL1ZyePP7bn6FcKj0Mr.jpg  /uMoSM7r4dst4e5aFUhDEDPyh1hL.jpg   \n",
       "1   /1MpgVWRCdWEgu9qZivyNX4glDe.jpg  /1ZFUt0LtYkF568iCkRXCScgBP5g.jpg   \n",
       "2  /ryXm7xp4aqQyda0FU2eMfHehPBg.jpg  /ciID0Mu1pPuOUP3JbOsDXQ5aMV6.jpg   \n",
       "3  /rSje3FS7ycJSglowlngjsvDt7vO.jpg  /laeEtakR2pLKu3CeRwB2lU5Y53X.jpg   \n",
       "4  /el2iHk3LTJWfEnwrvcRkvWY501G.jpg  /pniACHS8KDVCldB3BlwL78RIZ7V.jpg   \n",
       "\n",
       "                                     recommendations  release_year  \\\n",
       "0  13691-13682-13706-16394-27332-14885-326911-511...          2000   \n",
       "1  97787-75571-12599-98299-10228-10991-36201-8873...          2000   \n",
       "2  10865-8916-10009-9837-9444-14411-11688-9023-90...          2000   \n",
       "3  12129-7443-11688-10865-13691-49948-15655-12233...          2000   \n",
       "4  9016-14411-2114-9837-10016-2157-8584-13225-97-...          2000   \n",
       "\n",
       "                           production_companies_list  \\\n",
       "0  [Walt Disney Pictures, Disney Television Anima...   \n",
       "1  [Saban Entertainment, Toei Company, Fox Family...   \n",
       "2        [DreamWorks Animation, DreamWorks Pictures]   \n",
       "3  [Walt Disney Pictures, Walt Disney Feature Ani...   \n",
       "4  [20th Century Fox, David Kirschner Productions...   \n",
       "\n",
       "                                        credits_list  quarter_q1  quarter_q2  \\\n",
       "0  [Jim Cummings, Ken Sansom, John Fiedler, Peter...           1           0   \n",
       "1  [Lara Jill Miller, Joshua Seth, Bob Papenbrook...           1           0   \n",
       "2  [Kenneth Branagh, Kevin Kline, Rosie Perez, Ar...           1           0   \n",
       "3  [D.B. Sweeney, Alfre Woodard, Ossie Davis, Max...           0           1   \n",
       "4  [Matt Damon, Bill Pullman, Drew Barrymore, Joh...           0           1   \n",
       "\n",
       "   quarter_q3  quarter_q4 release_quarter   real_budget  real_revenue  \\\n",
       "0           0           0              Q1  6.281334e+07  9.538108e+07   \n",
       "1           0           0              Q1  1.151578e+07  3.475671e+07   \n",
       "2           0           0              Q1  1.989089e+08  1.600332e+08   \n",
       "3           0           0              Q2  2.669567e+08  7.417168e+08   \n",
       "4           0           0              Q2  1.570333e+08  7.695604e+07   \n",
       "\n",
       "   Science Fiction, Family  Comedy, Adventure, Action, Family  \\\n",
       "0                        0                                  0   \n",
       "1                        1                                  0   \n",
       "2                        0                                  0   \n",
       "3                        0                                  0   \n",
       "4                        1                                  0   \n",
       "\n",
       "   Comedy, Adventure, Family, Fantasy  genre_other  original_language_en  \\\n",
       "0                                   0            1                     1   \n",
       "1                                   0            0                     0   \n",
       "2                                   1            0                     1   \n",
       "3                                   0            1                     1   \n",
       "4                                   0            0                     1   \n",
       "\n",
       "   original_language_ja  original_language_other  \n",
       "0                     0                        0  \n",
       "1                     1                        0  \n",
       "2                     0                        0  \n",
       "3                     0                        0  \n",
       "4                     0                        0  "
      ]
     },
     "execution_count": 90,
     "metadata": {},
     "output_type": "execute_result"
    }
   ],
   "source": [
    "# One-hot encode the original language column\n",
    "df_animation_8 = pd.get_dummies(df_animation_8, columns=[\"original_language\"], dtype=int)\n",
    "df_animation_8.head(5)"
   ]
  },
  {
   "cell_type": "markdown",
   "id": "8d2f877f-d1e8-4d08-8575-1f9f274847c3",
   "metadata": {},
   "source": [
    "### Production Companies and Actors"
   ]
  },
  {
   "cell_type": "markdown",
   "id": "6e6c83f4-b938-4527-9510-9c35a222e307",
   "metadata": {},
   "source": [
    "**TrueSkill Ratings for Production Companies and Actors**\n",
    "\n",
    "**What is TrueSkill?**\n",
    "    \n",
    "TrueSkill is a **Bayesian ranking system** developed by Microsoft Research in **2005** to rank players in competitive games, originally for **Xbox Live matchmaking**. It improves upon the **Elo rating system** by handling **multiplayer scenarios** and dynamically adjusting uncertainty in rankings. \n",
    "\n",
    "**Why Use TrueSkill for Movies?**\n",
    "    \n",
    "We apply TrueSkill to **rank production companies and actors** based on their historical movie performances. Unlike traditional ranking systems, TrueSkill **continuously updates** as new data becomes available, providing a more accurate reflection of past success.\n",
    "\n",
    "**How TrueSkill Works in This Context**\n",
    "1. **Production Companies (`companies_trueskill`)**  \n",
    "   - Companies gain higher ratings when they are associated with **financially successful movies**.\n",
    "   - The system accounts for **competition** (e.g., multiple production companies per movie).\n",
    "\n",
    "2. **Actors (`credits_trueskill`)**  \n",
    "   - Measures an actor’s historical performance based on the **success of movies they've worked on**.\n",
    "   - TrueSkill adjusts **for uncertainty**, meaning that actors with few roles start with a wider confidence range.\n",
    "\n",
    "**Why TrueSkill Instead of Elo?**\n",
    "- **Handles multiple entities per movie** (e.g., multiple companies and actors contributing to success).\n",
    "- **Prevents data leakage** by updating ratings sequentially **only as past movies are processed**.\n",
    "- **Balances risk vs. reward**, allowing **new actors and companies to rise in rankings quickly** if they contribute to highly successful films."
   ]
  },
  {
   "cell_type": "code",
   "execution_count": 91,
   "id": "2b9a45eb-4718-4ebd-bb2e-01df06a2bf89",
   "metadata": {
    "execution": {
     "iopub.execute_input": "2025-03-18T02:39:08.975601Z",
     "iopub.status.busy": "2025-03-18T02:39:08.975342Z",
     "iopub.status.idle": "2025-03-18T02:39:08.991104Z",
     "shell.execute_reply": "2025-03-18T02:39:08.990138Z",
     "shell.execute_reply.started": "2025-03-18T02:39:08.975579Z"
    }
   },
   "outputs": [],
   "source": [
    "class TrueSkillManager:\n",
    "    def __init__(self, mu=25, sigma=8.33, beta=4.167, tau=0.083, draw_probability=0.1):\n",
    "        # Initialize TrueSkill environment\n",
    "        self.env = ts.TrueSkill(mu=mu, sigma=sigma, beta=beta, tau=tau, draw_probability=draw_probability)\n",
    "        self.ratings_df = pd.DataFrame(columns=['entity', 'role', 'mu', 'sigma', 'last_updated'])\n",
    "    \n",
    "    def _get_or_create_rating(self, entity, role, date):\n",
    "        \"\"\"Retrieves or initializes a rating for a company or actor.\"\"\"\n",
    "        existing = self.ratings_df[(self.ratings_df['entity'] == entity) & (self.ratings_df['role'] == role) & (self.ratings_df['last_updated'] <= date)]\n",
    "        if not existing.empty:\n",
    "            row = existing.sort_values(by='last_updated', ascending=False).iloc[0]\n",
    "            return ts.Rating(mu=row['mu'], sigma=row['sigma'])\n",
    "        else:\n",
    "            return self.env.create_rating()\n",
    "    \n",
    "    def update_ratings(self, movie_data):\n",
    "        \"\"\"Updates TrueSkill ratings based on a single movie.\"\"\"\n",
    "        budget, revenue, release_date = movie_data['budget'], movie_data['revenue'], movie_data['release_date']\n",
    "        \n",
    "        # Ensure production_companies and credits are strings, else replace with an empty string\n",
    "        production_companies = str(movie_data['production_companies']) if pd.notna(movie_data['production_companies']) else \"\"\n",
    "        credits = str(movie_data['credits']) if pd.notna(movie_data['credits']) else \"\"\n",
    "        \n",
    "        # Extract and clean production companies & actors\n",
    "        companies = [comp.strip() for comp in production_companies.split('-') if comp.strip()]\n",
    "        actors = [act.strip() for act in credits.split('-') if act.strip()]\n",
    "\n",
    "        # Determine movie success (win/loss/mid-ground condition)\n",
    "        if revenue >= 2.5 * budget:\n",
    "            success = 1  # Win\n",
    "        elif revenue >= budget:\n",
    "            success = 0.5  # Mid-ground\n",
    "        else:\n",
    "            success = 0  # Loss\n",
    "\n",
    "        # Sort ratings DataFrame by date to ensure chronological updates\n",
    "        self.ratings_df = self.ratings_df.sort_values(by='last_updated', ascending=True)\n",
    "\n",
    "        # Get current ratings\n",
    "        company_ratings = [self._get_or_create_rating(comp, 'company', release_date) for comp in companies]\n",
    "        actor_ratings = [self._get_or_create_rating(act, 'actor', release_date) for act in actors]\n",
    "\n",
    "        # Introduce a dummy competitor (always present)\n",
    "        dummy_team = [self.env.create_rating()]\n",
    "        \n",
    "        # Always compare against the dummy team\n",
    "        company_ratings.append(dummy_team[0])\n",
    "        actor_ratings.append(dummy_team[0])\n",
    "\n",
    "        # Compute new TrueSkill ratings (always compared against dummy)\n",
    "        new_companies, _ = self.env.rate([company_ratings, dummy_team], ranks=[1-success, success])\n",
    "        new_actors, _ = self.env.rate([actor_ratings, dummy_team], ranks=[1-success, success])\n",
    "\n",
    "        # Store historical ratings instead of overwriting past data\n",
    "        for comp, new_rating in zip(companies, new_companies[:-1]):  # Exclude dummy team\n",
    "            new_entry = pd.DataFrame([{\n",
    "                'entity': comp, 'role': 'company', 'mu': new_rating.mu, 'sigma': new_rating.sigma, 'last_updated': release_date\n",
    "            }])\n",
    "            if self.ratings_df.empty:\n",
    "                self.ratings_df = new_entry\n",
    "            else:\n",
    "                self.ratings_df = pd.concat([self.ratings_df, new_entry], ignore_index=True)\n",
    "\n",
    "        for act, new_rating in zip(actors, new_actors[:-1]):  # Exclude dummy team\n",
    "            new_entry = pd.DataFrame([{\n",
    "                'entity': act, 'role': 'actor', 'mu': new_rating.mu, 'sigma': new_rating.sigma, 'last_updated': release_date\n",
    "            }])\n",
    "            if self.ratings_df.empty:\n",
    "                self.ratings_df = new_entry\n",
    "            else:\n",
    "                self.ratings_df = pd.concat([self.ratings_df, new_entry], ignore_index=True)\n",
    "    \n",
    "    def get_ratings(self):\n",
    "        \"\"\"Returns the latest TrueSkill ratings as a DataFrame.\"\"\"\n",
    "        return self.ratings_df.copy()\n",
    "    \n",
    "    def get_rating_at_time(self, entities, role, date):\n",
    "        \"\"\"Retrieve the TrueSkill rating (μ) for a specific entity or group at a given point in time.\"\"\"\n",
    "        if isinstance(entities, str):\n",
    "            entities = [entities]  # Convert to list if a single entity is provided\n",
    "\n",
    "        # Query the historical ratings at or before the given date\n",
    "        ratings = self.ratings_df.query(\n",
    "            \"entity in @entities & role == @role & last_updated < @date\"\n",
    "        ).sort_values(by=\"last_updated\", ascending=False).drop_duplicates(subset=[\"entity\"])\n",
    "\n",
    "        if ratings.empty:\n",
    "            return f\"No rating available for {entities} as of {date}.\"\n",
    "        \n",
    "        return ratings[\"mu\"].mean()  # Return the average if multiple entities are provided\n",
    "    \n",
    "    def save_state(self, filepath):\n",
    "        \"\"\"Saves the TrueSkill ratings to a CSV file.\"\"\"\n",
    "        self.ratings_df.to_csv(filepath, index=False)\n",
    "    \n",
    "    def load_state(self, filepath):\n",
    "        \"\"\"Loads TrueSkill ratings from a CSV file.\"\"\"\n",
    "        self.ratings_df = pd.read_csv(filepath)\n",
    "\n",
    "    def add_trueskill_features(self, df):\n",
    "        \"\"\"Adds historical TrueSkill features to the dataset based on release date.\"\"\"\n",
    "        df['companies_trueskill'] = df.apply(\n",
    "            lambda row: (\n",
    "                self.ratings_df.query(\n",
    "                    \"entity in @row.production_companies.split('-') & role == 'company' & last_updated < @row.release_date\"\n",
    "                )['mu'].mean()\n",
    "                if not self.ratings_df.query(\n",
    "                    \"entity in @row.production_companies.split('-') & role == 'company' & last_updated < @row.release_date\"\n",
    "                ).empty\n",
    "                else 25  # Default TrueSkill μ for new entities\n",
    "            ) if isinstance(row.production_companies, str) and row.production_companies.strip() else 25,\n",
    "            axis=1\n",
    "        )\n",
    "\n",
    "        df['credits_trueskill'] = df.apply(\n",
    "            lambda row: (\n",
    "                self.ratings_df.query(\n",
    "                    \"entity in @row.credits.split('-') & role == 'actor' & last_updated < @row.release_date\"\n",
    "                )['mu'].mean()\n",
    "                if not self.ratings_df.query(\n",
    "                    \"entity in @row.credits.split('-') & role == 'actor' & last_updated < @row.release_date\"\n",
    "                ).empty\n",
    "                else 25  # Default TrueSkill μ for new actors\n",
    "            ) if isinstance(row.credits, str) and row.credits.strip() else 25,\n",
    "            axis=1\n",
    "        )\n",
    "        return df\n"
   ]
  },
  {
   "cell_type": "code",
   "execution_count": 92,
   "id": "021e3cae-891c-4efd-a21d-cfdd74549f1c",
   "metadata": {
    "execution": {
     "iopub.execute_input": "2025-03-18T02:39:08.992007Z",
     "iopub.status.busy": "2025-03-18T02:39:08.991804Z",
     "iopub.status.idle": "2025-03-18T02:39:40.962628Z",
     "shell.execute_reply": "2025-03-18T02:39:40.961646Z",
     "shell.execute_reply.started": "2025-03-18T02:39:08.991988Z"
    }
   },
   "outputs": [
    {
     "data": {
      "text/html": [
       "<div>\n",
       "<style scoped>\n",
       "    .dataframe tbody tr th:only-of-type {\n",
       "        vertical-align: middle;\n",
       "    }\n",
       "\n",
       "    .dataframe tbody tr th {\n",
       "        vertical-align: top;\n",
       "    }\n",
       "\n",
       "    .dataframe thead th {\n",
       "        text-align: right;\n",
       "    }\n",
       "</style>\n",
       "<table border=\"1\" class=\"dataframe\">\n",
       "  <thead>\n",
       "    <tr style=\"text-align: right;\">\n",
       "      <th></th>\n",
       "      <th>title</th>\n",
       "      <th>release_date</th>\n",
       "      <th>production_companies</th>\n",
       "      <th>companies_trueskill</th>\n",
       "      <th>credits</th>\n",
       "      <th>credits_trueskill</th>\n",
       "    </tr>\n",
       "  </thead>\n",
       "  <tbody>\n",
       "    <tr>\n",
       "      <th>0</th>\n",
       "      <td>The Tigger Movie</td>\n",
       "      <td>2000-02-11</td>\n",
       "      <td>Walt Disney Pictures-Disney Television Animati...</td>\n",
       "      <td>25.000000</td>\n",
       "      <td>Jim Cummings-Ken Sansom-John Fiedler-Peter Cul...</td>\n",
       "      <td>25.000000</td>\n",
       "    </tr>\n",
       "    <tr>\n",
       "      <th>1</th>\n",
       "      <td>Digimon: The Movie</td>\n",
       "      <td>2000-03-04</td>\n",
       "      <td>Saban Entertainment-Toei Company-Fox Family Fi...</td>\n",
       "      <td>25.000000</td>\n",
       "      <td>Lara Jill Miller-Joshua Seth-Bob Papenbrook-Da...</td>\n",
       "      <td>25.000000</td>\n",
       "    </tr>\n",
       "    <tr>\n",
       "      <th>2</th>\n",
       "      <td>The Road to El Dorado</td>\n",
       "      <td>2000-03-31</td>\n",
       "      <td>DreamWorks Animation-DreamWorks Pictures</td>\n",
       "      <td>25.000000</td>\n",
       "      <td>Kenneth Branagh-Kevin Kline-Rosie Perez-Armand...</td>\n",
       "      <td>8.097407</td>\n",
       "    </tr>\n",
       "    <tr>\n",
       "      <th>3</th>\n",
       "      <td>Dinosaur</td>\n",
       "      <td>2000-05-19</td>\n",
       "      <td>Walt Disney Pictures-Walt Disney Feature Anima...</td>\n",
       "      <td>13.014667</td>\n",
       "      <td>D.B. Sweeney-Alfre Woodard-Ossie Davis-Max Cas...</td>\n",
       "      <td>25.000000</td>\n",
       "    </tr>\n",
       "    <tr>\n",
       "      <th>4</th>\n",
       "      <td>Titan A.E.</td>\n",
       "      <td>2000-06-16</td>\n",
       "      <td>20th Century Fox-David Kirschner Productions-F...</td>\n",
       "      <td>25.000000</td>\n",
       "      <td>Matt Damon-Bill Pullman-Drew Barrymore-John Le...</td>\n",
       "      <td>0.602939</td>\n",
       "    </tr>\n",
       "    <tr>\n",
       "      <th>...</th>\n",
       "      <td>...</td>\n",
       "      <td>...</td>\n",
       "      <td>...</td>\n",
       "      <td>...</td>\n",
       "      <td>...</td>\n",
       "      <td>...</td>\n",
       "    </tr>\n",
       "    <tr>\n",
       "      <th>309</th>\n",
       "      <td>Teenage Mutant Ninja Turtles: Mutant Mayhem</td>\n",
       "      <td>2023-07-31</td>\n",
       "      <td>Paramount-Nickelodeon Movies-Point Grey Pictur...</td>\n",
       "      <td>3.444722</td>\n",
       "      <td>Micah Abbey-Shamon Brown Jr.-Nicolas Cantu-Bra...</td>\n",
       "      <td>13.361342</td>\n",
       "    </tr>\n",
       "    <tr>\n",
       "      <th>310</th>\n",
       "      <td>PAW Patrol: The Mighty Movie</td>\n",
       "      <td>2023-09-21</td>\n",
       "      <td>Nickelodeon Movies-Spin Master-Paramount Pictu...</td>\n",
       "      <td>6.782089</td>\n",
       "      <td>Mckenna Grace-Christian Convery-Taraji P. Hens...</td>\n",
       "      <td>10.813690</td>\n",
       "    </tr>\n",
       "    <tr>\n",
       "      <th>311</th>\n",
       "      <td>Migration</td>\n",
       "      <td>2023-12-06</td>\n",
       "      <td>Illumination</td>\n",
       "      <td>27.229222</td>\n",
       "      <td>Kumail Nanjiani-Elizabeth Banks-Caspar Jenning...</td>\n",
       "      <td>-7.325272</td>\n",
       "    </tr>\n",
       "    <tr>\n",
       "      <th>312</th>\n",
       "      <td>The Garfield Movie</td>\n",
       "      <td>2024-04-30</td>\n",
       "      <td>Alcon Entertainment-DNEG-Wayfarer Studios-One ...</td>\n",
       "      <td>25.000000</td>\n",
       "      <td>Chris Pratt-Samuel L. Jackson-Hannah Waddingha...</td>\n",
       "      <td>10.527359</td>\n",
       "    </tr>\n",
       "    <tr>\n",
       "      <th>313</th>\n",
       "      <td>Despicable Me 4</td>\n",
       "      <td>2024-06-20</td>\n",
       "      <td>Universal Pictures-Illumination-dentsu-Fuji Te...</td>\n",
       "      <td>13.894646</td>\n",
       "      <td>Steve Carell-Kristen Wiig-Will Ferrell-Sofía V...</td>\n",
       "      <td>4.984676</td>\n",
       "    </tr>\n",
       "  </tbody>\n",
       "</table>\n",
       "<p>314 rows × 6 columns</p>\n",
       "</div>"
      ],
      "text/plain": [
       "                                           title release_date  \\\n",
       "0                               The Tigger Movie   2000-02-11   \n",
       "1                             Digimon: The Movie   2000-03-04   \n",
       "2                          The Road to El Dorado   2000-03-31   \n",
       "3                                       Dinosaur   2000-05-19   \n",
       "4                                     Titan A.E.   2000-06-16   \n",
       "..                                           ...          ...   \n",
       "309  Teenage Mutant Ninja Turtles: Mutant Mayhem   2023-07-31   \n",
       "310                 PAW Patrol: The Mighty Movie   2023-09-21   \n",
       "311                                    Migration   2023-12-06   \n",
       "312                           The Garfield Movie   2024-04-30   \n",
       "313                              Despicable Me 4   2024-06-20   \n",
       "\n",
       "                                  production_companies  companies_trueskill  \\\n",
       "0    Walt Disney Pictures-Disney Television Animati...            25.000000   \n",
       "1    Saban Entertainment-Toei Company-Fox Family Fi...            25.000000   \n",
       "2             DreamWorks Animation-DreamWorks Pictures            25.000000   \n",
       "3    Walt Disney Pictures-Walt Disney Feature Anima...            13.014667   \n",
       "4    20th Century Fox-David Kirschner Productions-F...            25.000000   \n",
       "..                                                 ...                  ...   \n",
       "309  Paramount-Nickelodeon Movies-Point Grey Pictur...             3.444722   \n",
       "310  Nickelodeon Movies-Spin Master-Paramount Pictu...             6.782089   \n",
       "311                                       Illumination            27.229222   \n",
       "312  Alcon Entertainment-DNEG-Wayfarer Studios-One ...            25.000000   \n",
       "313  Universal Pictures-Illumination-dentsu-Fuji Te...            13.894646   \n",
       "\n",
       "                                               credits  credits_trueskill  \n",
       "0    Jim Cummings-Ken Sansom-John Fiedler-Peter Cul...          25.000000  \n",
       "1    Lara Jill Miller-Joshua Seth-Bob Papenbrook-Da...          25.000000  \n",
       "2    Kenneth Branagh-Kevin Kline-Rosie Perez-Armand...           8.097407  \n",
       "3    D.B. Sweeney-Alfre Woodard-Ossie Davis-Max Cas...          25.000000  \n",
       "4    Matt Damon-Bill Pullman-Drew Barrymore-John Le...           0.602939  \n",
       "..                                                 ...                ...  \n",
       "309  Micah Abbey-Shamon Brown Jr.-Nicolas Cantu-Bra...          13.361342  \n",
       "310  Mckenna Grace-Christian Convery-Taraji P. Hens...          10.813690  \n",
       "311  Kumail Nanjiani-Elizabeth Banks-Caspar Jenning...          -7.325272  \n",
       "312  Chris Pratt-Samuel L. Jackson-Hannah Waddingha...          10.527359  \n",
       "313  Steve Carell-Kristen Wiig-Will Ferrell-Sofía V...           4.984676  \n",
       "\n",
       "[314 rows x 6 columns]"
      ]
     },
     "execution_count": 92,
     "metadata": {},
     "output_type": "execute_result"
    }
   ],
   "source": [
    "# Create a TrueSkill object\n",
    "ts_manager = TrueSkillManager()\n",
    "\n",
    "# Process each movie in sequential order\n",
    "for _, row in df_animation_5.iterrows():\n",
    "    ts_manager.update_ratings(row)\n",
    "\n",
    "# Add TrueSkill features to the main DataFrame\n",
    "df_animation_9 = df_animation_8.copy()\n",
    "df_animation_9 = ts_manager.add_trueskill_features(df_animation_9)\n",
    "\n",
    "# Display the first few rows to verify\n",
    "df_animation_9[[\"title\", \"release_date\", \"production_companies\", \n",
    "                \"companies_trueskill\", \"credits\", \"credits_trueskill\"]]"
   ]
  },
  {
   "cell_type": "code",
   "execution_count": 93,
   "id": "15b85be1-f450-4aab-bb8f-41a4e34f3c93",
   "metadata": {
    "execution": {
     "iopub.execute_input": "2025-03-18T02:39:40.963794Z",
     "iopub.status.busy": "2025-03-18T02:39:40.963566Z",
     "iopub.status.idle": "2025-03-18T02:39:40.970905Z",
     "shell.execute_reply": "2025-03-18T02:39:40.969458Z",
     "shell.execute_reply.started": "2025-03-18T02:39:40.963775Z"
    }
   },
   "outputs": [
    {
     "data": {
      "text/plain": [
       "Index(['id', 'title', 'overview', 'popularity', 'production_companies',\n",
       "       'release_date', 'budget', 'revenue', 'runtime', 'status', 'tagline',\n",
       "       'vote_average', 'vote_count', 'credits', 'keywords', 'poster_path',\n",
       "       'backdrop_path', 'recommendations', 'release_year',\n",
       "       'production_companies_list', 'credits_list', 'quarter_q1', 'quarter_q2',\n",
       "       'quarter_q3', 'quarter_q4', 'release_quarter', 'real_budget',\n",
       "       'real_revenue', 'Science Fiction, Family',\n",
       "       'Comedy, Adventure, Action, Family',\n",
       "       'Comedy, Adventure, Family, Fantasy', 'genre_other',\n",
       "       'original_language_en', 'original_language_ja',\n",
       "       'original_language_other', 'companies_trueskill', 'credits_trueskill'],\n",
       "      dtype='object')"
      ]
     },
     "execution_count": 93,
     "metadata": {},
     "output_type": "execute_result"
    }
   ],
   "source": [
    "# Display all column names in the processed dataset\n",
    "df_animation_9.columns"
   ]
  },
  {
   "cell_type": "code",
   "execution_count": 94,
   "id": "b1c82805-966e-4d54-be97-7154136ba5b4",
   "metadata": {
    "execution": {
     "iopub.execute_input": "2025-03-18T02:39:40.971884Z",
     "iopub.status.busy": "2025-03-18T02:39:40.971687Z",
     "iopub.status.idle": "2025-03-18T02:39:40.988626Z",
     "shell.execute_reply": "2025-03-18T02:39:40.987635Z",
     "shell.execute_reply.started": "2025-03-18T02:39:40.971864Z"
    }
   },
   "outputs": [
    {
     "data": {
      "text/html": [
       "<div>\n",
       "<style scoped>\n",
       "    .dataframe tbody tr th:only-of-type {\n",
       "        vertical-align: middle;\n",
       "    }\n",
       "\n",
       "    .dataframe tbody tr th {\n",
       "        vertical-align: top;\n",
       "    }\n",
       "\n",
       "    .dataframe thead th {\n",
       "        text-align: right;\n",
       "    }\n",
       "</style>\n",
       "<table border=\"1\" class=\"dataframe\">\n",
       "  <thead>\n",
       "    <tr style=\"text-align: right;\">\n",
       "      <th></th>\n",
       "      <th>title</th>\n",
       "      <th>release_date</th>\n",
       "      <th>production_companies</th>\n",
       "      <th>companies_trueskill</th>\n",
       "      <th>credits</th>\n",
       "      <th>credits_trueskill</th>\n",
       "    </tr>\n",
       "  </thead>\n",
       "  <tbody>\n",
       "    <tr>\n",
       "      <th>42</th>\n",
       "      <td>The Incredibles</td>\n",
       "      <td>2004-10-27</td>\n",
       "      <td>Pixar-Walt Disney Pictures</td>\n",
       "      <td>8.769639</td>\n",
       "      <td>Craig T. Nelson-Holly Hunter-Sarah Vowell-Spen...</td>\n",
       "      <td>4.604792</td>\n",
       "    </tr>\n",
       "    <tr>\n",
       "      <th>60</th>\n",
       "      <td>Cars</td>\n",
       "      <td>2006-06-08</td>\n",
       "      <td>Pixar-Walt Disney Pictures</td>\n",
       "      <td>6.570978</td>\n",
       "      <td>Owen Wilson-Larry the Cable Guy-Bonnie Hunt-Pa...</td>\n",
       "      <td>2.734665</td>\n",
       "    </tr>\n",
       "    <tr>\n",
       "      <th>77</th>\n",
       "      <td>Ratatouille</td>\n",
       "      <td>2007-06-28</td>\n",
       "      <td>Pixar-Walt Disney Pictures</td>\n",
       "      <td>6.216211</td>\n",
       "      <td>Patton Oswalt-Lou Romano-Ian Holm-Brian Denneh...</td>\n",
       "      <td>14.576500</td>\n",
       "    </tr>\n",
       "    <tr>\n",
       "      <th>88</th>\n",
       "      <td>WALL·E</td>\n",
       "      <td>2008-06-22</td>\n",
       "      <td>Pixar-Walt Disney Pictures</td>\n",
       "      <td>6.564252</td>\n",
       "      <td>Ben Burtt-Elissa Knight-Jeff Garlin-Fred Willa...</td>\n",
       "      <td>0.060011</td>\n",
       "    </tr>\n",
       "    <tr>\n",
       "      <th>113</th>\n",
       "      <td>Toy Story 3</td>\n",
       "      <td>2010-06-16</td>\n",
       "      <td>Pixar-Walt Disney Pictures</td>\n",
       "      <td>5.377186</td>\n",
       "      <td>Tom Hanks-Tim Allen-Joan Cusack-Don Rickles-Wa...</td>\n",
       "      <td>-2.928563</td>\n",
       "    </tr>\n",
       "    <tr>\n",
       "      <th>160</th>\n",
       "      <td>Monsters University</td>\n",
       "      <td>2013-06-19</td>\n",
       "      <td>Pixar-Walt Disney Pictures</td>\n",
       "      <td>4.282338</td>\n",
       "      <td>Billy Crystal-John Goodman-Steve Buscemi-Helen...</td>\n",
       "      <td>-3.755147</td>\n",
       "    </tr>\n",
       "    <tr>\n",
       "      <th>201</th>\n",
       "      <td>Inside Out</td>\n",
       "      <td>2015-06-17</td>\n",
       "      <td>Pixar-Walt Disney Pictures</td>\n",
       "      <td>3.233401</td>\n",
       "      <td>Amy Poehler-Phyllis Smith-Richard Kind-Bill Ha...</td>\n",
       "      <td>1.058259</td>\n",
       "    </tr>\n",
       "    <tr>\n",
       "      <th>217</th>\n",
       "      <td>Finding Dory</td>\n",
       "      <td>2016-06-16</td>\n",
       "      <td>Pixar-Walt Disney Pictures</td>\n",
       "      <td>3.771753</td>\n",
       "      <td>Albert Brooks-Ellen DeGeneres-Ed O'Neill-Hayde...</td>\n",
       "      <td>16.379667</td>\n",
       "    </tr>\n",
       "    <tr>\n",
       "      <th>244</th>\n",
       "      <td>Coco</td>\n",
       "      <td>2017-10-27</td>\n",
       "      <td>Pixar-Walt Disney Pictures</td>\n",
       "      <td>4.101561</td>\n",
       "      <td>Anthony Gonzalez-Gael García Bernal-Benjamin B...</td>\n",
       "      <td>15.718141</td>\n",
       "    </tr>\n",
       "    <tr>\n",
       "      <th>287</th>\n",
       "      <td>Luca</td>\n",
       "      <td>2021-06-17</td>\n",
       "      <td>Pixar-Walt Disney Pictures</td>\n",
       "      <td>3.976995</td>\n",
       "      <td>Jacob Tremblay-Jack Dylan Grazer-Emma Berman-S...</td>\n",
       "      <td>13.281064</td>\n",
       "    </tr>\n",
       "    <tr>\n",
       "      <th>297</th>\n",
       "      <td>Lightyear</td>\n",
       "      <td>2022-06-15</td>\n",
       "      <td>Pixar-Walt Disney Pictures</td>\n",
       "      <td>3.746516</td>\n",
       "      <td>Chris Evans-Keke Palmer-Peter Sohn-Taika Waiti...</td>\n",
       "      <td>-6.817455</td>\n",
       "    </tr>\n",
       "  </tbody>\n",
       "</table>\n",
       "</div>"
      ],
      "text/plain": [
       "                   title release_date        production_companies  \\\n",
       "42       The Incredibles   2004-10-27  Pixar-Walt Disney Pictures   \n",
       "60                  Cars   2006-06-08  Pixar-Walt Disney Pictures   \n",
       "77           Ratatouille   2007-06-28  Pixar-Walt Disney Pictures   \n",
       "88                WALL·E   2008-06-22  Pixar-Walt Disney Pictures   \n",
       "113          Toy Story 3   2010-06-16  Pixar-Walt Disney Pictures   \n",
       "160  Monsters University   2013-06-19  Pixar-Walt Disney Pictures   \n",
       "201           Inside Out   2015-06-17  Pixar-Walt Disney Pictures   \n",
       "217         Finding Dory   2016-06-16  Pixar-Walt Disney Pictures   \n",
       "244                 Coco   2017-10-27  Pixar-Walt Disney Pictures   \n",
       "287                 Luca   2021-06-17  Pixar-Walt Disney Pictures   \n",
       "297            Lightyear   2022-06-15  Pixar-Walt Disney Pictures   \n",
       "\n",
       "     companies_trueskill                                            credits  \\\n",
       "42              8.769639  Craig T. Nelson-Holly Hunter-Sarah Vowell-Spen...   \n",
       "60              6.570978  Owen Wilson-Larry the Cable Guy-Bonnie Hunt-Pa...   \n",
       "77              6.216211  Patton Oswalt-Lou Romano-Ian Holm-Brian Denneh...   \n",
       "88              6.564252  Ben Burtt-Elissa Knight-Jeff Garlin-Fred Willa...   \n",
       "113             5.377186  Tom Hanks-Tim Allen-Joan Cusack-Don Rickles-Wa...   \n",
       "160             4.282338  Billy Crystal-John Goodman-Steve Buscemi-Helen...   \n",
       "201             3.233401  Amy Poehler-Phyllis Smith-Richard Kind-Bill Ha...   \n",
       "217             3.771753  Albert Brooks-Ellen DeGeneres-Ed O'Neill-Hayde...   \n",
       "244             4.101561  Anthony Gonzalez-Gael García Bernal-Benjamin B...   \n",
       "287             3.976995  Jacob Tremblay-Jack Dylan Grazer-Emma Berman-S...   \n",
       "297             3.746516  Chris Evans-Keke Palmer-Peter Sohn-Taika Waiti...   \n",
       "\n",
       "     credits_trueskill  \n",
       "42            4.604792  \n",
       "60            2.734665  \n",
       "77           14.576500  \n",
       "88            0.060011  \n",
       "113          -2.928563  \n",
       "160          -3.755147  \n",
       "201           1.058259  \n",
       "217          16.379667  \n",
       "244          15.718141  \n",
       "287          13.281064  \n",
       "297          -6.817455  "
      ]
     },
     "execution_count": 94,
     "metadata": {},
     "output_type": "execute_result"
    }
   ],
   "source": [
    "# Select movies produced by Pixar and Walt Disney Pictures\n",
    "pixar_disney_movies = df_animation_9[\n",
    "    df_animation_9[\"production_companies\"].str.contains(\"Pixar-Walt Disney Pictures\", na=False)\n",
    "]\n",
    "\n",
    "# Display relevant columns for analysis\n",
    "pixar_disney_movies[\n",
    "    [\"title\", \"release_date\", \"production_companies\", \"companies_trueskill\", \"credits\", \"credits_trueskill\"]\n",
    "]"
   ]
  },
  {
   "cell_type": "markdown",
   "id": "dabaac43-1586-490a-b909-1afd20c2b28b",
   "metadata": {},
   "source": [
    "### Keywords\n",
    "\n",
    "**Why Use Frequency for Keyword Selection?**\n",
    "We use **keyword frequency** to identify the most relevant keywords for animated movies. Instead of using all keywords, which may include rare or noisy terms, frequency-based selection helps us:\n",
    "- **Reduce dimensionality** by focusing only on commonly occurring themes.\n",
    "- **Improve model interpretability** by selecting keywords that are more representative of the dataset.\n",
    "- **Avoid overfitting** by preventing the model from learning from rare, uninformative keywords.\n",
    "\n",
    "**Why Not Use TF-IDF Instead?**\n",
    "While **TF-IDF** is useful for document classification, it **downweights common words**, which is not ideal for our case. Since we want to capture **frequently recurring themes** in animated movies (e.g., \"friendship,\" \"magic\"), using raw frequency ensures we **prioritize the most dominant themes**.\n",
    "\n",
    "**Process Overview**\n",
    "1. **Preprocess keywords**: Convert text to lowercase and remove special characters.\n",
    "2. **Convert to Bag-of-Words representation**: Extract keyword frequency.\n",
    "3. **Plot an elbow curve**: Identify the most meaningful keywords based on a natural cutoff.\n",
    "4. **Multi-label binarization**: Create binary features for the **top 12 most frequent keywords**.\n"
   ]
  },
  {
   "cell_type": "code",
   "execution_count": 95,
   "id": "81734427-b6ba-4bb5-b0c9-ce367e1174d7",
   "metadata": {
    "execution": {
     "iopub.execute_input": "2025-03-18T02:39:40.989324Z",
     "iopub.status.busy": "2025-03-18T02:39:40.989109Z",
     "iopub.status.idle": "2025-03-18T02:39:41.005595Z",
     "shell.execute_reply": "2025-03-18T02:39:41.004596Z",
     "shell.execute_reply.started": "2025-03-18T02:39:40.989304Z"
    }
   },
   "outputs": [],
   "source": [
    "# Convert keywords to lowercase and remove special characters\n",
    "def preprocess_keywords(keyword_list):\n",
    "    return [re.sub(r\"[^a-zA-Z0-9\\s]\", \"\", kw.lower()) for kw in keyword_list]\n",
    "\n",
    "\n",
    "# Convert keyword lists into binary columns for the top N keywords\n",
    "def multi_label_binarize_keywords(keyword_list, top_keywords):\n",
    "    return {kw: int(kw in keyword_list) for kw in top_keywords}"
   ]
  },
  {
   "cell_type": "code",
   "execution_count": 96,
   "id": "8995a2d6-d3c9-4c53-b205-81e4a1728e61",
   "metadata": {
    "execution": {
     "iopub.execute_input": "2025-03-18T02:39:41.007117Z",
     "iopub.status.busy": "2025-03-18T02:39:41.006727Z",
     "iopub.status.idle": "2025-03-18T02:39:41.244306Z",
     "shell.execute_reply": "2025-03-18T02:39:41.243079Z",
     "shell.execute_reply.started": "2025-03-18T02:39:41.007079Z"
    }
   },
   "outputs": [
    {
     "data": {
      "image/png": "[encoded data removed]",
      "text/plain": [
       "<Figure size 1200x600 with 1 Axes>"
      ]
     },
     "metadata": {},
     "output_type": "display_data"
    }
   ],
   "source": [
    "# Create a copy of the dataset\n",
    "df_animation_10 = df_animation_9.copy()\n",
    "\n",
    "# Convert dash-separated keyword strings to lists\n",
    "df_animation_10[\"split_keywords\"] = df_animation_10[\"keywords\"].apply(dash_str_to_list)\n",
    "\n",
    "# Clean the keywords using preprocessing function\n",
    "df_animation_10[\"clean_keywords\"] = df_animation_10[\"split_keywords\"].apply(preprocess_keywords)\n",
    "\n",
    "# Convert to Bag-of-Words representation\n",
    "vectorizer = CountVectorizer(tokenizer=lambda x: x, preprocessor=lambda x: x, stop_words=\"english\")\n",
    "X = vectorizer.fit_transform(df_animation_10[\"clean_keywords\"])\n",
    "\n",
    "# Compute keyword frequencies\n",
    "word_counts = X.toarray().sum(axis=0)\n",
    "words = vectorizer.get_feature_names_out()\n",
    "word_freq = pd.DataFrame({\"word\": words, \"count\": word_counts}).sort_values(by=\"count\", ascending=False)\n",
    "\n",
    "# Plot elbow curve for the top 20 keywords\n",
    "plt.figure(figsize=(12, 6))\n",
    "plt.plot(range(1, min(21, len(word_freq) + 1)), word_freq[\"count\"].head(20), marker=\"o\", linestyle=\"-\")\n",
    "plt.xticks(range(1, min(21, len(word_freq) + 1)))  # Ensure only whole numbers on x-axis\n",
    "plt.xlabel(\"Keyword Rank (Top 20)\")\n",
    "plt.ylabel(\"Frequency\")\n",
    "plt.title(\"Elbow Plot for Keyword Frequency (Zoomed In)\")\n",
    "plt.grid(True)\n",
    "plt.show()"
   ]
  },
  {
   "cell_type": "code",
   "execution_count": 97,
   "id": "35214695-f058-4de9-8979-6e3b8e4d6fa4",
   "metadata": {
    "execution": {
     "iopub.execute_input": "2025-03-18T02:39:41.246533Z",
     "iopub.status.busy": "2025-03-18T02:39:41.245844Z",
     "iopub.status.idle": "2025-03-18T02:39:41.265135Z",
     "shell.execute_reply": "2025-03-18T02:39:41.263824Z",
     "shell.execute_reply.started": "2025-03-18T02:39:41.246475Z"
    }
   },
   "outputs": [],
   "source": [
    "# Select the top 12 most frequent keywords\n",
    "top_keywords = word_freq[\"word\"].head(12).tolist()\n",
    "\n",
    "# Apply encoding to each movie\n",
    "multi_label_encoded = df_animation_10[\"clean_keywords\"].apply(lambda x: multi_label_binarize_keywords(x, top_keywords))\n",
    "\n",
    "# Convert to DataFrame and merge with the dataset\n",
    "multi_label_df = pd.DataFrame(list(multi_label_encoded))\n",
    "df_animation_10 = pd.concat([df_animation_10, multi_label_df], axis=1)"
   ]
  },
  {
   "cell_type": "code",
   "execution_count": 98,
   "id": "70327a79-2c1e-4be1-9601-283ac5de49da",
   "metadata": {
    "execution": {
     "iopub.execute_input": "2025-03-18T02:39:41.266985Z",
     "iopub.status.busy": "2025-03-18T02:39:41.266307Z",
     "iopub.status.idle": "2025-03-18T02:39:41.302447Z",
     "shell.execute_reply": "2025-03-18T02:39:41.301600Z",
     "shell.execute_reply.started": "2025-03-18T02:39:41.266946Z"
    }
   },
   "outputs": [
    {
     "data": {
      "text/html": [
       "<div>\n",
       "<style scoped>\n",
       "    .dataframe tbody tr th:only-of-type {\n",
       "        vertical-align: middle;\n",
       "    }\n",
       "\n",
       "    .dataframe tbody tr th {\n",
       "        vertical-align: top;\n",
       "    }\n",
       "\n",
       "    .dataframe thead th {\n",
       "        text-align: right;\n",
       "    }\n",
       "</style>\n",
       "<table border=\"1\" class=\"dataframe\">\n",
       "  <thead>\n",
       "    <tr style=\"text-align: right;\">\n",
       "      <th></th>\n",
       "      <th>id</th>\n",
       "      <th>title</th>\n",
       "      <th>overview</th>\n",
       "      <th>popularity</th>\n",
       "      <th>production_companies</th>\n",
       "      <th>release_date</th>\n",
       "      <th>budget</th>\n",
       "      <th>revenue</th>\n",
       "      <th>runtime</th>\n",
       "      <th>status</th>\n",
       "      <th>tagline</th>\n",
       "      <th>vote_average</th>\n",
       "      <th>vote_count</th>\n",
       "      <th>credits</th>\n",
       "      <th>keywords</th>\n",
       "      <th>poster_path</th>\n",
       "      <th>backdrop_path</th>\n",
       "      <th>recommendations</th>\n",
       "      <th>release_year</th>\n",
       "      <th>production_companies_list</th>\n",
       "      <th>credits_list</th>\n",
       "      <th>quarter_q1</th>\n",
       "      <th>quarter_q2</th>\n",
       "      <th>quarter_q3</th>\n",
       "      <th>quarter_q4</th>\n",
       "      <th>release_quarter</th>\n",
       "      <th>real_budget</th>\n",
       "      <th>real_revenue</th>\n",
       "      <th>Science Fiction, Family</th>\n",
       "      <th>Comedy, Adventure, Action, Family</th>\n",
       "      <th>Comedy, Adventure, Family, Fantasy</th>\n",
       "      <th>genre_other</th>\n",
       "      <th>original_language_en</th>\n",
       "      <th>original_language_ja</th>\n",
       "      <th>original_language_other</th>\n",
       "      <th>companies_trueskill</th>\n",
       "      <th>credits_trueskill</th>\n",
       "      <th>split_keywords</th>\n",
       "      <th>clean_keywords</th>\n",
       "      <th>duringcreditsstinger</th>\n",
       "      <th>aftercreditsstinger</th>\n",
       "      <th>sequel</th>\n",
       "      <th>anthropomorphism</th>\n",
       "      <th>friendship</th>\n",
       "      <th>cartoon</th>\n",
       "      <th>anime</th>\n",
       "      <th>animal</th>\n",
       "      <th>villain</th>\n",
       "      <th>family</th>\n",
       "      <th>superhero</th>\n",
       "      <th>dog</th>\n",
       "    </tr>\n",
       "  </thead>\n",
       "  <tbody>\n",
       "    <tr>\n",
       "      <th>0</th>\n",
       "      <td>15655</td>\n",
       "      <td>The Tigger Movie</td>\n",
       "      <td>Winnie the Pooh Piglet Owl Kanga Roo and Rabbi...</td>\n",
       "      <td>20.167</td>\n",
       "      <td>Walt Disney Pictures-Disney Television Animati...</td>\n",
       "      <td>2000-02-11</td>\n",
       "      <td>30000000.0</td>\n",
       "      <td>45554533.0</td>\n",
       "      <td>77.0</td>\n",
       "      <td>Released</td>\n",
       "      <td>NaN</td>\n",
       "      <td>6.5</td>\n",
       "      <td>487.0</td>\n",
       "      <td>Jim Cummings-Ken Sansom-John Fiedler-Peter Cul...</td>\n",
       "      <td>woman director</td>\n",
       "      <td>/lxuiGvLHIL1ZyePP7bn6FcKj0Mr.jpg</td>\n",
       "      <td>/uMoSM7r4dst4e5aFUhDEDPyh1hL.jpg</td>\n",
       "      <td>13691-13682-13706-16394-27332-14885-326911-511...</td>\n",
       "      <td>2000</td>\n",
       "      <td>[Walt Disney Pictures, Disney Television Anima...</td>\n",
       "      <td>[Jim Cummings, Ken Sansom, John Fiedler, Peter...</td>\n",
       "      <td>1</td>\n",
       "      <td>0</td>\n",
       "      <td>0</td>\n",
       "      <td>0</td>\n",
       "      <td>Q1</td>\n",
       "      <td>6.281334e+07</td>\n",
       "      <td>9.538108e+07</td>\n",
       "      <td>0</td>\n",
       "      <td>0</td>\n",
       "      <td>0</td>\n",
       "      <td>1</td>\n",
       "      <td>1</td>\n",
       "      <td>0</td>\n",
       "      <td>0</td>\n",
       "      <td>25.0</td>\n",
       "      <td>25.0</td>\n",
       "      <td>[woman director]</td>\n",
       "      <td>[woman director]</td>\n",
       "      <td>0</td>\n",
       "      <td>0</td>\n",
       "      <td>0</td>\n",
       "      <td>0</td>\n",
       "      <td>0</td>\n",
       "      <td>0</td>\n",
       "      <td>0</td>\n",
       "      <td>0</td>\n",
       "      <td>0</td>\n",
       "      <td>0</td>\n",
       "      <td>0</td>\n",
       "      <td>0</td>\n",
       "    </tr>\n",
       "    <tr>\n",
       "      <th>1</th>\n",
       "      <td>20455</td>\n",
       "      <td>Digimon: The Movie</td>\n",
       "      <td>The first story focused on Tai and Kari Kamiya...</td>\n",
       "      <td>13.017</td>\n",
       "      <td>Saban Entertainment-Toei Company-Fox Family Fi...</td>\n",
       "      <td>2000-03-04</td>\n",
       "      <td>5500000.0</td>\n",
       "      <td>16600000.0</td>\n",
       "      <td>89.0</td>\n",
       "      <td>Released</td>\n",
       "      <td>New Monsters. New Battles. Now on the Big Screen.</td>\n",
       "      <td>6.6</td>\n",
       "      <td>243.0</td>\n",
       "      <td>Lara Jill Miller-Joshua Seth-Bob Papenbrook-Da...</td>\n",
       "      <td>video game-monster-loss of energy-computer-sup...</td>\n",
       "      <td>/1MpgVWRCdWEgu9qZivyNX4glDe.jpg</td>\n",
       "      <td>/1ZFUt0LtYkF568iCkRXCScgBP5g.jpg</td>\n",
       "      <td>97787-75571-12599-98299-10228-10991-36201-8873...</td>\n",
       "      <td>2000</td>\n",
       "      <td>[Saban Entertainment, Toei Company, Fox Family...</td>\n",
       "      <td>[Lara Jill Miller, Joshua Seth, Bob Papenbrook...</td>\n",
       "      <td>1</td>\n",
       "      <td>0</td>\n",
       "      <td>0</td>\n",
       "      <td>0</td>\n",
       "      <td>Q1</td>\n",
       "      <td>1.151578e+07</td>\n",
       "      <td>3.475671e+07</td>\n",
       "      <td>1</td>\n",
       "      <td>0</td>\n",
       "      <td>0</td>\n",
       "      <td>0</td>\n",
       "      <td>0</td>\n",
       "      <td>1</td>\n",
       "      <td>0</td>\n",
       "      <td>25.0</td>\n",
       "      <td>25.0</td>\n",
       "      <td>[video game, monster, loss of energy, computer...</td>\n",
       "      <td>[video game, monster, loss of energy, computer...</td>\n",
       "      <td>0</td>\n",
       "      <td>0</td>\n",
       "      <td>0</td>\n",
       "      <td>0</td>\n",
       "      <td>0</td>\n",
       "      <td>0</td>\n",
       "      <td>1</td>\n",
       "      <td>0</td>\n",
       "      <td>0</td>\n",
       "      <td>0</td>\n",
       "      <td>1</td>\n",
       "      <td>0</td>\n",
       "    </tr>\n",
       "  </tbody>\n",
       "</table>\n",
       "</div>"
      ],
      "text/plain": [
       "      id               title  \\\n",
       "0  15655    The Tigger Movie   \n",
       "1  20455  Digimon: The Movie   \n",
       "\n",
       "                                            overview  popularity  \\\n",
       "0  Winnie the Pooh Piglet Owl Kanga Roo and Rabbi...      20.167   \n",
       "1  The first story focused on Tai and Kari Kamiya...      13.017   \n",
       "\n",
       "                                production_companies release_date      budget  \\\n",
       "0  Walt Disney Pictures-Disney Television Animati...   2000-02-11  30000000.0   \n",
       "1  Saban Entertainment-Toei Company-Fox Family Fi...   2000-03-04   5500000.0   \n",
       "\n",
       "      revenue  runtime    status  \\\n",
       "0  45554533.0     77.0  Released   \n",
       "1  16600000.0     89.0  Released   \n",
       "\n",
       "                                             tagline  vote_average  \\\n",
       "0                                                NaN           6.5   \n",
       "1  New Monsters. New Battles. Now on the Big Screen.           6.6   \n",
       "\n",
       "   vote_count                                            credits  \\\n",
       "0       487.0  Jim Cummings-Ken Sansom-John Fiedler-Peter Cul...   \n",
       "1       243.0  Lara Jill Miller-Joshua Seth-Bob Papenbrook-Da...   \n",
       "\n",
       "                                            keywords  \\\n",
       "0                                     woman director   \n",
       "1  video game-monster-loss of energy-computer-sup...   \n",
       "\n",
       "                        poster_path                     backdrop_path  \\\n",
       "0  /lxuiGvLHIL1ZyePP7bn6FcKj0Mr.jpg  /uMoSM7r4dst4e5aFUhDEDPyh1hL.jpg   \n",
       "1   /1MpgVWRCdWEgu9qZivyNX4glDe.jpg  /1ZFUt0LtYkF568iCkRXCScgBP5g.jpg   \n",
       "\n",
       "                                     recommendations  release_year  \\\n",
       "0  13691-13682-13706-16394-27332-14885-326911-511...          2000   \n",
       "1  97787-75571-12599-98299-10228-10991-36201-8873...          2000   \n",
       "\n",
       "                           production_companies_list  \\\n",
       "0  [Walt Disney Pictures, Disney Television Anima...   \n",
       "1  [Saban Entertainment, Toei Company, Fox Family...   \n",
       "\n",
       "                                        credits_list  quarter_q1  quarter_q2  \\\n",
       "0  [Jim Cummings, Ken Sansom, John Fiedler, Peter...           1           0   \n",
       "1  [Lara Jill Miller, Joshua Seth, Bob Papenbrook...           1           0   \n",
       "\n",
       "   quarter_q3  quarter_q4 release_quarter   real_budget  real_revenue  \\\n",
       "0           0           0              Q1  6.281334e+07  9.538108e+07   \n",
       "1           0           0              Q1  1.151578e+07  3.475671e+07   \n",
       "\n",
       "   Science Fiction, Family  Comedy, Adventure, Action, Family  \\\n",
       "0                        0                                  0   \n",
       "1                        1                                  0   \n",
       "\n",
       "   Comedy, Adventure, Family, Fantasy  genre_other  original_language_en  \\\n",
       "0                                   0            1                     1   \n",
       "1                                   0            0                     0   \n",
       "\n",
       "   original_language_ja  original_language_other  companies_trueskill  \\\n",
       "0                     0                        0                 25.0   \n",
       "1                     1                        0                 25.0   \n",
       "\n",
       "   credits_trueskill                                     split_keywords  \\\n",
       "0               25.0                                   [woman director]   \n",
       "1               25.0  [video game, monster, loss of energy, computer...   \n",
       "\n",
       "                                      clean_keywords  duringcreditsstinger  \\\n",
       "0                                   [woman director]                     0   \n",
       "1  [video game, monster, loss of energy, computer...                     0   \n",
       "\n",
       "   aftercreditsstinger  sequel  anthropomorphism  friendship  cartoon  anime  \\\n",
       "0                    0       0                 0           0        0      0   \n",
       "1                    0       0                 0           0        0      1   \n",
       "\n",
       "   animal  villain  family  superhero  dog  \n",
       "0       0        0       0          0    0  \n",
       "1       0        0       0          1    0  "
      ]
     },
     "execution_count": 98,
     "metadata": {},
     "output_type": "execute_result"
    }
   ],
   "source": [
    "# Display the first two rows\n",
    "df_animation_10.head(2)"
   ]
  },
  {
   "cell_type": "code",
   "execution_count": 99,
   "id": "c29c5303-04ec-4f8f-8517-15bb26c806d0",
   "metadata": {
    "execution": {
     "iopub.execute_input": "2025-03-18T02:39:41.303234Z",
     "iopub.status.busy": "2025-03-18T02:39:41.303039Z",
     "iopub.status.idle": "2025-03-18T02:39:41.308819Z",
     "shell.execute_reply": "2025-03-18T02:39:41.308040Z",
     "shell.execute_reply.started": "2025-03-18T02:39:41.303215Z"
    }
   },
   "outputs": [
    {
     "data": {
      "text/plain": [
       "(314, 51)"
      ]
     },
     "execution_count": 99,
     "metadata": {},
     "output_type": "execute_result"
    }
   ],
   "source": [
    "df_animation_10.shape"
   ]
  },
  {
   "cell_type": "code",
   "execution_count": 100,
   "id": "d237b732-109b-4035-8e46-a7af41d46b5d",
   "metadata": {
    "execution": {
     "iopub.execute_input": "2025-03-18T02:39:41.309610Z",
     "iopub.status.busy": "2025-03-18T02:39:41.309399Z",
     "iopub.status.idle": "2025-03-18T02:39:41.315193Z",
     "shell.execute_reply": "2025-03-18T02:39:41.314444Z",
     "shell.execute_reply.started": "2025-03-18T02:39:41.309591Z"
    }
   },
   "outputs": [
    {
     "data": {
      "text/plain": [
       "Index(['id', 'title', 'overview', 'popularity', 'production_companies',\n",
       "       'release_date', 'budget', 'revenue', 'runtime', 'status', 'tagline',\n",
       "       'vote_average', 'vote_count', 'credits', 'keywords', 'poster_path',\n",
       "       'backdrop_path', 'recommendations', 'release_year',\n",
       "       'production_companies_list', 'credits_list', 'quarter_q1', 'quarter_q2',\n",
       "       'quarter_q3', 'quarter_q4', 'release_quarter', 'real_budget',\n",
       "       'real_revenue', 'Science Fiction, Family',\n",
       "       'Comedy, Adventure, Action, Family',\n",
       "       'Comedy, Adventure, Family, Fantasy', 'genre_other',\n",
       "       'original_language_en', 'original_language_ja',\n",
       "       'original_language_other', 'companies_trueskill', 'credits_trueskill',\n",
       "       'split_keywords', 'clean_keywords', 'duringcreditsstinger',\n",
       "       'aftercreditsstinger', 'sequel', 'anthropomorphism', 'friendship',\n",
       "       'cartoon', 'anime', 'animal', 'villain', 'family', 'superhero', 'dog'],\n",
       "      dtype='object')"
      ]
     },
     "execution_count": 100,
     "metadata": {},
     "output_type": "execute_result"
    }
   ],
   "source": [
    "# Display all columns after keyword processing\n",
    "df_animation_10.columns"
   ]
  },
  {
   "cell_type": "code",
   "execution_count": 101,
   "id": "9dd69d8c-bfbc-474a-aff4-a88ac4e987aa",
   "metadata": {
    "execution": {
     "iopub.execute_input": "2025-03-18T02:39:41.315985Z",
     "iopub.status.busy": "2025-03-18T02:39:41.315794Z",
     "iopub.status.idle": "2025-03-18T02:39:41.358641Z",
     "shell.execute_reply": "2025-03-18T02:39:41.357704Z",
     "shell.execute_reply.started": "2025-03-18T02:39:41.315966Z"
    }
   },
   "outputs": [],
   "source": [
    "# Export the processed dataset to a CSV file\n",
    "df_animation_10.to_csv(\"animated_movies_dataset.csv\", index=False)"
   ]
  },
  {
   "cell_type": "code",
   "execution_count": null,
   "id": "c99f245b-daf2-495c-891b-a3cd03a8ea59",
   "metadata": {},
   "outputs": [],
   "source": []
  }
 ],
 "metadata": {
  "kernelspec": {
   "display_name": "Python [conda env:base] *",
   "language": "python",
   "name": "conda-base-py"
  },
  "language_info": {
   "codemirror_mode": {
    "name": "ipython",
    "version": 3
   },
   "file_extension": ".py",
   "mimetype": "text/x-python",
   "name": "python",
   "nbconvert_exporter": "python",
   "pygments_lexer": "ipython3",
   "version": "3.12.8"
  }
 },
 "nbformat": 4,
 "nbformat_minor": 5
}
